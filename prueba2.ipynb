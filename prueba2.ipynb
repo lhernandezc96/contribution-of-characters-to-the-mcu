{
 "cells": [
  {
   "cell_type": "code",
   "execution_count": 29,
   "metadata": {},
   "outputs": [],
   "source": [
    "from collections import OrderedDict\n",
    "import pandas as pd\n",
    "import numpy as np\n",
    "import plotly.express as px\n",
    "import plotly.graph_objs as go\n",
    "import matplotlib.colors as mcolors\n",
    "import matplotlib.pyplot as plt\n",
    "from plotly.subplots import make_subplots\n",
    "from EDA import char_movie_matrix, movie_lengths"
   ]
  },
  {
   "cell_type": "code",
   "execution_count": 4,
   "metadata": {},
   "outputs": [],
   "source": [
    "def generar_grafico_barras_df(cantidad, no_serie, fases):\n",
    "\t\n",
    "    columnas_seleccionadas = char_movie_matrix.columns[char_movie_matrix.loc['Fase'] .isin(fases)]\n",
    "    data_f = char_movie_matrix[columnas_seleccionadas]\n",
    "    if no_serie:\n",
    "        # Filtrar las columnas excluyendo las que tienen False en la fila 'Serie'\n",
    "        columnas_a_excluir = data_f.columns[data_f.loc['Serie'] == False]\n",
    "        # Crear un nuevo DataFrame sin las columnas seleccionadas\n",
    "        data = data_f[columnas_a_excluir]\n",
    "    else:\n",
    "        data = data_f\n",
    "    \n",
    "    data['Total de tiempo en pantalla'] = data.loc[:,:].sum(axis=1, skipna=True)\n",
    "    data = data.sort_values(by='Total de tiempo en pantalla', ascending=False)\n",
    "    data = data[data['Total de tiempo en pantalla'] != 0]\n",
    "    data = data.head(cantidad)\n",
    "    nombres_filas = data.index\n",
    "    valores_ultima_columna = data.iloc[:, -1]\n",
    "\n",
    "    # Crear un DataFrame con los datos\n",
    "    df = pd.DataFrame({'Personaje': nombres_filas, 'Tiempo total en pantalla': valores_ultima_columna})\n",
    "\n",
    "    # Crear el gráfico de barras con Plotly Express\n",
    "    fig = px.bar(\n",
    "        df,\n",
    "        x='Personaje',\n",
    "        y='Tiempo total en pantalla',\n",
    "        labels={'Personaje': 'Personaje', 'Tiempo total en pantalla': 'Tiempo total en pantalla'},\n",
    "        color_discrete_sequence=['rgb(179, 39, 14)'],  # Especifica el color de las barras\n",
    "        hover_data={'Personaje': True, 'Tiempo total en pantalla': True},  # Incluye datos adicionales para mostrar en el hover\n",
    "    )\n",
    "\n",
    "    # Personalizar el formato del hovertemplate\n",
    "    fig.update_traces(\n",
    "        hovertemplate='Personaje: %{x}<br>Tiempo total en pantalla: %{y}'\n",
    "    )\n",
    "\n",
    "    # Ajustar diseño del gráfico\n",
    "    fig.update_layout(height=500, width=900)\n",
    "\n",
    "    # Devolver el objeto de figura (Figure) en lugar de mostrarlo\n",
    "    return fig\n"
   ]
  },
  {
   "cell_type": "code",
   "execution_count": 26,
   "metadata": {},
   "outputs": [],
   "source": [
    "\n",
    "def apariciones_pj(no_serie,fases):\n",
    "    columnas_seleccionadas = char_movie_matrix.columns[char_movie_matrix.loc['Fase'] .isin(fases)]\n",
    "    data_f = char_movie_matrix[columnas_seleccionadas]\n",
    "    if no_serie:\n",
    "        # Filtrar las columnas excluyendo las que tienen False en la fila 'Serie'\n",
    "        columnas_a_excluir = data_f.columns[data_f.loc['Serie'] == False]\n",
    "        # Crear un nuevo DataFrame sin las columnas seleccionadas\n",
    "        data = data_f[columnas_a_excluir]\n",
    "    else:\n",
    "        data = data_f\n",
    "\n",
    "    apariciones_pj = OrderedDict()\n",
    "\n",
    "    for pj in data.index[0:-1]:\n",
    "        # Filtrar las columnas que no son cero ni son de tipo string\n",
    "        columnas_no_cero = data.loc[pj, (data.loc[pj] != 0)].index.tolist()\n",
    "        # Excluir la última columna ('Serie') si existe\n",
    "        apariciones_pj[pj] = columnas_no_cero\n",
    "    return apariciones_pj\n",
    "\n"
   ]
  },
  {
   "cell_type": "code",
   "execution_count": 10,
   "metadata": {},
   "outputs": [],
   "source": [
    "\n",
    "\n",
    "def generar_grafico_barras_num_apariciones(cantidad, fases, no_serie=False):\n",
    "\t\n",
    "    ordenado_por_longitud = OrderedDict(sorted(apariciones_pj(no_serie,fases).items(), key=lambda x: len(x[1]), reverse=True))\n",
    "    claves = list(ordenado_por_longitud.keys())[:cantidad]\n",
    "    longitudes = [len(ordenado_por_longitud[clave]) for clave in claves]\n",
    "\t\n",
    "    df = pd.DataFrame({'Claves': claves, 'Longitudes': longitudes})\n",
    "\n",
    "    # Crear el gráfico de barras con Plotly Express\n",
    "    fig = px.bar(\n",
    "        df,\n",
    "        x='Claves',\n",
    "        y='Longitudes',\n",
    "\t\ttitle='Nº total de apariciones de los personajes',\n",
    "        labels={'Claves': 'Claves', 'Longitudes': 'Longitudes'},\n",
    "        color_discrete_sequence=['rgb(179, 39, 14)'],  # Especifica el color de las barras\n",
    "        hover_data={'Personaje': True, 'Longitudes': True},  # Incluye datos adicionales para mostrar en el hover\n",
    "    )\n",
    "\n",
    "    # Personalizar el formato del hovertemplate\n",
    "    fig.update_traces(\n",
    "        hovertemplate='Personaje: %{x}<br>Nº de apariciones: %{y}'\n",
    "    )\n",
    "\n",
    "    # Ajustar diseño del gráfico\n",
    "    fig.update_layout(height=500, width=900)\n",
    "    # Devolver el objeto de figura (Figure) en lugar de mostrarlo\n",
    "    return fig\n",
    "\n"
   ]
  },
  {
   "cell_type": "code",
   "execution_count": 50,
   "metadata": {},
   "outputs": [],
   "source": [
    "\n",
    "def generar_grafico_peliculas_del_char(char,fases, no_serie=False):\n",
    "    columnas_seleccionadas = char_movie_matrix.columns[char_movie_matrix.loc['Fase'] .isin(fases)]\n",
    "    data_f = char_movie_matrix[columnas_seleccionadas]\n",
    "\t\n",
    "    peliculas = {}\n",
    "    for peli in apariciones_pj(no_serie,fases)[char]:\n",
    "        peliculas[peli] = data_f.loc[char][peli]\n",
    "\n",
    "    # Crear un DataFrame con los datos\n",
    "    df = pd.DataFrame(list(peliculas.items()), columns=['Pelicula', 'Tiempo en pantalla'])\n",
    "    # Calcular la suma de la columna 'Numeros'\n",
    "    suma_total = df['Tiempo en pantalla'].sum()\n",
    "\n",
    "    # Agregar una nueva fila con la suma total\n",
    "    df = df.append({'Pelicula': 'Total', 'Tiempo en pantalla': suma_total}, ignore_index=True)\n",
    "\n",
    "    # Crear el gráfico de barras con Plotly Express\n",
    "    fig = px.bar(df,\n",
    "                 x='Pelicula',\n",
    "                 y='Tiempo en pantalla',\n",
    "                 title=char,\n",
    "                 color_discrete_sequence=['rgb(179, 39, 14)'],\n",
    "                 labels={'Pelicula': 'Peliculas', 'Tiempo en pantalla': 'Tiempo en pantalla'},\n",
    "\t\t\t\t hover_data={'Pelicula': True, 'Tiempo en pantalla': True},  # Incluye datos adicionales para mostrar en el hover\n",
    "    )\n",
    "    fig.update_traces(\n",
    "        hovertemplate='Pelicula: %{x}<br>Tiempo en pantalla: %{y} mins'\n",
    "    )\n",
    "    # Ajustar diseño del gráfico\n",
    "    fig.update_layout(height=400, width=800)\n",
    "    # Devolver el objeto de figura (Figure) en lugar de mostrarlo\n",
    "    return fig\n",
    "\n"
   ]
  },
  {
   "cell_type": "code",
   "execution_count": 79,
   "metadata": {},
   "outputs": [],
   "source": [
    "def grafico_pie_t_pantalla (pelicula):    \n",
    "    df = char_movie_matrix[char_movie_matrix[pelicula] != 0]\n",
    "    df[pelicula] = pd.to_numeric(df[pelicula], errors='coerce')\n",
    "    pie1 = df[pelicula]\n",
    "    pie1_list = list(pie1.values)\n",
    "    pie1_list = [round(each,2) for each in pie1_list]\n",
    "    labels = df.index\n",
    "\t\n",
    "    # Identificar las 5 mayores porciones\n",
    "    top5_indices = df[pelicula].nlargest(5).index\n",
    "\n",
    "# Crear la lista de etiquetas personalizadas\n",
    "    custom_labels = [name if name in top5_indices else '' for name in labels]\n",
    "\n",
    "    # Figure\n",
    "    fig = make_subplots(rows=1, cols=1, specs=[[{'type': 'pie'}]])\n",
    "\n",
    "    # Convertir la paleta de colores a formato RGBA\n",
    "    colores_rgba = list(reversed(px.colors.sequential.Reds))\n",
    "    \n",
    "    # Calcular los porcentajes manualmente\n",
    "    porcentajes=[]\n",
    "    for value in pie1_list:\n",
    "        porcentajes.append(float(value)/float(movie_lengths['Eternals'])*100)#porcentajes = [(value / movie_lengths[pelicula]) * 100 for value in pie1_list]\n",
    "\n",
    "\n",
    "    fig.add_trace(\n",
    "        go.Pie(\n",
    "            labels=labels,\n",
    "            values=pie1_list,\n",
    "            textinfo='text+value',\n",
    "            hoverinfo=\"label+value\",\n",
    "            marker=dict(colors=colores_rgba),\n",
    "            hole=0.3,\n",
    "\t\t\ttext=custom_labels,\n",
    "        ),\n",
    "        row=1, col=1\n",
    "        \n",
    "    )\n",
    "\n",
    "    fig.update_layout(\n",
    "        title=dict(text=\"Tiempo en pantalla en \" + pelicula + ' (' + movie_lengths[pelicula] +')',font=dict(size=24)),\n",
    "        annotations=[\n",
    "            {\n",
    "                \"font\": {\"size\": 20},\n",
    "                \"showarrow\": False,\n",
    "                \"text\": pelicula,\n",
    "                \"x\": 0.5,\n",
    "                \"y\": 1.07,\n",
    "            }\n",
    "        ],\n",
    "        height=700,  # Ajusta la altura del gráfico\n",
    "        width=900,   # Ajusta el ancho del gráfico\n",
    "        \n",
    "    )\n",
    "     # Actualizar las etiquetas con los porcentajes\n",
    "    for i, label in enumerate(custom_labels):\n",
    "        if label:\n",
    "            custom_labels[i] += f' {porcentajes[i]:.2f}%'\n",
    "\n",
    "    return fig"
   ]
  },
  {
   "cell_type": "code",
   "execution_count": 80,
   "metadata": {},
   "outputs": [
    {
     "name": "stderr",
     "output_type": "stream",
     "text": [
      "C:\\Users\\lache\\AppData\\Local\\Temp\\ipykernel_16560\\2925245400.py:3: SettingWithCopyWarning:\n",
      "\n",
      "\n",
      "A value is trying to be set on a copy of a slice from a DataFrame.\n",
      "Try using .loc[row_indexer,col_indexer] = value instead\n",
      "\n",
      "See the caveats in the documentation: https://pandas.pydata.org/pandas-docs/stable/user_guide/indexing.html#returning-a-view-versus-a-copy\n",
      "\n"
     ]
    },
    {
     "data": {
      "application/vnd.plotly.v1+json": {
       "config": {
        "plotlyServerURL": "https://plot.ly"
       },
       "data": [
        {
         "domain": {
          "x": [
           0,
           1
          ],
          "y": [
           0,
           1
          ]
         },
         "hole": 0.3,
         "hoverinfo": "label+value",
         "labels": [
          "Sersi",
          "Ikaris",
          "Thena",
          "Sprite",
          "Kingo",
          "Druig",
          "Ajak",
          "Makkari",
          "Gilgamesh",
          "Dane Whitman",
          "Kro",
          "Karun",
          "Tiamut",
          "Jack",
          "Arishem",
          "Ben",
          "Eros / Starfox",
          "Fase"
         ],
         "marker": {
          "colors": [
           "rgb(103,0,13)",
           "rgb(165,15,21)",
           "rgb(203,24,29)",
           "rgb(239,59,44)",
           "rgb(251,106,74)",
           "rgb(252,146,114)",
           "rgb(252,187,161)",
           "rgb(254,224,210)",
           "rgb(255,245,240)"
          ]
         },
         "text": [
          "Sersi",
          "Ikaris",
          "Thena",
          "Sprite",
          "Kingo",
          "",
          "",
          "",
          "",
          "",
          "",
          "",
          "",
          "",
          "",
          "",
          "",
          ""
         ],
         "textinfo": "text+value",
         "type": "pie",
         "values": [
          46.25,
          34.5,
          19.25,
          17.5,
          15.25,
          11.25,
          10.5,
          10,
          9.25,
          8.75,
          7,
          6,
          3,
          2,
          1.75,
          1,
          0.75,
          4
         ]
        }
       ],
       "layout": {
        "annotations": [
         {
          "font": {
           "size": 20
          },
          "showarrow": false,
          "text": "Eternals",
          "x": 0.5,
          "y": 1.07
         }
        ],
        "height": 700,
        "template": {
         "data": {
          "bar": [
           {
            "error_x": {
             "color": "#2a3f5f"
            },
            "error_y": {
             "color": "#2a3f5f"
            },
            "marker": {
             "line": {
              "color": "#E5ECF6",
              "width": 0.5
             },
             "pattern": {
              "fillmode": "overlay",
              "size": 10,
              "solidity": 0.2
             }
            },
            "type": "bar"
           }
          ],
          "barpolar": [
           {
            "marker": {
             "line": {
              "color": "#E5ECF6",
              "width": 0.5
             },
             "pattern": {
              "fillmode": "overlay",
              "size": 10,
              "solidity": 0.2
             }
            },
            "type": "barpolar"
           }
          ],
          "carpet": [
           {
            "aaxis": {
             "endlinecolor": "#2a3f5f",
             "gridcolor": "white",
             "linecolor": "white",
             "minorgridcolor": "white",
             "startlinecolor": "#2a3f5f"
            },
            "baxis": {
             "endlinecolor": "#2a3f5f",
             "gridcolor": "white",
             "linecolor": "white",
             "minorgridcolor": "white",
             "startlinecolor": "#2a3f5f"
            },
            "type": "carpet"
           }
          ],
          "choropleth": [
           {
            "colorbar": {
             "outlinewidth": 0,
             "ticks": ""
            },
            "type": "choropleth"
           }
          ],
          "contour": [
           {
            "colorbar": {
             "outlinewidth": 0,
             "ticks": ""
            },
            "colorscale": [
             [
              0,
              "#0d0887"
             ],
             [
              0.1111111111111111,
              "#46039f"
             ],
             [
              0.2222222222222222,
              "#7201a8"
             ],
             [
              0.3333333333333333,
              "#9c179e"
             ],
             [
              0.4444444444444444,
              "#bd3786"
             ],
             [
              0.5555555555555556,
              "#d8576b"
             ],
             [
              0.6666666666666666,
              "#ed7953"
             ],
             [
              0.7777777777777778,
              "#fb9f3a"
             ],
             [
              0.8888888888888888,
              "#fdca26"
             ],
             [
              1,
              "#f0f921"
             ]
            ],
            "type": "contour"
           }
          ],
          "contourcarpet": [
           {
            "colorbar": {
             "outlinewidth": 0,
             "ticks": ""
            },
            "type": "contourcarpet"
           }
          ],
          "heatmap": [
           {
            "colorbar": {
             "outlinewidth": 0,
             "ticks": ""
            },
            "colorscale": [
             [
              0,
              "#0d0887"
             ],
             [
              0.1111111111111111,
              "#46039f"
             ],
             [
              0.2222222222222222,
              "#7201a8"
             ],
             [
              0.3333333333333333,
              "#9c179e"
             ],
             [
              0.4444444444444444,
              "#bd3786"
             ],
             [
              0.5555555555555556,
              "#d8576b"
             ],
             [
              0.6666666666666666,
              "#ed7953"
             ],
             [
              0.7777777777777778,
              "#fb9f3a"
             ],
             [
              0.8888888888888888,
              "#fdca26"
             ],
             [
              1,
              "#f0f921"
             ]
            ],
            "type": "heatmap"
           }
          ],
          "heatmapgl": [
           {
            "colorbar": {
             "outlinewidth": 0,
             "ticks": ""
            },
            "colorscale": [
             [
              0,
              "#0d0887"
             ],
             [
              0.1111111111111111,
              "#46039f"
             ],
             [
              0.2222222222222222,
              "#7201a8"
             ],
             [
              0.3333333333333333,
              "#9c179e"
             ],
             [
              0.4444444444444444,
              "#bd3786"
             ],
             [
              0.5555555555555556,
              "#d8576b"
             ],
             [
              0.6666666666666666,
              "#ed7953"
             ],
             [
              0.7777777777777778,
              "#fb9f3a"
             ],
             [
              0.8888888888888888,
              "#fdca26"
             ],
             [
              1,
              "#f0f921"
             ]
            ],
            "type": "heatmapgl"
           }
          ],
          "histogram": [
           {
            "marker": {
             "pattern": {
              "fillmode": "overlay",
              "size": 10,
              "solidity": 0.2
             }
            },
            "type": "histogram"
           }
          ],
          "histogram2d": [
           {
            "colorbar": {
             "outlinewidth": 0,
             "ticks": ""
            },
            "colorscale": [
             [
              0,
              "#0d0887"
             ],
             [
              0.1111111111111111,
              "#46039f"
             ],
             [
              0.2222222222222222,
              "#7201a8"
             ],
             [
              0.3333333333333333,
              "#9c179e"
             ],
             [
              0.4444444444444444,
              "#bd3786"
             ],
             [
              0.5555555555555556,
              "#d8576b"
             ],
             [
              0.6666666666666666,
              "#ed7953"
             ],
             [
              0.7777777777777778,
              "#fb9f3a"
             ],
             [
              0.8888888888888888,
              "#fdca26"
             ],
             [
              1,
              "#f0f921"
             ]
            ],
            "type": "histogram2d"
           }
          ],
          "histogram2dcontour": [
           {
            "colorbar": {
             "outlinewidth": 0,
             "ticks": ""
            },
            "colorscale": [
             [
              0,
              "#0d0887"
             ],
             [
              0.1111111111111111,
              "#46039f"
             ],
             [
              0.2222222222222222,
              "#7201a8"
             ],
             [
              0.3333333333333333,
              "#9c179e"
             ],
             [
              0.4444444444444444,
              "#bd3786"
             ],
             [
              0.5555555555555556,
              "#d8576b"
             ],
             [
              0.6666666666666666,
              "#ed7953"
             ],
             [
              0.7777777777777778,
              "#fb9f3a"
             ],
             [
              0.8888888888888888,
              "#fdca26"
             ],
             [
              1,
              "#f0f921"
             ]
            ],
            "type": "histogram2dcontour"
           }
          ],
          "mesh3d": [
           {
            "colorbar": {
             "outlinewidth": 0,
             "ticks": ""
            },
            "type": "mesh3d"
           }
          ],
          "parcoords": [
           {
            "line": {
             "colorbar": {
              "outlinewidth": 0,
              "ticks": ""
             }
            },
            "type": "parcoords"
           }
          ],
          "pie": [
           {
            "automargin": true,
            "type": "pie"
           }
          ],
          "scatter": [
           {
            "fillpattern": {
             "fillmode": "overlay",
             "size": 10,
             "solidity": 0.2
            },
            "type": "scatter"
           }
          ],
          "scatter3d": [
           {
            "line": {
             "colorbar": {
              "outlinewidth": 0,
              "ticks": ""
             }
            },
            "marker": {
             "colorbar": {
              "outlinewidth": 0,
              "ticks": ""
             }
            },
            "type": "scatter3d"
           }
          ],
          "scattercarpet": [
           {
            "marker": {
             "colorbar": {
              "outlinewidth": 0,
              "ticks": ""
             }
            },
            "type": "scattercarpet"
           }
          ],
          "scattergeo": [
           {
            "marker": {
             "colorbar": {
              "outlinewidth": 0,
              "ticks": ""
             }
            },
            "type": "scattergeo"
           }
          ],
          "scattergl": [
           {
            "marker": {
             "colorbar": {
              "outlinewidth": 0,
              "ticks": ""
             }
            },
            "type": "scattergl"
           }
          ],
          "scattermapbox": [
           {
            "marker": {
             "colorbar": {
              "outlinewidth": 0,
              "ticks": ""
             }
            },
            "type": "scattermapbox"
           }
          ],
          "scatterpolar": [
           {
            "marker": {
             "colorbar": {
              "outlinewidth": 0,
              "ticks": ""
             }
            },
            "type": "scatterpolar"
           }
          ],
          "scatterpolargl": [
           {
            "marker": {
             "colorbar": {
              "outlinewidth": 0,
              "ticks": ""
             }
            },
            "type": "scatterpolargl"
           }
          ],
          "scatterternary": [
           {
            "marker": {
             "colorbar": {
              "outlinewidth": 0,
              "ticks": ""
             }
            },
            "type": "scatterternary"
           }
          ],
          "surface": [
           {
            "colorbar": {
             "outlinewidth": 0,
             "ticks": ""
            },
            "colorscale": [
             [
              0,
              "#0d0887"
             ],
             [
              0.1111111111111111,
              "#46039f"
             ],
             [
              0.2222222222222222,
              "#7201a8"
             ],
             [
              0.3333333333333333,
              "#9c179e"
             ],
             [
              0.4444444444444444,
              "#bd3786"
             ],
             [
              0.5555555555555556,
              "#d8576b"
             ],
             [
              0.6666666666666666,
              "#ed7953"
             ],
             [
              0.7777777777777778,
              "#fb9f3a"
             ],
             [
              0.8888888888888888,
              "#fdca26"
             ],
             [
              1,
              "#f0f921"
             ]
            ],
            "type": "surface"
           }
          ],
          "table": [
           {
            "cells": {
             "fill": {
              "color": "#EBF0F8"
             },
             "line": {
              "color": "white"
             }
            },
            "header": {
             "fill": {
              "color": "#C8D4E3"
             },
             "line": {
              "color": "white"
             }
            },
            "type": "table"
           }
          ]
         },
         "layout": {
          "annotationdefaults": {
           "arrowcolor": "#2a3f5f",
           "arrowhead": 0,
           "arrowwidth": 1
          },
          "autotypenumbers": "strict",
          "coloraxis": {
           "colorbar": {
            "outlinewidth": 0,
            "ticks": ""
           }
          },
          "colorscale": {
           "diverging": [
            [
             0,
             "#8e0152"
            ],
            [
             0.1,
             "#c51b7d"
            ],
            [
             0.2,
             "#de77ae"
            ],
            [
             0.3,
             "#f1b6da"
            ],
            [
             0.4,
             "#fde0ef"
            ],
            [
             0.5,
             "#f7f7f7"
            ],
            [
             0.6,
             "#e6f5d0"
            ],
            [
             0.7,
             "#b8e186"
            ],
            [
             0.8,
             "#7fbc41"
            ],
            [
             0.9,
             "#4d9221"
            ],
            [
             1,
             "#276419"
            ]
           ],
           "sequential": [
            [
             0,
             "#0d0887"
            ],
            [
             0.1111111111111111,
             "#46039f"
            ],
            [
             0.2222222222222222,
             "#7201a8"
            ],
            [
             0.3333333333333333,
             "#9c179e"
            ],
            [
             0.4444444444444444,
             "#bd3786"
            ],
            [
             0.5555555555555556,
             "#d8576b"
            ],
            [
             0.6666666666666666,
             "#ed7953"
            ],
            [
             0.7777777777777778,
             "#fb9f3a"
            ],
            [
             0.8888888888888888,
             "#fdca26"
            ],
            [
             1,
             "#f0f921"
            ]
           ],
           "sequentialminus": [
            [
             0,
             "#0d0887"
            ],
            [
             0.1111111111111111,
             "#46039f"
            ],
            [
             0.2222222222222222,
             "#7201a8"
            ],
            [
             0.3333333333333333,
             "#9c179e"
            ],
            [
             0.4444444444444444,
             "#bd3786"
            ],
            [
             0.5555555555555556,
             "#d8576b"
            ],
            [
             0.6666666666666666,
             "#ed7953"
            ],
            [
             0.7777777777777778,
             "#fb9f3a"
            ],
            [
             0.8888888888888888,
             "#fdca26"
            ],
            [
             1,
             "#f0f921"
            ]
           ]
          },
          "colorway": [
           "#636efa",
           "#EF553B",
           "#00cc96",
           "#ab63fa",
           "#FFA15A",
           "#19d3f3",
           "#FF6692",
           "#B6E880",
           "#FF97FF",
           "#FECB52"
          ],
          "font": {
           "color": "#2a3f5f"
          },
          "geo": {
           "bgcolor": "white",
           "lakecolor": "white",
           "landcolor": "#E5ECF6",
           "showlakes": true,
           "showland": true,
           "subunitcolor": "white"
          },
          "hoverlabel": {
           "align": "left"
          },
          "hovermode": "closest",
          "mapbox": {
           "style": "light"
          },
          "paper_bgcolor": "white",
          "plot_bgcolor": "#E5ECF6",
          "polar": {
           "angularaxis": {
            "gridcolor": "white",
            "linecolor": "white",
            "ticks": ""
           },
           "bgcolor": "#E5ECF6",
           "radialaxis": {
            "gridcolor": "white",
            "linecolor": "white",
            "ticks": ""
           }
          },
          "scene": {
           "xaxis": {
            "backgroundcolor": "#E5ECF6",
            "gridcolor": "white",
            "gridwidth": 2,
            "linecolor": "white",
            "showbackground": true,
            "ticks": "",
            "zerolinecolor": "white"
           },
           "yaxis": {
            "backgroundcolor": "#E5ECF6",
            "gridcolor": "white",
            "gridwidth": 2,
            "linecolor": "white",
            "showbackground": true,
            "ticks": "",
            "zerolinecolor": "white"
           },
           "zaxis": {
            "backgroundcolor": "#E5ECF6",
            "gridcolor": "white",
            "gridwidth": 2,
            "linecolor": "white",
            "showbackground": true,
            "ticks": "",
            "zerolinecolor": "white"
           }
          },
          "shapedefaults": {
           "line": {
            "color": "#2a3f5f"
           }
          },
          "ternary": {
           "aaxis": {
            "gridcolor": "white",
            "linecolor": "white",
            "ticks": ""
           },
           "baxis": {
            "gridcolor": "white",
            "linecolor": "white",
            "ticks": ""
           },
           "bgcolor": "#E5ECF6",
           "caxis": {
            "gridcolor": "white",
            "linecolor": "white",
            "ticks": ""
           }
          },
          "title": {
           "x": 0.05
          },
          "xaxis": {
           "automargin": true,
           "gridcolor": "white",
           "linecolor": "white",
           "ticks": "",
           "title": {
            "standoff": 15
           },
           "zerolinecolor": "white",
           "zerolinewidth": 2
          },
          "yaxis": {
           "automargin": true,
           "gridcolor": "white",
           "linecolor": "white",
           "ticks": "",
           "title": {
            "standoff": 15
           },
           "zerolinecolor": "white",
           "zerolinewidth": 2
          }
         }
        },
        "title": {
         "font": {
          "size": 24
         },
         "text": "Tiempo en pantalla en Eternals (156)"
        },
        "width": 900
       }
      }
     },
     "metadata": {},
     "output_type": "display_data"
    }
   ],
   "source": [
    "grafico_pie_t_pantalla('Eternals')\n"
   ]
  },
  {
   "cell_type": "code",
   "execution_count": 15,
   "metadata": {},
   "outputs": [
    {
     "data": {
      "text/html": [
       "<div>\n",
       "<style scoped>\n",
       "    .dataframe tbody tr th:only-of-type {\n",
       "        vertical-align: middle;\n",
       "    }\n",
       "\n",
       "    .dataframe tbody tr th {\n",
       "        vertical-align: top;\n",
       "    }\n",
       "\n",
       "    .dataframe thead th {\n",
       "        text-align: right;\n",
       "    }\n",
       "</style>\n",
       "<table border=\"1\" class=\"dataframe\">\n",
       "  <thead>\n",
       "    <tr style=\"text-align: right;\">\n",
       "      <th></th>\n",
       "      <th>Bruja Escarlata y Visión</th>\n",
       "      <th>Falcon y el Soldado de Invierno</th>\n",
       "      <th>Loki</th>\n",
       "      <th>Viuda Negra</th>\n",
       "      <th>Shang-Chi y la leyenda de los diez anillos</th>\n",
       "      <th>Eternals</th>\n",
       "      <th>Ojo de Halcón</th>\n",
       "      <th>Spider-Man: No Way Home</th>\n",
       "      <th>Caballero Luna</th>\n",
       "      <th>Doctor Strange en el multiverso de la locura</th>\n",
       "      <th>Ms. Marvel</th>\n",
       "      <th>Thor: Love and Thunder</th>\n",
       "      <th>She-Hulk: Abogada Hulka</th>\n",
       "      <th>La maldición del hombre lobo</th>\n",
       "      <th>Black Panther: Wakanda Forever</th>\n",
       "      <th>Guardianes de la Galaxia: Especial felices fiestas</th>\n",
       "    </tr>\n",
       "  </thead>\n",
       "  <tbody>\n",
       "    <tr>\n",
       "      <th>Tony Stark / Iron Man</th>\n",
       "      <td>0.0</td>\n",
       "      <td>0.0</td>\n",
       "      <td>1.0</td>\n",
       "      <td>0.0</td>\n",
       "      <td>0.0</td>\n",
       "      <td>0.0</td>\n",
       "      <td>0.0</td>\n",
       "      <td>0.0</td>\n",
       "      <td>0.0</td>\n",
       "      <td>0.0</td>\n",
       "      <td>0.0</td>\n",
       "      <td>0.0</td>\n",
       "      <td>0.0</td>\n",
       "      <td>0.0</td>\n",
       "      <td>0.0</td>\n",
       "      <td>0.0</td>\n",
       "    </tr>\n",
       "    <tr>\n",
       "      <th>Pepper Potts</th>\n",
       "      <td>0.0</td>\n",
       "      <td>0.0</td>\n",
       "      <td>0.0</td>\n",
       "      <td>0.0</td>\n",
       "      <td>0.0</td>\n",
       "      <td>0.0</td>\n",
       "      <td>0.0</td>\n",
       "      <td>0.0</td>\n",
       "      <td>0.0</td>\n",
       "      <td>0.0</td>\n",
       "      <td>0.0</td>\n",
       "      <td>0.0</td>\n",
       "      <td>0.0</td>\n",
       "      <td>0.0</td>\n",
       "      <td>0.0</td>\n",
       "      <td>0.0</td>\n",
       "    </tr>\n",
       "    <tr>\n",
       "      <th>Obadiah Stane</th>\n",
       "      <td>0.0</td>\n",
       "      <td>0.0</td>\n",
       "      <td>0.0</td>\n",
       "      <td>0.0</td>\n",
       "      <td>0.0</td>\n",
       "      <td>0.0</td>\n",
       "      <td>0.0</td>\n",
       "      <td>0.0</td>\n",
       "      <td>0.0</td>\n",
       "      <td>0.0</td>\n",
       "      <td>0.0</td>\n",
       "      <td>0.0</td>\n",
       "      <td>0.0</td>\n",
       "      <td>0.0</td>\n",
       "      <td>0.0</td>\n",
       "      <td>0.0</td>\n",
       "    </tr>\n",
       "    <tr>\n",
       "      <th>Professor Ho Yinsen</th>\n",
       "      <td>0.0</td>\n",
       "      <td>0.0</td>\n",
       "      <td>0.0</td>\n",
       "      <td>0.0</td>\n",
       "      <td>0.0</td>\n",
       "      <td>0.0</td>\n",
       "      <td>0.0</td>\n",
       "      <td>0.0</td>\n",
       "      <td>0.0</td>\n",
       "      <td>0.0</td>\n",
       "      <td>0.0</td>\n",
       "      <td>0.0</td>\n",
       "      <td>0.0</td>\n",
       "      <td>0.0</td>\n",
       "      <td>0.0</td>\n",
       "      <td>0.0</td>\n",
       "    </tr>\n",
       "    <tr>\n",
       "      <th>James Rhodes / War Machine</th>\n",
       "      <td>0.0</td>\n",
       "      <td>1.75</td>\n",
       "      <td>0.0</td>\n",
       "      <td>0.0</td>\n",
       "      <td>0.0</td>\n",
       "      <td>0.0</td>\n",
       "      <td>0.0</td>\n",
       "      <td>0.0</td>\n",
       "      <td>0.0</td>\n",
       "      <td>0.0</td>\n",
       "      <td>0.0</td>\n",
       "      <td>0.0</td>\n",
       "      <td>0.0</td>\n",
       "      <td>0.0</td>\n",
       "      <td>0.0</td>\n",
       "      <td>0.0</td>\n",
       "    </tr>\n",
       "    <tr>\n",
       "      <th>...</th>\n",
       "      <td>...</td>\n",
       "      <td>...</td>\n",
       "      <td>...</td>\n",
       "      <td>...</td>\n",
       "      <td>...</td>\n",
       "      <td>...</td>\n",
       "      <td>...</td>\n",
       "      <td>...</td>\n",
       "      <td>...</td>\n",
       "      <td>...</td>\n",
       "      <td>...</td>\n",
       "      <td>...</td>\n",
       "      <td>...</td>\n",
       "      <td>...</td>\n",
       "      <td>...</td>\n",
       "      <td>...</td>\n",
       "    </tr>\n",
       "    <tr>\n",
       "      <th>Kevin Bacon</th>\n",
       "      <td>0.0</td>\n",
       "      <td>0.0</td>\n",
       "      <td>0.0</td>\n",
       "      <td>0.0</td>\n",
       "      <td>0.0</td>\n",
       "      <td>0.0</td>\n",
       "      <td>0.0</td>\n",
       "      <td>0.0</td>\n",
       "      <td>0.0</td>\n",
       "      <td>0.0</td>\n",
       "      <td>0.0</td>\n",
       "      <td>0.0</td>\n",
       "      <td>0.0</td>\n",
       "      <td>0.0</td>\n",
       "      <td>0.0</td>\n",
       "      <td>9.5</td>\n",
       "    </tr>\n",
       "    <tr>\n",
       "      <th>Bzermiktoklok</th>\n",
       "      <td>0.0</td>\n",
       "      <td>0.0</td>\n",
       "      <td>0.0</td>\n",
       "      <td>0.0</td>\n",
       "      <td>0.0</td>\n",
       "      <td>0.0</td>\n",
       "      <td>0.0</td>\n",
       "      <td>0.0</td>\n",
       "      <td>0.0</td>\n",
       "      <td>0.0</td>\n",
       "      <td>0.0</td>\n",
       "      <td>0.0</td>\n",
       "      <td>0.0</td>\n",
       "      <td>0.0</td>\n",
       "      <td>0.0</td>\n",
       "      <td>4.75</td>\n",
       "    </tr>\n",
       "    <tr>\n",
       "      <th>Cosmo the Space Dog</th>\n",
       "      <td>0.0</td>\n",
       "      <td>0.0</td>\n",
       "      <td>0.0</td>\n",
       "      <td>0.0</td>\n",
       "      <td>0.0</td>\n",
       "      <td>0.0</td>\n",
       "      <td>0.0</td>\n",
       "      <td>0.0</td>\n",
       "      <td>0.0</td>\n",
       "      <td>0.0</td>\n",
       "      <td>0.0</td>\n",
       "      <td>0.0</td>\n",
       "      <td>0.0</td>\n",
       "      <td>0.0</td>\n",
       "      <td>0.0</td>\n",
       "      <td>1.25</td>\n",
       "    </tr>\n",
       "    <tr>\n",
       "      <th>Serie</th>\n",
       "      <td>True</td>\n",
       "      <td>True</td>\n",
       "      <td>True</td>\n",
       "      <td>False</td>\n",
       "      <td>False</td>\n",
       "      <td>False</td>\n",
       "      <td>True</td>\n",
       "      <td>False</td>\n",
       "      <td>True</td>\n",
       "      <td>False</td>\n",
       "      <td>True</td>\n",
       "      <td>False</td>\n",
       "      <td>True</td>\n",
       "      <td>False</td>\n",
       "      <td>False</td>\n",
       "      <td>False</td>\n",
       "    </tr>\n",
       "    <tr>\n",
       "      <th>Fase</th>\n",
       "      <td>4</td>\n",
       "      <td>4</td>\n",
       "      <td>4</td>\n",
       "      <td>4</td>\n",
       "      <td>4</td>\n",
       "      <td>4</td>\n",
       "      <td>4</td>\n",
       "      <td>4</td>\n",
       "      <td>4</td>\n",
       "      <td>4</td>\n",
       "      <td>4</td>\n",
       "      <td>4</td>\n",
       "      <td>4</td>\n",
       "      <td>4</td>\n",
       "      <td>4</td>\n",
       "      <td>4</td>\n",
       "    </tr>\n",
       "  </tbody>\n",
       "</table>\n",
       "<p>414 rows × 16 columns</p>\n",
       "</div>"
      ],
      "text/plain": [
       "                           Bruja Escarlata y Visión  \\\n",
       "Tony Stark / Iron Man                           0.0   \n",
       "Pepper Potts                                    0.0   \n",
       "Obadiah Stane                                   0.0   \n",
       "Professor Ho Yinsen                             0.0   \n",
       "James Rhodes / War Machine                      0.0   \n",
       "...                                             ...   \n",
       "Kevin Bacon                                     0.0   \n",
       "Bzermiktoklok                                   0.0   \n",
       "Cosmo the Space Dog                             0.0   \n",
       "Serie                                          True   \n",
       "Fase                                              4   \n",
       "\n",
       "                           Falcon y el Soldado de Invierno  Loki Viuda Negra  \\\n",
       "Tony Stark / Iron Man                                  0.0   1.0         0.0   \n",
       "Pepper Potts                                           0.0   0.0         0.0   \n",
       "Obadiah Stane                                          0.0   0.0         0.0   \n",
       "Professor Ho Yinsen                                    0.0   0.0         0.0   \n",
       "James Rhodes / War Machine                            1.75   0.0         0.0   \n",
       "...                                                    ...   ...         ...   \n",
       "Kevin Bacon                                            0.0   0.0         0.0   \n",
       "Bzermiktoklok                                          0.0   0.0         0.0   \n",
       "Cosmo the Space Dog                                    0.0   0.0         0.0   \n",
       "Serie                                                 True  True       False   \n",
       "Fase                                                     4     4           4   \n",
       "\n",
       "                           Shang-Chi y la leyenda de los diez anillos  \\\n",
       "Tony Stark / Iron Man                                             0.0   \n",
       "Pepper Potts                                                      0.0   \n",
       "Obadiah Stane                                                     0.0   \n",
       "Professor Ho Yinsen                                               0.0   \n",
       "James Rhodes / War Machine                                        0.0   \n",
       "...                                                               ...   \n",
       "Kevin Bacon                                                       0.0   \n",
       "Bzermiktoklok                                                     0.0   \n",
       "Cosmo the Space Dog                                               0.0   \n",
       "Serie                                                           False   \n",
       "Fase                                                                4   \n",
       "\n",
       "                           Eternals Ojo de Halcón Spider-Man: No Way Home  \\\n",
       "Tony Stark / Iron Man           0.0           0.0                     0.0   \n",
       "Pepper Potts                    0.0           0.0                     0.0   \n",
       "Obadiah Stane                   0.0           0.0                     0.0   \n",
       "Professor Ho Yinsen             0.0           0.0                     0.0   \n",
       "James Rhodes / War Machine      0.0           0.0                     0.0   \n",
       "...                             ...           ...                     ...   \n",
       "Kevin Bacon                     0.0           0.0                     0.0   \n",
       "Bzermiktoklok                   0.0           0.0                     0.0   \n",
       "Cosmo the Space Dog             0.0           0.0                     0.0   \n",
       "Serie                         False          True                   False   \n",
       "Fase                              4             4                       4   \n",
       "\n",
       "                           Caballero Luna  \\\n",
       "Tony Stark / Iron Man                 0.0   \n",
       "Pepper Potts                          0.0   \n",
       "Obadiah Stane                         0.0   \n",
       "Professor Ho Yinsen                   0.0   \n",
       "James Rhodes / War Machine            0.0   \n",
       "...                                   ...   \n",
       "Kevin Bacon                           0.0   \n",
       "Bzermiktoklok                         0.0   \n",
       "Cosmo the Space Dog                   0.0   \n",
       "Serie                                True   \n",
       "Fase                                    4   \n",
       "\n",
       "                           Doctor Strange en el multiverso de la locura  \\\n",
       "Tony Stark / Iron Man                                               0.0   \n",
       "Pepper Potts                                                        0.0   \n",
       "Obadiah Stane                                                       0.0   \n",
       "Professor Ho Yinsen                                                 0.0   \n",
       "James Rhodes / War Machine                                          0.0   \n",
       "...                                                                 ...   \n",
       "Kevin Bacon                                                         0.0   \n",
       "Bzermiktoklok                                                       0.0   \n",
       "Cosmo the Space Dog                                                 0.0   \n",
       "Serie                                                             False   \n",
       "Fase                                                                  4   \n",
       "\n",
       "                           Ms. Marvel Thor: Love and Thunder  \\\n",
       "Tony Stark / Iron Man             0.0                    0.0   \n",
       "Pepper Potts                      0.0                    0.0   \n",
       "Obadiah Stane                     0.0                    0.0   \n",
       "Professor Ho Yinsen               0.0                    0.0   \n",
       "James Rhodes / War Machine        0.0                    0.0   \n",
       "...                               ...                    ...   \n",
       "Kevin Bacon                       0.0                    0.0   \n",
       "Bzermiktoklok                     0.0                    0.0   \n",
       "Cosmo the Space Dog               0.0                    0.0   \n",
       "Serie                            True                  False   \n",
       "Fase                                4                      4   \n",
       "\n",
       "                           She-Hulk: Abogada Hulka  \\\n",
       "Tony Stark / Iron Man                          0.0   \n",
       "Pepper Potts                                   0.0   \n",
       "Obadiah Stane                                  0.0   \n",
       "Professor Ho Yinsen                            0.0   \n",
       "James Rhodes / War Machine                     0.0   \n",
       "...                                            ...   \n",
       "Kevin Bacon                                    0.0   \n",
       "Bzermiktoklok                                  0.0   \n",
       "Cosmo the Space Dog                            0.0   \n",
       "Serie                                         True   \n",
       "Fase                                             4   \n",
       "\n",
       "                           La maldición del hombre lobo  \\\n",
       "Tony Stark / Iron Man                               0.0   \n",
       "Pepper Potts                                        0.0   \n",
       "Obadiah Stane                                       0.0   \n",
       "Professor Ho Yinsen                                 0.0   \n",
       "James Rhodes / War Machine                          0.0   \n",
       "...                                                 ...   \n",
       "Kevin Bacon                                         0.0   \n",
       "Bzermiktoklok                                       0.0   \n",
       "Cosmo the Space Dog                                 0.0   \n",
       "Serie                                             False   \n",
       "Fase                                                  4   \n",
       "\n",
       "                           Black Panther: Wakanda Forever  \\\n",
       "Tony Stark / Iron Man                                 0.0   \n",
       "Pepper Potts                                          0.0   \n",
       "Obadiah Stane                                         0.0   \n",
       "Professor Ho Yinsen                                   0.0   \n",
       "James Rhodes / War Machine                            0.0   \n",
       "...                                                   ...   \n",
       "Kevin Bacon                                           0.0   \n",
       "Bzermiktoklok                                         0.0   \n",
       "Cosmo the Space Dog                                   0.0   \n",
       "Serie                                               False   \n",
       "Fase                                                    4   \n",
       "\n",
       "                           Guardianes de la Galaxia: Especial felices fiestas  \n",
       "Tony Stark / Iron Man                                                     0.0  \n",
       "Pepper Potts                                                              0.0  \n",
       "Obadiah Stane                                                             0.0  \n",
       "Professor Ho Yinsen                                                       0.0  \n",
       "James Rhodes / War Machine                                                0.0  \n",
       "...                                                                       ...  \n",
       "Kevin Bacon                                                               9.5  \n",
       "Bzermiktoklok                                                            4.75  \n",
       "Cosmo the Space Dog                                                      1.25  \n",
       "Serie                                                                   False  \n",
       "Fase                                                                        4  \n",
       "\n",
       "[414 rows x 16 columns]"
      ]
     },
     "execution_count": 15,
     "metadata": {},
     "output_type": "execute_result"
    }
   ],
   "source": [
    "columnas_seleccionadas = char_movie_matrix.columns[char_movie_matrix.loc['Fase'] .isin([0,4])]\n",
    "data_f = char_movie_matrix[columnas_seleccionadas]\n"
   ]
  },
  {
   "cell_type": "code",
   "execution_count": 19,
   "metadata": {},
   "outputs": [
    {
     "data": {
      "text/plain": [
       "12.0"
      ]
     },
     "execution_count": 19,
     "metadata": {},
     "output_type": "execute_result"
    }
   ],
   "source": [
    "\n",
    "apariciones_pj()"
   ]
  }
 ],
 "metadata": {
  "kernelspec": {
   "display_name": "Python 3",
   "language": "python",
   "name": "python3"
  },
  "language_info": {
   "codemirror_mode": {
    "name": "ipython",
    "version": 3
   },
   "file_extension": ".py",
   "mimetype": "text/x-python",
   "name": "python",
   "nbconvert_exporter": "python",
   "pygments_lexer": "ipython3",
   "version": "3.11.3"
  }
 },
 "nbformat": 4,
 "nbformat_minor": 2
}
