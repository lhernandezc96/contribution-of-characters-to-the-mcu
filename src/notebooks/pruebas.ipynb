{
 "cells": [
  {
   "cell_type": "code",
   "execution_count": 1,
   "metadata": {},
   "outputs": [],
   "source": [
    "from bs4 import BeautifulSoup as bs\n",
    "import requests\n",
    "from collections import OrderedDict\n",
    "import pandas as pd\n",
    "import numpy as np\n",
    "import re\n",
    "import seaborn as sns\n",
    "import matplotlib.pyplot as plt\n",
    "import plotly as py\n",
    "from plotly.offline import init_notebook_mode, iplot, plot\n",
    "import plotly.graph_objs as go\n",
    "from plotly.subplots import make_subplots"
   ]
  },
  {
   "cell_type": "code",
   "execution_count": 2,
   "metadata": {},
   "outputs": [],
   "source": [
    "url = 'https://www.imdb.com/list/ls507232408/?sort=release_date,asc&st_dt=&mode=detail&page=1'\n",
    "page_source = requests.get(url)\n",
    "soup = bs(page_source.content, 'lxml')\n",
    "movies = []\n",
    "movie_characters = []\n",
    "movie_lengths = OrderedDict()\n",
    "movies_dont_want = [\"¿Qué pasaría si...?\",\n",
    "\t\t\t\t\t \"Marvel de un vistazo: El consultor\",\n",
    "\t\t\t\t\t\"El caso único de Marvel: Algo divertido ocurrió de camino al martillo de Thor\",\n",
    "\t\t\t\t\t\"Marvel extendido: Artículo 47\",\n",
    "\t\t\t\t\t\"Todos aclaman al rey\"]\n",
    "for movie in soup.find_all('div', class_='lister-item mode-detail'):\n",
    "\t\t# Fetching title of the movie\n",
    "\t\tmovie_title = movie.find('div', class_='lister-item-content').h3.a.text\n",
    "\t\tif movie_title in movies_dont_want:\n",
    "\t\t\tcontinue\n",
    "\t\t# Fetching length of the movie\n",
    "\t\tmovie_length = movie.find('div', class_='lister-item-content').find('span', class_='runtime').text\n",
    "\t\tmovies.append(movie_title)\n",
    "\t\tmovie_lengths[movie_title] = movie_length.split(' ')[0]\n",
    "\t\t# Fetching characters in the movie\n",
    "\t\tcharacters = movie.find('div', class_='list-description').p.text\n",
    "\t\tmovie_characters.append(characters.split('\\n'))\n",
    "\t\t\n"
   ]
  },
  {
   "cell_type": "code",
   "execution_count": 3,
   "metadata": {},
   "outputs": [],
   "source": [
    "movies = []\n",
    "movie_characters = []\n",
    "movie_lengths = OrderedDict()\n",
    "movies_dont_want = [\"¿Qué pasaría si...?\",\n",
    "\t\t\t\t\t \"Marvel de un vistazo: El consultor\",\n",
    "\t\t\t\t\t\"El caso único de Marvel: Algo divertido ocurrió de camino al martillo de Thor\",\n",
    "\t\t\t\t\t\"Marvel extendido: Artículo 47\",\n",
    "\t\t\t\t\t\"Todos aclaman al rey\"]\n",
    "for movie in soup.find_all('div', class_='lister-item mode-detail'):\n",
    "\t\t# Fetching title of the movie\n",
    "\t\tmovie_title = movie.find('div', class_='lister-item-content').h3.a.text\n",
    "\t\tif movie_title in movies_dont_want:\n",
    "\t\t\tcontinue\n",
    "\t\t# Fetching length of the movie\n",
    "\t\tmovie_length = movie.find('div', class_='lister-item-content').find('span', class_='runtime').text\n",
    "\t\tmovies.append(movie_title)\n",
    "\t\tmovie_lengths[movie_title] = movie_length.split(' ')[0]\n",
    "\t\t# Fetching characters in the movie\n",
    "\t\tcharacters = movie.find('div', class_='list-description').p.text\n",
    "\t\tmovie_characters.append(characters.split('\\n'))\n",
    "data_dict = OrderedDict()\n",
    "# Inputing data into the dictionary\n",
    "for i in range(len(movies)):\n",
    "\tdata_dict[movies[i]] = movie_characters[i]\n",
    "data_dict['Spider-Man: Homecoming'][4]\n",
    "data_dict['Loki'][0] = data_dict['Loki'][0].split('>')[1]+'>'\n",
    "character_movie_time = {}\n",
    "# Parsing through data scraped for each movie\n",
    "for movie in data_dict.keys():\n",
    "\t# Parsing through each character in in the movie\n",
    "\tfor item in data_dict[movie]:\n",
    "\t\tcharacter = item.split('<')[0].strip()\n",
    "\t\ttime = item.split('<')[1].split('>')[0].strip()\n",
    "\t\t# Adding time for each character to for each movie to the index dict\n",
    "\t\tif movie in character_movie_time.keys():\n",
    "\t\t\tcharacter_movie_time[movie][character] = time\n",
    "\t\telse:\n",
    "\t\t\tcharacter_movie_time[movie] = {character: time}\n",
    "character_movie_time['Spider-Man: Homecoming']\n",
    "char_id_index = pd.read_csv('characters.csv')\n",
    "# Creating aa dict containing character IDs for each character\n",
    "names = {old:new for (old, new) in zip(char_id_index['Character Name'], char_id_index['Character ID'])}\n",
    "# Converting the data dict into a pandas data frame for easy handling\n",
    "char_movie_matrix = pd.DataFrame(character_movie_time)\n",
    "char_movie_matrix\n",
    "char_movie_matrix['Spider-Man: Homecoming']\n",
    "# Renaming characters with their character IDs\n",
    "char_movie_matrix.rename(index=names, inplace=True)\n",
    "char_movie_matrix\n",
    "def combine_rows(matrix):\n",
    "\t\"\"\"Method that combines the duplicate rows that arose due to replacing character IDs\"\"\"\n",
    "\t# List of characters\n",
    "\tcharacters = list(set([character for character in matrix.index]))\n",
    "\t# Iterating over every character\n",
    "\tfor character in characters:\n",
    "\t\t# Creating a mini data frame for each character\n",
    "\t\tdf = matrix.loc[character]\n",
    "\t\t# If the character row is present just once, iterating over every column would be iterating over every movie\n",
    "\t\tif len(list(df.index)) != len(matrix.columns):\n",
    "\t\t\t# Iterating over every movie for each character\n",
    "\t\t\tfor movie in matrix.columns:\n",
    "\t\t\t\t# Initializing update value to NaN\n",
    "\t\t\t\tvalue = np.nan\n",
    "\t\t\t\tli = []\n",
    "\t\t\t\t# Creating a list of values for each movie\n",
    "\t\t\t\tfor i in range(len(df.index)):\n",
    "\t\t\t\t\tli.append(str(df.iloc[i][movie]))\n",
    "\t\t\t\t# Updating the right value\n",
    "\t\t\t\tfor item in li:\n",
    "\t\t\t\t\tif str(item) != 'nan':\n",
    "\t\t\t\t\t\tvalue = item\n",
    "\t\t\t\t# Updating value to the location\n",
    "\t\t\t\tmatrix.loc[character, movie] = value\n",
    "\t# If there are n duplicates, n rows would have been created with same values; deleting the duplicates\n",
    "\tmatrix = matrix.drop_duplicates()\n",
    "\treturn matrix\n",
    "# Combine rows with same index\n",
    "char_movie_matrix = combine_rows(char_movie_matrix)\n",
    "char_movie_matrix\n",
    "char_movie_matrix.index.tolist()\n",
    "def convert_time_to_mins(matrix):\n",
    "\t\"\"\"Method that converts time of the format mm:ss or :ss or mm to minutes in float\"\"\"\n",
    "\t# Iterating over each character\n",
    "\tfor character in matrix.index:\n",
    "\t\t# Iterating over each movie\n",
    "\t\tfor movie in matrix.columns:\n",
    "\t\t\t# Current value of the cell in the matrix\n",
    "\t\t\tvalue = matrix.loc[character][movie]\n",
    "\t\t\t# Iterating over non NaN values only\n",
    "\t\t\tif str(value) != 'nan':\n",
    "\t\t\t\t# To convert strings of the format mm:ss\n",
    "\t\t\t\tif re.match(r'\\d+:\\d+', value):\n",
    "\t\t\t\t\tmatrix.loc[character][movie] = float(value.split(':')[0]) + float(value.split(':')[1])/60\n",
    "\t\t\t\t# To convert strings of the format :ss\n",
    "\t\t\t\telif re.match(r'^:\\d+', value):\n",
    "\t\t\t\t\tmatrix.loc[character][movie] = float(value.split(':')[1])/60\n",
    "\t\t\t\t# To convert strings of the format mm\n",
    "\t\t\t\telif re.match(r'\\b\\d+\\b(?!:)', value):\n",
    "\t\t\t\t\tmatrix.loc[character][movie] = float(value)\n",
    "\t\t\t\t# Other formats assigned as NaN\n",
    "\t\t\t\telse:\n",
    "\t\t\t\t\tmatrix.loc[character][movie] = np.nan\n",
    "\t\t\t# NaN values reassigned as NaN\n",
    "\t\t\telse:\n",
    "\t\t\t\tmatrix.loc[character][movie] = np.nan\n",
    "\treturn matrix\n",
    "char_movie_matrix = convert_time_to_mins(char_movie_matrix)\n",
    "\n",
    "char_movie_matrix['Total de tiempo en pantalla'] = char_movie_matrix.loc[:,:].sum(axis=1, skipna=True)\n",
    "char_movie_matrix = char_movie_matrix.sort_values(by='Total de tiempo en pantalla', ascending=False)\n",
    "char_movie_matrix = char_movie_matrix.fillna(0)\n",
    "char_movie_matrix = char_movie_matrix[char_movie_matrix['Total de tiempo en pantalla'] != 0]\n",
    "data = char_movie_matrix.head(20)\n",
    "plt.figure(figsize=(15, 6))\n",
    "data['Personajes'] = list(map(lambda x: '\\n'.join(x.split(' ')),data.index))\n",
    "sns.barplot(x='Personajes', y='Total de tiempo en pantalla', data=data);\n",
    "apariciones_pj = OrderedDict()\n",
    "for pj in char_movie_matrix.index:\n",
    "    columnas_no_cero = char_movie_matrix.loc[pj, (char_movie_matrix.loc[pj] != 0) & (char_movie_matrix.loc[pj].apply(isinstance, args=(float,)))].index.tolist()\n",
    "    apariciones_pj[pj]=columnas_no_cero[0:-1]\n",
    "\n",
    "\n",
    "for i in apariciones_pj.keys():\n",
    "    if re.match(r'.*Sara.*',i):\n",
    "        print (i,apariciones_pj[i])\n",
    "from itertools import islice\n",
    "ordenado_por_longitud = OrderedDict(sorted(apariciones_pj.items(), key=lambda x: len(x[1]), reverse=True))\n",
    "\n",
    "# Mostrar el resultado\n",
    "for clave, valor in islice(ordenado_por_longitud.items(), 4):\n",
    "    print(f'{clave}: {(valor)}')\n",
    "claves = list(ordenado_por_longitud.keys())[:15]\n",
    "\n",
    "longitudes = [len(ordenado_por_longitud[clave]) for clave in claves]\n",
    "claves = list(map(lambda x: '\\n'.join(x.split(' ')),claves))\n",
    "\n",
    "# Crear el gráfico de barras\n",
    "plt.figure(figsize=(15, 6))\n",
    "plt.bar(claves, longitudes)\n",
    "\n",
    "# Añadir etiquetas y título\n",
    "plt.xlabel('Personajes')\n",
    "plt.ylabel('nº de peliculas')\n",
    "plt.title('nº total de peliculas en las que aparecen los personajes');\n",
    "char_movie_matrix[char_movie_matrix['Spider-Man: Homecoming'] != 0]['Spider-Man: Homecoming'].sort_values(ascending=False)\n",
    "def grafico_char_tiempo_pelicula (pelicula):\n",
    "    data = pd.DataFrame(char_movie_matrix[char_movie_matrix[pelicula] != 0][pelicula].sort_values(ascending=False))\n",
    "    plt.figure(figsize=(15, 6))\n",
    "    data['Personajes'] = list(map(lambda x: '\\n'.join(x.split(' ')),data.index))\n",
    "    sns.barplot(x='Personajes', y=pelicula, data=data)\n",
    "\n",
    "grafico_char_tiempo_pelicula ('Spider-Man: No Way Home')\n",
    "\n",
    "def grafico_peliculas_del_char (char):\n",
    "    peliculas = {}\n",
    "    for peli in apariciones_pj[char]:\n",
    "        peliculas[peli] = char_movie_matrix.loc[char][peli]\n",
    "    plt.figure(figsize=(20, 6))\n",
    "    pelis = list(map(lambda x: '\\n'.join(x.split(' ')),list(peliculas.keys())))\n",
    "    sns.barplot(x=pelis, y=list(peliculas.values()))\n",
    "    plt.title(char)\n",
    "    plt.xlabel('Peliculas')\n",
    "    plt.ylabel('Tiempo en pantalla');\n",
    "\n",
    "grafico_peliculas_del_char ('Valkyrie')\n",
    "\n",
    "columna_tiempo_total_peliculas_char = []\n",
    "for char in char_movie_matrix.index:\n",
    "    tiempo_total_peliculas_char = 0\n",
    "    for peli in apariciones_pj[char]:\n",
    "        tiempo_total_peliculas_char += float(movie_lengths[peli])\n",
    "    columna_tiempo_total_peliculas_char.append(tiempo_total_peliculas_char)\n",
    "\n",
    "columna_porcentage_tiempo_pantalla = []\n",
    "suma_tiempos = list(dict(char_movie_matrix['Total de tiempo en pantalla']).values())\n",
    "for i in range(len(columna_tiempo_total_peliculas_char)):\n",
    "    columna_porcentage_tiempo_pantalla.append((suma_tiempos[i]/columna_tiempo_total_peliculas_char[i])*100)\n",
    "columna_porcentage_tiempo_pantalla\n",
    "nueva_fila = pd.DataFrame([movie_lengths])\n",
    "nueva_fila = convert_time_to_mins(nueva_fila)\n",
    "nuevo_df = (char_movie_matrix.iloc[:, :-1].div(nueva_fila.iloc[0]))*100\n",
    "nuevo_df\n",
    "def grafico_pie_t_pantalla (pelicula):    \n",
    "    df = char_movie_matrix[char_movie_matrix[pelicula] != 0]\n",
    "    pie1 = df[pelicula]\n",
    "    pie1_list = list(pie1.values)\n",
    "    pie1_list = [round(each,2) for each in pie1_list]\n",
    "    labels = df.index\n",
    "\n",
    "    # Figure\n",
    "    fig = make_subplots(rows=1, cols=1, specs=[[{'type': 'pie'}]])\n",
    "\n",
    "    fig.add_trace(\n",
    "        go.Pie(\n",
    "            labels=labels,\n",
    "            values=pie1_list,\n",
    "            textinfo='value',\n",
    "            hoverinfo=\"label+value\",\n",
    "            hole=0.3,\n",
    "        ),\n",
    "        row=1, col=1\n",
    "        \n",
    "    )\n",
    "\n",
    "    fig.update_layout(\n",
    "        title=\"Tiempo en pantalla en \" + pelicula + ' (' + movie_lengths[pelicula] +')',\n",
    "        annotations=[\n",
    "            {\n",
    "                \"font\": {\"size\": 20},\n",
    "                \"showarrow\": False,\n",
    "                \"text\": pelicula,\n",
    "                \"x\": 0.5,\n",
    "                \"y\": 1.07,\n",
    "            }\n",
    "        ],\n",
    "        height=700,  # Ajusta la altura del gráfico\n",
    "        width=900,   # Ajusta el ancho del gráfico\n",
    "    )\n",
    "\n",
    "    fig.show()\n",
    "\n",
    "grafico_pie_t_pantalla('Ojo de Halcón')"
   ]
  },
  {
   "cell_type": "code",
   "execution_count": 4,
   "metadata": {},
   "outputs": [],
   "source": [
    "movies_dont_want = [\"¿Qué pasaría si...?\",\n",
    "\t\t\t\t\t \"Marvel de un vistazo: El consultor\",\n",
    "\t\t\t\t\t\"El caso único de Marvel: Algo divertido ocurrió de camino al martillo de Thor\",\n",
    "\t\t\t\t\t\"Marvel extendido: Artículo 47\",\n",
    "\t\t\t\t\t\"Todos aclaman al rey\"]\n",
    "for movie in soup.find_all('div', class_='lister-item mode-detail'):\n",
    "\t\t# Fetching title of the movie\n",
    "\t\tmovie_title = movie.find('div', class_='lister-item-content').h3.a.text\n",
    "\t\tif movie_title in movies_dont_want:\n",
    "\t\t\tcontinue\n",
    "\t\t# Fetching length of the movie\n",
    "\t\tmovie_length = movie.find('div', class_='lister-item-content').find('span', class_='runtime').text\n",
    "\t\tmovies.append(movie_title)\n",
    "\t\tmovie_lengths[movie_title] = movie_length.split(' ')[0]\n",
    "\t\t# Fetching characters in the movie\n",
    "\t\tcharacters = movie.find('div', class_='list-description').p.text\n",
    "\t\tmovie_characters.append(characters.split('\\n'))\n",
    "data_dict = OrderedDict()\n",
    "# Inputing data into the dictionary\n",
    "for i in range(len(movies)):\n",
    "\tdata_dict[movies[i]] = movie_characters[i]\n",
    "data_dict['Spider-Man: Homecoming'][4]\n",
    "data_dict['Loki'][0] = data_dict['Loki'][0].split('>')[1]+'>'\n",
    "character_movie_time = {}\n",
    "# Parsing through data scraped for each movie\n",
    "for movie in data_dict.keys():\n",
    "\t# Parsing through each character in in the movie\n",
    "\tfor item in data_dict[movie]:\n",
    "\t\tcharacter = item.split('<')[0].strip()\n",
    "\t\ttime = item.split('<')[1].split('>')[0].strip()\n",
    "\t\t# Adding time for each character to for each movie to the index dict\n",
    "\t\tif movie in character_movie_time.keys():\n",
    "\t\t\tcharacter_movie_time[movie][character] = time\n",
    "\t\telse:\n",
    "\t\t\tcharacter_movie_time[movie] = {character: time}\n",
    "character_movie_time['Spider-Man: Homecoming']\n",
    "char_id_index = pd.read_csv('characters.csv')\n",
    "# Creating aa dict containing character IDs for each character\n",
    "names = {old:new for (old, new) in zip(char_id_index['Character Name'], char_id_index['Character ID'])}\n",
    "# Converting the data dict into a pandas data frame for easy handling\n",
    "char_movie_matrix = pd.DataFrame(character_movie_time)\n",
    "char_movie_matrix\n",
    "char_movie_matrix['Spider-Man: Homecoming']\n",
    "# Renaming characters with their character IDs\n",
    "char_movie_matrix.rename(index=names, inplace=True)\n",
    "char_movie_matrix\n",
    "def combine_rows(matrix):\n",
    "\t\"\"\"Method that combines the duplicate rows that arose due to replacing character IDs\"\"\"\n",
    "\t# List of characters\n",
    "\tcharacters = list(set([character for character in matrix.index]))\n",
    "\t# Iterating over every character\n",
    "\tfor character in characters:\n",
    "\t\t# Creating a mini data frame for each character\n",
    "\t\tdf = matrix.loc[character]\n",
    "\t\t# If the character row is present just once, iterating over every column would be iterating over every movie\n",
    "\t\tif len(list(df.index)) != len(matrix.columns):\n",
    "\t\t\t# Iterating over every movie for each character\n",
    "\t\t\tfor movie in matrix.columns:\n",
    "\t\t\t\t# Initializing update value to NaN\n",
    "\t\t\t\tvalue = np.nan\n",
    "\t\t\t\tli = []\n",
    "\t\t\t\t# Creating a list of values for each movie\n",
    "\t\t\t\tfor i in range(len(df.index)):\n",
    "\t\t\t\t\tli.append(str(df.iloc[i][movie]))\n",
    "\t\t\t\t# Updating the right value\n",
    "\t\t\t\tfor item in li:\n",
    "\t\t\t\t\tif str(item) != 'nan':\n",
    "\t\t\t\t\t\tvalue = item\n",
    "\t\t\t\t# Updating value to the location\n",
    "\t\t\t\tmatrix.loc[character, movie] = value\n",
    "\t# If there are n duplicates, n rows would have been created with same values; deleting the duplicates\n",
    "\tmatrix = matrix.drop_duplicates()\n",
    "\treturn matrix\n",
    "# Combine rows with same index\n",
    "char_movie_matrix = combine_rows(char_movie_matrix)\n",
    "char_movie_matrix\n",
    "char_movie_matrix.index.tolist()\n",
    "def convert_time_to_mins(matrix):\n",
    "\t\"\"\"Method that converts time of the format mm:ss or :ss or mm to minutes in float\"\"\"\n",
    "\t# Iterating over each character\n",
    "\tfor character in matrix.index:\n",
    "\t\t# Iterating over each movie\n",
    "\t\tfor movie in matrix.columns:\n",
    "\t\t\t# Current value of the cell in the matrix\n",
    "\t\t\tvalue = matrix.loc[character][movie]\n",
    "\t\t\t# Iterating over non NaN values only\n",
    "\t\t\tif str(value) != 'nan':\n",
    "\t\t\t\t# To convert strings of the format mm:ss\n",
    "\t\t\t\tif re.match(r'\\d+:\\d+', value):\n",
    "\t\t\t\t\tmatrix.loc[character][movie] = float(value.split(':')[0]) + float(value.split(':')[1])/60\n",
    "\t\t\t\t# To convert strings of the format :ss\n",
    "\t\t\t\telif re.match(r'^:\\d+', value):\n",
    "\t\t\t\t\tmatrix.loc[character][movie] = float(value.split(':')[1])/60\n",
    "\t\t\t\t# To convert strings of the format mm\n",
    "\t\t\t\telif re.match(r'\\b\\d+\\b(?!:)', value):\n",
    "\t\t\t\t\tmatrix.loc[character][movie] = float(value)\n",
    "\t\t\t\t# Other formats assigned as NaN\n",
    "\t\t\t\telse:\n",
    "\t\t\t\t\tmatrix.loc[character][movie] = np.nan\n",
    "\t\t\t# NaN values reassigned as NaN\n",
    "\t\t\telse:\n",
    "\t\t\t\tmatrix.loc[character][movie] = np.nan\n",
    "\treturn matrix\n",
    "char_movie_matrix = convert_time_to_mins(char_movie_matrix)\n",
    "\n",
    "char_movie_matrix['Total de tiempo en pantalla'] = char_movie_matrix.loc[:,:].sum(axis=1, skipna=True)\n",
    "char_movie_matrix = char_movie_matrix.sort_values(by='Total de tiempo en pantalla', ascending=False)\n",
    "char_movie_matrix = char_movie_matrix.fillna(0)\n",
    "char_movie_matrix = char_movie_matrix[char_movie_matrix['Total de tiempo en pantalla'] != 0]\n",
    "data = char_movie_matrix.head(20)\n",
    "plt.figure(figsize=(15, 6))\n",
    "data['Personajes'] = list(map(lambda x: '\\n'.join(x.split(' ')),data.index))\n",
    "sns.barplot(x='Personajes', y='Total de tiempo en pantalla', data=data);\n",
    "apariciones_pj = OrderedDict()\n",
    "for pj in char_movie_matrix.index:\n",
    "    columnas_no_cero = char_movie_matrix.loc[pj, (char_movie_matrix.loc[pj] != 0) & (char_movie_matrix.loc[pj].apply(isinstance, args=(float,)))].index.tolist()\n",
    "    apariciones_pj[pj]=columnas_no_cero[0:-1]\n",
    "\n",
    "\n",
    "for i in apariciones_pj.keys():\n",
    "    if re.match(r'.*Sara.*',i):\n",
    "        print (i,apariciones_pj[i])\n",
    "from itertools import islice\n",
    "ordenado_por_longitud = OrderedDict(sorted(apariciones_pj.items(), key=lambda x: len(x[1]), reverse=True))\n",
    "\n",
    "# Mostrar el resultado\n",
    "for clave, valor in islice(ordenado_por_longitud.items(), 4):\n",
    "    print(f'{clave}: {(valor)}')\n",
    "claves = list(ordenado_por_longitud.keys())[:15]\n",
    "\n",
    "longitudes = [len(ordenado_por_longitud[clave]) for clave in claves]\n",
    "claves = list(map(lambda x: '\\n'.join(x.split(' ')),claves))\n",
    "\n",
    "# Crear el gráfico de barras\n",
    "plt.figure(figsize=(15, 6))\n",
    "plt.bar(claves, longitudes)\n",
    "\n",
    "# Añadir etiquetas y título\n",
    "plt.xlabel('Personajes')\n",
    "plt.ylabel('nº de peliculas')\n",
    "plt.title('nº total de peliculas en las que aparecen los personajes');\n",
    "char_movie_matrix[char_movie_matrix['Spider-Man: Homecoming'] != 0]['Spider-Man: Homecoming'].sort_values(ascending=False)\n",
    "def grafico_char_tiempo_pelicula (pelicula):\n",
    "    data = pd.DataFrame(char_movie_matrix[char_movie_matrix[pelicula] != 0][pelicula].sort_values(ascending=False))\n",
    "    plt.figure(figsize=(15, 6))\n",
    "    data['Personajes'] = list(map(lambda x: '\\n'.join(x.split(' ')),data.index))\n",
    "    sns.barplot(x='Personajes', y=pelicula, data=data)\n",
    "\n",
    "grafico_char_tiempo_pelicula ('Spider-Man: No Way Home')\n",
    "\n",
    "def grafico_peliculas_del_char (char):\n",
    "    peliculas = {}\n",
    "    for peli in apariciones_pj[char]:\n",
    "        peliculas[peli] = char_movie_matrix.loc[char][peli]\n",
    "    plt.figure(figsize=(20, 6))\n",
    "    pelis = list(map(lambda x: '\\n'.join(x.split(' ')),list(peliculas.keys())))\n",
    "    sns.barplot(x=pelis, y=list(peliculas.values()))\n",
    "    plt.title(char)\n",
    "    plt.xlabel('Peliculas')\n",
    "    plt.ylabel('Tiempo en pantalla');\n",
    "\n",
    "grafico_peliculas_del_char ('Valkyrie')\n",
    "\n",
    "columna_tiempo_total_peliculas_char = []\n",
    "for char in char_movie_matrix.index:\n",
    "    tiempo_total_peliculas_char = 0\n",
    "    for peli in apariciones_pj[char]:\n",
    "        tiempo_total_peliculas_char += float(movie_lengths[peli])\n",
    "    columna_tiempo_total_peliculas_char.append(tiempo_total_peliculas_char)\n",
    "\n",
    "columna_porcentage_tiempo_pantalla = []\n",
    "suma_tiempos = list(dict(char_movie_matrix['Total de tiempo en pantalla']).values())\n",
    "for i in range(len(columna_tiempo_total_peliculas_char)):\n",
    "    columna_porcentage_tiempo_pantalla.append((suma_tiempos[i]/columna_tiempo_total_peliculas_char[i])*100)\n",
    "columna_porcentage_tiempo_pantalla\n",
    "nueva_fila = pd.DataFrame([movie_lengths])\n",
    "nueva_fila = convert_time_to_mins(nueva_fila)\n",
    "nuevo_df = (char_movie_matrix.iloc[:, :-1].div(nueva_fila.iloc[0]))*100\n",
    "nuevo_df\n",
    "def grafico_pie_t_pantalla (pelicula):    \n",
    "    df = char_movie_matrix[char_movie_matrix[pelicula] != 0]\n",
    "    pie1 = df[pelicula]\n",
    "    pie1_list = list(pie1.values)\n",
    "    pie1_list = [round(each,2) for each in pie1_list]\n",
    "    labels = df.index\n",
    "\n",
    "    # Figure\n",
    "    fig = make_subplots(rows=1, cols=1, specs=[[{'type': 'pie'}]])\n",
    "\n",
    "    fig.add_trace(\n",
    "        go.Pie(\n",
    "            labels=labels,\n",
    "            values=pie1_list,\n",
    "            textinfo='value',\n",
    "            hoverinfo=\"label+value\",\n",
    "            hole=0.3,\n",
    "        ),\n",
    "        row=1, col=1\n",
    "        \n",
    "    )\n",
    "\n",
    "    fig.update_layout(\n",
    "        title=\"Tiempo en pantalla en \" + pelicula + ' (' + movie_lengths[pelicula] +')',\n",
    "        annotations=[\n",
    "            {\n",
    "                \"font\": {\"size\": 20},\n",
    "                \"showarrow\": False,\n",
    "                \"text\": pelicula,\n",
    "                \"x\": 0.5,\n",
    "                \"y\": 1.07,\n",
    "            }\n",
    "        ],\n",
    "        height=700,  # Ajusta la altura del gráfico\n",
    "        width=900,   # Ajusta el ancho del gráfico\n",
    "    )\n",
    "\n",
    "    fig.show()\n",
    "\n",
    "grafico_pie_t_pantalla('Ojo de Halcón')"
   ]
  },
  {
   "cell_type": "code",
   "execution_count": 5,
   "metadata": {},
   "outputs": [],
   "source": [
    "data_dict = OrderedDict()\n",
    "# Inputing data into the dictionary\n",
    "for i in range(len(movies)):\n",
    "\tdata_dict[movies[i]] = movie_characters[i]\n",
    "data_dict['Spider-Man: Homecoming'][4]\n",
    "data_dict['Loki'][0] = data_dict['Loki'][0].split('>')[1]+'>'\n",
    "character_movie_time = {}\n",
    "# Parsing through data scraped for each movie\n",
    "for movie in data_dict.keys():\n",
    "\t# Parsing through each character in in the movie\n",
    "\tfor item in data_dict[movie]:\n",
    "\t\tcharacter = item.split('<')[0].strip()\n",
    "\t\ttime = item.split('<')[1].split('>')[0].strip()\n",
    "\t\t# Adding time for each character to for each movie to the index dict\n",
    "\t\tif movie in character_movie_time.keys():\n",
    "\t\t\tcharacter_movie_time[movie][character] = time\n",
    "\t\telse:\n",
    "\t\t\tcharacter_movie_time[movie] = {character: time}\n",
    "character_movie_time['Spider-Man: Homecoming']\n",
    "char_id_index = pd.read_csv('characters.csv')\n",
    "# Creating aa dict containing character IDs for each character\n",
    "names = {old:new for (old, new) in zip(char_id_index['Character Name'], char_id_index['Character ID'])}\n",
    "# Converting the data dict into a pandas data frame for easy handling\n",
    "char_movie_matrix = pd.DataFrame(character_movie_time)\n",
    "char_movie_matrix\n",
    "char_movie_matrix['Spider-Man: Homecoming']\n",
    "# Renaming characters with their character IDs\n",
    "char_movie_matrix.rename(index=names, inplace=True)\n",
    "char_movie_matrix\n",
    "def combine_rows(matrix):\n",
    "\t\"\"\"Method that combines the duplicate rows that arose due to replacing character IDs\"\"\"\n",
    "\t# List of characters\n",
    "\tcharacters = list(set([character for character in matrix.index]))\n",
    "\t# Iterating over every character\n",
    "\tfor character in characters:\n",
    "\t\t# Creating a mini data frame for each character\n",
    "\t\tdf = matrix.loc[character]\n",
    "\t\t# If the character row is present just once, iterating over every column would be iterating over every movie\n",
    "\t\tif len(list(df.index)) != len(matrix.columns):\n",
    "\t\t\t# Iterating over every movie for each character\n",
    "\t\t\tfor movie in matrix.columns:\n",
    "\t\t\t\t# Initializing update value to NaN\n",
    "\t\t\t\tvalue = np.nan\n",
    "\t\t\t\tli = []\n",
    "\t\t\t\t# Creating a list of values for each movie\n",
    "\t\t\t\tfor i in range(len(df.index)):\n",
    "\t\t\t\t\tli.append(str(df.iloc[i][movie]))\n",
    "\t\t\t\t# Updating the right value\n",
    "\t\t\t\tfor item in li:\n",
    "\t\t\t\t\tif str(item) != 'nan':\n",
    "\t\t\t\t\t\tvalue = item\n",
    "\t\t\t\t# Updating value to the location\n",
    "\t\t\t\tmatrix.loc[character, movie] = value\n",
    "\t# If there are n duplicates, n rows would have been created with same values; deleting the duplicates\n",
    "\tmatrix = matrix.drop_duplicates()\n",
    "\treturn matrix\n",
    "# Combine rows with same index\n",
    "char_movie_matrix = combine_rows(char_movie_matrix)\n",
    "char_movie_matrix\n",
    "char_movie_matrix.index.tolist()\n",
    "def convert_time_to_mins(matrix):\n",
    "\t\"\"\"Method that converts time of the format mm:ss or :ss or mm to minutes in float\"\"\"\n",
    "\t# Iterating over each character\n",
    "\tfor character in matrix.index:\n",
    "\t\t# Iterating over each movie\n",
    "\t\tfor movie in matrix.columns:\n",
    "\t\t\t# Current value of the cell in the matrix\n",
    "\t\t\tvalue = matrix.loc[character][movie]\n",
    "\t\t\t# Iterating over non NaN values only\n",
    "\t\t\tif str(value) != 'nan':\n",
    "\t\t\t\t# To convert strings of the format mm:ss\n",
    "\t\t\t\tif re.match(r'\\d+:\\d+', value):\n",
    "\t\t\t\t\tmatrix.loc[character][movie] = float(value.split(':')[0]) + float(value.split(':')[1])/60\n",
    "\t\t\t\t# To convert strings of the format :ss\n",
    "\t\t\t\telif re.match(r'^:\\d+', value):\n",
    "\t\t\t\t\tmatrix.loc[character][movie] = float(value.split(':')[1])/60\n",
    "\t\t\t\t# To convert strings of the format mm\n",
    "\t\t\t\telif re.match(r'\\b\\d+\\b(?!:)', value):\n",
    "\t\t\t\t\tmatrix.loc[character][movie] = float(value)\n",
    "\t\t\t\t# Other formats assigned as NaN\n",
    "\t\t\t\telse:\n",
    "\t\t\t\t\tmatrix.loc[character][movie] = np.nan\n",
    "\t\t\t# NaN values reassigned as NaN\n",
    "\t\t\telse:\n",
    "\t\t\t\tmatrix.loc[character][movie] = np.nan\n",
    "\treturn matrix\n",
    "char_movie_matrix = convert_time_to_mins(char_movie_matrix)\n",
    "\n",
    "char_movie_matrix['Total de tiempo en pantalla'] = char_movie_matrix.loc[:,:].sum(axis=1, skipna=True)\n",
    "char_movie_matrix = char_movie_matrix.sort_values(by='Total de tiempo en pantalla', ascending=False)\n",
    "char_movie_matrix = char_movie_matrix.fillna(0)\n",
    "char_movie_matrix = char_movie_matrix[char_movie_matrix['Total de tiempo en pantalla'] != 0]\n",
    "data = char_movie_matrix.head(20)\n",
    "plt.figure(figsize=(15, 6))\n",
    "data['Personajes'] = list(map(lambda x: '\\n'.join(x.split(' ')),data.index))\n",
    "sns.barplot(x='Personajes', y='Total de tiempo en pantalla', data=data);\n",
    "apariciones_pj = OrderedDict()\n",
    "for pj in char_movie_matrix.index:\n",
    "    columnas_no_cero = char_movie_matrix.loc[pj, (char_movie_matrix.loc[pj] != 0) & (char_movie_matrix.loc[pj].apply(isinstance, args=(float,)))].index.tolist()\n",
    "    apariciones_pj[pj]=columnas_no_cero[0:-1]\n",
    "\n",
    "\n",
    "for i in apariciones_pj.keys():\n",
    "    if re.match(r'.*Sara.*',i):\n",
    "        print (i,apariciones_pj[i])\n",
    "from itertools import islice\n",
    "ordenado_por_longitud = OrderedDict(sorted(apariciones_pj.items(), key=lambda x: len(x[1]), reverse=True))\n",
    "\n",
    "# Mostrar el resultado\n",
    "for clave, valor in islice(ordenado_por_longitud.items(), 4):\n",
    "    print(f'{clave}: {(valor)}')\n",
    "claves = list(ordenado_por_longitud.keys())[:15]\n",
    "\n",
    "longitudes = [len(ordenado_por_longitud[clave]) for clave in claves]\n",
    "claves = list(map(lambda x: '\\n'.join(x.split(' ')),claves))\n",
    "\n",
    "# Crear el gráfico de barras\n",
    "plt.figure(figsize=(15, 6))\n",
    "plt.bar(claves, longitudes)\n",
    "\n",
    "# Añadir etiquetas y título\n",
    "plt.xlabel('Personajes')\n",
    "plt.ylabel('nº de peliculas')\n",
    "plt.title('nº total de peliculas en las que aparecen los personajes');\n",
    "char_movie_matrix[char_movie_matrix['Spider-Man: Homecoming'] != 0]['Spider-Man: Homecoming'].sort_values(ascending=False)\n",
    "def grafico_char_tiempo_pelicula (pelicula):\n",
    "    data = pd.DataFrame(char_movie_matrix[char_movie_matrix[pelicula] != 0][pelicula].sort_values(ascending=False))\n",
    "    plt.figure(figsize=(15, 6))\n",
    "    data['Personajes'] = list(map(lambda x: '\\n'.join(x.split(' ')),data.index))\n",
    "    sns.barplot(x='Personajes', y=pelicula, data=data)\n",
    "\n",
    "grafico_char_tiempo_pelicula ('Spider-Man: No Way Home')\n",
    "\n",
    "def grafico_peliculas_del_char (char):\n",
    "    peliculas = {}\n",
    "    for peli in apariciones_pj[char]:\n",
    "        peliculas[peli] = char_movie_matrix.loc[char][peli]\n",
    "    plt.figure(figsize=(20, 6))\n",
    "    pelis = list(map(lambda x: '\\n'.join(x.split(' ')),list(peliculas.keys())))\n",
    "    sns.barplot(x=pelis, y=list(peliculas.values()))\n",
    "    plt.title(char)\n",
    "    plt.xlabel('Peliculas')\n",
    "    plt.ylabel('Tiempo en pantalla');\n",
    "\n",
    "grafico_peliculas_del_char ('Valkyrie')\n",
    "\n",
    "columna_tiempo_total_peliculas_char = []\n",
    "for char in char_movie_matrix.index:\n",
    "    tiempo_total_peliculas_char = 0\n",
    "    for peli in apariciones_pj[char]:\n",
    "        tiempo_total_peliculas_char += float(movie_lengths[peli])\n",
    "    columna_tiempo_total_peliculas_char.append(tiempo_total_peliculas_char)\n",
    "\n",
    "columna_porcentage_tiempo_pantalla = []\n",
    "suma_tiempos = list(dict(char_movie_matrix['Total de tiempo en pantalla']).values())\n",
    "for i in range(len(columna_tiempo_total_peliculas_char)):\n",
    "    columna_porcentage_tiempo_pantalla.append((suma_tiempos[i]/columna_tiempo_total_peliculas_char[i])*100)\n",
    "columna_porcentage_tiempo_pantalla\n",
    "nueva_fila = pd.DataFrame([movie_lengths])\n",
    "nueva_fila = convert_time_to_mins(nueva_fila)\n",
    "nuevo_df = (char_movie_matrix.iloc[:, :-1].div(nueva_fila.iloc[0]))*100\n",
    "nuevo_df\n",
    "def grafico_pie_t_pantalla (pelicula):    \n",
    "    df = char_movie_matrix[char_movie_matrix[pelicula] != 0]\n",
    "    pie1 = df[pelicula]\n",
    "    pie1_list = list(pie1.values)\n",
    "    pie1_list = [round(each,2) for each in pie1_list]\n",
    "    labels = df.index\n",
    "\n",
    "    # Figure\n",
    "    fig = make_subplots(rows=1, cols=1, specs=[[{'type': 'pie'}]])\n",
    "\n",
    "    fig.add_trace(\n",
    "        go.Pie(\n",
    "            labels=labels,\n",
    "            values=pie1_list,\n",
    "            textinfo='value',\n",
    "            hoverinfo=\"label+value\",\n",
    "            hole=0.3,\n",
    "        ),\n",
    "        row=1, col=1\n",
    "        \n",
    "    )\n",
    "\n",
    "    fig.update_layout(\n",
    "        title=\"Tiempo en pantalla en \" + pelicula + ' (' + movie_lengths[pelicula] +')',\n",
    "        annotations=[\n",
    "            {\n",
    "                \"font\": {\"size\": 20},\n",
    "                \"showarrow\": False,\n",
    "                \"text\": pelicula,\n",
    "                \"x\": 0.5,\n",
    "                \"y\": 1.07,\n",
    "            }\n",
    "        ],\n",
    "        height=700,  # Ajusta la altura del gráfico\n",
    "        width=900,   # Ajusta el ancho del gráfico\n",
    "    )\n",
    "\n",
    "    fig.show()\n",
    "\n",
    "grafico_pie_t_pantalla('Ojo de Halcón')"
   ]
  },
  {
   "cell_type": "code",
   "execution_count": 6,
   "metadata": {},
   "outputs": [
    {
     "data": {
      "text/plain": [
       "'Tony Stark / Iron Man <8>'"
      ]
     },
     "execution_count": 6,
     "metadata": {},
     "output_type": "execute_result"
    }
   ],
   "source": [
    "data_dict['Spider-Man: Homecoming'][4]\n",
    "data_dict['Loki'][0] = data_dict['Loki'][0].split('>')[1]+'>'\n",
    "character_movie_time = {}\n",
    "# Parsing through data scraped for each movie\n",
    "for movie in data_dict.keys():\n",
    "\t# Parsing through each character in in the movie\n",
    "\tfor item in data_dict[movie]:\n",
    "\t\tcharacter = item.split('<')[0].strip()\n",
    "\t\ttime = item.split('<')[1].split('>')[0].strip()\n",
    "\t\t# Adding time for each character to for each movie to the index dict\n",
    "\t\tif movie in character_movie_time.keys():\n",
    "\t\t\tcharacter_movie_time[movie][character] = time\n",
    "\t\telse:\n",
    "\t\t\tcharacter_movie_time[movie] = {character: time}\n",
    "character_movie_time['Spider-Man: Homecoming']\n",
    "char_id_index = pd.read_csv('characters.csv')\n",
    "# Creating aa dict containing character IDs for each character\n",
    "names = {old:new for (old, new) in zip(char_id_index['Character Name'], char_id_index['Character ID'])}\n",
    "# Converting the data dict into a pandas data frame for easy handling\n",
    "char_movie_matrix = pd.DataFrame(character_movie_time)\n",
    "char_movie_matrix\n",
    "char_movie_matrix['Spider-Man: Homecoming']\n",
    "# Renaming characters with their character IDs\n",
    "char_movie_matrix.rename(index=names, inplace=True)\n",
    "char_movie_matrix\n",
    "def combine_rows(matrix):\n",
    "\t\"\"\"Method that combines the duplicate rows that arose due to replacing character IDs\"\"\"\n",
    "\t# List of characters\n",
    "\tcharacters = list(set([character for character in matrix.index]))\n",
    "\t# Iterating over every character\n",
    "\tfor character in characters:\n",
    "\t\t# Creating a mini data frame for each character\n",
    "\t\tdf = matrix.loc[character]\n",
    "\t\t# If the character row is present just once, iterating over every column would be iterating over every movie\n",
    "\t\tif len(list(df.index)) != len(matrix.columns):\n",
    "\t\t\t# Iterating over every movie for each character\n",
    "\t\t\tfor movie in matrix.columns:\n",
    "\t\t\t\t# Initializing update value to NaN\n",
    "\t\t\t\tvalue = np.nan\n",
    "\t\t\t\tli = []\n",
    "\t\t\t\t# Creating a list of values for each movie\n",
    "\t\t\t\tfor i in range(len(df.index)):\n",
    "\t\t\t\t\tli.append(str(df.iloc[i][movie]))\n",
    "\t\t\t\t# Updating the right value\n",
    "\t\t\t\tfor item in li:\n",
    "\t\t\t\t\tif str(item) != 'nan':\n",
    "\t\t\t\t\t\tvalue = item\n",
    "\t\t\t\t# Updating value to the location\n",
    "\t\t\t\tmatrix.loc[character, movie] = value\n",
    "\t# If there are n duplicates, n rows would have been created with same values; deleting the duplicates\n",
    "\tmatrix = matrix.drop_duplicates()\n",
    "\treturn matrix\n",
    "# Combine rows with same index\n",
    "char_movie_matrix = combine_rows(char_movie_matrix)\n",
    "char_movie_matrix\n",
    "char_movie_matrix.index.tolist()\n",
    "def convert_time_to_mins(matrix):\n",
    "\t\"\"\"Method that converts time of the format mm:ss or :ss or mm to minutes in float\"\"\"\n",
    "\t# Iterating over each character\n",
    "\tfor character in matrix.index:\n",
    "\t\t# Iterating over each movie\n",
    "\t\tfor movie in matrix.columns:\n",
    "\t\t\t# Current value of the cell in the matrix\n",
    "\t\t\tvalue = matrix.loc[character][movie]\n",
    "\t\t\t# Iterating over non NaN values only\n",
    "\t\t\tif str(value) != 'nan':\n",
    "\t\t\t\t# To convert strings of the format mm:ss\n",
    "\t\t\t\tif re.match(r'\\d+:\\d+', value):\n",
    "\t\t\t\t\tmatrix.loc[character][movie] = float(value.split(':')[0]) + float(value.split(':')[1])/60\n",
    "\t\t\t\t# To convert strings of the format :ss\n",
    "\t\t\t\telif re.match(r'^:\\d+', value):\n",
    "\t\t\t\t\tmatrix.loc[character][movie] = float(value.split(':')[1])/60\n",
    "\t\t\t\t# To convert strings of the format mm\n",
    "\t\t\t\telif re.match(r'\\b\\d+\\b(?!:)', value):\n",
    "\t\t\t\t\tmatrix.loc[character][movie] = float(value)\n",
    "\t\t\t\t# Other formats assigned as NaN\n",
    "\t\t\t\telse:\n",
    "\t\t\t\t\tmatrix.loc[character][movie] = np.nan\n",
    "\t\t\t# NaN values reassigned as NaN\n",
    "\t\t\telse:\n",
    "\t\t\t\tmatrix.loc[character][movie] = np.nan\n",
    "\treturn matrix\n",
    "char_movie_matrix = convert_time_to_mins(char_movie_matrix)\n",
    "\n",
    "char_movie_matrix['Total de tiempo en pantalla'] = char_movie_matrix.loc[:,:].sum(axis=1, skipna=True)\n",
    "char_movie_matrix = char_movie_matrix.sort_values(by='Total de tiempo en pantalla', ascending=False)\n",
    "char_movie_matrix = char_movie_matrix.fillna(0)\n",
    "char_movie_matrix = char_movie_matrix[char_movie_matrix['Total de tiempo en pantalla'] != 0]\n",
    "data = char_movie_matrix.head(20)\n",
    "plt.figure(figsize=(15, 6))\n",
    "data['Personajes'] = list(map(lambda x: '\\n'.join(x.split(' ')),data.index))\n",
    "sns.barplot(x='Personajes', y='Total de tiempo en pantalla', data=data);\n",
    "apariciones_pj = OrderedDict()\n",
    "for pj in char_movie_matrix.index:\n",
    "    columnas_no_cero = char_movie_matrix.loc[pj, (char_movie_matrix.loc[pj] != 0) & (char_movie_matrix.loc[pj].apply(isinstance, args=(float,)))].index.tolist()\n",
    "    apariciones_pj[pj]=columnas_no_cero[0:-1]\n",
    "\n",
    "\n",
    "for i in apariciones_pj.keys():\n",
    "    if re.match(r'.*Sara.*',i):\n",
    "        print (i,apariciones_pj[i])\n",
    "from itertools import islice\n",
    "ordenado_por_longitud = OrderedDict(sorted(apariciones_pj.items(), key=lambda x: len(x[1]), reverse=True))\n",
    "\n",
    "# Mostrar el resultado\n",
    "for clave, valor in islice(ordenado_por_longitud.items(), 4):\n",
    "    print(f'{clave}: {(valor)}')\n",
    "claves = list(ordenado_por_longitud.keys())[:15]\n",
    "\n",
    "longitudes = [len(ordenado_por_longitud[clave]) for clave in claves]\n",
    "claves = list(map(lambda x: '\\n'.join(x.split(' ')),claves))\n",
    "\n",
    "# Crear el gráfico de barras\n",
    "plt.figure(figsize=(15, 6))\n",
    "plt.bar(claves, longitudes)\n",
    "\n",
    "# Añadir etiquetas y título\n",
    "plt.xlabel('Personajes')\n",
    "plt.ylabel('nº de peliculas')\n",
    "plt.title('nº total de peliculas en las que aparecen los personajes');\n",
    "char_movie_matrix[char_movie_matrix['Spider-Man: Homecoming'] != 0]['Spider-Man: Homecoming'].sort_values(ascending=False)\n",
    "def grafico_char_tiempo_pelicula (pelicula):\n",
    "    data = pd.DataFrame(char_movie_matrix[char_movie_matrix[pelicula] != 0][pelicula].sort_values(ascending=False))\n",
    "    plt.figure(figsize=(15, 6))\n",
    "    data['Personajes'] = list(map(lambda x: '\\n'.join(x.split(' ')),data.index))\n",
    "    sns.barplot(x='Personajes', y=pelicula, data=data)\n",
    "\n",
    "grafico_char_tiempo_pelicula ('Spider-Man: No Way Home')\n",
    "\n",
    "def grafico_peliculas_del_char (char):\n",
    "    peliculas = {}\n",
    "    for peli in apariciones_pj[char]:\n",
    "        peliculas[peli] = char_movie_matrix.loc[char][peli]\n",
    "    plt.figure(figsize=(20, 6))\n",
    "    pelis = list(map(lambda x: '\\n'.join(x.split(' ')),list(peliculas.keys())))\n",
    "    sns.barplot(x=pelis, y=list(peliculas.values()))\n",
    "    plt.title(char)\n",
    "    plt.xlabel('Peliculas')\n",
    "    plt.ylabel('Tiempo en pantalla');\n",
    "\n",
    "grafico_peliculas_del_char ('Valkyrie')\n",
    "\n",
    "columna_tiempo_total_peliculas_char = []\n",
    "for char in char_movie_matrix.index:\n",
    "    tiempo_total_peliculas_char = 0\n",
    "    for peli in apariciones_pj[char]:\n",
    "        tiempo_total_peliculas_char += float(movie_lengths[peli])\n",
    "    columna_tiempo_total_peliculas_char.append(tiempo_total_peliculas_char)\n",
    "\n",
    "columna_porcentage_tiempo_pantalla = []\n",
    "suma_tiempos = list(dict(char_movie_matrix['Total de tiempo en pantalla']).values())\n",
    "for i in range(len(columna_tiempo_total_peliculas_char)):\n",
    "    columna_porcentage_tiempo_pantalla.append((suma_tiempos[i]/columna_tiempo_total_peliculas_char[i])*100)\n",
    "columna_porcentage_tiempo_pantalla\n",
    "nueva_fila = pd.DataFrame([movie_lengths])\n",
    "nueva_fila = convert_time_to_mins(nueva_fila)\n",
    "nuevo_df = (char_movie_matrix.iloc[:, :-1].div(nueva_fila.iloc[0]))*100\n",
    "nuevo_df\n",
    "def grafico_pie_t_pantalla (pelicula):    \n",
    "    df = char_movie_matrix[char_movie_matrix[pelicula] != 0]\n",
    "    pie1 = df[pelicula]\n",
    "    pie1_list = list(pie1.values)\n",
    "    pie1_list = [round(each,2) for each in pie1_list]\n",
    "    labels = df.index\n",
    "\n",
    "    # Figure\n",
    "    fig = make_subplots(rows=1, cols=1, specs=[[{'type': 'pie'}]])\n",
    "\n",
    "    fig.add_trace(\n",
    "        go.Pie(\n",
    "            labels=labels,\n",
    "            values=pie1_list,\n",
    "            textinfo='value',\n",
    "            hoverinfo=\"label+value\",\n",
    "            hole=0.3,\n",
    "        ),\n",
    "        row=1, col=1\n",
    "        \n",
    "    )\n",
    "\n",
    "    fig.update_layout(\n",
    "        title=\"Tiempo en pantalla en \" + pelicula + ' (' + movie_lengths[pelicula] +')',\n",
    "        annotations=[\n",
    "            {\n",
    "                \"font\": {\"size\": 20},\n",
    "                \"showarrow\": False,\n",
    "                \"text\": pelicula,\n",
    "                \"x\": 0.5,\n",
    "                \"y\": 1.07,\n",
    "            }\n",
    "        ],\n",
    "        height=700,  # Ajusta la altura del gráfico\n",
    "        width=900,   # Ajusta el ancho del gráfico\n",
    "    )\n",
    "\n",
    "    fig.show()\n",
    "\n",
    "grafico_pie_t_pantalla('Ojo de Halcón')"
   ]
  },
  {
   "cell_type": "code",
   "execution_count": 7,
   "metadata": {},
   "outputs": [],
   "source": [
    "data_dict['Loki'][0] = data_dict['Loki'][0].split('>')[1]+'>'\n",
    "character_movie_time = {}\n",
    "# Parsing through data scraped for each movie\n",
    "for movie in data_dict.keys():\n",
    "\t# Parsing through each character in in the movie\n",
    "\tfor item in data_dict[movie]:\n",
    "\t\tcharacter = item.split('<')[0].strip()\n",
    "\t\ttime = item.split('<')[1].split('>')[0].strip()\n",
    "\t\t# Adding time for each character to for each movie to the index dict\n",
    "\t\tif movie in character_movie_time.keys():\n",
    "\t\t\tcharacter_movie_time[movie][character] = time\n",
    "\t\telse:\n",
    "\t\t\tcharacter_movie_time[movie] = {character: time}\n",
    "character_movie_time['Spider-Man: Homecoming']\n",
    "char_id_index = pd.read_csv('characters.csv')\n",
    "# Creating aa dict containing character IDs for each character\n",
    "names = {old:new for (old, new) in zip(char_id_index['Character Name'], char_id_index['Character ID'])}\n",
    "# Converting the data dict into a pandas data frame for easy handling\n",
    "char_movie_matrix = pd.DataFrame(character_movie_time)\n",
    "char_movie_matrix\n",
    "char_movie_matrix['Spider-Man: Homecoming']\n",
    "# Renaming characters with their character IDs\n",
    "char_movie_matrix.rename(index=names, inplace=True)\n",
    "char_movie_matrix\n",
    "def combine_rows(matrix):\n",
    "\t\"\"\"Method that combines the duplicate rows that arose due to replacing character IDs\"\"\"\n",
    "\t# List of characters\n",
    "\tcharacters = list(set([character for character in matrix.index]))\n",
    "\t# Iterating over every character\n",
    "\tfor character in characters:\n",
    "\t\t# Creating a mini data frame for each character\n",
    "\t\tdf = matrix.loc[character]\n",
    "\t\t# If the character row is present just once, iterating over every column would be iterating over every movie\n",
    "\t\tif len(list(df.index)) != len(matrix.columns):\n",
    "\t\t\t# Iterating over every movie for each character\n",
    "\t\t\tfor movie in matrix.columns:\n",
    "\t\t\t\t# Initializing update value to NaN\n",
    "\t\t\t\tvalue = np.nan\n",
    "\t\t\t\tli = []\n",
    "\t\t\t\t# Creating a list of values for each movie\n",
    "\t\t\t\tfor i in range(len(df.index)):\n",
    "\t\t\t\t\tli.append(str(df.iloc[i][movie]))\n",
    "\t\t\t\t# Updating the right value\n",
    "\t\t\t\tfor item in li:\n",
    "\t\t\t\t\tif str(item) != 'nan':\n",
    "\t\t\t\t\t\tvalue = item\n",
    "\t\t\t\t# Updating value to the location\n",
    "\t\t\t\tmatrix.loc[character, movie] = value\n",
    "\t# If there are n duplicates, n rows would have been created with same values; deleting the duplicates\n",
    "\tmatrix = matrix.drop_duplicates()\n",
    "\treturn matrix\n",
    "# Combine rows with same index\n",
    "char_movie_matrix = combine_rows(char_movie_matrix)\n",
    "char_movie_matrix\n",
    "char_movie_matrix.index.tolist()\n",
    "def convert_time_to_mins(matrix):\n",
    "\t\"\"\"Method that converts time of the format mm:ss or :ss or mm to minutes in float\"\"\"\n",
    "\t# Iterating over each character\n",
    "\tfor character in matrix.index:\n",
    "\t\t# Iterating over each movie\n",
    "\t\tfor movie in matrix.columns:\n",
    "\t\t\t# Current value of the cell in the matrix\n",
    "\t\t\tvalue = matrix.loc[character][movie]\n",
    "\t\t\t# Iterating over non NaN values only\n",
    "\t\t\tif str(value) != 'nan':\n",
    "\t\t\t\t# To convert strings of the format mm:ss\n",
    "\t\t\t\tif re.match(r'\\d+:\\d+', value):\n",
    "\t\t\t\t\tmatrix.loc[character][movie] = float(value.split(':')[0]) + float(value.split(':')[1])/60\n",
    "\t\t\t\t# To convert strings of the format :ss\n",
    "\t\t\t\telif re.match(r'^:\\d+', value):\n",
    "\t\t\t\t\tmatrix.loc[character][movie] = float(value.split(':')[1])/60\n",
    "\t\t\t\t# To convert strings of the format mm\n",
    "\t\t\t\telif re.match(r'\\b\\d+\\b(?!:)', value):\n",
    "\t\t\t\t\tmatrix.loc[character][movie] = float(value)\n",
    "\t\t\t\t# Other formats assigned as NaN\n",
    "\t\t\t\telse:\n",
    "\t\t\t\t\tmatrix.loc[character][movie] = np.nan\n",
    "\t\t\t# NaN values reassigned as NaN\n",
    "\t\t\telse:\n",
    "\t\t\t\tmatrix.loc[character][movie] = np.nan\n",
    "\treturn matrix\n",
    "char_movie_matrix = convert_time_to_mins(char_movie_matrix)\n",
    "\n",
    "char_movie_matrix['Total de tiempo en pantalla'] = char_movie_matrix.loc[:,:].sum(axis=1, skipna=True)\n",
    "char_movie_matrix = char_movie_matrix.sort_values(by='Total de tiempo en pantalla', ascending=False)\n",
    "char_movie_matrix = char_movie_matrix.fillna(0)\n",
    "char_movie_matrix = char_movie_matrix[char_movie_matrix['Total de tiempo en pantalla'] != 0]\n",
    "data = char_movie_matrix.head(20)\n",
    "plt.figure(figsize=(15, 6))\n",
    "data['Personajes'] = list(map(lambda x: '\\n'.join(x.split(' ')),data.index))\n",
    "sns.barplot(x='Personajes', y='Total de tiempo en pantalla', data=data);\n",
    "apariciones_pj = OrderedDict()\n",
    "for pj in char_movie_matrix.index:\n",
    "    columnas_no_cero = char_movie_matrix.loc[pj, (char_movie_matrix.loc[pj] != 0) & (char_movie_matrix.loc[pj].apply(isinstance, args=(float,)))].index.tolist()\n",
    "    apariciones_pj[pj]=columnas_no_cero[0:-1]\n",
    "\n",
    "\n",
    "for i in apariciones_pj.keys():\n",
    "    if re.match(r'.*Sara.*',i):\n",
    "        print (i,apariciones_pj[i])\n",
    "from itertools import islice\n",
    "ordenado_por_longitud = OrderedDict(sorted(apariciones_pj.items(), key=lambda x: len(x[1]), reverse=True))\n",
    "\n",
    "# Mostrar el resultado\n",
    "for clave, valor in islice(ordenado_por_longitud.items(), 4):\n",
    "    print(f'{clave}: {(valor)}')\n",
    "claves = list(ordenado_por_longitud.keys())[:15]\n",
    "\n",
    "longitudes = [len(ordenado_por_longitud[clave]) for clave in claves]\n",
    "claves = list(map(lambda x: '\\n'.join(x.split(' ')),claves))\n",
    "\n",
    "# Crear el gráfico de barras\n",
    "plt.figure(figsize=(15, 6))\n",
    "plt.bar(claves, longitudes)\n",
    "\n",
    "# Añadir etiquetas y título\n",
    "plt.xlabel('Personajes')\n",
    "plt.ylabel('nº de peliculas')\n",
    "plt.title('nº total de peliculas en las que aparecen los personajes');\n",
    "char_movie_matrix[char_movie_matrix['Spider-Man: Homecoming'] != 0]['Spider-Man: Homecoming'].sort_values(ascending=False)\n",
    "def grafico_char_tiempo_pelicula (pelicula):\n",
    "    data = pd.DataFrame(char_movie_matrix[char_movie_matrix[pelicula] != 0][pelicula].sort_values(ascending=False))\n",
    "    plt.figure(figsize=(15, 6))\n",
    "    data['Personajes'] = list(map(lambda x: '\\n'.join(x.split(' ')),data.index))\n",
    "    sns.barplot(x='Personajes', y=pelicula, data=data)\n",
    "\n",
    "grafico_char_tiempo_pelicula ('Spider-Man: No Way Home')\n",
    "\n",
    "def grafico_peliculas_del_char (char):\n",
    "    peliculas = {}\n",
    "    for peli in apariciones_pj[char]:\n",
    "        peliculas[peli] = char_movie_matrix.loc[char][peli]\n",
    "    plt.figure(figsize=(20, 6))\n",
    "    pelis = list(map(lambda x: '\\n'.join(x.split(' ')),list(peliculas.keys())))\n",
    "    sns.barplot(x=pelis, y=list(peliculas.values()))\n",
    "    plt.title(char)\n",
    "    plt.xlabel('Peliculas')\n",
    "    plt.ylabel('Tiempo en pantalla');\n",
    "\n",
    "grafico_peliculas_del_char ('Valkyrie')\n",
    "\n",
    "columna_tiempo_total_peliculas_char = []\n",
    "for char in char_movie_matrix.index:\n",
    "    tiempo_total_peliculas_char = 0\n",
    "    for peli in apariciones_pj[char]:\n",
    "        tiempo_total_peliculas_char += float(movie_lengths[peli])\n",
    "    columna_tiempo_total_peliculas_char.append(tiempo_total_peliculas_char)\n",
    "\n",
    "columna_porcentage_tiempo_pantalla = []\n",
    "suma_tiempos = list(dict(char_movie_matrix['Total de tiempo en pantalla']).values())\n",
    "for i in range(len(columna_tiempo_total_peliculas_char)):\n",
    "    columna_porcentage_tiempo_pantalla.append((suma_tiempos[i]/columna_tiempo_total_peliculas_char[i])*100)\n",
    "columna_porcentage_tiempo_pantalla\n",
    "nueva_fila = pd.DataFrame([movie_lengths])\n",
    "nueva_fila = convert_time_to_mins(nueva_fila)\n",
    "nuevo_df = (char_movie_matrix.iloc[:, :-1].div(nueva_fila.iloc[0]))*100\n",
    "nuevo_df\n",
    "def grafico_pie_t_pantalla (pelicula):    \n",
    "    df = char_movie_matrix[char_movie_matrix[pelicula] != 0]\n",
    "    pie1 = df[pelicula]\n",
    "    pie1_list = list(pie1.values)\n",
    "    pie1_list = [round(each,2) for each in pie1_list]\n",
    "    labels = df.index\n",
    "\n",
    "    # Figure\n",
    "    fig = make_subplots(rows=1, cols=1, specs=[[{'type': 'pie'}]])\n",
    "\n",
    "    fig.add_trace(\n",
    "        go.Pie(\n",
    "            labels=labels,\n",
    "            values=pie1_list,\n",
    "            textinfo='value',\n",
    "            hoverinfo=\"label+value\",\n",
    "            hole=0.3,\n",
    "        ),\n",
    "        row=1, col=1\n",
    "        \n",
    "    )\n",
    "\n",
    "    fig.update_layout(\n",
    "        title=\"Tiempo en pantalla en \" + pelicula + ' (' + movie_lengths[pelicula] +')',\n",
    "        annotations=[\n",
    "            {\n",
    "                \"font\": {\"size\": 20},\n",
    "                \"showarrow\": False,\n",
    "                \"text\": pelicula,\n",
    "                \"x\": 0.5,\n",
    "                \"y\": 1.07,\n",
    "            }\n",
    "        ],\n",
    "        height=700,  # Ajusta la altura del gráfico\n",
    "        width=900,   # Ajusta el ancho del gráfico\n",
    "    )\n",
    "\n",
    "    fig.show()\n",
    "\n",
    "grafico_pie_t_pantalla('Ojo de Halcón')"
   ]
  },
  {
   "cell_type": "code",
   "execution_count": 8,
   "metadata": {},
   "outputs": [],
   "source": [
    "character_movie_time = {}\n",
    "# Parsing through data scraped for each movie\n",
    "for movie in data_dict.keys():\n",
    "\t# Parsing through each character in in the movie\n",
    "\tfor item in data_dict[movie]:\n",
    "\t\tcharacter = item.split('<')[0].strip()\n",
    "\t\ttime = item.split('<')[1].split('>')[0].strip()\n",
    "\t\t# Adding time for each character to for each movie to the index dict\n",
    "\t\tif movie in character_movie_time.keys():\n",
    "\t\t\tcharacter_movie_time[movie][character] = time\n",
    "\t\telse:\n",
    "\t\t\tcharacter_movie_time[movie] = {character: time}\n",
    "character_movie_time['Spider-Man: Homecoming']\n",
    "char_id_index = pd.read_csv('characters.csv')\n",
    "# Creating aa dict containing character IDs for each character\n",
    "names = {old:new for (old, new) in zip(char_id_index['Character Name'], char_id_index['Character ID'])}\n",
    "# Converting the data dict into a pandas data frame for easy handling\n",
    "char_movie_matrix = pd.DataFrame(character_movie_time)\n",
    "char_movie_matrix\n",
    "char_movie_matrix['Spider-Man: Homecoming']\n",
    "# Renaming characters with their character IDs\n",
    "char_movie_matrix.rename(index=names, inplace=True)\n",
    "char_movie_matrix\n",
    "def combine_rows(matrix):\n",
    "\t\"\"\"Method that combines the duplicate rows that arose due to replacing character IDs\"\"\"\n",
    "\t# List of characters\n",
    "\tcharacters = list(set([character for character in matrix.index]))\n",
    "\t# Iterating over every character\n",
    "\tfor character in characters:\n",
    "\t\t# Creating a mini data frame for each character\n",
    "\t\tdf = matrix.loc[character]\n",
    "\t\t# If the character row is present just once, iterating over every column would be iterating over every movie\n",
    "\t\tif len(list(df.index)) != len(matrix.columns):\n",
    "\t\t\t# Iterating over every movie for each character\n",
    "\t\t\tfor movie in matrix.columns:\n",
    "\t\t\t\t# Initializing update value to NaN\n",
    "\t\t\t\tvalue = np.nan\n",
    "\t\t\t\tli = []\n",
    "\t\t\t\t# Creating a list of values for each movie\n",
    "\t\t\t\tfor i in range(len(df.index)):\n",
    "\t\t\t\t\tli.append(str(df.iloc[i][movie]))\n",
    "\t\t\t\t# Updating the right value\n",
    "\t\t\t\tfor item in li:\n",
    "\t\t\t\t\tif str(item) != 'nan':\n",
    "\t\t\t\t\t\tvalue = item\n",
    "\t\t\t\t# Updating value to the location\n",
    "\t\t\t\tmatrix.loc[character, movie] = value\n",
    "\t# If there are n duplicates, n rows would have been created with same values; deleting the duplicates\n",
    "\tmatrix = matrix.drop_duplicates()\n",
    "\treturn matrix\n",
    "# Combine rows with same index\n",
    "char_movie_matrix = combine_rows(char_movie_matrix)\n",
    "char_movie_matrix\n",
    "char_movie_matrix.index.tolist()\n",
    "def convert_time_to_mins(matrix):\n",
    "\t\"\"\"Method that converts time of the format mm:ss or :ss or mm to minutes in float\"\"\"\n",
    "\t# Iterating over each character\n",
    "\tfor character in matrix.index:\n",
    "\t\t# Iterating over each movie\n",
    "\t\tfor movie in matrix.columns:\n",
    "\t\t\t# Current value of the cell in the matrix\n",
    "\t\t\tvalue = matrix.loc[character][movie]\n",
    "\t\t\t# Iterating over non NaN values only\n",
    "\t\t\tif str(value) != 'nan':\n",
    "\t\t\t\t# To convert strings of the format mm:ss\n",
    "\t\t\t\tif re.match(r'\\d+:\\d+', value):\n",
    "\t\t\t\t\tmatrix.loc[character][movie] = float(value.split(':')[0]) + float(value.split(':')[1])/60\n",
    "\t\t\t\t# To convert strings of the format :ss\n",
    "\t\t\t\telif re.match(r'^:\\d+', value):\n",
    "\t\t\t\t\tmatrix.loc[character][movie] = float(value.split(':')[1])/60\n",
    "\t\t\t\t# To convert strings of the format mm\n",
    "\t\t\t\telif re.match(r'\\b\\d+\\b(?!:)', value):\n",
    "\t\t\t\t\tmatrix.loc[character][movie] = float(value)\n",
    "\t\t\t\t# Other formats assigned as NaN\n",
    "\t\t\t\telse:\n",
    "\t\t\t\t\tmatrix.loc[character][movie] = np.nan\n",
    "\t\t\t# NaN values reassigned as NaN\n",
    "\t\t\telse:\n",
    "\t\t\t\tmatrix.loc[character][movie] = np.nan\n",
    "\treturn matrix\n",
    "char_movie_matrix = convert_time_to_mins(char_movie_matrix)\n",
    "\n",
    "char_movie_matrix['Total de tiempo en pantalla'] = char_movie_matrix.loc[:,:].sum(axis=1, skipna=True)\n",
    "char_movie_matrix = char_movie_matrix.sort_values(by='Total de tiempo en pantalla', ascending=False)\n",
    "char_movie_matrix = char_movie_matrix.fillna(0)\n",
    "char_movie_matrix = char_movie_matrix[char_movie_matrix['Total de tiempo en pantalla'] != 0]\n",
    "data = char_movie_matrix.head(20)\n",
    "plt.figure(figsize=(15, 6))\n",
    "data['Personajes'] = list(map(lambda x: '\\n'.join(x.split(' ')),data.index))\n",
    "sns.barplot(x='Personajes', y='Total de tiempo en pantalla', data=data);\n",
    "apariciones_pj = OrderedDict()\n",
    "for pj in char_movie_matrix.index:\n",
    "    columnas_no_cero = char_movie_matrix.loc[pj, (char_movie_matrix.loc[pj] != 0) & (char_movie_matrix.loc[pj].apply(isinstance, args=(float,)))].index.tolist()\n",
    "    apariciones_pj[pj]=columnas_no_cero[0:-1]\n",
    "\n",
    "\n",
    "for i in apariciones_pj.keys():\n",
    "    if re.match(r'.*Sara.*',i):\n",
    "        print (i,apariciones_pj[i])\n",
    "from itertools import islice\n",
    "ordenado_por_longitud = OrderedDict(sorted(apariciones_pj.items(), key=lambda x: len(x[1]), reverse=True))\n",
    "\n",
    "# Mostrar el resultado\n",
    "for clave, valor in islice(ordenado_por_longitud.items(), 4):\n",
    "    print(f'{clave}: {(valor)}')\n",
    "claves = list(ordenado_por_longitud.keys())[:15]\n",
    "\n",
    "longitudes = [len(ordenado_por_longitud[clave]) for clave in claves]\n",
    "claves = list(map(lambda x: '\\n'.join(x.split(' ')),claves))\n",
    "\n",
    "# Crear el gráfico de barras\n",
    "plt.figure(figsize=(15, 6))\n",
    "plt.bar(claves, longitudes)\n",
    "\n",
    "# Añadir etiquetas y título\n",
    "plt.xlabel('Personajes')\n",
    "plt.ylabel('nº de peliculas')\n",
    "plt.title('nº total de peliculas en las que aparecen los personajes');\n",
    "char_movie_matrix[char_movie_matrix['Spider-Man: Homecoming'] != 0]['Spider-Man: Homecoming'].sort_values(ascending=False)\n",
    "def grafico_char_tiempo_pelicula (pelicula):\n",
    "    data = pd.DataFrame(char_movie_matrix[char_movie_matrix[pelicula] != 0][pelicula].sort_values(ascending=False))\n",
    "    plt.figure(figsize=(15, 6))\n",
    "    data['Personajes'] = list(map(lambda x: '\\n'.join(x.split(' ')),data.index))\n",
    "    sns.barplot(x='Personajes', y=pelicula, data=data)\n",
    "\n",
    "grafico_char_tiempo_pelicula ('Spider-Man: No Way Home')\n",
    "\n",
    "def grafico_peliculas_del_char (char):\n",
    "    peliculas = {}\n",
    "    for peli in apariciones_pj[char]:\n",
    "        peliculas[peli] = char_movie_matrix.loc[char][peli]\n",
    "    plt.figure(figsize=(20, 6))\n",
    "    pelis = list(map(lambda x: '\\n'.join(x.split(' ')),list(peliculas.keys())))\n",
    "    sns.barplot(x=pelis, y=list(peliculas.values()))\n",
    "    plt.title(char)\n",
    "    plt.xlabel('Peliculas')\n",
    "    plt.ylabel('Tiempo en pantalla');\n",
    "\n",
    "grafico_peliculas_del_char ('Valkyrie')\n",
    "\n",
    "columna_tiempo_total_peliculas_char = []\n",
    "for char in char_movie_matrix.index:\n",
    "    tiempo_total_peliculas_char = 0\n",
    "    for peli in apariciones_pj[char]:\n",
    "        tiempo_total_peliculas_char += float(movie_lengths[peli])\n",
    "    columna_tiempo_total_peliculas_char.append(tiempo_total_peliculas_char)\n",
    "\n",
    "columna_porcentage_tiempo_pantalla = []\n",
    "suma_tiempos = list(dict(char_movie_matrix['Total de tiempo en pantalla']).values())\n",
    "for i in range(len(columna_tiempo_total_peliculas_char)):\n",
    "    columna_porcentage_tiempo_pantalla.append((suma_tiempos[i]/columna_tiempo_total_peliculas_char[i])*100)\n",
    "columna_porcentage_tiempo_pantalla\n",
    "nueva_fila = pd.DataFrame([movie_lengths])\n",
    "nueva_fila = convert_time_to_mins(nueva_fila)\n",
    "nuevo_df = (char_movie_matrix.iloc[:, :-1].div(nueva_fila.iloc[0]))*100\n",
    "nuevo_df\n",
    "def grafico_pie_t_pantalla (pelicula):    \n",
    "    df = char_movie_matrix[char_movie_matrix[pelicula] != 0]\n",
    "    pie1 = df[pelicula]\n",
    "    pie1_list = list(pie1.values)\n",
    "    pie1_list = [round(each,2) for each in pie1_list]\n",
    "    labels = df.index\n",
    "\n",
    "    # Figure\n",
    "    fig = make_subplots(rows=1, cols=1, specs=[[{'type': 'pie'}]])\n",
    "\n",
    "    fig.add_trace(\n",
    "        go.Pie(\n",
    "            labels=labels,\n",
    "            values=pie1_list,\n",
    "            textinfo='value',\n",
    "            hoverinfo=\"label+value\",\n",
    "            hole=0.3,\n",
    "        ),\n",
    "        row=1, col=1\n",
    "        \n",
    "    )\n",
    "\n",
    "    fig.update_layout(\n",
    "        title=\"Tiempo en pantalla en \" + pelicula + ' (' + movie_lengths[pelicula] +')',\n",
    "        annotations=[\n",
    "            {\n",
    "                \"font\": {\"size\": 20},\n",
    "                \"showarrow\": False,\n",
    "                \"text\": pelicula,\n",
    "                \"x\": 0.5,\n",
    "                \"y\": 1.07,\n",
    "            }\n",
    "        ],\n",
    "        height=700,  # Ajusta la altura del gráfico\n",
    "        width=900,   # Ajusta el ancho del gráfico\n",
    "    )\n",
    "\n",
    "    fig.show()\n",
    "\n",
    "grafico_pie_t_pantalla('Ojo de Halcón')"
   ]
  },
  {
   "cell_type": "code",
   "execution_count": 9,
   "metadata": {},
   "outputs": [
    {
     "data": {
      "text/plain": [
       "{'Peter Parker / Spider-Man': '76:15',\n",
       " 'Adrian Toomes / Vulture': '19',\n",
       " 'Ned Leeds': '13:45',\n",
       " 'Liz Toomes': '9:45',\n",
       " 'Tony Stark / Iron Man': '8',\n",
       " 'Harold \"Happy\" Hogan': '6',\n",
       " 'Herman Schultz / The Shocker': '4:30',\n",
       " 'May Parker': '4',\n",
       " 'Phineas Mason / Tinkerer': '3:45',\n",
       " 'Michelle Jones': '2:45',\n",
       " 'Aaron Davis': '2:30',\n",
       " 'Jackson Brice / The Shocker': '2:30',\n",
       " 'Flash Thompson': '2:15',\n",
       " 'Roger Harrington': '2',\n",
       " 'Mac Gargan': '1:15',\n",
       " 'Betty Brant': '1:15',\n",
       " 'Ann Marie Hoag': '1',\n",
       " 'Steve Rogers / Captain America': '1',\n",
       " 'Jason Ionello': '1',\n",
       " 'Pepper Potts': ':45',\n",
       " 'Karen': 'v'}"
      ]
     },
     "execution_count": 9,
     "metadata": {},
     "output_type": "execute_result"
    }
   ],
   "source": [
    "character_movie_time['Spider-Man: Homecoming']\n",
    "char_id_index = pd.read_csv('characters.csv')\n",
    "# Creating aa dict containing character IDs for each character\n",
    "names = {old:new for (old, new) in zip(char_id_index['Character Name'], char_id_index['Character ID'])}\n",
    "# Converting the data dict into a pandas data frame for easy handling\n",
    "char_movie_matrix = pd.DataFrame(character_movie_time)\n",
    "char_movie_matrix\n",
    "char_movie_matrix['Spider-Man: Homecoming']\n",
    "# Renaming characters with their character IDs\n",
    "char_movie_matrix.rename(index=names, inplace=True)\n",
    "char_movie_matrix\n",
    "def combine_rows(matrix):\n",
    "\t\"\"\"Method that combines the duplicate rows that arose due to replacing character IDs\"\"\"\n",
    "\t# List of characters\n",
    "\tcharacters = list(set([character for character in matrix.index]))\n",
    "\t# Iterating over every character\n",
    "\tfor character in characters:\n",
    "\t\t# Creating a mini data frame for each character\n",
    "\t\tdf = matrix.loc[character]\n",
    "\t\t# If the character row is present just once, iterating over every column would be iterating over every movie\n",
    "\t\tif len(list(df.index)) != len(matrix.columns):\n",
    "\t\t\t# Iterating over every movie for each character\n",
    "\t\t\tfor movie in matrix.columns:\n",
    "\t\t\t\t# Initializing update value to NaN\n",
    "\t\t\t\tvalue = np.nan\n",
    "\t\t\t\tli = []\n",
    "\t\t\t\t# Creating a list of values for each movie\n",
    "\t\t\t\tfor i in range(len(df.index)):\n",
    "\t\t\t\t\tli.append(str(df.iloc[i][movie]))\n",
    "\t\t\t\t# Updating the right value\n",
    "\t\t\t\tfor item in li:\n",
    "\t\t\t\t\tif str(item) != 'nan':\n",
    "\t\t\t\t\t\tvalue = item\n",
    "\t\t\t\t# Updating value to the location\n",
    "\t\t\t\tmatrix.loc[character, movie] = value\n",
    "\t# If there are n duplicates, n rows would have been created with same values; deleting the duplicates\n",
    "\tmatrix = matrix.drop_duplicates()\n",
    "\treturn matrix\n",
    "# Combine rows with same index\n",
    "char_movie_matrix = combine_rows(char_movie_matrix)\n",
    "char_movie_matrix\n",
    "char_movie_matrix.index.tolist()\n",
    "def convert_time_to_mins(matrix):\n",
    "\t\"\"\"Method that converts time of the format mm:ss or :ss or mm to minutes in float\"\"\"\n",
    "\t# Iterating over each character\n",
    "\tfor character in matrix.index:\n",
    "\t\t# Iterating over each movie\n",
    "\t\tfor movie in matrix.columns:\n",
    "\t\t\t# Current value of the cell in the matrix\n",
    "\t\t\tvalue = matrix.loc[character][movie]\n",
    "\t\t\t# Iterating over non NaN values only\n",
    "\t\t\tif str(value) != 'nan':\n",
    "\t\t\t\t# To convert strings of the format mm:ss\n",
    "\t\t\t\tif re.match(r'\\d+:\\d+', value):\n",
    "\t\t\t\t\tmatrix.loc[character][movie] = float(value.split(':')[0]) + float(value.split(':')[1])/60\n",
    "\t\t\t\t# To convert strings of the format :ss\n",
    "\t\t\t\telif re.match(r'^:\\d+', value):\n",
    "\t\t\t\t\tmatrix.loc[character][movie] = float(value.split(':')[1])/60\n",
    "\t\t\t\t# To convert strings of the format mm\n",
    "\t\t\t\telif re.match(r'\\b\\d+\\b(?!:)', value):\n",
    "\t\t\t\t\tmatrix.loc[character][movie] = float(value)\n",
    "\t\t\t\t# Other formats assigned as NaN\n",
    "\t\t\t\telse:\n",
    "\t\t\t\t\tmatrix.loc[character][movie] = np.nan\n",
    "\t\t\t# NaN values reassigned as NaN\n",
    "\t\t\telse:\n",
    "\t\t\t\tmatrix.loc[character][movie] = np.nan\n",
    "\treturn matrix\n",
    "char_movie_matrix = convert_time_to_mins(char_movie_matrix)\n",
    "\n",
    "char_movie_matrix['Total de tiempo en pantalla'] = char_movie_matrix.loc[:,:].sum(axis=1, skipna=True)\n",
    "char_movie_matrix = char_movie_matrix.sort_values(by='Total de tiempo en pantalla', ascending=False)\n",
    "char_movie_matrix = char_movie_matrix.fillna(0)\n",
    "char_movie_matrix = char_movie_matrix[char_movie_matrix['Total de tiempo en pantalla'] != 0]\n",
    "data = char_movie_matrix.head(20)\n",
    "plt.figure(figsize=(15, 6))\n",
    "data['Personajes'] = list(map(lambda x: '\\n'.join(x.split(' ')),data.index))\n",
    "sns.barplot(x='Personajes', y='Total de tiempo en pantalla', data=data);\n",
    "apariciones_pj = OrderedDict()\n",
    "for pj in char_movie_matrix.index:\n",
    "    columnas_no_cero = char_movie_matrix.loc[pj, (char_movie_matrix.loc[pj] != 0) & (char_movie_matrix.loc[pj].apply(isinstance, args=(float,)))].index.tolist()\n",
    "    apariciones_pj[pj]=columnas_no_cero[0:-1]\n",
    "\n",
    "\n",
    "for i in apariciones_pj.keys():\n",
    "    if re.match(r'.*Sara.*',i):\n",
    "        print (i,apariciones_pj[i])\n",
    "from itertools import islice\n",
    "ordenado_por_longitud = OrderedDict(sorted(apariciones_pj.items(), key=lambda x: len(x[1]), reverse=True))\n",
    "\n",
    "# Mostrar el resultado\n",
    "for clave, valor in islice(ordenado_por_longitud.items(), 4):\n",
    "    print(f'{clave}: {(valor)}')\n",
    "claves = list(ordenado_por_longitud.keys())[:15]\n",
    "\n",
    "longitudes = [len(ordenado_por_longitud[clave]) for clave in claves]\n",
    "claves = list(map(lambda x: '\\n'.join(x.split(' ')),claves))\n",
    "\n",
    "# Crear el gráfico de barras\n",
    "plt.figure(figsize=(15, 6))\n",
    "plt.bar(claves, longitudes)\n",
    "\n",
    "# Añadir etiquetas y título\n",
    "plt.xlabel('Personajes')\n",
    "plt.ylabel('nº de peliculas')\n",
    "plt.title('nº total de peliculas en las que aparecen los personajes');\n",
    "char_movie_matrix[char_movie_matrix['Spider-Man: Homecoming'] != 0]['Spider-Man: Homecoming'].sort_values(ascending=False)\n",
    "def grafico_char_tiempo_pelicula (pelicula):\n",
    "    data = pd.DataFrame(char_movie_matrix[char_movie_matrix[pelicula] != 0][pelicula].sort_values(ascending=False))\n",
    "    plt.figure(figsize=(15, 6))\n",
    "    data['Personajes'] = list(map(lambda x: '\\n'.join(x.split(' ')),data.index))\n",
    "    sns.barplot(x='Personajes', y=pelicula, data=data)\n",
    "\n",
    "grafico_char_tiempo_pelicula ('Spider-Man: No Way Home')\n",
    "\n",
    "def grafico_peliculas_del_char (char):\n",
    "    peliculas = {}\n",
    "    for peli in apariciones_pj[char]:\n",
    "        peliculas[peli] = char_movie_matrix.loc[char][peli]\n",
    "    plt.figure(figsize=(20, 6))\n",
    "    pelis = list(map(lambda x: '\\n'.join(x.split(' ')),list(peliculas.keys())))\n",
    "    sns.barplot(x=pelis, y=list(peliculas.values()))\n",
    "    plt.title(char)\n",
    "    plt.xlabel('Peliculas')\n",
    "    plt.ylabel('Tiempo en pantalla');\n",
    "\n",
    "grafico_peliculas_del_char ('Valkyrie')\n",
    "\n",
    "columna_tiempo_total_peliculas_char = []\n",
    "for char in char_movie_matrix.index:\n",
    "    tiempo_total_peliculas_char = 0\n",
    "    for peli in apariciones_pj[char]:\n",
    "        tiempo_total_peliculas_char += float(movie_lengths[peli])\n",
    "    columna_tiempo_total_peliculas_char.append(tiempo_total_peliculas_char)\n",
    "\n",
    "columna_porcentage_tiempo_pantalla = []\n",
    "suma_tiempos = list(dict(char_movie_matrix['Total de tiempo en pantalla']).values())\n",
    "for i in range(len(columna_tiempo_total_peliculas_char)):\n",
    "    columna_porcentage_tiempo_pantalla.append((suma_tiempos[i]/columna_tiempo_total_peliculas_char[i])*100)\n",
    "columna_porcentage_tiempo_pantalla\n",
    "nueva_fila = pd.DataFrame([movie_lengths])\n",
    "nueva_fila = convert_time_to_mins(nueva_fila)\n",
    "nuevo_df = (char_movie_matrix.iloc[:, :-1].div(nueva_fila.iloc[0]))*100\n",
    "nuevo_df\n",
    "def grafico_pie_t_pantalla (pelicula):    \n",
    "    df = char_movie_matrix[char_movie_matrix[pelicula] != 0]\n",
    "    pie1 = df[pelicula]\n",
    "    pie1_list = list(pie1.values)\n",
    "    pie1_list = [round(each,2) for each in pie1_list]\n",
    "    labels = df.index\n",
    "\n",
    "    # Figure\n",
    "    fig = make_subplots(rows=1, cols=1, specs=[[{'type': 'pie'}]])\n",
    "\n",
    "    fig.add_trace(\n",
    "        go.Pie(\n",
    "            labels=labels,\n",
    "            values=pie1_list,\n",
    "            textinfo='value',\n",
    "            hoverinfo=\"label+value\",\n",
    "            hole=0.3,\n",
    "        ),\n",
    "        row=1, col=1\n",
    "        \n",
    "    )\n",
    "\n",
    "    fig.update_layout(\n",
    "        title=\"Tiempo en pantalla en \" + pelicula + ' (' + movie_lengths[pelicula] +')',\n",
    "        annotations=[\n",
    "            {\n",
    "                \"font\": {\"size\": 20},\n",
    "                \"showarrow\": False,\n",
    "                \"text\": pelicula,\n",
    "                \"x\": 0.5,\n",
    "                \"y\": 1.07,\n",
    "            }\n",
    "        ],\n",
    "        height=700,  # Ajusta la altura del gráfico\n",
    "        width=900,   # Ajusta el ancho del gráfico\n",
    "    )\n",
    "\n",
    "    fig.show()\n",
    "\n",
    "grafico_pie_t_pantalla('Ojo de Halcón')"
   ]
  },
  {
   "cell_type": "code",
   "execution_count": 10,
   "metadata": {},
   "outputs": [
    {
     "data": {
      "text/html": [
       "<div>\n",
       "<style scoped>\n",
       "    .dataframe tbody tr th:only-of-type {\n",
       "        vertical-align: middle;\n",
       "    }\n",
       "\n",
       "    .dataframe tbody tr th {\n",
       "        vertical-align: top;\n",
       "    }\n",
       "\n",
       "    .dataframe thead th {\n",
       "        text-align: right;\n",
       "    }\n",
       "</style>\n",
       "<table border=\"1\" class=\"dataframe\">\n",
       "  <thead>\n",
       "    <tr style=\"text-align: right;\">\n",
       "      <th></th>\n",
       "      <th>Iron Man</th>\n",
       "      <th>El increíble Hulk</th>\n",
       "      <th>Iron Man 2</th>\n",
       "      <th>Thor</th>\n",
       "      <th>Capitán América: El primer vengador</th>\n",
       "      <th>Los Vengadores</th>\n",
       "      <th>Iron Man 3</th>\n",
       "      <th>Marvel One-Shot: Agente Carter</th>\n",
       "      <th>Thor: El mundo oscuro</th>\n",
       "      <th>Capitán América: El Soldado de Invierno</th>\n",
       "      <th>...</th>\n",
       "      <th>Ojo de Halcón</th>\n",
       "      <th>Spider-Man: No Way Home</th>\n",
       "      <th>Caballero Luna</th>\n",
       "      <th>Doctor Strange en el multiverso de la locura</th>\n",
       "      <th>Ms. Marvel</th>\n",
       "      <th>Thor: Love and Thunder</th>\n",
       "      <th>She-Hulk: Abogada Hulka</th>\n",
       "      <th>La maldición del hombre lobo</th>\n",
       "      <th>Black Panther: Wakanda Forever</th>\n",
       "      <th>Guardianes de la Galaxia: Especial felices fiestas</th>\n",
       "    </tr>\n",
       "  </thead>\n",
       "  <tbody>\n",
       "    <tr>\n",
       "      <th>Tony Stark / Iron Man</th>\n",
       "      <td>77:15</td>\n",
       "      <td>:30</td>\n",
       "      <td>61:15</td>\n",
       "      <td>NaN</td>\n",
       "      <td>NaN</td>\n",
       "      <td>31:45</td>\n",
       "      <td>62:15</td>\n",
       "      <td>NaN</td>\n",
       "      <td>NaN</td>\n",
       "      <td>NaN</td>\n",
       "      <td>...</td>\n",
       "      <td>NaN</td>\n",
       "      <td>NaN</td>\n",
       "      <td>NaN</td>\n",
       "      <td>NaN</td>\n",
       "      <td>NaN</td>\n",
       "      <td>NaN</td>\n",
       "      <td>NaN</td>\n",
       "      <td>NaN</td>\n",
       "      <td>NaN</td>\n",
       "      <td>NaN</td>\n",
       "    </tr>\n",
       "    <tr>\n",
       "      <th>Pepper Potts</th>\n",
       "      <td>23:15</td>\n",
       "      <td>NaN</td>\n",
       "      <td>17:30</td>\n",
       "      <td>NaN</td>\n",
       "      <td>NaN</td>\n",
       "      <td>4:30</td>\n",
       "      <td>18</td>\n",
       "      <td>NaN</td>\n",
       "      <td>NaN</td>\n",
       "      <td>NaN</td>\n",
       "      <td>...</td>\n",
       "      <td>NaN</td>\n",
       "      <td>NaN</td>\n",
       "      <td>NaN</td>\n",
       "      <td>NaN</td>\n",
       "      <td>NaN</td>\n",
       "      <td>NaN</td>\n",
       "      <td>NaN</td>\n",
       "      <td>NaN</td>\n",
       "      <td>NaN</td>\n",
       "      <td>NaN</td>\n",
       "    </tr>\n",
       "    <tr>\n",
       "      <th>Obadiah Stane / Iron Monger</th>\n",
       "      <td>22</td>\n",
       "      <td>NaN</td>\n",
       "      <td>NaN</td>\n",
       "      <td>NaN</td>\n",
       "      <td>NaN</td>\n",
       "      <td>NaN</td>\n",
       "      <td>NaN</td>\n",
       "      <td>NaN</td>\n",
       "      <td>NaN</td>\n",
       "      <td>NaN</td>\n",
       "      <td>...</td>\n",
       "      <td>NaN</td>\n",
       "      <td>NaN</td>\n",
       "      <td>NaN</td>\n",
       "      <td>NaN</td>\n",
       "      <td>NaN</td>\n",
       "      <td>NaN</td>\n",
       "      <td>NaN</td>\n",
       "      <td>NaN</td>\n",
       "      <td>NaN</td>\n",
       "      <td>NaN</td>\n",
       "    </tr>\n",
       "    <tr>\n",
       "      <th>Professor Ho Yinsen</th>\n",
       "      <td>10:45</td>\n",
       "      <td>NaN</td>\n",
       "      <td>NaN</td>\n",
       "      <td>NaN</td>\n",
       "      <td>NaN</td>\n",
       "      <td>NaN</td>\n",
       "      <td>:15</td>\n",
       "      <td>NaN</td>\n",
       "      <td>NaN</td>\n",
       "      <td>NaN</td>\n",
       "      <td>...</td>\n",
       "      <td>NaN</td>\n",
       "      <td>NaN</td>\n",
       "      <td>NaN</td>\n",
       "      <td>NaN</td>\n",
       "      <td>NaN</td>\n",
       "      <td>NaN</td>\n",
       "      <td>NaN</td>\n",
       "      <td>NaN</td>\n",
       "      <td>NaN</td>\n",
       "      <td>NaN</td>\n",
       "    </tr>\n",
       "    <tr>\n",
       "      <th>Lt. Col. James \"Rhodey\" Rhodes</th>\n",
       "      <td>8:15</td>\n",
       "      <td>NaN</td>\n",
       "      <td>NaN</td>\n",
       "      <td>NaN</td>\n",
       "      <td>NaN</td>\n",
       "      <td>NaN</td>\n",
       "      <td>NaN</td>\n",
       "      <td>NaN</td>\n",
       "      <td>NaN</td>\n",
       "      <td>NaN</td>\n",
       "      <td>...</td>\n",
       "      <td>NaN</td>\n",
       "      <td>NaN</td>\n",
       "      <td>NaN</td>\n",
       "      <td>NaN</td>\n",
       "      <td>NaN</td>\n",
       "      <td>NaN</td>\n",
       "      <td>NaN</td>\n",
       "      <td>NaN</td>\n",
       "      <td>NaN</td>\n",
       "      <td>NaN</td>\n",
       "    </tr>\n",
       "    <tr>\n",
       "      <th>...</th>\n",
       "      <td>...</td>\n",
       "      <td>...</td>\n",
       "      <td>...</td>\n",
       "      <td>...</td>\n",
       "      <td>...</td>\n",
       "      <td>...</td>\n",
       "      <td>...</td>\n",
       "      <td>...</td>\n",
       "      <td>...</td>\n",
       "      <td>...</td>\n",
       "      <td>...</td>\n",
       "      <td>...</td>\n",
       "      <td>...</td>\n",
       "      <td>...</td>\n",
       "      <td>...</td>\n",
       "      <td>...</td>\n",
       "      <td>...</td>\n",
       "      <td>...</td>\n",
       "      <td>...</td>\n",
       "      <td>...</td>\n",
       "      <td>...</td>\n",
       "    </tr>\n",
       "    <tr>\n",
       "      <th>Mining Tribe Elder</th>\n",
       "      <td>NaN</td>\n",
       "      <td>NaN</td>\n",
       "      <td>NaN</td>\n",
       "      <td>NaN</td>\n",
       "      <td>NaN</td>\n",
       "      <td>NaN</td>\n",
       "      <td>NaN</td>\n",
       "      <td>NaN</td>\n",
       "      <td>NaN</td>\n",
       "      <td>NaN</td>\n",
       "      <td>...</td>\n",
       "      <td>NaN</td>\n",
       "      <td>NaN</td>\n",
       "      <td>NaN</td>\n",
       "      <td>NaN</td>\n",
       "      <td>NaN</td>\n",
       "      <td>NaN</td>\n",
       "      <td>NaN</td>\n",
       "      <td>NaN</td>\n",
       "      <td>1:30</td>\n",
       "      <td>NaN</td>\n",
       "    </tr>\n",
       "    <tr>\n",
       "      <th>U.S. Secretary of State</th>\n",
       "      <td>NaN</td>\n",
       "      <td>NaN</td>\n",
       "      <td>NaN</td>\n",
       "      <td>NaN</td>\n",
       "      <td>NaN</td>\n",
       "      <td>NaN</td>\n",
       "      <td>NaN</td>\n",
       "      <td>NaN</td>\n",
       "      <td>NaN</td>\n",
       "      <td>NaN</td>\n",
       "      <td>...</td>\n",
       "      <td>NaN</td>\n",
       "      <td>NaN</td>\n",
       "      <td>NaN</td>\n",
       "      <td>NaN</td>\n",
       "      <td>NaN</td>\n",
       "      <td>NaN</td>\n",
       "      <td>NaN</td>\n",
       "      <td>NaN</td>\n",
       "      <td>1</td>\n",
       "      <td>NaN</td>\n",
       "    </tr>\n",
       "    <tr>\n",
       "      <th>Kevin Bacon</th>\n",
       "      <td>NaN</td>\n",
       "      <td>NaN</td>\n",
       "      <td>NaN</td>\n",
       "      <td>NaN</td>\n",
       "      <td>NaN</td>\n",
       "      <td>NaN</td>\n",
       "      <td>NaN</td>\n",
       "      <td>NaN</td>\n",
       "      <td>NaN</td>\n",
       "      <td>NaN</td>\n",
       "      <td>...</td>\n",
       "      <td>NaN</td>\n",
       "      <td>NaN</td>\n",
       "      <td>NaN</td>\n",
       "      <td>NaN</td>\n",
       "      <td>NaN</td>\n",
       "      <td>NaN</td>\n",
       "      <td>NaN</td>\n",
       "      <td>NaN</td>\n",
       "      <td>NaN</td>\n",
       "      <td>9:30</td>\n",
       "    </tr>\n",
       "    <tr>\n",
       "      <th>Bzermiktoklok</th>\n",
       "      <td>NaN</td>\n",
       "      <td>NaN</td>\n",
       "      <td>NaN</td>\n",
       "      <td>NaN</td>\n",
       "      <td>NaN</td>\n",
       "      <td>NaN</td>\n",
       "      <td>NaN</td>\n",
       "      <td>NaN</td>\n",
       "      <td>NaN</td>\n",
       "      <td>NaN</td>\n",
       "      <td>...</td>\n",
       "      <td>NaN</td>\n",
       "      <td>NaN</td>\n",
       "      <td>NaN</td>\n",
       "      <td>NaN</td>\n",
       "      <td>NaN</td>\n",
       "      <td>NaN</td>\n",
       "      <td>NaN</td>\n",
       "      <td>NaN</td>\n",
       "      <td>NaN</td>\n",
       "      <td>4:45</td>\n",
       "    </tr>\n",
       "    <tr>\n",
       "      <th>Cosmo the Space Dog</th>\n",
       "      <td>NaN</td>\n",
       "      <td>NaN</td>\n",
       "      <td>NaN</td>\n",
       "      <td>NaN</td>\n",
       "      <td>NaN</td>\n",
       "      <td>NaN</td>\n",
       "      <td>NaN</td>\n",
       "      <td>NaN</td>\n",
       "      <td>NaN</td>\n",
       "      <td>NaN</td>\n",
       "      <td>...</td>\n",
       "      <td>NaN</td>\n",
       "      <td>NaN</td>\n",
       "      <td>NaN</td>\n",
       "      <td>NaN</td>\n",
       "      <td>NaN</td>\n",
       "      <td>NaN</td>\n",
       "      <td>NaN</td>\n",
       "      <td>NaN</td>\n",
       "      <td>NaN</td>\n",
       "      <td>1:15</td>\n",
       "    </tr>\n",
       "  </tbody>\n",
       "</table>\n",
       "<p>504 rows × 40 columns</p>\n",
       "</div>"
      ],
      "text/plain": [
       "                               Iron Man El increíble Hulk Iron Man 2 Thor  \\\n",
       "Tony Stark / Iron Man             77:15               :30      61:15  NaN   \n",
       "Pepper Potts                      23:15               NaN      17:30  NaN   \n",
       "Obadiah Stane / Iron Monger          22               NaN        NaN  NaN   \n",
       "Professor Ho Yinsen               10:45               NaN        NaN  NaN   \n",
       "Lt. Col. James \"Rhodey\" Rhodes     8:15               NaN        NaN  NaN   \n",
       "...                                 ...               ...        ...  ...   \n",
       "Mining Tribe Elder                  NaN               NaN        NaN  NaN   \n",
       "U.S. Secretary of State             NaN               NaN        NaN  NaN   \n",
       "Kevin Bacon                         NaN               NaN        NaN  NaN   \n",
       "Bzermiktoklok                       NaN               NaN        NaN  NaN   \n",
       "Cosmo the Space Dog                 NaN               NaN        NaN  NaN   \n",
       "\n",
       "                               Capitán América: El primer vengador  \\\n",
       "Tony Stark / Iron Man                                          NaN   \n",
       "Pepper Potts                                                   NaN   \n",
       "Obadiah Stane / Iron Monger                                    NaN   \n",
       "Professor Ho Yinsen                                            NaN   \n",
       "Lt. Col. James \"Rhodey\" Rhodes                                 NaN   \n",
       "...                                                            ...   \n",
       "Mining Tribe Elder                                             NaN   \n",
       "U.S. Secretary of State                                        NaN   \n",
       "Kevin Bacon                                                    NaN   \n",
       "Bzermiktoklok                                                  NaN   \n",
       "Cosmo the Space Dog                                            NaN   \n",
       "\n",
       "                               Los Vengadores Iron Man 3  \\\n",
       "Tony Stark / Iron Man                   31:45      62:15   \n",
       "Pepper Potts                             4:30         18   \n",
       "Obadiah Stane / Iron Monger               NaN        NaN   \n",
       "Professor Ho Yinsen                       NaN        :15   \n",
       "Lt. Col. James \"Rhodey\" Rhodes            NaN        NaN   \n",
       "...                                       ...        ...   \n",
       "Mining Tribe Elder                        NaN        NaN   \n",
       "U.S. Secretary of State                   NaN        NaN   \n",
       "Kevin Bacon                               NaN        NaN   \n",
       "Bzermiktoklok                             NaN        NaN   \n",
       "Cosmo the Space Dog                       NaN        NaN   \n",
       "\n",
       "                               Marvel One-Shot: Agente Carter  \\\n",
       "Tony Stark / Iron Man                                     NaN   \n",
       "Pepper Potts                                              NaN   \n",
       "Obadiah Stane / Iron Monger                               NaN   \n",
       "Professor Ho Yinsen                                       NaN   \n",
       "Lt. Col. James \"Rhodey\" Rhodes                            NaN   \n",
       "...                                                       ...   \n",
       "Mining Tribe Elder                                        NaN   \n",
       "U.S. Secretary of State                                   NaN   \n",
       "Kevin Bacon                                               NaN   \n",
       "Bzermiktoklok                                             NaN   \n",
       "Cosmo the Space Dog                                       NaN   \n",
       "\n",
       "                               Thor: El mundo oscuro  \\\n",
       "Tony Stark / Iron Man                            NaN   \n",
       "Pepper Potts                                     NaN   \n",
       "Obadiah Stane / Iron Monger                      NaN   \n",
       "Professor Ho Yinsen                              NaN   \n",
       "Lt. Col. James \"Rhodey\" Rhodes                   NaN   \n",
       "...                                              ...   \n",
       "Mining Tribe Elder                               NaN   \n",
       "U.S. Secretary of State                          NaN   \n",
       "Kevin Bacon                                      NaN   \n",
       "Bzermiktoklok                                    NaN   \n",
       "Cosmo the Space Dog                              NaN   \n",
       "\n",
       "                               Capitán América: El Soldado de Invierno  ...  \\\n",
       "Tony Stark / Iron Man                                              NaN  ...   \n",
       "Pepper Potts                                                       NaN  ...   \n",
       "Obadiah Stane / Iron Monger                                        NaN  ...   \n",
       "Professor Ho Yinsen                                                NaN  ...   \n",
       "Lt. Col. James \"Rhodey\" Rhodes                                     NaN  ...   \n",
       "...                                                                ...  ...   \n",
       "Mining Tribe Elder                                                 NaN  ...   \n",
       "U.S. Secretary of State                                            NaN  ...   \n",
       "Kevin Bacon                                                        NaN  ...   \n",
       "Bzermiktoklok                                                      NaN  ...   \n",
       "Cosmo the Space Dog                                                NaN  ...   \n",
       "\n",
       "                               Ojo de Halcón Spider-Man: No Way Home  \\\n",
       "Tony Stark / Iron Man                    NaN                     NaN   \n",
       "Pepper Potts                             NaN                     NaN   \n",
       "Obadiah Stane / Iron Monger              NaN                     NaN   \n",
       "Professor Ho Yinsen                      NaN                     NaN   \n",
       "Lt. Col. James \"Rhodey\" Rhodes           NaN                     NaN   \n",
       "...                                      ...                     ...   \n",
       "Mining Tribe Elder                       NaN                     NaN   \n",
       "U.S. Secretary of State                  NaN                     NaN   \n",
       "Kevin Bacon                              NaN                     NaN   \n",
       "Bzermiktoklok                            NaN                     NaN   \n",
       "Cosmo the Space Dog                      NaN                     NaN   \n",
       "\n",
       "                               Caballero Luna  \\\n",
       "Tony Stark / Iron Man                     NaN   \n",
       "Pepper Potts                              NaN   \n",
       "Obadiah Stane / Iron Monger               NaN   \n",
       "Professor Ho Yinsen                       NaN   \n",
       "Lt. Col. James \"Rhodey\" Rhodes            NaN   \n",
       "...                                       ...   \n",
       "Mining Tribe Elder                        NaN   \n",
       "U.S. Secretary of State                   NaN   \n",
       "Kevin Bacon                               NaN   \n",
       "Bzermiktoklok                             NaN   \n",
       "Cosmo the Space Dog                       NaN   \n",
       "\n",
       "                               Doctor Strange en el multiverso de la locura  \\\n",
       "Tony Stark / Iron Man                                                   NaN   \n",
       "Pepper Potts                                                            NaN   \n",
       "Obadiah Stane / Iron Monger                                             NaN   \n",
       "Professor Ho Yinsen                                                     NaN   \n",
       "Lt. Col. James \"Rhodey\" Rhodes                                          NaN   \n",
       "...                                                                     ...   \n",
       "Mining Tribe Elder                                                      NaN   \n",
       "U.S. Secretary of State                                                 NaN   \n",
       "Kevin Bacon                                                             NaN   \n",
       "Bzermiktoklok                                                           NaN   \n",
       "Cosmo the Space Dog                                                     NaN   \n",
       "\n",
       "                               Ms. Marvel Thor: Love and Thunder  \\\n",
       "Tony Stark / Iron Man                 NaN                    NaN   \n",
       "Pepper Potts                          NaN                    NaN   \n",
       "Obadiah Stane / Iron Monger           NaN                    NaN   \n",
       "Professor Ho Yinsen                   NaN                    NaN   \n",
       "Lt. Col. James \"Rhodey\" Rhodes        NaN                    NaN   \n",
       "...                                   ...                    ...   \n",
       "Mining Tribe Elder                    NaN                    NaN   \n",
       "U.S. Secretary of State               NaN                    NaN   \n",
       "Kevin Bacon                           NaN                    NaN   \n",
       "Bzermiktoklok                         NaN                    NaN   \n",
       "Cosmo the Space Dog                   NaN                    NaN   \n",
       "\n",
       "                               She-Hulk: Abogada Hulka  \\\n",
       "Tony Stark / Iron Man                              NaN   \n",
       "Pepper Potts                                       NaN   \n",
       "Obadiah Stane / Iron Monger                        NaN   \n",
       "Professor Ho Yinsen                                NaN   \n",
       "Lt. Col. James \"Rhodey\" Rhodes                     NaN   \n",
       "...                                                ...   \n",
       "Mining Tribe Elder                                 NaN   \n",
       "U.S. Secretary of State                            NaN   \n",
       "Kevin Bacon                                        NaN   \n",
       "Bzermiktoklok                                      NaN   \n",
       "Cosmo the Space Dog                                NaN   \n",
       "\n",
       "                               La maldición del hombre lobo  \\\n",
       "Tony Stark / Iron Man                                   NaN   \n",
       "Pepper Potts                                            NaN   \n",
       "Obadiah Stane / Iron Monger                             NaN   \n",
       "Professor Ho Yinsen                                     NaN   \n",
       "Lt. Col. James \"Rhodey\" Rhodes                          NaN   \n",
       "...                                                     ...   \n",
       "Mining Tribe Elder                                      NaN   \n",
       "U.S. Secretary of State                                 NaN   \n",
       "Kevin Bacon                                             NaN   \n",
       "Bzermiktoklok                                           NaN   \n",
       "Cosmo the Space Dog                                     NaN   \n",
       "\n",
       "                               Black Panther: Wakanda Forever  \\\n",
       "Tony Stark / Iron Man                                     NaN   \n",
       "Pepper Potts                                              NaN   \n",
       "Obadiah Stane / Iron Monger                               NaN   \n",
       "Professor Ho Yinsen                                       NaN   \n",
       "Lt. Col. James \"Rhodey\" Rhodes                            NaN   \n",
       "...                                                       ...   \n",
       "Mining Tribe Elder                                       1:30   \n",
       "U.S. Secretary of State                                     1   \n",
       "Kevin Bacon                                               NaN   \n",
       "Bzermiktoklok                                             NaN   \n",
       "Cosmo the Space Dog                                       NaN   \n",
       "\n",
       "                               Guardianes de la Galaxia: Especial felices fiestas  \n",
       "Tony Stark / Iron Man                                                         NaN  \n",
       "Pepper Potts                                                                  NaN  \n",
       "Obadiah Stane / Iron Monger                                                   NaN  \n",
       "Professor Ho Yinsen                                                           NaN  \n",
       "Lt. Col. James \"Rhodey\" Rhodes                                                NaN  \n",
       "...                                                                           ...  \n",
       "Mining Tribe Elder                                                            NaN  \n",
       "U.S. Secretary of State                                                       NaN  \n",
       "Kevin Bacon                                                                  9:30  \n",
       "Bzermiktoklok                                                                4:45  \n",
       "Cosmo the Space Dog                                                          1:15  \n",
       "\n",
       "[504 rows x 40 columns]"
      ]
     },
     "execution_count": 10,
     "metadata": {},
     "output_type": "execute_result"
    }
   ],
   "source": [
    "char_id_index = pd.read_csv('characters.csv')\n",
    "# Creating aa dict containing character IDs for each character\n",
    "names = {old:new for (old, new) in zip(char_id_index['Character Name'], char_id_index['Character ID'])}\n",
    "# Converting the data dict into a pandas data frame for easy handling\n",
    "char_movie_matrix = pd.DataFrame(character_movie_time)\n",
    "char_movie_matrix\n",
    "char_movie_matrix['Spider-Man: Homecoming']\n",
    "# Renaming characters with their character IDs\n",
    "char_movie_matrix.rename(index=names, inplace=True)\n",
    "char_movie_matrix\n",
    "def combine_rows(matrix):\n",
    "\t\"\"\"Method that combines the duplicate rows that arose due to replacing character IDs\"\"\"\n",
    "\t# List of characters\n",
    "\tcharacters = list(set([character for character in matrix.index]))\n",
    "\t# Iterating over every character\n",
    "\tfor character in characters:\n",
    "\t\t# Creating a mini data frame for each character\n",
    "\t\tdf = matrix.loc[character]\n",
    "\t\t# If the character row is present just once, iterating over every column would be iterating over every movie\n",
    "\t\tif len(list(df.index)) != len(matrix.columns):\n",
    "\t\t\t# Iterating over every movie for each character\n",
    "\t\t\tfor movie in matrix.columns:\n",
    "\t\t\t\t# Initializing update value to NaN\n",
    "\t\t\t\tvalue = np.nan\n",
    "\t\t\t\tli = []\n",
    "\t\t\t\t# Creating a list of values for each movie\n",
    "\t\t\t\tfor i in range(len(df.index)):\n",
    "\t\t\t\t\tli.append(str(df.iloc[i][movie]))\n",
    "\t\t\t\t# Updating the right value\n",
    "\t\t\t\tfor item in li:\n",
    "\t\t\t\t\tif str(item) != 'nan':\n",
    "\t\t\t\t\t\tvalue = item\n",
    "\t\t\t\t# Updating value to the location\n",
    "\t\t\t\tmatrix.loc[character, movie] = value\n",
    "\t# If there are n duplicates, n rows would have been created with same values; deleting the duplicates\n",
    "\tmatrix = matrix.drop_duplicates()\n",
    "\treturn matrix\n",
    "# Combine rows with same index\n",
    "char_movie_matrix = combine_rows(char_movie_matrix)\n",
    "char_movie_matrix\n",
    "char_movie_matrix.index.tolist()\n",
    "def convert_time_to_mins(matrix):\n",
    "\t\"\"\"Method that converts time of the format mm:ss or :ss or mm to minutes in float\"\"\"\n",
    "\t# Iterating over each character\n",
    "\tfor character in matrix.index:\n",
    "\t\t# Iterating over each movie\n",
    "\t\tfor movie in matrix.columns:\n",
    "\t\t\t# Current value of the cell in the matrix\n",
    "\t\t\tvalue = matrix.loc[character][movie]\n",
    "\t\t\t# Iterating over non NaN values only\n",
    "\t\t\tif str(value) != 'nan':\n",
    "\t\t\t\t# To convert strings of the format mm:ss\n",
    "\t\t\t\tif re.match(r'\\d+:\\d+', value):\n",
    "\t\t\t\t\tmatrix.loc[character][movie] = float(value.split(':')[0]) + float(value.split(':')[1])/60\n",
    "\t\t\t\t# To convert strings of the format :ss\n",
    "\t\t\t\telif re.match(r'^:\\d+', value):\n",
    "\t\t\t\t\tmatrix.loc[character][movie] = float(value.split(':')[1])/60\n",
    "\t\t\t\t# To convert strings of the format mm\n",
    "\t\t\t\telif re.match(r'\\b\\d+\\b(?!:)', value):\n",
    "\t\t\t\t\tmatrix.loc[character][movie] = float(value)\n",
    "\t\t\t\t# Other formats assigned as NaN\n",
    "\t\t\t\telse:\n",
    "\t\t\t\t\tmatrix.loc[character][movie] = np.nan\n",
    "\t\t\t# NaN values reassigned as NaN\n",
    "\t\t\telse:\n",
    "\t\t\t\tmatrix.loc[character][movie] = np.nan\n",
    "\treturn matrix\n",
    "char_movie_matrix = convert_time_to_mins(char_movie_matrix)\n",
    "\n",
    "char_movie_matrix['Total de tiempo en pantalla'] = char_movie_matrix.loc[:,:].sum(axis=1, skipna=True)\n",
    "char_movie_matrix = char_movie_matrix.sort_values(by='Total de tiempo en pantalla', ascending=False)\n",
    "char_movie_matrix = char_movie_matrix.fillna(0)\n",
    "char_movie_matrix = char_movie_matrix[char_movie_matrix['Total de tiempo en pantalla'] != 0]\n",
    "data = char_movie_matrix.head(20)\n",
    "plt.figure(figsize=(15, 6))\n",
    "data['Personajes'] = list(map(lambda x: '\\n'.join(x.split(' ')),data.index))\n",
    "sns.barplot(x='Personajes', y='Total de tiempo en pantalla', data=data);\n",
    "apariciones_pj = OrderedDict()\n",
    "for pj in char_movie_matrix.index:\n",
    "    columnas_no_cero = char_movie_matrix.loc[pj, (char_movie_matrix.loc[pj] != 0) & (char_movie_matrix.loc[pj].apply(isinstance, args=(float,)))].index.tolist()\n",
    "    apariciones_pj[pj]=columnas_no_cero[0:-1]\n",
    "\n",
    "\n",
    "for i in apariciones_pj.keys():\n",
    "    if re.match(r'.*Sara.*',i):\n",
    "        print (i,apariciones_pj[i])\n",
    "from itertools import islice\n",
    "ordenado_por_longitud = OrderedDict(sorted(apariciones_pj.items(), key=lambda x: len(x[1]), reverse=True))\n",
    "\n",
    "# Mostrar el resultado\n",
    "for clave, valor in islice(ordenado_por_longitud.items(), 4):\n",
    "    print(f'{clave}: {(valor)}')\n",
    "claves = list(ordenado_por_longitud.keys())[:15]\n",
    "\n",
    "longitudes = [len(ordenado_por_longitud[clave]) for clave in claves]\n",
    "claves = list(map(lambda x: '\\n'.join(x.split(' ')),claves))\n",
    "\n",
    "# Crear el gráfico de barras\n",
    "plt.figure(figsize=(15, 6))\n",
    "plt.bar(claves, longitudes)\n",
    "\n",
    "# Añadir etiquetas y título\n",
    "plt.xlabel('Personajes')\n",
    "plt.ylabel('nº de peliculas')\n",
    "plt.title('nº total de peliculas en las que aparecen los personajes');\n",
    "char_movie_matrix[char_movie_matrix['Spider-Man: Homecoming'] != 0]['Spider-Man: Homecoming'].sort_values(ascending=False)\n",
    "def grafico_char_tiempo_pelicula (pelicula):\n",
    "    data = pd.DataFrame(char_movie_matrix[char_movie_matrix[pelicula] != 0][pelicula].sort_values(ascending=False))\n",
    "    plt.figure(figsize=(15, 6))\n",
    "    data['Personajes'] = list(map(lambda x: '\\n'.join(x.split(' ')),data.index))\n",
    "    sns.barplot(x='Personajes', y=pelicula, data=data)\n",
    "\n",
    "grafico_char_tiempo_pelicula ('Spider-Man: No Way Home')\n",
    "\n",
    "def grafico_peliculas_del_char (char):\n",
    "    peliculas = {}\n",
    "    for peli in apariciones_pj[char]:\n",
    "        peliculas[peli] = char_movie_matrix.loc[char][peli]\n",
    "    plt.figure(figsize=(20, 6))\n",
    "    pelis = list(map(lambda x: '\\n'.join(x.split(' ')),list(peliculas.keys())))\n",
    "    sns.barplot(x=pelis, y=list(peliculas.values()))\n",
    "    plt.title(char)\n",
    "    plt.xlabel('Peliculas')\n",
    "    plt.ylabel('Tiempo en pantalla');\n",
    "\n",
    "grafico_peliculas_del_char ('Valkyrie')\n",
    "\n",
    "columna_tiempo_total_peliculas_char = []\n",
    "for char in char_movie_matrix.index:\n",
    "    tiempo_total_peliculas_char = 0\n",
    "    for peli in apariciones_pj[char]:\n",
    "        tiempo_total_peliculas_char += float(movie_lengths[peli])\n",
    "    columna_tiempo_total_peliculas_char.append(tiempo_total_peliculas_char)\n",
    "\n",
    "columna_porcentage_tiempo_pantalla = []\n",
    "suma_tiempos = list(dict(char_movie_matrix['Total de tiempo en pantalla']).values())\n",
    "for i in range(len(columna_tiempo_total_peliculas_char)):\n",
    "    columna_porcentage_tiempo_pantalla.append((suma_tiempos[i]/columna_tiempo_total_peliculas_char[i])*100)\n",
    "columna_porcentage_tiempo_pantalla\n",
    "nueva_fila = pd.DataFrame([movie_lengths])\n",
    "nueva_fila = convert_time_to_mins(nueva_fila)\n",
    "nuevo_df = (char_movie_matrix.iloc[:, :-1].div(nueva_fila.iloc[0]))*100\n",
    "nuevo_df\n",
    "def grafico_pie_t_pantalla (pelicula):    \n",
    "    df = char_movie_matrix[char_movie_matrix[pelicula] != 0]\n",
    "    pie1 = df[pelicula]\n",
    "    pie1_list = list(pie1.values)\n",
    "    pie1_list = [round(each,2) for each in pie1_list]\n",
    "    labels = df.index\n",
    "\n",
    "    # Figure\n",
    "    fig = make_subplots(rows=1, cols=1, specs=[[{'type': 'pie'}]])\n",
    "\n",
    "    fig.add_trace(\n",
    "        go.Pie(\n",
    "            labels=labels,\n",
    "            values=pie1_list,\n",
    "            textinfo='value',\n",
    "            hoverinfo=\"label+value\",\n",
    "            hole=0.3,\n",
    "        ),\n",
    "        row=1, col=1\n",
    "        \n",
    "    )\n",
    "\n",
    "    fig.update_layout(\n",
    "        title=\"Tiempo en pantalla en \" + pelicula + ' (' + movie_lengths[pelicula] +')',\n",
    "        annotations=[\n",
    "            {\n",
    "                \"font\": {\"size\": 20},\n",
    "                \"showarrow\": False,\n",
    "                \"text\": pelicula,\n",
    "                \"x\": 0.5,\n",
    "                \"y\": 1.07,\n",
    "            }\n",
    "        ],\n",
    "        height=700,  # Ajusta la altura del gráfico\n",
    "        width=900,   # Ajusta el ancho del gráfico\n",
    "    )\n",
    "\n",
    "    fig.show()\n",
    "\n",
    "grafico_pie_t_pantalla('Ojo de Halcón')"
   ]
  },
  {
   "cell_type": "code",
   "execution_count": 11,
   "metadata": {},
   "outputs": [
    {
     "data": {
      "text/plain": [
       "Tony Stark / Iron Man               8\n",
       "Pepper Potts                      :45\n",
       "Obadiah Stane / Iron Monger       NaN\n",
       "Professor Ho Yinsen               NaN\n",
       "Lt. Col. James \"Rhodey\" Rhodes    NaN\n",
       "                                 ... \n",
       "Mining Tribe Elder                NaN\n",
       "U.S. Secretary of State           NaN\n",
       "Kevin Bacon                       NaN\n",
       "Bzermiktoklok                     NaN\n",
       "Cosmo the Space Dog               NaN\n",
       "Name: Spider-Man: Homecoming, Length: 504, dtype: object"
      ]
     },
     "execution_count": 11,
     "metadata": {},
     "output_type": "execute_result"
    }
   ],
   "source": [
    "char_movie_matrix['Spider-Man: Homecoming']\n",
    "# Renaming characters with their character IDs\n",
    "char_movie_matrix.rename(index=names, inplace=True)\n",
    "char_movie_matrix\n",
    "def combine_rows(matrix):\n",
    "\t\"\"\"Method that combines the duplicate rows that arose due to replacing character IDs\"\"\"\n",
    "\t# List of characters\n",
    "\tcharacters = list(set([character for character in matrix.index]))\n",
    "\t# Iterating over every character\n",
    "\tfor character in characters:\n",
    "\t\t# Creating a mini data frame for each character\n",
    "\t\tdf = matrix.loc[character]\n",
    "\t\t# If the character row is present just once, iterating over every column would be iterating over every movie\n",
    "\t\tif len(list(df.index)) != len(matrix.columns):\n",
    "\t\t\t# Iterating over every movie for each character\n",
    "\t\t\tfor movie in matrix.columns:\n",
    "\t\t\t\t# Initializing update value to NaN\n",
    "\t\t\t\tvalue = np.nan\n",
    "\t\t\t\tli = []\n",
    "\t\t\t\t# Creating a list of values for each movie\n",
    "\t\t\t\tfor i in range(len(df.index)):\n",
    "\t\t\t\t\tli.append(str(df.iloc[i][movie]))\n",
    "\t\t\t\t# Updating the right value\n",
    "\t\t\t\tfor item in li:\n",
    "\t\t\t\t\tif str(item) != 'nan':\n",
    "\t\t\t\t\t\tvalue = item\n",
    "\t\t\t\t# Updating value to the location\n",
    "\t\t\t\tmatrix.loc[character, movie] = value\n",
    "\t# If there are n duplicates, n rows would have been created with same values; deleting the duplicates\n",
    "\tmatrix = matrix.drop_duplicates()\n",
    "\treturn matrix\n",
    "# Combine rows with same index\n",
    "char_movie_matrix = combine_rows(char_movie_matrix)\n",
    "char_movie_matrix\n",
    "char_movie_matrix.index.tolist()\n",
    "def convert_time_to_mins(matrix):\n",
    "\t\"\"\"Method that converts time of the format mm:ss or :ss or mm to minutes in float\"\"\"\n",
    "\t# Iterating over each character\n",
    "\tfor character in matrix.index:\n",
    "\t\t# Iterating over each movie\n",
    "\t\tfor movie in matrix.columns:\n",
    "\t\t\t# Current value of the cell in the matrix\n",
    "\t\t\tvalue = matrix.loc[character][movie]\n",
    "\t\t\t# Iterating over non NaN values only\n",
    "\t\t\tif str(value) != 'nan':\n",
    "\t\t\t\t# To convert strings of the format mm:ss\n",
    "\t\t\t\tif re.match(r'\\d+:\\d+', value):\n",
    "\t\t\t\t\tmatrix.loc[character][movie] = float(value.split(':')[0]) + float(value.split(':')[1])/60\n",
    "\t\t\t\t# To convert strings of the format :ss\n",
    "\t\t\t\telif re.match(r'^:\\d+', value):\n",
    "\t\t\t\t\tmatrix.loc[character][movie] = float(value.split(':')[1])/60\n",
    "\t\t\t\t# To convert strings of the format mm\n",
    "\t\t\t\telif re.match(r'\\b\\d+\\b(?!:)', value):\n",
    "\t\t\t\t\tmatrix.loc[character][movie] = float(value)\n",
    "\t\t\t\t# Other formats assigned as NaN\n",
    "\t\t\t\telse:\n",
    "\t\t\t\t\tmatrix.loc[character][movie] = np.nan\n",
    "\t\t\t# NaN values reassigned as NaN\n",
    "\t\t\telse:\n",
    "\t\t\t\tmatrix.loc[character][movie] = np.nan\n",
    "\treturn matrix\n",
    "char_movie_matrix = convert_time_to_mins(char_movie_matrix)\n",
    "\n",
    "char_movie_matrix['Total de tiempo en pantalla'] = char_movie_matrix.loc[:,:].sum(axis=1, skipna=True)\n",
    "char_movie_matrix = char_movie_matrix.sort_values(by='Total de tiempo en pantalla', ascending=False)\n",
    "char_movie_matrix = char_movie_matrix.fillna(0)\n",
    "char_movie_matrix = char_movie_matrix[char_movie_matrix['Total de tiempo en pantalla'] != 0]\n",
    "data = char_movie_matrix.head(20)\n",
    "plt.figure(figsize=(15, 6))\n",
    "data['Personajes'] = list(map(lambda x: '\\n'.join(x.split(' ')),data.index))\n",
    "sns.barplot(x='Personajes', y='Total de tiempo en pantalla', data=data);\n",
    "apariciones_pj = OrderedDict()\n",
    "for pj in char_movie_matrix.index:\n",
    "    columnas_no_cero = char_movie_matrix.loc[pj, (char_movie_matrix.loc[pj] != 0) & (char_movie_matrix.loc[pj].apply(isinstance, args=(float,)))].index.tolist()\n",
    "    apariciones_pj[pj]=columnas_no_cero[0:-1]\n",
    "\n",
    "\n",
    "for i in apariciones_pj.keys():\n",
    "    if re.match(r'.*Sara.*',i):\n",
    "        print (i,apariciones_pj[i])\n",
    "from itertools import islice\n",
    "ordenado_por_longitud = OrderedDict(sorted(apariciones_pj.items(), key=lambda x: len(x[1]), reverse=True))\n",
    "\n",
    "# Mostrar el resultado\n",
    "for clave, valor in islice(ordenado_por_longitud.items(), 4):\n",
    "    print(f'{clave}: {(valor)}')\n",
    "claves = list(ordenado_por_longitud.keys())[:15]\n",
    "\n",
    "longitudes = [len(ordenado_por_longitud[clave]) for clave in claves]\n",
    "claves = list(map(lambda x: '\\n'.join(x.split(' ')),claves))\n",
    "\n",
    "# Crear el gráfico de barras\n",
    "plt.figure(figsize=(15, 6))\n",
    "plt.bar(claves, longitudes)\n",
    "\n",
    "# Añadir etiquetas y título\n",
    "plt.xlabel('Personajes')\n",
    "plt.ylabel('nº de peliculas')\n",
    "plt.title('nº total de peliculas en las que aparecen los personajes');\n",
    "char_movie_matrix[char_movie_matrix['Spider-Man: Homecoming'] != 0]['Spider-Man: Homecoming'].sort_values(ascending=False)\n",
    "def grafico_char_tiempo_pelicula (pelicula):\n",
    "    data = pd.DataFrame(char_movie_matrix[char_movie_matrix[pelicula] != 0][pelicula].sort_values(ascending=False))\n",
    "    plt.figure(figsize=(15, 6))\n",
    "    data['Personajes'] = list(map(lambda x: '\\n'.join(x.split(' ')),data.index))\n",
    "    sns.barplot(x='Personajes', y=pelicula, data=data)\n",
    "\n",
    "grafico_char_tiempo_pelicula ('Spider-Man: No Way Home')\n",
    "\n",
    "def grafico_peliculas_del_char (char):\n",
    "    peliculas = {}\n",
    "    for peli in apariciones_pj[char]:\n",
    "        peliculas[peli] = char_movie_matrix.loc[char][peli]\n",
    "    plt.figure(figsize=(20, 6))\n",
    "    pelis = list(map(lambda x: '\\n'.join(x.split(' ')),list(peliculas.keys())))\n",
    "    sns.barplot(x=pelis, y=list(peliculas.values()))\n",
    "    plt.title(char)\n",
    "    plt.xlabel('Peliculas')\n",
    "    plt.ylabel('Tiempo en pantalla');\n",
    "\n",
    "grafico_peliculas_del_char ('Valkyrie')\n",
    "\n",
    "columna_tiempo_total_peliculas_char = []\n",
    "for char in char_movie_matrix.index:\n",
    "    tiempo_total_peliculas_char = 0\n",
    "    for peli in apariciones_pj[char]:\n",
    "        tiempo_total_peliculas_char += float(movie_lengths[peli])\n",
    "    columna_tiempo_total_peliculas_char.append(tiempo_total_peliculas_char)\n",
    "\n",
    "columna_porcentage_tiempo_pantalla = []\n",
    "suma_tiempos = list(dict(char_movie_matrix['Total de tiempo en pantalla']).values())\n",
    "for i in range(len(columna_tiempo_total_peliculas_char)):\n",
    "    columna_porcentage_tiempo_pantalla.append((suma_tiempos[i]/columna_tiempo_total_peliculas_char[i])*100)\n",
    "columna_porcentage_tiempo_pantalla\n",
    "nueva_fila = pd.DataFrame([movie_lengths])\n",
    "nueva_fila = convert_time_to_mins(nueva_fila)\n",
    "nuevo_df = (char_movie_matrix.iloc[:, :-1].div(nueva_fila.iloc[0]))*100\n",
    "nuevo_df\n",
    "def grafico_pie_t_pantalla (pelicula):    \n",
    "    df = char_movie_matrix[char_movie_matrix[pelicula] != 0]\n",
    "    pie1 = df[pelicula]\n",
    "    pie1_list = list(pie1.values)\n",
    "    pie1_list = [round(each,2) for each in pie1_list]\n",
    "    labels = df.index\n",
    "\n",
    "    # Figure\n",
    "    fig = make_subplots(rows=1, cols=1, specs=[[{'type': 'pie'}]])\n",
    "\n",
    "    fig.add_trace(\n",
    "        go.Pie(\n",
    "            labels=labels,\n",
    "            values=pie1_list,\n",
    "            textinfo='value',\n",
    "            hoverinfo=\"label+value\",\n",
    "            hole=0.3,\n",
    "        ),\n",
    "        row=1, col=1\n",
    "        \n",
    "    )\n",
    "\n",
    "    fig.update_layout(\n",
    "        title=\"Tiempo en pantalla en \" + pelicula + ' (' + movie_lengths[pelicula] +')',\n",
    "        annotations=[\n",
    "            {\n",
    "                \"font\": {\"size\": 20},\n",
    "                \"showarrow\": False,\n",
    "                \"text\": pelicula,\n",
    "                \"x\": 0.5,\n",
    "                \"y\": 1.07,\n",
    "            }\n",
    "        ],\n",
    "        height=700,  # Ajusta la altura del gráfico\n",
    "        width=900,   # Ajusta el ancho del gráfico\n",
    "    )\n",
    "\n",
    "    fig.show()\n",
    "\n",
    "grafico_pie_t_pantalla('Ojo de Halcón')"
   ]
  },
  {
   "cell_type": "code",
   "execution_count": 12,
   "metadata": {},
   "outputs": [
    {
     "data": {
      "text/html": [
       "<div>\n",
       "<style scoped>\n",
       "    .dataframe tbody tr th:only-of-type {\n",
       "        vertical-align: middle;\n",
       "    }\n",
       "\n",
       "    .dataframe tbody tr th {\n",
       "        vertical-align: top;\n",
       "    }\n",
       "\n",
       "    .dataframe thead th {\n",
       "        text-align: right;\n",
       "    }\n",
       "</style>\n",
       "<table border=\"1\" class=\"dataframe\">\n",
       "  <thead>\n",
       "    <tr style=\"text-align: right;\">\n",
       "      <th></th>\n",
       "      <th>Iron Man</th>\n",
       "      <th>El increíble Hulk</th>\n",
       "      <th>Iron Man 2</th>\n",
       "      <th>Thor</th>\n",
       "      <th>Capitán América: El primer vengador</th>\n",
       "      <th>Los Vengadores</th>\n",
       "      <th>Iron Man 3</th>\n",
       "      <th>Marvel One-Shot: Agente Carter</th>\n",
       "      <th>Thor: El mundo oscuro</th>\n",
       "      <th>Capitán América: El Soldado de Invierno</th>\n",
       "      <th>...</th>\n",
       "      <th>Ojo de Halcón</th>\n",
       "      <th>Spider-Man: No Way Home</th>\n",
       "      <th>Caballero Luna</th>\n",
       "      <th>Doctor Strange en el multiverso de la locura</th>\n",
       "      <th>Ms. Marvel</th>\n",
       "      <th>Thor: Love and Thunder</th>\n",
       "      <th>She-Hulk: Abogada Hulka</th>\n",
       "      <th>La maldición del hombre lobo</th>\n",
       "      <th>Black Panther: Wakanda Forever</th>\n",
       "      <th>Guardianes de la Galaxia: Especial felices fiestas</th>\n",
       "    </tr>\n",
       "  </thead>\n",
       "  <tbody>\n",
       "    <tr>\n",
       "      <th>Tony Stark / Iron Man</th>\n",
       "      <td>77:15</td>\n",
       "      <td>:30</td>\n",
       "      <td>61:15</td>\n",
       "      <td>NaN</td>\n",
       "      <td>NaN</td>\n",
       "      <td>31:45</td>\n",
       "      <td>62:15</td>\n",
       "      <td>NaN</td>\n",
       "      <td>NaN</td>\n",
       "      <td>NaN</td>\n",
       "      <td>...</td>\n",
       "      <td>NaN</td>\n",
       "      <td>NaN</td>\n",
       "      <td>NaN</td>\n",
       "      <td>NaN</td>\n",
       "      <td>NaN</td>\n",
       "      <td>NaN</td>\n",
       "      <td>NaN</td>\n",
       "      <td>NaN</td>\n",
       "      <td>NaN</td>\n",
       "      <td>NaN</td>\n",
       "    </tr>\n",
       "    <tr>\n",
       "      <th>Pepper Potts</th>\n",
       "      <td>23:15</td>\n",
       "      <td>NaN</td>\n",
       "      <td>17:30</td>\n",
       "      <td>NaN</td>\n",
       "      <td>NaN</td>\n",
       "      <td>4:30</td>\n",
       "      <td>18</td>\n",
       "      <td>NaN</td>\n",
       "      <td>NaN</td>\n",
       "      <td>NaN</td>\n",
       "      <td>...</td>\n",
       "      <td>NaN</td>\n",
       "      <td>NaN</td>\n",
       "      <td>NaN</td>\n",
       "      <td>NaN</td>\n",
       "      <td>NaN</td>\n",
       "      <td>NaN</td>\n",
       "      <td>NaN</td>\n",
       "      <td>NaN</td>\n",
       "      <td>NaN</td>\n",
       "      <td>NaN</td>\n",
       "    </tr>\n",
       "    <tr>\n",
       "      <th>Obadiah Stane</th>\n",
       "      <td>22</td>\n",
       "      <td>NaN</td>\n",
       "      <td>NaN</td>\n",
       "      <td>NaN</td>\n",
       "      <td>NaN</td>\n",
       "      <td>NaN</td>\n",
       "      <td>NaN</td>\n",
       "      <td>NaN</td>\n",
       "      <td>NaN</td>\n",
       "      <td>NaN</td>\n",
       "      <td>...</td>\n",
       "      <td>NaN</td>\n",
       "      <td>NaN</td>\n",
       "      <td>NaN</td>\n",
       "      <td>NaN</td>\n",
       "      <td>NaN</td>\n",
       "      <td>NaN</td>\n",
       "      <td>NaN</td>\n",
       "      <td>NaN</td>\n",
       "      <td>NaN</td>\n",
       "      <td>NaN</td>\n",
       "    </tr>\n",
       "    <tr>\n",
       "      <th>Professor Ho Yinsen</th>\n",
       "      <td>10:45</td>\n",
       "      <td>NaN</td>\n",
       "      <td>NaN</td>\n",
       "      <td>NaN</td>\n",
       "      <td>NaN</td>\n",
       "      <td>NaN</td>\n",
       "      <td>:15</td>\n",
       "      <td>NaN</td>\n",
       "      <td>NaN</td>\n",
       "      <td>NaN</td>\n",
       "      <td>...</td>\n",
       "      <td>NaN</td>\n",
       "      <td>NaN</td>\n",
       "      <td>NaN</td>\n",
       "      <td>NaN</td>\n",
       "      <td>NaN</td>\n",
       "      <td>NaN</td>\n",
       "      <td>NaN</td>\n",
       "      <td>NaN</td>\n",
       "      <td>NaN</td>\n",
       "      <td>NaN</td>\n",
       "    </tr>\n",
       "    <tr>\n",
       "      <th>James Rhodes / War Machine</th>\n",
       "      <td>8:15</td>\n",
       "      <td>NaN</td>\n",
       "      <td>NaN</td>\n",
       "      <td>NaN</td>\n",
       "      <td>NaN</td>\n",
       "      <td>NaN</td>\n",
       "      <td>NaN</td>\n",
       "      <td>NaN</td>\n",
       "      <td>NaN</td>\n",
       "      <td>NaN</td>\n",
       "      <td>...</td>\n",
       "      <td>NaN</td>\n",
       "      <td>NaN</td>\n",
       "      <td>NaN</td>\n",
       "      <td>NaN</td>\n",
       "      <td>NaN</td>\n",
       "      <td>NaN</td>\n",
       "      <td>NaN</td>\n",
       "      <td>NaN</td>\n",
       "      <td>NaN</td>\n",
       "      <td>NaN</td>\n",
       "    </tr>\n",
       "    <tr>\n",
       "      <th>...</th>\n",
       "      <td>...</td>\n",
       "      <td>...</td>\n",
       "      <td>...</td>\n",
       "      <td>...</td>\n",
       "      <td>...</td>\n",
       "      <td>...</td>\n",
       "      <td>...</td>\n",
       "      <td>...</td>\n",
       "      <td>...</td>\n",
       "      <td>...</td>\n",
       "      <td>...</td>\n",
       "      <td>...</td>\n",
       "      <td>...</td>\n",
       "      <td>...</td>\n",
       "      <td>...</td>\n",
       "      <td>...</td>\n",
       "      <td>...</td>\n",
       "      <td>...</td>\n",
       "      <td>...</td>\n",
       "      <td>...</td>\n",
       "      <td>...</td>\n",
       "    </tr>\n",
       "    <tr>\n",
       "      <th>Mining Tribe Elder</th>\n",
       "      <td>NaN</td>\n",
       "      <td>NaN</td>\n",
       "      <td>NaN</td>\n",
       "      <td>NaN</td>\n",
       "      <td>NaN</td>\n",
       "      <td>NaN</td>\n",
       "      <td>NaN</td>\n",
       "      <td>NaN</td>\n",
       "      <td>NaN</td>\n",
       "      <td>NaN</td>\n",
       "      <td>...</td>\n",
       "      <td>NaN</td>\n",
       "      <td>NaN</td>\n",
       "      <td>NaN</td>\n",
       "      <td>NaN</td>\n",
       "      <td>NaN</td>\n",
       "      <td>NaN</td>\n",
       "      <td>NaN</td>\n",
       "      <td>NaN</td>\n",
       "      <td>1:30</td>\n",
       "      <td>NaN</td>\n",
       "    </tr>\n",
       "    <tr>\n",
       "      <th>U.S. Secretary of State</th>\n",
       "      <td>NaN</td>\n",
       "      <td>NaN</td>\n",
       "      <td>NaN</td>\n",
       "      <td>NaN</td>\n",
       "      <td>NaN</td>\n",
       "      <td>NaN</td>\n",
       "      <td>NaN</td>\n",
       "      <td>NaN</td>\n",
       "      <td>NaN</td>\n",
       "      <td>NaN</td>\n",
       "      <td>...</td>\n",
       "      <td>NaN</td>\n",
       "      <td>NaN</td>\n",
       "      <td>NaN</td>\n",
       "      <td>NaN</td>\n",
       "      <td>NaN</td>\n",
       "      <td>NaN</td>\n",
       "      <td>NaN</td>\n",
       "      <td>NaN</td>\n",
       "      <td>1</td>\n",
       "      <td>NaN</td>\n",
       "    </tr>\n",
       "    <tr>\n",
       "      <th>Kevin Bacon</th>\n",
       "      <td>NaN</td>\n",
       "      <td>NaN</td>\n",
       "      <td>NaN</td>\n",
       "      <td>NaN</td>\n",
       "      <td>NaN</td>\n",
       "      <td>NaN</td>\n",
       "      <td>NaN</td>\n",
       "      <td>NaN</td>\n",
       "      <td>NaN</td>\n",
       "      <td>NaN</td>\n",
       "      <td>...</td>\n",
       "      <td>NaN</td>\n",
       "      <td>NaN</td>\n",
       "      <td>NaN</td>\n",
       "      <td>NaN</td>\n",
       "      <td>NaN</td>\n",
       "      <td>NaN</td>\n",
       "      <td>NaN</td>\n",
       "      <td>NaN</td>\n",
       "      <td>NaN</td>\n",
       "      <td>9:30</td>\n",
       "    </tr>\n",
       "    <tr>\n",
       "      <th>Bzermiktoklok</th>\n",
       "      <td>NaN</td>\n",
       "      <td>NaN</td>\n",
       "      <td>NaN</td>\n",
       "      <td>NaN</td>\n",
       "      <td>NaN</td>\n",
       "      <td>NaN</td>\n",
       "      <td>NaN</td>\n",
       "      <td>NaN</td>\n",
       "      <td>NaN</td>\n",
       "      <td>NaN</td>\n",
       "      <td>...</td>\n",
       "      <td>NaN</td>\n",
       "      <td>NaN</td>\n",
       "      <td>NaN</td>\n",
       "      <td>NaN</td>\n",
       "      <td>NaN</td>\n",
       "      <td>NaN</td>\n",
       "      <td>NaN</td>\n",
       "      <td>NaN</td>\n",
       "      <td>NaN</td>\n",
       "      <td>4:45</td>\n",
       "    </tr>\n",
       "    <tr>\n",
       "      <th>Cosmo the Space Dog</th>\n",
       "      <td>NaN</td>\n",
       "      <td>NaN</td>\n",
       "      <td>NaN</td>\n",
       "      <td>NaN</td>\n",
       "      <td>NaN</td>\n",
       "      <td>NaN</td>\n",
       "      <td>NaN</td>\n",
       "      <td>NaN</td>\n",
       "      <td>NaN</td>\n",
       "      <td>NaN</td>\n",
       "      <td>...</td>\n",
       "      <td>NaN</td>\n",
       "      <td>NaN</td>\n",
       "      <td>NaN</td>\n",
       "      <td>NaN</td>\n",
       "      <td>NaN</td>\n",
       "      <td>NaN</td>\n",
       "      <td>NaN</td>\n",
       "      <td>NaN</td>\n",
       "      <td>NaN</td>\n",
       "      <td>1:15</td>\n",
       "    </tr>\n",
       "  </tbody>\n",
       "</table>\n",
       "<p>504 rows × 40 columns</p>\n",
       "</div>"
      ],
      "text/plain": [
       "                           Iron Man El increíble Hulk Iron Man 2 Thor  \\\n",
       "Tony Stark / Iron Man         77:15               :30      61:15  NaN   \n",
       "Pepper Potts                  23:15               NaN      17:30  NaN   \n",
       "Obadiah Stane                    22               NaN        NaN  NaN   \n",
       "Professor Ho Yinsen           10:45               NaN        NaN  NaN   \n",
       "James Rhodes / War Machine     8:15               NaN        NaN  NaN   \n",
       "...                             ...               ...        ...  ...   \n",
       "Mining Tribe Elder              NaN               NaN        NaN  NaN   \n",
       "U.S. Secretary of State         NaN               NaN        NaN  NaN   \n",
       "Kevin Bacon                     NaN               NaN        NaN  NaN   \n",
       "Bzermiktoklok                   NaN               NaN        NaN  NaN   \n",
       "Cosmo the Space Dog             NaN               NaN        NaN  NaN   \n",
       "\n",
       "                           Capitán América: El primer vengador Los Vengadores  \\\n",
       "Tony Stark / Iron Man                                      NaN          31:45   \n",
       "Pepper Potts                                               NaN           4:30   \n",
       "Obadiah Stane                                              NaN            NaN   \n",
       "Professor Ho Yinsen                                        NaN            NaN   \n",
       "James Rhodes / War Machine                                 NaN            NaN   \n",
       "...                                                        ...            ...   \n",
       "Mining Tribe Elder                                         NaN            NaN   \n",
       "U.S. Secretary of State                                    NaN            NaN   \n",
       "Kevin Bacon                                                NaN            NaN   \n",
       "Bzermiktoklok                                              NaN            NaN   \n",
       "Cosmo the Space Dog                                        NaN            NaN   \n",
       "\n",
       "                           Iron Man 3 Marvel One-Shot: Agente Carter  \\\n",
       "Tony Stark / Iron Man           62:15                            NaN   \n",
       "Pepper Potts                       18                            NaN   \n",
       "Obadiah Stane                     NaN                            NaN   \n",
       "Professor Ho Yinsen               :15                            NaN   \n",
       "James Rhodes / War Machine        NaN                            NaN   \n",
       "...                               ...                            ...   \n",
       "Mining Tribe Elder                NaN                            NaN   \n",
       "U.S. Secretary of State           NaN                            NaN   \n",
       "Kevin Bacon                       NaN                            NaN   \n",
       "Bzermiktoklok                     NaN                            NaN   \n",
       "Cosmo the Space Dog               NaN                            NaN   \n",
       "\n",
       "                           Thor: El mundo oscuro  \\\n",
       "Tony Stark / Iron Man                        NaN   \n",
       "Pepper Potts                                 NaN   \n",
       "Obadiah Stane                                NaN   \n",
       "Professor Ho Yinsen                          NaN   \n",
       "James Rhodes / War Machine                   NaN   \n",
       "...                                          ...   \n",
       "Mining Tribe Elder                           NaN   \n",
       "U.S. Secretary of State                      NaN   \n",
       "Kevin Bacon                                  NaN   \n",
       "Bzermiktoklok                                NaN   \n",
       "Cosmo the Space Dog                          NaN   \n",
       "\n",
       "                           Capitán América: El Soldado de Invierno  ...  \\\n",
       "Tony Stark / Iron Man                                          NaN  ...   \n",
       "Pepper Potts                                                   NaN  ...   \n",
       "Obadiah Stane                                                  NaN  ...   \n",
       "Professor Ho Yinsen                                            NaN  ...   \n",
       "James Rhodes / War Machine                                     NaN  ...   \n",
       "...                                                            ...  ...   \n",
       "Mining Tribe Elder                                             NaN  ...   \n",
       "U.S. Secretary of State                                        NaN  ...   \n",
       "Kevin Bacon                                                    NaN  ...   \n",
       "Bzermiktoklok                                                  NaN  ...   \n",
       "Cosmo the Space Dog                                            NaN  ...   \n",
       "\n",
       "                           Ojo de Halcón Spider-Man: No Way Home  \\\n",
       "Tony Stark / Iron Man                NaN                     NaN   \n",
       "Pepper Potts                         NaN                     NaN   \n",
       "Obadiah Stane                        NaN                     NaN   \n",
       "Professor Ho Yinsen                  NaN                     NaN   \n",
       "James Rhodes / War Machine           NaN                     NaN   \n",
       "...                                  ...                     ...   \n",
       "Mining Tribe Elder                   NaN                     NaN   \n",
       "U.S. Secretary of State              NaN                     NaN   \n",
       "Kevin Bacon                          NaN                     NaN   \n",
       "Bzermiktoklok                        NaN                     NaN   \n",
       "Cosmo the Space Dog                  NaN                     NaN   \n",
       "\n",
       "                           Caballero Luna  \\\n",
       "Tony Stark / Iron Man                 NaN   \n",
       "Pepper Potts                          NaN   \n",
       "Obadiah Stane                         NaN   \n",
       "Professor Ho Yinsen                   NaN   \n",
       "James Rhodes / War Machine            NaN   \n",
       "...                                   ...   \n",
       "Mining Tribe Elder                    NaN   \n",
       "U.S. Secretary of State               NaN   \n",
       "Kevin Bacon                           NaN   \n",
       "Bzermiktoklok                         NaN   \n",
       "Cosmo the Space Dog                   NaN   \n",
       "\n",
       "                           Doctor Strange en el multiverso de la locura  \\\n",
       "Tony Stark / Iron Man                                               NaN   \n",
       "Pepper Potts                                                        NaN   \n",
       "Obadiah Stane                                                       NaN   \n",
       "Professor Ho Yinsen                                                 NaN   \n",
       "James Rhodes / War Machine                                          NaN   \n",
       "...                                                                 ...   \n",
       "Mining Tribe Elder                                                  NaN   \n",
       "U.S. Secretary of State                                             NaN   \n",
       "Kevin Bacon                                                         NaN   \n",
       "Bzermiktoklok                                                       NaN   \n",
       "Cosmo the Space Dog                                                 NaN   \n",
       "\n",
       "                           Ms. Marvel Thor: Love and Thunder  \\\n",
       "Tony Stark / Iron Man             NaN                    NaN   \n",
       "Pepper Potts                      NaN                    NaN   \n",
       "Obadiah Stane                     NaN                    NaN   \n",
       "Professor Ho Yinsen               NaN                    NaN   \n",
       "James Rhodes / War Machine        NaN                    NaN   \n",
       "...                               ...                    ...   \n",
       "Mining Tribe Elder                NaN                    NaN   \n",
       "U.S. Secretary of State           NaN                    NaN   \n",
       "Kevin Bacon                       NaN                    NaN   \n",
       "Bzermiktoklok                     NaN                    NaN   \n",
       "Cosmo the Space Dog               NaN                    NaN   \n",
       "\n",
       "                           She-Hulk: Abogada Hulka  \\\n",
       "Tony Stark / Iron Man                          NaN   \n",
       "Pepper Potts                                   NaN   \n",
       "Obadiah Stane                                  NaN   \n",
       "Professor Ho Yinsen                            NaN   \n",
       "James Rhodes / War Machine                     NaN   \n",
       "...                                            ...   \n",
       "Mining Tribe Elder                             NaN   \n",
       "U.S. Secretary of State                        NaN   \n",
       "Kevin Bacon                                    NaN   \n",
       "Bzermiktoklok                                  NaN   \n",
       "Cosmo the Space Dog                            NaN   \n",
       "\n",
       "                           La maldición del hombre lobo  \\\n",
       "Tony Stark / Iron Man                               NaN   \n",
       "Pepper Potts                                        NaN   \n",
       "Obadiah Stane                                       NaN   \n",
       "Professor Ho Yinsen                                 NaN   \n",
       "James Rhodes / War Machine                          NaN   \n",
       "...                                                 ...   \n",
       "Mining Tribe Elder                                  NaN   \n",
       "U.S. Secretary of State                             NaN   \n",
       "Kevin Bacon                                         NaN   \n",
       "Bzermiktoklok                                       NaN   \n",
       "Cosmo the Space Dog                                 NaN   \n",
       "\n",
       "                           Black Panther: Wakanda Forever  \\\n",
       "Tony Stark / Iron Man                                 NaN   \n",
       "Pepper Potts                                          NaN   \n",
       "Obadiah Stane                                         NaN   \n",
       "Professor Ho Yinsen                                   NaN   \n",
       "James Rhodes / War Machine                            NaN   \n",
       "...                                                   ...   \n",
       "Mining Tribe Elder                                   1:30   \n",
       "U.S. Secretary of State                                 1   \n",
       "Kevin Bacon                                           NaN   \n",
       "Bzermiktoklok                                         NaN   \n",
       "Cosmo the Space Dog                                   NaN   \n",
       "\n",
       "                           Guardianes de la Galaxia: Especial felices fiestas  \n",
       "Tony Stark / Iron Man                                                     NaN  \n",
       "Pepper Potts                                                              NaN  \n",
       "Obadiah Stane                                                             NaN  \n",
       "Professor Ho Yinsen                                                       NaN  \n",
       "James Rhodes / War Machine                                                NaN  \n",
       "...                                                                       ...  \n",
       "Mining Tribe Elder                                                        NaN  \n",
       "U.S. Secretary of State                                                   NaN  \n",
       "Kevin Bacon                                                              9:30  \n",
       "Bzermiktoklok                                                            4:45  \n",
       "Cosmo the Space Dog                                                      1:15  \n",
       "\n",
       "[504 rows x 40 columns]"
      ]
     },
     "execution_count": 12,
     "metadata": {},
     "output_type": "execute_result"
    }
   ],
   "source": [
    "# Renaming characters with their character IDs\n",
    "char_movie_matrix.rename(index=names, inplace=True)\n",
    "char_movie_matrix\n",
    "def combine_rows(matrix):\n",
    "\t\"\"\"Method that combines the duplicate rows that arose due to replacing character IDs\"\"\"\n",
    "\t# List of characters\n",
    "\tcharacters = list(set([character for character in matrix.index]))\n",
    "\t# Iterating over every character\n",
    "\tfor character in characters:\n",
    "\t\t# Creating a mini data frame for each character\n",
    "\t\tdf = matrix.loc[character]\n",
    "\t\t# If the character row is present just once, iterating over every column would be iterating over every movie\n",
    "\t\tif len(list(df.index)) != len(matrix.columns):\n",
    "\t\t\t# Iterating over every movie for each character\n",
    "\t\t\tfor movie in matrix.columns:\n",
    "\t\t\t\t# Initializing update value to NaN\n",
    "\t\t\t\tvalue = np.nan\n",
    "\t\t\t\tli = []\n",
    "\t\t\t\t# Creating a list of values for each movie\n",
    "\t\t\t\tfor i in range(len(df.index)):\n",
    "\t\t\t\t\tli.append(str(df.iloc[i][movie]))\n",
    "\t\t\t\t# Updating the right value\n",
    "\t\t\t\tfor item in li:\n",
    "\t\t\t\t\tif str(item) != 'nan':\n",
    "\t\t\t\t\t\tvalue = item\n",
    "\t\t\t\t# Updating value to the location\n",
    "\t\t\t\tmatrix.loc[character, movie] = value\n",
    "\t# If there are n duplicates, n rows would have been created with same values; deleting the duplicates\n",
    "\tmatrix = matrix.drop_duplicates()\n",
    "\treturn matrix\n",
    "# Combine rows with same index\n",
    "char_movie_matrix = combine_rows(char_movie_matrix)\n",
    "char_movie_matrix\n",
    "char_movie_matrix.index.tolist()\n",
    "def convert_time_to_mins(matrix):\n",
    "\t\"\"\"Method that converts time of the format mm:ss or :ss or mm to minutes in float\"\"\"\n",
    "\t# Iterating over each character\n",
    "\tfor character in matrix.index:\n",
    "\t\t# Iterating over each movie\n",
    "\t\tfor movie in matrix.columns:\n",
    "\t\t\t# Current value of the cell in the matrix\n",
    "\t\t\tvalue = matrix.loc[character][movie]\n",
    "\t\t\t# Iterating over non NaN values only\n",
    "\t\t\tif str(value) != 'nan':\n",
    "\t\t\t\t# To convert strings of the format mm:ss\n",
    "\t\t\t\tif re.match(r'\\d+:\\d+', value):\n",
    "\t\t\t\t\tmatrix.loc[character][movie] = float(value.split(':')[0]) + float(value.split(':')[1])/60\n",
    "\t\t\t\t# To convert strings of the format :ss\n",
    "\t\t\t\telif re.match(r'^:\\d+', value):\n",
    "\t\t\t\t\tmatrix.loc[character][movie] = float(value.split(':')[1])/60\n",
    "\t\t\t\t# To convert strings of the format mm\n",
    "\t\t\t\telif re.match(r'\\b\\d+\\b(?!:)', value):\n",
    "\t\t\t\t\tmatrix.loc[character][movie] = float(value)\n",
    "\t\t\t\t# Other formats assigned as NaN\n",
    "\t\t\t\telse:\n",
    "\t\t\t\t\tmatrix.loc[character][movie] = np.nan\n",
    "\t\t\t# NaN values reassigned as NaN\n",
    "\t\t\telse:\n",
    "\t\t\t\tmatrix.loc[character][movie] = np.nan\n",
    "\treturn matrix\n",
    "char_movie_matrix = convert_time_to_mins(char_movie_matrix)\n",
    "\n",
    "char_movie_matrix['Total de tiempo en pantalla'] = char_movie_matrix.loc[:,:].sum(axis=1, skipna=True)\n",
    "char_movie_matrix = char_movie_matrix.sort_values(by='Total de tiempo en pantalla', ascending=False)\n",
    "char_movie_matrix = char_movie_matrix.fillna(0)\n",
    "char_movie_matrix = char_movie_matrix[char_movie_matrix['Total de tiempo en pantalla'] != 0]\n",
    "data = char_movie_matrix.head(20)\n",
    "plt.figure(figsize=(15, 6))\n",
    "data['Personajes'] = list(map(lambda x: '\\n'.join(x.split(' ')),data.index))\n",
    "sns.barplot(x='Personajes', y='Total de tiempo en pantalla', data=data);\n",
    "apariciones_pj = OrderedDict()\n",
    "for pj in char_movie_matrix.index:\n",
    "    columnas_no_cero = char_movie_matrix.loc[pj, (char_movie_matrix.loc[pj] != 0) & (char_movie_matrix.loc[pj].apply(isinstance, args=(float,)))].index.tolist()\n",
    "    apariciones_pj[pj]=columnas_no_cero[0:-1]\n",
    "\n",
    "\n",
    "for i in apariciones_pj.keys():\n",
    "    if re.match(r'.*Sara.*',i):\n",
    "        print (i,apariciones_pj[i])\n",
    "from itertools import islice\n",
    "ordenado_por_longitud = OrderedDict(sorted(apariciones_pj.items(), key=lambda x: len(x[1]), reverse=True))\n",
    "\n",
    "# Mostrar el resultado\n",
    "for clave, valor in islice(ordenado_por_longitud.items(), 4):\n",
    "    print(f'{clave}: {(valor)}')\n",
    "claves = list(ordenado_por_longitud.keys())[:15]\n",
    "\n",
    "longitudes = [len(ordenado_por_longitud[clave]) for clave in claves]\n",
    "claves = list(map(lambda x: '\\n'.join(x.split(' ')),claves))\n",
    "\n",
    "# Crear el gráfico de barras\n",
    "plt.figure(figsize=(15, 6))\n",
    "plt.bar(claves, longitudes)\n",
    "\n",
    "# Añadir etiquetas y título\n",
    "plt.xlabel('Personajes')\n",
    "plt.ylabel('nº de peliculas')\n",
    "plt.title('nº total de peliculas en las que aparecen los personajes');\n",
    "char_movie_matrix[char_movie_matrix['Spider-Man: Homecoming'] != 0]['Spider-Man: Homecoming'].sort_values(ascending=False)\n",
    "def grafico_char_tiempo_pelicula (pelicula):\n",
    "    data = pd.DataFrame(char_movie_matrix[char_movie_matrix[pelicula] != 0][pelicula].sort_values(ascending=False))\n",
    "    plt.figure(figsize=(15, 6))\n",
    "    data['Personajes'] = list(map(lambda x: '\\n'.join(x.split(' ')),data.index))\n",
    "    sns.barplot(x='Personajes', y=pelicula, data=data)\n",
    "\n",
    "grafico_char_tiempo_pelicula ('Spider-Man: No Way Home')\n",
    "\n",
    "def grafico_peliculas_del_char (char):\n",
    "    peliculas = {}\n",
    "    for peli in apariciones_pj[char]:\n",
    "        peliculas[peli] = char_movie_matrix.loc[char][peli]\n",
    "    plt.figure(figsize=(20, 6))\n",
    "    pelis = list(map(lambda x: '\\n'.join(x.split(' ')),list(peliculas.keys())))\n",
    "    sns.barplot(x=pelis, y=list(peliculas.values()))\n",
    "    plt.title(char)\n",
    "    plt.xlabel('Peliculas')\n",
    "    plt.ylabel('Tiempo en pantalla');\n",
    "\n",
    "grafico_peliculas_del_char ('Valkyrie')\n",
    "\n",
    "columna_tiempo_total_peliculas_char = []\n",
    "for char in char_movie_matrix.index:\n",
    "    tiempo_total_peliculas_char = 0\n",
    "    for peli in apariciones_pj[char]:\n",
    "        tiempo_total_peliculas_char += float(movie_lengths[peli])\n",
    "    columna_tiempo_total_peliculas_char.append(tiempo_total_peliculas_char)\n",
    "\n",
    "columna_porcentage_tiempo_pantalla = []\n",
    "suma_tiempos = list(dict(char_movie_matrix['Total de tiempo en pantalla']).values())\n",
    "for i in range(len(columna_tiempo_total_peliculas_char)):\n",
    "    columna_porcentage_tiempo_pantalla.append((suma_tiempos[i]/columna_tiempo_total_peliculas_char[i])*100)\n",
    "columna_porcentage_tiempo_pantalla\n",
    "nueva_fila = pd.DataFrame([movie_lengths])\n",
    "nueva_fila = convert_time_to_mins(nueva_fila)\n",
    "nuevo_df = (char_movie_matrix.iloc[:, :-1].div(nueva_fila.iloc[0]))*100\n",
    "nuevo_df\n",
    "def grafico_pie_t_pantalla (pelicula):    \n",
    "    df = char_movie_matrix[char_movie_matrix[pelicula] != 0]\n",
    "    pie1 = df[pelicula]\n",
    "    pie1_list = list(pie1.values)\n",
    "    pie1_list = [round(each,2) for each in pie1_list]\n",
    "    labels = df.index\n",
    "\n",
    "    # Figure\n",
    "    fig = make_subplots(rows=1, cols=1, specs=[[{'type': 'pie'}]])\n",
    "\n",
    "    fig.add_trace(\n",
    "        go.Pie(\n",
    "            labels=labels,\n",
    "            values=pie1_list,\n",
    "            textinfo='value',\n",
    "            hoverinfo=\"label+value\",\n",
    "            hole=0.3,\n",
    "        ),\n",
    "        row=1, col=1\n",
    "        \n",
    "    )\n",
    "\n",
    "    fig.update_layout(\n",
    "        title=\"Tiempo en pantalla en \" + pelicula + ' (' + movie_lengths[pelicula] +')',\n",
    "        annotations=[\n",
    "            {\n",
    "                \"font\": {\"size\": 20},\n",
    "                \"showarrow\": False,\n",
    "                \"text\": pelicula,\n",
    "                \"x\": 0.5,\n",
    "                \"y\": 1.07,\n",
    "            }\n",
    "        ],\n",
    "        height=700,  # Ajusta la altura del gráfico\n",
    "        width=900,   # Ajusta el ancho del gráfico\n",
    "    )\n",
    "\n",
    "    fig.show()\n",
    "\n",
    "grafico_pie_t_pantalla('Ojo de Halcón')"
   ]
  },
  {
   "cell_type": "code",
   "execution_count": 13,
   "metadata": {},
   "outputs": [],
   "source": [
    "def combine_rows(matrix):\n",
    "\t\"\"\"Method that combines the duplicate rows that arose due to replacing character IDs\"\"\"\n",
    "\t# List of characters\n",
    "\tcharacters = list(set([character for character in matrix.index]))\n",
    "\t# Iterating over every character\n",
    "\tfor character in characters:\n",
    "\t\t# Creating a mini data frame for each character\n",
    "\t\tdf = matrix.loc[character]\n",
    "\t\t# If the character row is present just once, iterating over every column would be iterating over every movie\n",
    "\t\tif len(list(df.index)) != len(matrix.columns):\n",
    "\t\t\t# Iterating over every movie for each character\n",
    "\t\t\tfor movie in matrix.columns:\n",
    "\t\t\t\t# Initializing update value to NaN\n",
    "\t\t\t\tvalue = np.nan\n",
    "\t\t\t\tli = []\n",
    "\t\t\t\t# Creating a list of values for each movie\n",
    "\t\t\t\tfor i in range(len(df.index)):\n",
    "\t\t\t\t\tli.append(str(df.iloc[i][movie]))\n",
    "\t\t\t\t# Updating the right value\n",
    "\t\t\t\tfor item in li:\n",
    "\t\t\t\t\tif str(item) != 'nan':\n",
    "\t\t\t\t\t\tvalue = item\n",
    "\t\t\t\t# Updating value to the location\n",
    "\t\t\t\tmatrix.loc[character, movie] = value\n",
    "\t# If there are n duplicates, n rows would have been created with same values; deleting the duplicates\n",
    "\tmatrix = matrix.drop_duplicates()\n",
    "\treturn matrix\n",
    "# Combine rows with same index\n",
    "char_movie_matrix = combine_rows(char_movie_matrix)\n",
    "char_movie_matrix\n",
    "char_movie_matrix.index.tolist()\n",
    "def convert_time_to_mins(matrix):\n",
    "\t\"\"\"Method that converts time of the format mm:ss or :ss or mm to minutes in float\"\"\"\n",
    "\t# Iterating over each character\n",
    "\tfor character in matrix.index:\n",
    "\t\t# Iterating over each movie\n",
    "\t\tfor movie in matrix.columns:\n",
    "\t\t\t# Current value of the cell in the matrix\n",
    "\t\t\tvalue = matrix.loc[character][movie]\n",
    "\t\t\t# Iterating over non NaN values only\n",
    "\t\t\tif str(value) != 'nan':\n",
    "\t\t\t\t# To convert strings of the format mm:ss\n",
    "\t\t\t\tif re.match(r'\\d+:\\d+', value):\n",
    "\t\t\t\t\tmatrix.loc[character][movie] = float(value.split(':')[0]) + float(value.split(':')[1])/60\n",
    "\t\t\t\t# To convert strings of the format :ss\n",
    "\t\t\t\telif re.match(r'^:\\d+', value):\n",
    "\t\t\t\t\tmatrix.loc[character][movie] = float(value.split(':')[1])/60\n",
    "\t\t\t\t# To convert strings of the format mm\n",
    "\t\t\t\telif re.match(r'\\b\\d+\\b(?!:)', value):\n",
    "\t\t\t\t\tmatrix.loc[character][movie] = float(value)\n",
    "\t\t\t\t# Other formats assigned as NaN\n",
    "\t\t\t\telse:\n",
    "\t\t\t\t\tmatrix.loc[character][movie] = np.nan\n",
    "\t\t\t# NaN values reassigned as NaN\n",
    "\t\t\telse:\n",
    "\t\t\t\tmatrix.loc[character][movie] = np.nan\n",
    "\treturn matrix\n",
    "char_movie_matrix = convert_time_to_mins(char_movie_matrix)\n",
    "\n",
    "char_movie_matrix['Total de tiempo en pantalla'] = char_movie_matrix.loc[:,:].sum(axis=1, skipna=True)\n",
    "char_movie_matrix = char_movie_matrix.sort_values(by='Total de tiempo en pantalla', ascending=False)\n",
    "char_movie_matrix = char_movie_matrix.fillna(0)\n",
    "char_movie_matrix = char_movie_matrix[char_movie_matrix['Total de tiempo en pantalla'] != 0]\n",
    "data = char_movie_matrix.head(20)\n",
    "plt.figure(figsize=(15, 6))\n",
    "data['Personajes'] = list(map(lambda x: '\\n'.join(x.split(' ')),data.index))\n",
    "sns.barplot(x='Personajes', y='Total de tiempo en pantalla', data=data);\n",
    "apariciones_pj = OrderedDict()\n",
    "for pj in char_movie_matrix.index:\n",
    "    columnas_no_cero = char_movie_matrix.loc[pj, (char_movie_matrix.loc[pj] != 0) & (char_movie_matrix.loc[pj].apply(isinstance, args=(float,)))].index.tolist()\n",
    "    apariciones_pj[pj]=columnas_no_cero[0:-1]\n",
    "\n",
    "\n",
    "for i in apariciones_pj.keys():\n",
    "    if re.match(r'.*Sara.*',i):\n",
    "        print (i,apariciones_pj[i])\n",
    "from itertools import islice\n",
    "ordenado_por_longitud = OrderedDict(sorted(apariciones_pj.items(), key=lambda x: len(x[1]), reverse=True))\n",
    "\n",
    "# Mostrar el resultado\n",
    "for clave, valor in islice(ordenado_por_longitud.items(), 4):\n",
    "    print(f'{clave}: {(valor)}')\n",
    "claves = list(ordenado_por_longitud.keys())[:15]\n",
    "\n",
    "longitudes = [len(ordenado_por_longitud[clave]) for clave in claves]\n",
    "claves = list(map(lambda x: '\\n'.join(x.split(' ')),claves))\n",
    "\n",
    "# Crear el gráfico de barras\n",
    "plt.figure(figsize=(15, 6))\n",
    "plt.bar(claves, longitudes)\n",
    "\n",
    "# Añadir etiquetas y título\n",
    "plt.xlabel('Personajes')\n",
    "plt.ylabel('nº de peliculas')\n",
    "plt.title('nº total de peliculas en las que aparecen los personajes');\n",
    "char_movie_matrix[char_movie_matrix['Spider-Man: Homecoming'] != 0]['Spider-Man: Homecoming'].sort_values(ascending=False)\n",
    "def grafico_char_tiempo_pelicula (pelicula):\n",
    "    data = pd.DataFrame(char_movie_matrix[char_movie_matrix[pelicula] != 0][pelicula].sort_values(ascending=False))\n",
    "    plt.figure(figsize=(15, 6))\n",
    "    data['Personajes'] = list(map(lambda x: '\\n'.join(x.split(' ')),data.index))\n",
    "    sns.barplot(x='Personajes', y=pelicula, data=data)\n",
    "\n",
    "grafico_char_tiempo_pelicula ('Spider-Man: No Way Home')\n",
    "\n",
    "def grafico_peliculas_del_char (char):\n",
    "    peliculas = {}\n",
    "    for peli in apariciones_pj[char]:\n",
    "        peliculas[peli] = char_movie_matrix.loc[char][peli]\n",
    "    plt.figure(figsize=(20, 6))\n",
    "    pelis = list(map(lambda x: '\\n'.join(x.split(' ')),list(peliculas.keys())))\n",
    "    sns.barplot(x=pelis, y=list(peliculas.values()))\n",
    "    plt.title(char)\n",
    "    plt.xlabel('Peliculas')\n",
    "    plt.ylabel('Tiempo en pantalla');\n",
    "\n",
    "grafico_peliculas_del_char ('Valkyrie')\n",
    "\n",
    "columna_tiempo_total_peliculas_char = []\n",
    "for char in char_movie_matrix.index:\n",
    "    tiempo_total_peliculas_char = 0\n",
    "    for peli in apariciones_pj[char]:\n",
    "        tiempo_total_peliculas_char += float(movie_lengths[peli])\n",
    "    columna_tiempo_total_peliculas_char.append(tiempo_total_peliculas_char)\n",
    "\n",
    "columna_porcentage_tiempo_pantalla = []\n",
    "suma_tiempos = list(dict(char_movie_matrix['Total de tiempo en pantalla']).values())\n",
    "for i in range(len(columna_tiempo_total_peliculas_char)):\n",
    "    columna_porcentage_tiempo_pantalla.append((suma_tiempos[i]/columna_tiempo_total_peliculas_char[i])*100)\n",
    "columna_porcentage_tiempo_pantalla\n",
    "nueva_fila = pd.DataFrame([movie_lengths])\n",
    "nueva_fila = convert_time_to_mins(nueva_fila)\n",
    "nuevo_df = (char_movie_matrix.iloc[:, :-1].div(nueva_fila.iloc[0]))*100\n",
    "nuevo_df\n",
    "def grafico_pie_t_pantalla (pelicula):    \n",
    "    df = char_movie_matrix[char_movie_matrix[pelicula] != 0]\n",
    "    pie1 = df[pelicula]\n",
    "    pie1_list = list(pie1.values)\n",
    "    pie1_list = [round(each,2) for each in pie1_list]\n",
    "    labels = df.index\n",
    "\n",
    "    # Figure\n",
    "    fig = make_subplots(rows=1, cols=1, specs=[[{'type': 'pie'}]])\n",
    "\n",
    "    fig.add_trace(\n",
    "        go.Pie(\n",
    "            labels=labels,\n",
    "            values=pie1_list,\n",
    "            textinfo='value',\n",
    "            hoverinfo=\"label+value\",\n",
    "            hole=0.3,\n",
    "        ),\n",
    "        row=1, col=1\n",
    "        \n",
    "    )\n",
    "\n",
    "    fig.update_layout(\n",
    "        title=\"Tiempo en pantalla en \" + pelicula + ' (' + movie_lengths[pelicula] +')',\n",
    "        annotations=[\n",
    "            {\n",
    "                \"font\": {\"size\": 20},\n",
    "                \"showarrow\": False,\n",
    "                \"text\": pelicula,\n",
    "                \"x\": 0.5,\n",
    "                \"y\": 1.07,\n",
    "            }\n",
    "        ],\n",
    "        height=700,  # Ajusta la altura del gráfico\n",
    "        width=900,   # Ajusta el ancho del gráfico\n",
    "    )\n",
    "\n",
    "    fig.show()\n",
    "\n",
    "grafico_pie_t_pantalla('Ojo de Halcón')"
   ]
  },
  {
   "cell_type": "code",
   "execution_count": 14,
   "metadata": {},
   "outputs": [
    {
     "data": {
      "text/html": [
       "<div>\n",
       "<style scoped>\n",
       "    .dataframe tbody tr th:only-of-type {\n",
       "        vertical-align: middle;\n",
       "    }\n",
       "\n",
       "    .dataframe tbody tr th {\n",
       "        vertical-align: top;\n",
       "    }\n",
       "\n",
       "    .dataframe thead th {\n",
       "        text-align: right;\n",
       "    }\n",
       "</style>\n",
       "<table border=\"1\" class=\"dataframe\">\n",
       "  <thead>\n",
       "    <tr style=\"text-align: right;\">\n",
       "      <th></th>\n",
       "      <th>Iron Man</th>\n",
       "      <th>El increíble Hulk</th>\n",
       "      <th>Iron Man 2</th>\n",
       "      <th>Thor</th>\n",
       "      <th>Capitán América: El primer vengador</th>\n",
       "      <th>Los Vengadores</th>\n",
       "      <th>Iron Man 3</th>\n",
       "      <th>Marvel One-Shot: Agente Carter</th>\n",
       "      <th>Thor: El mundo oscuro</th>\n",
       "      <th>Capitán América: El Soldado de Invierno</th>\n",
       "      <th>...</th>\n",
       "      <th>Ojo de Halcón</th>\n",
       "      <th>Spider-Man: No Way Home</th>\n",
       "      <th>Caballero Luna</th>\n",
       "      <th>Doctor Strange en el multiverso de la locura</th>\n",
       "      <th>Ms. Marvel</th>\n",
       "      <th>Thor: Love and Thunder</th>\n",
       "      <th>She-Hulk: Abogada Hulka</th>\n",
       "      <th>La maldición del hombre lobo</th>\n",
       "      <th>Black Panther: Wakanda Forever</th>\n",
       "      <th>Guardianes de la Galaxia: Especial felices fiestas</th>\n",
       "    </tr>\n",
       "  </thead>\n",
       "  <tbody>\n",
       "    <tr>\n",
       "      <th>Tony Stark / Iron Man</th>\n",
       "      <td>77:15</td>\n",
       "      <td>:30</td>\n",
       "      <td>61:15</td>\n",
       "      <td>NaN</td>\n",
       "      <td>NaN</td>\n",
       "      <td>31:45</td>\n",
       "      <td>62:15</td>\n",
       "      <td>NaN</td>\n",
       "      <td>NaN</td>\n",
       "      <td>NaN</td>\n",
       "      <td>...</td>\n",
       "      <td>NaN</td>\n",
       "      <td>NaN</td>\n",
       "      <td>NaN</td>\n",
       "      <td>NaN</td>\n",
       "      <td>NaN</td>\n",
       "      <td>NaN</td>\n",
       "      <td>NaN</td>\n",
       "      <td>NaN</td>\n",
       "      <td>NaN</td>\n",
       "      <td>NaN</td>\n",
       "    </tr>\n",
       "    <tr>\n",
       "      <th>Pepper Potts</th>\n",
       "      <td>23:15</td>\n",
       "      <td>NaN</td>\n",
       "      <td>17:30</td>\n",
       "      <td>NaN</td>\n",
       "      <td>NaN</td>\n",
       "      <td>4:30</td>\n",
       "      <td>18</td>\n",
       "      <td>NaN</td>\n",
       "      <td>NaN</td>\n",
       "      <td>NaN</td>\n",
       "      <td>...</td>\n",
       "      <td>NaN</td>\n",
       "      <td>NaN</td>\n",
       "      <td>NaN</td>\n",
       "      <td>NaN</td>\n",
       "      <td>NaN</td>\n",
       "      <td>NaN</td>\n",
       "      <td>NaN</td>\n",
       "      <td>NaN</td>\n",
       "      <td>NaN</td>\n",
       "      <td>NaN</td>\n",
       "    </tr>\n",
       "    <tr>\n",
       "      <th>Obadiah Stane</th>\n",
       "      <td>22</td>\n",
       "      <td>NaN</td>\n",
       "      <td>NaN</td>\n",
       "      <td>NaN</td>\n",
       "      <td>NaN</td>\n",
       "      <td>NaN</td>\n",
       "      <td>NaN</td>\n",
       "      <td>NaN</td>\n",
       "      <td>NaN</td>\n",
       "      <td>NaN</td>\n",
       "      <td>...</td>\n",
       "      <td>NaN</td>\n",
       "      <td>NaN</td>\n",
       "      <td>NaN</td>\n",
       "      <td>NaN</td>\n",
       "      <td>NaN</td>\n",
       "      <td>NaN</td>\n",
       "      <td>NaN</td>\n",
       "      <td>NaN</td>\n",
       "      <td>NaN</td>\n",
       "      <td>NaN</td>\n",
       "    </tr>\n",
       "    <tr>\n",
       "      <th>Professor Ho Yinsen</th>\n",
       "      <td>10:45</td>\n",
       "      <td>NaN</td>\n",
       "      <td>NaN</td>\n",
       "      <td>NaN</td>\n",
       "      <td>NaN</td>\n",
       "      <td>NaN</td>\n",
       "      <td>:15</td>\n",
       "      <td>NaN</td>\n",
       "      <td>NaN</td>\n",
       "      <td>NaN</td>\n",
       "      <td>...</td>\n",
       "      <td>NaN</td>\n",
       "      <td>NaN</td>\n",
       "      <td>NaN</td>\n",
       "      <td>NaN</td>\n",
       "      <td>NaN</td>\n",
       "      <td>NaN</td>\n",
       "      <td>NaN</td>\n",
       "      <td>NaN</td>\n",
       "      <td>NaN</td>\n",
       "      <td>NaN</td>\n",
       "    </tr>\n",
       "    <tr>\n",
       "      <th>James Rhodes / War Machine</th>\n",
       "      <td>8:15</td>\n",
       "      <td>NaN</td>\n",
       "      <td>18:45</td>\n",
       "      <td>NaN</td>\n",
       "      <td>NaN</td>\n",
       "      <td>NaN</td>\n",
       "      <td>9:45</td>\n",
       "      <td>NaN</td>\n",
       "      <td>NaN</td>\n",
       "      <td>NaN</td>\n",
       "      <td>...</td>\n",
       "      <td>NaN</td>\n",
       "      <td>NaN</td>\n",
       "      <td>NaN</td>\n",
       "      <td>NaN</td>\n",
       "      <td>NaN</td>\n",
       "      <td>NaN</td>\n",
       "      <td>NaN</td>\n",
       "      <td>NaN</td>\n",
       "      <td>NaN</td>\n",
       "      <td>NaN</td>\n",
       "    </tr>\n",
       "    <tr>\n",
       "      <th>...</th>\n",
       "      <td>...</td>\n",
       "      <td>...</td>\n",
       "      <td>...</td>\n",
       "      <td>...</td>\n",
       "      <td>...</td>\n",
       "      <td>...</td>\n",
       "      <td>...</td>\n",
       "      <td>...</td>\n",
       "      <td>...</td>\n",
       "      <td>...</td>\n",
       "      <td>...</td>\n",
       "      <td>...</td>\n",
       "      <td>...</td>\n",
       "      <td>...</td>\n",
       "      <td>...</td>\n",
       "      <td>...</td>\n",
       "      <td>...</td>\n",
       "      <td>...</td>\n",
       "      <td>...</td>\n",
       "      <td>...</td>\n",
       "      <td>...</td>\n",
       "    </tr>\n",
       "    <tr>\n",
       "      <th>Zawavari</th>\n",
       "      <td>NaN</td>\n",
       "      <td>NaN</td>\n",
       "      <td>NaN</td>\n",
       "      <td>NaN</td>\n",
       "      <td>NaN</td>\n",
       "      <td>NaN</td>\n",
       "      <td>NaN</td>\n",
       "      <td>NaN</td>\n",
       "      <td>NaN</td>\n",
       "      <td>NaN</td>\n",
       "      <td>...</td>\n",
       "      <td>NaN</td>\n",
       "      <td>NaN</td>\n",
       "      <td>NaN</td>\n",
       "      <td>NaN</td>\n",
       "      <td>NaN</td>\n",
       "      <td>NaN</td>\n",
       "      <td>NaN</td>\n",
       "      <td>NaN</td>\n",
       "      <td>1:30</td>\n",
       "      <td>NaN</td>\n",
       "    </tr>\n",
       "    <tr>\n",
       "      <th>U.S. Secretary of State</th>\n",
       "      <td>NaN</td>\n",
       "      <td>NaN</td>\n",
       "      <td>NaN</td>\n",
       "      <td>NaN</td>\n",
       "      <td>NaN</td>\n",
       "      <td>NaN</td>\n",
       "      <td>NaN</td>\n",
       "      <td>NaN</td>\n",
       "      <td>NaN</td>\n",
       "      <td>NaN</td>\n",
       "      <td>...</td>\n",
       "      <td>NaN</td>\n",
       "      <td>NaN</td>\n",
       "      <td>NaN</td>\n",
       "      <td>NaN</td>\n",
       "      <td>NaN</td>\n",
       "      <td>NaN</td>\n",
       "      <td>NaN</td>\n",
       "      <td>NaN</td>\n",
       "      <td>1</td>\n",
       "      <td>NaN</td>\n",
       "    </tr>\n",
       "    <tr>\n",
       "      <th>Kevin Bacon</th>\n",
       "      <td>NaN</td>\n",
       "      <td>NaN</td>\n",
       "      <td>NaN</td>\n",
       "      <td>NaN</td>\n",
       "      <td>NaN</td>\n",
       "      <td>NaN</td>\n",
       "      <td>NaN</td>\n",
       "      <td>NaN</td>\n",
       "      <td>NaN</td>\n",
       "      <td>NaN</td>\n",
       "      <td>...</td>\n",
       "      <td>NaN</td>\n",
       "      <td>NaN</td>\n",
       "      <td>NaN</td>\n",
       "      <td>NaN</td>\n",
       "      <td>NaN</td>\n",
       "      <td>NaN</td>\n",
       "      <td>NaN</td>\n",
       "      <td>NaN</td>\n",
       "      <td>NaN</td>\n",
       "      <td>9:30</td>\n",
       "    </tr>\n",
       "    <tr>\n",
       "      <th>Bzermiktoklok</th>\n",
       "      <td>NaN</td>\n",
       "      <td>NaN</td>\n",
       "      <td>NaN</td>\n",
       "      <td>NaN</td>\n",
       "      <td>NaN</td>\n",
       "      <td>NaN</td>\n",
       "      <td>NaN</td>\n",
       "      <td>NaN</td>\n",
       "      <td>NaN</td>\n",
       "      <td>NaN</td>\n",
       "      <td>...</td>\n",
       "      <td>NaN</td>\n",
       "      <td>NaN</td>\n",
       "      <td>NaN</td>\n",
       "      <td>NaN</td>\n",
       "      <td>NaN</td>\n",
       "      <td>NaN</td>\n",
       "      <td>NaN</td>\n",
       "      <td>NaN</td>\n",
       "      <td>NaN</td>\n",
       "      <td>4:45</td>\n",
       "    </tr>\n",
       "    <tr>\n",
       "      <th>Cosmo the Space Dog</th>\n",
       "      <td>NaN</td>\n",
       "      <td>NaN</td>\n",
       "      <td>NaN</td>\n",
       "      <td>NaN</td>\n",
       "      <td>NaN</td>\n",
       "      <td>NaN</td>\n",
       "      <td>NaN</td>\n",
       "      <td>NaN</td>\n",
       "      <td>NaN</td>\n",
       "      <td>NaN</td>\n",
       "      <td>...</td>\n",
       "      <td>NaN</td>\n",
       "      <td>NaN</td>\n",
       "      <td>NaN</td>\n",
       "      <td>NaN</td>\n",
       "      <td>NaN</td>\n",
       "      <td>NaN</td>\n",
       "      <td>NaN</td>\n",
       "      <td>NaN</td>\n",
       "      <td>NaN</td>\n",
       "      <td>1:15</td>\n",
       "    </tr>\n",
       "  </tbody>\n",
       "</table>\n",
       "<p>412 rows × 40 columns</p>\n",
       "</div>"
      ],
      "text/plain": [
       "                           Iron Man El increíble Hulk Iron Man 2 Thor  \\\n",
       "Tony Stark / Iron Man         77:15               :30      61:15  NaN   \n",
       "Pepper Potts                  23:15               NaN      17:30  NaN   \n",
       "Obadiah Stane                    22               NaN        NaN  NaN   \n",
       "Professor Ho Yinsen           10:45               NaN        NaN  NaN   \n",
       "James Rhodes / War Machine     8:15               NaN      18:45  NaN   \n",
       "...                             ...               ...        ...  ...   \n",
       "Zawavari                        NaN               NaN        NaN  NaN   \n",
       "U.S. Secretary of State         NaN               NaN        NaN  NaN   \n",
       "Kevin Bacon                     NaN               NaN        NaN  NaN   \n",
       "Bzermiktoklok                   NaN               NaN        NaN  NaN   \n",
       "Cosmo the Space Dog             NaN               NaN        NaN  NaN   \n",
       "\n",
       "                           Capitán América: El primer vengador Los Vengadores  \\\n",
       "Tony Stark / Iron Man                                      NaN          31:45   \n",
       "Pepper Potts                                               NaN           4:30   \n",
       "Obadiah Stane                                              NaN            NaN   \n",
       "Professor Ho Yinsen                                        NaN            NaN   \n",
       "James Rhodes / War Machine                                 NaN            NaN   \n",
       "...                                                        ...            ...   \n",
       "Zawavari                                                   NaN            NaN   \n",
       "U.S. Secretary of State                                    NaN            NaN   \n",
       "Kevin Bacon                                                NaN            NaN   \n",
       "Bzermiktoklok                                              NaN            NaN   \n",
       "Cosmo the Space Dog                                        NaN            NaN   \n",
       "\n",
       "                           Iron Man 3 Marvel One-Shot: Agente Carter  \\\n",
       "Tony Stark / Iron Man           62:15                            NaN   \n",
       "Pepper Potts                       18                            NaN   \n",
       "Obadiah Stane                     NaN                            NaN   \n",
       "Professor Ho Yinsen               :15                            NaN   \n",
       "James Rhodes / War Machine       9:45                            NaN   \n",
       "...                               ...                            ...   \n",
       "Zawavari                          NaN                            NaN   \n",
       "U.S. Secretary of State           NaN                            NaN   \n",
       "Kevin Bacon                       NaN                            NaN   \n",
       "Bzermiktoklok                     NaN                            NaN   \n",
       "Cosmo the Space Dog               NaN                            NaN   \n",
       "\n",
       "                           Thor: El mundo oscuro  \\\n",
       "Tony Stark / Iron Man                        NaN   \n",
       "Pepper Potts                                 NaN   \n",
       "Obadiah Stane                                NaN   \n",
       "Professor Ho Yinsen                          NaN   \n",
       "James Rhodes / War Machine                   NaN   \n",
       "...                                          ...   \n",
       "Zawavari                                     NaN   \n",
       "U.S. Secretary of State                      NaN   \n",
       "Kevin Bacon                                  NaN   \n",
       "Bzermiktoklok                                NaN   \n",
       "Cosmo the Space Dog                          NaN   \n",
       "\n",
       "                           Capitán América: El Soldado de Invierno  ...  \\\n",
       "Tony Stark / Iron Man                                          NaN  ...   \n",
       "Pepper Potts                                                   NaN  ...   \n",
       "Obadiah Stane                                                  NaN  ...   \n",
       "Professor Ho Yinsen                                            NaN  ...   \n",
       "James Rhodes / War Machine                                     NaN  ...   \n",
       "...                                                            ...  ...   \n",
       "Zawavari                                                       NaN  ...   \n",
       "U.S. Secretary of State                                        NaN  ...   \n",
       "Kevin Bacon                                                    NaN  ...   \n",
       "Bzermiktoklok                                                  NaN  ...   \n",
       "Cosmo the Space Dog                                            NaN  ...   \n",
       "\n",
       "                           Ojo de Halcón Spider-Man: No Way Home  \\\n",
       "Tony Stark / Iron Man                NaN                     NaN   \n",
       "Pepper Potts                         NaN                     NaN   \n",
       "Obadiah Stane                        NaN                     NaN   \n",
       "Professor Ho Yinsen                  NaN                     NaN   \n",
       "James Rhodes / War Machine           NaN                     NaN   \n",
       "...                                  ...                     ...   \n",
       "Zawavari                             NaN                     NaN   \n",
       "U.S. Secretary of State              NaN                     NaN   \n",
       "Kevin Bacon                          NaN                     NaN   \n",
       "Bzermiktoklok                        NaN                     NaN   \n",
       "Cosmo the Space Dog                  NaN                     NaN   \n",
       "\n",
       "                           Caballero Luna  \\\n",
       "Tony Stark / Iron Man                 NaN   \n",
       "Pepper Potts                          NaN   \n",
       "Obadiah Stane                         NaN   \n",
       "Professor Ho Yinsen                   NaN   \n",
       "James Rhodes / War Machine            NaN   \n",
       "...                                   ...   \n",
       "Zawavari                              NaN   \n",
       "U.S. Secretary of State               NaN   \n",
       "Kevin Bacon                           NaN   \n",
       "Bzermiktoklok                         NaN   \n",
       "Cosmo the Space Dog                   NaN   \n",
       "\n",
       "                           Doctor Strange en el multiverso de la locura  \\\n",
       "Tony Stark / Iron Man                                               NaN   \n",
       "Pepper Potts                                                        NaN   \n",
       "Obadiah Stane                                                       NaN   \n",
       "Professor Ho Yinsen                                                 NaN   \n",
       "James Rhodes / War Machine                                          NaN   \n",
       "...                                                                 ...   \n",
       "Zawavari                                                            NaN   \n",
       "U.S. Secretary of State                                             NaN   \n",
       "Kevin Bacon                                                         NaN   \n",
       "Bzermiktoklok                                                       NaN   \n",
       "Cosmo the Space Dog                                                 NaN   \n",
       "\n",
       "                           Ms. Marvel Thor: Love and Thunder  \\\n",
       "Tony Stark / Iron Man             NaN                    NaN   \n",
       "Pepper Potts                      NaN                    NaN   \n",
       "Obadiah Stane                     NaN                    NaN   \n",
       "Professor Ho Yinsen               NaN                    NaN   \n",
       "James Rhodes / War Machine        NaN                    NaN   \n",
       "...                               ...                    ...   \n",
       "Zawavari                          NaN                    NaN   \n",
       "U.S. Secretary of State           NaN                    NaN   \n",
       "Kevin Bacon                       NaN                    NaN   \n",
       "Bzermiktoklok                     NaN                    NaN   \n",
       "Cosmo the Space Dog               NaN                    NaN   \n",
       "\n",
       "                           She-Hulk: Abogada Hulka  \\\n",
       "Tony Stark / Iron Man                          NaN   \n",
       "Pepper Potts                                   NaN   \n",
       "Obadiah Stane                                  NaN   \n",
       "Professor Ho Yinsen                            NaN   \n",
       "James Rhodes / War Machine                     NaN   \n",
       "...                                            ...   \n",
       "Zawavari                                       NaN   \n",
       "U.S. Secretary of State                        NaN   \n",
       "Kevin Bacon                                    NaN   \n",
       "Bzermiktoklok                                  NaN   \n",
       "Cosmo the Space Dog                            NaN   \n",
       "\n",
       "                           La maldición del hombre lobo  \\\n",
       "Tony Stark / Iron Man                               NaN   \n",
       "Pepper Potts                                        NaN   \n",
       "Obadiah Stane                                       NaN   \n",
       "Professor Ho Yinsen                                 NaN   \n",
       "James Rhodes / War Machine                          NaN   \n",
       "...                                                 ...   \n",
       "Zawavari                                            NaN   \n",
       "U.S. Secretary of State                             NaN   \n",
       "Kevin Bacon                                         NaN   \n",
       "Bzermiktoklok                                       NaN   \n",
       "Cosmo the Space Dog                                 NaN   \n",
       "\n",
       "                           Black Panther: Wakanda Forever  \\\n",
       "Tony Stark / Iron Man                                 NaN   \n",
       "Pepper Potts                                          NaN   \n",
       "Obadiah Stane                                         NaN   \n",
       "Professor Ho Yinsen                                   NaN   \n",
       "James Rhodes / War Machine                            NaN   \n",
       "...                                                   ...   \n",
       "Zawavari                                             1:30   \n",
       "U.S. Secretary of State                                 1   \n",
       "Kevin Bacon                                           NaN   \n",
       "Bzermiktoklok                                         NaN   \n",
       "Cosmo the Space Dog                                   NaN   \n",
       "\n",
       "                           Guardianes de la Galaxia: Especial felices fiestas  \n",
       "Tony Stark / Iron Man                                                     NaN  \n",
       "Pepper Potts                                                              NaN  \n",
       "Obadiah Stane                                                             NaN  \n",
       "Professor Ho Yinsen                                                       NaN  \n",
       "James Rhodes / War Machine                                                NaN  \n",
       "...                                                                       ...  \n",
       "Zawavari                                                                  NaN  \n",
       "U.S. Secretary of State                                                   NaN  \n",
       "Kevin Bacon                                                              9:30  \n",
       "Bzermiktoklok                                                            4:45  \n",
       "Cosmo the Space Dog                                                      1:15  \n",
       "\n",
       "[412 rows x 40 columns]"
      ]
     },
     "execution_count": 14,
     "metadata": {},
     "output_type": "execute_result"
    }
   ],
   "source": [
    "# Combine rows with same index\n",
    "char_movie_matrix = combine_rows(char_movie_matrix)\n",
    "char_movie_matrix\n",
    "char_movie_matrix.index.tolist()\n",
    "def convert_time_to_mins(matrix):\n",
    "\t\"\"\"Method that converts time of the format mm:ss or :ss or mm to minutes in float\"\"\"\n",
    "\t# Iterating over each character\n",
    "\tfor character in matrix.index:\n",
    "\t\t# Iterating over each movie\n",
    "\t\tfor movie in matrix.columns:\n",
    "\t\t\t# Current value of the cell in the matrix\n",
    "\t\t\tvalue = matrix.loc[character][movie]\n",
    "\t\t\t# Iterating over non NaN values only\n",
    "\t\t\tif str(value) != 'nan':\n",
    "\t\t\t\t# To convert strings of the format mm:ss\n",
    "\t\t\t\tif re.match(r'\\d+:\\d+', value):\n",
    "\t\t\t\t\tmatrix.loc[character][movie] = float(value.split(':')[0]) + float(value.split(':')[1])/60\n",
    "\t\t\t\t# To convert strings of the format :ss\n",
    "\t\t\t\telif re.match(r'^:\\d+', value):\n",
    "\t\t\t\t\tmatrix.loc[character][movie] = float(value.split(':')[1])/60\n",
    "\t\t\t\t# To convert strings of the format mm\n",
    "\t\t\t\telif re.match(r'\\b\\d+\\b(?!:)', value):\n",
    "\t\t\t\t\tmatrix.loc[character][movie] = float(value)\n",
    "\t\t\t\t# Other formats assigned as NaN\n",
    "\t\t\t\telse:\n",
    "\t\t\t\t\tmatrix.loc[character][movie] = np.nan\n",
    "\t\t\t# NaN values reassigned as NaN\n",
    "\t\t\telse:\n",
    "\t\t\t\tmatrix.loc[character][movie] = np.nan\n",
    "\treturn matrix\n",
    "char_movie_matrix = convert_time_to_mins(char_movie_matrix)\n",
    "\n",
    "char_movie_matrix['Total de tiempo en pantalla'] = char_movie_matrix.loc[:,:].sum(axis=1, skipna=True)\n",
    "char_movie_matrix = char_movie_matrix.sort_values(by='Total de tiempo en pantalla', ascending=False)\n",
    "char_movie_matrix = char_movie_matrix.fillna(0)\n",
    "char_movie_matrix = char_movie_matrix[char_movie_matrix['Total de tiempo en pantalla'] != 0]\n",
    "data = char_movie_matrix.head(20)\n",
    "plt.figure(figsize=(15, 6))\n",
    "data['Personajes'] = list(map(lambda x: '\\n'.join(x.split(' ')),data.index))\n",
    "sns.barplot(x='Personajes', y='Total de tiempo en pantalla', data=data);\n",
    "apariciones_pj = OrderedDict()\n",
    "for pj in char_movie_matrix.index:\n",
    "    columnas_no_cero = char_movie_matrix.loc[pj, (char_movie_matrix.loc[pj] != 0) & (char_movie_matrix.loc[pj].apply(isinstance, args=(float,)))].index.tolist()\n",
    "    apariciones_pj[pj]=columnas_no_cero[0:-1]\n",
    "\n",
    "\n",
    "for i in apariciones_pj.keys():\n",
    "    if re.match(r'.*Sara.*',i):\n",
    "        print (i,apariciones_pj[i])\n",
    "from itertools import islice\n",
    "ordenado_por_longitud = OrderedDict(sorted(apariciones_pj.items(), key=lambda x: len(x[1]), reverse=True))\n",
    "\n",
    "# Mostrar el resultado\n",
    "for clave, valor in islice(ordenado_por_longitud.items(), 4):\n",
    "    print(f'{clave}: {(valor)}')\n",
    "claves = list(ordenado_por_longitud.keys())[:15]\n",
    "\n",
    "longitudes = [len(ordenado_por_longitud[clave]) for clave in claves]\n",
    "claves = list(map(lambda x: '\\n'.join(x.split(' ')),claves))\n",
    "\n",
    "# Crear el gráfico de barras\n",
    "plt.figure(figsize=(15, 6))\n",
    "plt.bar(claves, longitudes)\n",
    "\n",
    "# Añadir etiquetas y título\n",
    "plt.xlabel('Personajes')\n",
    "plt.ylabel('nº de peliculas')\n",
    "plt.title('nº total de peliculas en las que aparecen los personajes');\n",
    "char_movie_matrix[char_movie_matrix['Spider-Man: Homecoming'] != 0]['Spider-Man: Homecoming'].sort_values(ascending=False)\n",
    "def grafico_char_tiempo_pelicula (pelicula):\n",
    "    data = pd.DataFrame(char_movie_matrix[char_movie_matrix[pelicula] != 0][pelicula].sort_values(ascending=False))\n",
    "    plt.figure(figsize=(15, 6))\n",
    "    data['Personajes'] = list(map(lambda x: '\\n'.join(x.split(' ')),data.index))\n",
    "    sns.barplot(x='Personajes', y=pelicula, data=data)\n",
    "\n",
    "grafico_char_tiempo_pelicula ('Spider-Man: No Way Home')\n",
    "\n",
    "def grafico_peliculas_del_char (char):\n",
    "    peliculas = {}\n",
    "    for peli in apariciones_pj[char]:\n",
    "        peliculas[peli] = char_movie_matrix.loc[char][peli]\n",
    "    plt.figure(figsize=(20, 6))\n",
    "    pelis = list(map(lambda x: '\\n'.join(x.split(' ')),list(peliculas.keys())))\n",
    "    sns.barplot(x=pelis, y=list(peliculas.values()))\n",
    "    plt.title(char)\n",
    "    plt.xlabel('Peliculas')\n",
    "    plt.ylabel('Tiempo en pantalla');\n",
    "\n",
    "grafico_peliculas_del_char ('Valkyrie')\n",
    "\n",
    "columna_tiempo_total_peliculas_char = []\n",
    "for char in char_movie_matrix.index:\n",
    "    tiempo_total_peliculas_char = 0\n",
    "    for peli in apariciones_pj[char]:\n",
    "        tiempo_total_peliculas_char += float(movie_lengths[peli])\n",
    "    columna_tiempo_total_peliculas_char.append(tiempo_total_peliculas_char)\n",
    "\n",
    "columna_porcentage_tiempo_pantalla = []\n",
    "suma_tiempos = list(dict(char_movie_matrix['Total de tiempo en pantalla']).values())\n",
    "for i in range(len(columna_tiempo_total_peliculas_char)):\n",
    "    columna_porcentage_tiempo_pantalla.append((suma_tiempos[i]/columna_tiempo_total_peliculas_char[i])*100)\n",
    "columna_porcentage_tiempo_pantalla\n",
    "nueva_fila = pd.DataFrame([movie_lengths])\n",
    "nueva_fila = convert_time_to_mins(nueva_fila)\n",
    "nuevo_df = (char_movie_matrix.iloc[:, :-1].div(nueva_fila.iloc[0]))*100\n",
    "nuevo_df\n",
    "def grafico_pie_t_pantalla (pelicula):    \n",
    "    df = char_movie_matrix[char_movie_matrix[pelicula] != 0]\n",
    "    pie1 = df[pelicula]\n",
    "    pie1_list = list(pie1.values)\n",
    "    pie1_list = [round(each,2) for each in pie1_list]\n",
    "    labels = df.index\n",
    "\n",
    "    # Figure\n",
    "    fig = make_subplots(rows=1, cols=1, specs=[[{'type': 'pie'}]])\n",
    "\n",
    "    fig.add_trace(\n",
    "        go.Pie(\n",
    "            labels=labels,\n",
    "            values=pie1_list,\n",
    "            textinfo='value',\n",
    "            hoverinfo=\"label+value\",\n",
    "            hole=0.3,\n",
    "        ),\n",
    "        row=1, col=1\n",
    "        \n",
    "    )\n",
    "\n",
    "    fig.update_layout(\n",
    "        title=\"Tiempo en pantalla en \" + pelicula + ' (' + movie_lengths[pelicula] +')',\n",
    "        annotations=[\n",
    "            {\n",
    "                \"font\": {\"size\": 20},\n",
    "                \"showarrow\": False,\n",
    "                \"text\": pelicula,\n",
    "                \"x\": 0.5,\n",
    "                \"y\": 1.07,\n",
    "            }\n",
    "        ],\n",
    "        height=700,  # Ajusta la altura del gráfico\n",
    "        width=900,   # Ajusta el ancho del gráfico\n",
    "    )\n",
    "\n",
    "    fig.show()\n",
    "\n",
    "grafico_pie_t_pantalla('Ojo de Halcón')"
   ]
  },
  {
   "cell_type": "code",
   "execution_count": 15,
   "metadata": {},
   "outputs": [
    {
     "data": {
      "text/plain": [
       "['Tony Stark / Iron Man',\n",
       " 'Pepper Potts',\n",
       " 'Obadiah Stane',\n",
       " 'Professor Ho Yinsen',\n",
       " 'James Rhodes / War Machine',\n",
       " 'Raza',\n",
       " 'Phil Coulson',\n",
       " 'Christine Everhart',\n",
       " 'Abu Bakaar',\n",
       " 'Happy',\n",
       " 'William Ginter Riva',\n",
       " 'Nick Fury',\n",
       " 'J.A.R.V.I.S.',\n",
       " 'Hulk',\n",
       " 'Dr. Betty Ross',\n",
       " 'Emil Blonsky / The Abomination',\n",
       " 'General Thaddeus Ross',\n",
       " 'Samuel Sterns',\n",
       " 'Dr. Leonard Samson',\n",
       " 'Roger Harrington',\n",
       " 'Ivan Vanko',\n",
       " 'Justin Hammer',\n",
       " 'Black Widow',\n",
       " 'Senator Stern',\n",
       " 'Howard Stark',\n",
       " 'Anton Vanko',\n",
       " 'Peter Parker / Spider-Man ',\n",
       " 'Thor',\n",
       " 'Loki',\n",
       " 'Jane Foster',\n",
       " 'Erik Selvig',\n",
       " 'Odin',\n",
       " 'Darcy Lewis',\n",
       " 'Sif',\n",
       " 'Volstagg',\n",
       " 'Fandral',\n",
       " 'Hogun',\n",
       " 'Heimdall',\n",
       " 'Laufey',\n",
       " 'Frigga',\n",
       " 'Agent Jasper Sitwell',\n",
       " 'Hawkeye',\n",
       " 'Steve Rogers',\n",
       " 'Peggy Carter',\n",
       " 'Red Skull',\n",
       " 'Col. Chester Phillips',\n",
       " 'Dr. Abraham Erskine',\n",
       " 'Arnim Zola',\n",
       " 'Bucky',\n",
       " 'Heinz Kruger',\n",
       " 'Sgt. Timothy \"Dum Dum\" Dugan',\n",
       " 'Pvt. Gabe Jones',\n",
       " 'Pvt. Jim Morita',\n",
       " 'Maria Hill',\n",
       " 'The Other',\n",
       " 'Gen. Georgi Luchkov',\n",
       " 'Councilwoman Malick',\n",
       " 'Councilwoman Hawley',\n",
       " 'Thanos',\n",
       " 'Aldrich Killian',\n",
       " 'Maya Hansen',\n",
       " 'Mandarin',\n",
       " 'Harley Keener',\n",
       " 'Eric Savin',\n",
       " 'Ellen Brandt',\n",
       " 'President Matthew Ellis',\n",
       " 'Vice-President Rodriguez',\n",
       " 'Bruce Banner',\n",
       " 'Agent Flynn',\n",
       " 'Malekith',\n",
       " 'Algrim',\n",
       " 'Ian Boothby',\n",
       " 'Richard',\n",
       " 'The Collector',\n",
       " 'Carina',\n",
       " 'Falcon',\n",
       " 'Alexander Pierce',\n",
       " 'Rumlow',\n",
       " 'Sharon Carter',\n",
       " 'Jack Rollins',\n",
       " 'Georges Batroc',\n",
       " 'Baron Wolfgang von Strucker',\n",
       " 'Dr. List',\n",
       " 'Councilman Singh',\n",
       " 'Cameron Klein',\n",
       " 'Scarlett Witch',\n",
       " 'Quicksilver',\n",
       " 'Star Lord',\n",
       " 'Gamora',\n",
       " 'Rocket',\n",
       " 'Drax',\n",
       " 'Groot',\n",
       " 'Ronan',\n",
       " 'Yondu',\n",
       " 'Nebula',\n",
       " 'Rhomann Dey',\n",
       " 'Nova Prime Irani Rael',\n",
       " 'Korath',\n",
       " 'Kraglin Obfonteri',\n",
       " 'Meredith Quill',\n",
       " 'Denaarian Saal',\n",
       " 'Ultron',\n",
       " 'Vision',\n",
       " 'Laura Barton',\n",
       " 'Dr. Helen Cho',\n",
       " 'Ulysses Klauë',\n",
       " 'F.R.I.D.A.Y.',\n",
       " 'Scott Lang',\n",
       " 'Hank Pym',\n",
       " 'Hope van Dyne',\n",
       " 'Darren Cross / Yellowjacket',\n",
       " 'Luis',\n",
       " 'Cassie',\n",
       " 'Officer Jim Paxton',\n",
       " 'Dave',\n",
       " 'Maggie Lang',\n",
       " 'Mitchell Carson',\n",
       " 'Gale',\n",
       " 'Janet van Dyne',\n",
       " 'Zemo',\n",
       " 'Peter Parker / Spider-Man',\n",
       " 'Secretary Thaddeus Ross',\n",
       " 'Maria Stark',\n",
       " \"T'Chaka\",\n",
       " 'Everett Ross',\n",
       " 'Aunt May',\n",
       " 'Ayo',\n",
       " 'Doctor Strange',\n",
       " 'Mordo',\n",
       " 'The Ancient One',\n",
       " 'Kaecilius',\n",
       " 'Dr. Christine Palmer',\n",
       " 'Wong',\n",
       " 'Lucian',\n",
       " 'Jonathan Pangborn',\n",
       " 'Dormammu',\n",
       " 'Dr. Nicodemus West',\n",
       " 'Ego',\n",
       " 'Mantis',\n",
       " 'Taserface',\n",
       " 'Ayesha',\n",
       " 'Stakar Ogord',\n",
       " \"Martinex T'Naga\",\n",
       " 'Aleta Ogord',\n",
       " 'Mainframe',\n",
       " 'Vulture',\n",
       " 'Ned Leeds',\n",
       " 'Liz Toomes',\n",
       " 'Herman Schultz / The Shocker',\n",
       " 'Phineas Mason / Tinkerer',\n",
       " 'MJ',\n",
       " 'Aaron Davis',\n",
       " 'Flash Thompson',\n",
       " 'Mac Gargan',\n",
       " 'Betty Brant',\n",
       " 'Ann Marie Hoag',\n",
       " 'Jason Ionello',\n",
       " 'Karen',\n",
       " 'Valkyrie',\n",
       " 'Hela',\n",
       " 'Skurge',\n",
       " 'The Grandmaster',\n",
       " 'Korg',\n",
       " 'Surtur',\n",
       " 'Topaz',\n",
       " 'Fenriswolf',\n",
       " 'Miek',\n",
       " 'Black Panther',\n",
       " 'Killmonger',\n",
       " 'Nakia',\n",
       " 'Shuri',\n",
       " 'Okoye',\n",
       " \"W'Kabi\",\n",
       " 'Ramonda',\n",
       " \"M'Baku\",\n",
       " \"N'Jobu\",\n",
       " 'Xoliswa',\n",
       " 'Ebony Maw',\n",
       " 'Proxima Midnight',\n",
       " 'Cull Obsidian',\n",
       " 'Corvus Glaive',\n",
       " 'Eitri',\n",
       " 'Cindy Moon',\n",
       " 'Ava Starr / Ghost',\n",
       " 'Dr. Bill Foster',\n",
       " 'Sonny Burch',\n",
       " 'Agent James Woo',\n",
       " 'Uzman',\n",
       " 'Anitolov',\n",
       " 'Elihas Starr',\n",
       " 'Captain Marvel',\n",
       " 'Talos',\n",
       " 'Yon-Rogg',\n",
       " 'Maria Rambeau',\n",
       " 'Monica Rambeau',\n",
       " 'Goose',\n",
       " 'Mar-Vell / Dr. Wendy Lawson',\n",
       " 'Att-Lass',\n",
       " 'Bron-Char',\n",
       " 'Soren',\n",
       " 'Morgan Stark',\n",
       " 'Lila Barton',\n",
       " 'Akihiko',\n",
       " 'Cooper Barton',\n",
       " 'Edwin Jarvis',\n",
       " 'Queen Ramonda',\n",
       " 'Mysterio',\n",
       " 'Brad Davis',\n",
       " 'Julius Dell',\n",
       " 'Josh',\n",
       " 'Zoha',\n",
       " 'Zach',\n",
       " 'Sebastian',\n",
       " 'Dimitri',\n",
       " 'J. Jonah Jameson',\n",
       " 'Agatha Harkness / \"Agnes\"',\n",
       " 'Jimmy Woo',\n",
       " 'Dr. Darcy Lewis',\n",
       " 'Tommy Maximoff',\n",
       " 'Billy Maximoff',\n",
       " 'Director Tyler Hayward',\n",
       " 'Ralph Boehner / \"Pietro Maximoff\"',\n",
       " 'Sharon Davis / \"Mrs. Hart\"',\n",
       " 'John Collins / \"Herb\"',\n",
       " 'Abilash Tandon / \"Norm\"',\n",
       " 'Sarah Proctor / \"Dottie\"',\n",
       " 'Agent Rodriguez',\n",
       " 'Harold Proctor / \"Phil\"',\n",
       " 'Isabel Matsueda / \"Beverly\"',\n",
       " 'Sparky',\n",
       " 'Iryan Maximoff',\n",
       " 'John Walker / Captain America',\n",
       " 'Karli Morgenthau',\n",
       " ' Zemo',\n",
       " 'Sarah Wilson',\n",
       " 'Lemar Hoskins / Battlestar',\n",
       " 'Isaiah Bradley',\n",
       " 'Dovich',\n",
       " 'Joaquin Torres',\n",
       " 'Dr. Christina Raynor',\n",
       " 'Olivia Walker',\n",
       " 'Contessa Valentina Allegra de Fontaine',\n",
       " 'Eli Bradley',\n",
       " 'Sylvie',\n",
       " 'Mobius',\n",
       " 'Judge Renslayer',\n",
       " 'Hunter B-15',\n",
       " '\"He Who Remains\"',\n",
       " 'Classic Loki',\n",
       " 'Kid Loki',\n",
       " 'Hunter C-20',\n",
       " 'Miss Minutes',\n",
       " 'Black Loki',\n",
       " 'Gator Loki',\n",
       " 'Casey',\n",
       " 'Lady Sif',\n",
       " 'President Loki',\n",
       " 'Yelena Belova',\n",
       " 'Alexei Shostakov',\n",
       " 'Melina Vostkoff',\n",
       " 'General Viktor Dreykov',\n",
       " 'Antonia Dreykov / Taskmaster',\n",
       " 'Rick Mason',\n",
       " 'Lerato',\n",
       " 'Oksana',\n",
       " 'Contessa Valentina de Fontaine',\n",
       " 'Thaddeus Ross',\n",
       " 'Xu Shang-Chi / \"Shaun\"',\n",
       " 'Katy Chen',\n",
       " 'Xu Wenwu',\n",
       " 'Xu Xialing',\n",
       " 'Ying Nan',\n",
       " 'Ying Li',\n",
       " 'Trevor Slattery',\n",
       " 'Razor Fist',\n",
       " 'Morris',\n",
       " 'The Great Protector',\n",
       " 'The Dweller in Darkness',\n",
       " 'Soo',\n",
       " 'John',\n",
       " 'Death Dealer',\n",
       " 'Master Guang Bo',\n",
       " 'Emil Blonsky / Abomination',\n",
       " 'Sersi',\n",
       " 'Ikaris',\n",
       " 'Thena',\n",
       " 'Sprite',\n",
       " 'Kingo',\n",
       " 'Druig',\n",
       " 'Ajak',\n",
       " 'Makkari',\n",
       " 'Gilgamesh',\n",
       " 'Dane Whitman',\n",
       " 'Kro',\n",
       " 'Karun',\n",
       " 'Tiamut',\n",
       " 'Jack',\n",
       " 'Arishem',\n",
       " 'Ben',\n",
       " 'Eros / Starfox',\n",
       " 'Kate Bishop / Hawkeye',\n",
       " 'Eleanor Bishop',\n",
       " 'Maya Lopez / Echo',\n",
       " 'Kazi Kazimierczak',\n",
       " 'Jack Duquesne',\n",
       " 'Ivan',\n",
       " 'Wilson Fisk / Kingpin',\n",
       " 'Tomas',\n",
       " 'Lucky the Pizza Dog',\n",
       " 'Armand Duquesne',\n",
       " 'Missy',\n",
       " 'William Lopez',\n",
       " 'Wendy',\n",
       " 'Orville',\n",
       " 'Derek Bishop',\n",
       " 'Norman Osborn / Green Goblin',\n",
       " 'Max Dillon / Electro',\n",
       " 'Flint Marko / Sandman',\n",
       " 'Dr. Curt Connors / Lizard',\n",
       " 'Eddie Brock',\n",
       " 'Daredevil',\n",
       " 'Moon Knight',\n",
       " 'Layla Al-Faouly',\n",
       " 'Arthur Harrow',\n",
       " 'Khonshu',\n",
       " 'Taweret',\n",
       " 'Bobbi Fitzgerald',\n",
       " 'Selim',\n",
       " 'Ammit',\n",
       " 'Barry Kennedy',\n",
       " 'Anton Mogart',\n",
       " 'Yatzil',\n",
       " 'Elias Spector',\n",
       " 'Wendy Spector',\n",
       " 'Randall Spector',\n",
       " 'America Chavez',\n",
       " 'Gargantos',\n",
       " 'Professor Charles Xavier',\n",
       " 'Dr. Reed Richards / Mr. Fantastic',\n",
       " 'Pizza Poppa',\n",
       " 'Sara',\n",
       " 'Daniel Drumm',\n",
       " 'Ms. Marvel',\n",
       " 'Bruno Carrelli',\n",
       " 'Muneeba Khan',\n",
       " 'Kamran',\n",
       " 'Yusuf Khan',\n",
       " 'Sana',\n",
       " 'Aisha',\n",
       " 'Najma',\n",
       " 'Kareem / Red Dagger',\n",
       " 'Aamir Khan',\n",
       " 'Hasan',\n",
       " 'Zoe Zimmer',\n",
       " 'Agent Sadie Deever',\n",
       " 'Tyesha Hillman Khan',\n",
       " 'Sheikh Abdullah',\n",
       " 'Fariha',\n",
       " 'Waleed',\n",
       " 'Saleem',\n",
       " 'Aadam',\n",
       " 'Agent Cleary',\n",
       " 'Auntie Ruby',\n",
       " 'Gabe Wilson',\n",
       " 'Zainab',\n",
       " 'Miguel',\n",
       " 'Gorr the God Butcher',\n",
       " 'Zeus',\n",
       " 'Love',\n",
       " 'Axl Heimdallson',\n",
       " 'King Yakan',\n",
       " 'Actor Loki',\n",
       " 'Actor Hela',\n",
       " 'Darryl',\n",
       " 'Hecules',\n",
       " 'She-Hulk',\n",
       " 'Nikki Ramos',\n",
       " 'Dr. Bruce Banner / Hulk',\n",
       " 'Mallory Book',\n",
       " 'Augustus \"Pug\" Pugilese',\n",
       " 'Mary MacPherran / Titania',\n",
       " 'Todd Phelps',\n",
       " 'Luke Jacobson',\n",
       " 'Holden Holliway',\n",
       " 'Wrecker',\n",
       " 'Man-Bull',\n",
       " 'Dennis \"Buck\" Bukowski',\n",
       " 'Morris Walters',\n",
       " 'Porcupine',\n",
       " 'Cornelius P. Willows',\n",
       " 'Elaine Walters',\n",
       " 'Jack Russell',\n",
       " 'Elsa Bloodstone',\n",
       " 'Verusa Bloodstone',\n",
       " 'Ted / Man-Thing',\n",
       " 'Jovan',\n",
       " 'Barasso',\n",
       " 'Ulysses Bloodstone',\n",
       " 'Namor',\n",
       " 'Riri Williams / Ironheart',\n",
       " 'Aneka',\n",
       " 'Namora',\n",
       " 'Attuma',\n",
       " 'Director Valentina Allegra de Fontaine',\n",
       " \"Princess Fen (Namor's mother)\",\n",
       " \"Toussaint / T'Challa II\",\n",
       " 'Shaman Sope',\n",
       " 'Zawavari',\n",
       " 'U.S. Secretary of State',\n",
       " 'Kevin Bacon',\n",
       " 'Bzermiktoklok',\n",
       " 'Cosmo the Space Dog']"
      ]
     },
     "execution_count": 15,
     "metadata": {},
     "output_type": "execute_result"
    }
   ],
   "source": [
    "char_movie_matrix.index.tolist()\n",
    "def convert_time_to_mins(matrix):\n",
    "\t\"\"\"Method that converts time of the format mm:ss or :ss or mm to minutes in float\"\"\"\n",
    "\t# Iterating over each character\n",
    "\tfor character in matrix.index:\n",
    "\t\t# Iterating over each movie\n",
    "\t\tfor movie in matrix.columns:\n",
    "\t\t\t# Current value of the cell in the matrix\n",
    "\t\t\tvalue = matrix.loc[character][movie]\n",
    "\t\t\t# Iterating over non NaN values only\n",
    "\t\t\tif str(value) != 'nan':\n",
    "\t\t\t\t# To convert strings of the format mm:ss\n",
    "\t\t\t\tif re.match(r'\\d+:\\d+', value):\n",
    "\t\t\t\t\tmatrix.loc[character][movie] = float(value.split(':')[0]) + float(value.split(':')[1])/60\n",
    "\t\t\t\t# To convert strings of the format :ss\n",
    "\t\t\t\telif re.match(r'^:\\d+', value):\n",
    "\t\t\t\t\tmatrix.loc[character][movie] = float(value.split(':')[1])/60\n",
    "\t\t\t\t# To convert strings of the format mm\n",
    "\t\t\t\telif re.match(r'\\b\\d+\\b(?!:)', value):\n",
    "\t\t\t\t\tmatrix.loc[character][movie] = float(value)\n",
    "\t\t\t\t# Other formats assigned as NaN\n",
    "\t\t\t\telse:\n",
    "\t\t\t\t\tmatrix.loc[character][movie] = np.nan\n",
    "\t\t\t# NaN values reassigned as NaN\n",
    "\t\t\telse:\n",
    "\t\t\t\tmatrix.loc[character][movie] = np.nan\n",
    "\treturn matrix\n",
    "char_movie_matrix = convert_time_to_mins(char_movie_matrix)\n",
    "\n",
    "char_movie_matrix['Total de tiempo en pantalla'] = char_movie_matrix.loc[:,:].sum(axis=1, skipna=True)\n",
    "char_movie_matrix = char_movie_matrix.sort_values(by='Total de tiempo en pantalla', ascending=False)\n",
    "char_movie_matrix = char_movie_matrix.fillna(0)\n",
    "char_movie_matrix = char_movie_matrix[char_movie_matrix['Total de tiempo en pantalla'] != 0]\n",
    "data = char_movie_matrix.head(20)\n",
    "plt.figure(figsize=(15, 6))\n",
    "data['Personajes'] = list(map(lambda x: '\\n'.join(x.split(' ')),data.index))\n",
    "sns.barplot(x='Personajes', y='Total de tiempo en pantalla', data=data);\n",
    "apariciones_pj = OrderedDict()\n",
    "for pj in char_movie_matrix.index:\n",
    "    columnas_no_cero = char_movie_matrix.loc[pj, (char_movie_matrix.loc[pj] != 0) & (char_movie_matrix.loc[pj].apply(isinstance, args=(float,)))].index.tolist()\n",
    "    apariciones_pj[pj]=columnas_no_cero[0:-1]\n",
    "\n",
    "\n",
    "for i in apariciones_pj.keys():\n",
    "    if re.match(r'.*Sara.*',i):\n",
    "        print (i,apariciones_pj[i])\n",
    "from itertools import islice\n",
    "ordenado_por_longitud = OrderedDict(sorted(apariciones_pj.items(), key=lambda x: len(x[1]), reverse=True))\n",
    "\n",
    "# Mostrar el resultado\n",
    "for clave, valor in islice(ordenado_por_longitud.items(), 4):\n",
    "    print(f'{clave}: {(valor)}')\n",
    "claves = list(ordenado_por_longitud.keys())[:15]\n",
    "\n",
    "longitudes = [len(ordenado_por_longitud[clave]) for clave in claves]\n",
    "claves = list(map(lambda x: '\\n'.join(x.split(' ')),claves))\n",
    "\n",
    "# Crear el gráfico de barras\n",
    "plt.figure(figsize=(15, 6))\n",
    "plt.bar(claves, longitudes)\n",
    "\n",
    "# Añadir etiquetas y título\n",
    "plt.xlabel('Personajes')\n",
    "plt.ylabel('nº de peliculas')\n",
    "plt.title('nº total de peliculas en las que aparecen los personajes');\n",
    "char_movie_matrix[char_movie_matrix['Spider-Man: Homecoming'] != 0]['Spider-Man: Homecoming'].sort_values(ascending=False)\n",
    "def grafico_char_tiempo_pelicula (pelicula):\n",
    "    data = pd.DataFrame(char_movie_matrix[char_movie_matrix[pelicula] != 0][pelicula].sort_values(ascending=False))\n",
    "    plt.figure(figsize=(15, 6))\n",
    "    data['Personajes'] = list(map(lambda x: '\\n'.join(x.split(' ')),data.index))\n",
    "    sns.barplot(x='Personajes', y=pelicula, data=data)\n",
    "\n",
    "grafico_char_tiempo_pelicula ('Spider-Man: No Way Home')\n",
    "\n",
    "def grafico_peliculas_del_char (char):\n",
    "    peliculas = {}\n",
    "    for peli in apariciones_pj[char]:\n",
    "        peliculas[peli] = char_movie_matrix.loc[char][peli]\n",
    "    plt.figure(figsize=(20, 6))\n",
    "    pelis = list(map(lambda x: '\\n'.join(x.split(' ')),list(peliculas.keys())))\n",
    "    sns.barplot(x=pelis, y=list(peliculas.values()))\n",
    "    plt.title(char)\n",
    "    plt.xlabel('Peliculas')\n",
    "    plt.ylabel('Tiempo en pantalla');\n",
    "\n",
    "grafico_peliculas_del_char ('Valkyrie')\n",
    "\n",
    "columna_tiempo_total_peliculas_char = []\n",
    "for char in char_movie_matrix.index:\n",
    "    tiempo_total_peliculas_char = 0\n",
    "    for peli in apariciones_pj[char]:\n",
    "        tiempo_total_peliculas_char += float(movie_lengths[peli])\n",
    "    columna_tiempo_total_peliculas_char.append(tiempo_total_peliculas_char)\n",
    "\n",
    "columna_porcentage_tiempo_pantalla = []\n",
    "suma_tiempos = list(dict(char_movie_matrix['Total de tiempo en pantalla']).values())\n",
    "for i in range(len(columna_tiempo_total_peliculas_char)):\n",
    "    columna_porcentage_tiempo_pantalla.append((suma_tiempos[i]/columna_tiempo_total_peliculas_char[i])*100)\n",
    "columna_porcentage_tiempo_pantalla\n",
    "nueva_fila = pd.DataFrame([movie_lengths])\n",
    "nueva_fila = convert_time_to_mins(nueva_fila)\n",
    "nuevo_df = (char_movie_matrix.iloc[:, :-1].div(nueva_fila.iloc[0]))*100\n",
    "nuevo_df\n",
    "def grafico_pie_t_pantalla (pelicula):    \n",
    "    df = char_movie_matrix[char_movie_matrix[pelicula] != 0]\n",
    "    pie1 = df[pelicula]\n",
    "    pie1_list = list(pie1.values)\n",
    "    pie1_list = [round(each,2) for each in pie1_list]\n",
    "    labels = df.index\n",
    "\n",
    "    # Figure\n",
    "    fig = make_subplots(rows=1, cols=1, specs=[[{'type': 'pie'}]])\n",
    "\n",
    "    fig.add_trace(\n",
    "        go.Pie(\n",
    "            labels=labels,\n",
    "            values=pie1_list,\n",
    "            textinfo='value',\n",
    "            hoverinfo=\"label+value\",\n",
    "            hole=0.3,\n",
    "        ),\n",
    "        row=1, col=1\n",
    "        \n",
    "    )\n",
    "\n",
    "    fig.update_layout(\n",
    "        title=\"Tiempo en pantalla en \" + pelicula + ' (' + movie_lengths[pelicula] +')',\n",
    "        annotations=[\n",
    "            {\n",
    "                \"font\": {\"size\": 20},\n",
    "                \"showarrow\": False,\n",
    "                \"text\": pelicula,\n",
    "                \"x\": 0.5,\n",
    "                \"y\": 1.07,\n",
    "            }\n",
    "        ],\n",
    "        height=700,  # Ajusta la altura del gráfico\n",
    "        width=900,   # Ajusta el ancho del gráfico\n",
    "    )\n",
    "\n",
    "    fig.show()\n",
    "\n",
    "grafico_pie_t_pantalla('Ojo de Halcón')"
   ]
  },
  {
   "cell_type": "code",
   "execution_count": 16,
   "metadata": {},
   "outputs": [],
   "source": [
    "def convert_time_to_mins(matrix):\n",
    "\t\"\"\"Method that converts time of the format mm:ss or :ss or mm to minutes in float\"\"\"\n",
    "\t# Iterating over each character\n",
    "\tfor character in matrix.index:\n",
    "\t\t# Iterating over each movie\n",
    "\t\tfor movie in matrix.columns:\n",
    "\t\t\t# Current value of the cell in the matrix\n",
    "\t\t\tvalue = matrix.loc[character][movie]\n",
    "\t\t\t# Iterating over non NaN values only\n",
    "\t\t\tif str(value) != 'nan':\n",
    "\t\t\t\t# To convert strings of the format mm:ss\n",
    "\t\t\t\tif re.match(r'\\d+:\\d+', value):\n",
    "\t\t\t\t\tmatrix.loc[character][movie] = float(value.split(':')[0]) + float(value.split(':')[1])/60\n",
    "\t\t\t\t# To convert strings of the format :ss\n",
    "\t\t\t\telif re.match(r'^:\\d+', value):\n",
    "\t\t\t\t\tmatrix.loc[character][movie] = float(value.split(':')[1])/60\n",
    "\t\t\t\t# To convert strings of the format mm\n",
    "\t\t\t\telif re.match(r'\\b\\d+\\b(?!:)', value):\n",
    "\t\t\t\t\tmatrix.loc[character][movie] = float(value)\n",
    "\t\t\t\t# Other formats assigned as NaN\n",
    "\t\t\t\telse:\n",
    "\t\t\t\t\tmatrix.loc[character][movie] = np.nan\n",
    "\t\t\t# NaN values reassigned as NaN\n",
    "\t\t\telse:\n",
    "\t\t\t\tmatrix.loc[character][movie] = np.nan\n",
    "\treturn matrix\n",
    "char_movie_matrix = convert_time_to_mins(char_movie_matrix)\n",
    "\n",
    "char_movie_matrix['Total de tiempo en pantalla'] = char_movie_matrix.loc[:,:].sum(axis=1, skipna=True)\n",
    "char_movie_matrix = char_movie_matrix.sort_values(by='Total de tiempo en pantalla', ascending=False)\n",
    "char_movie_matrix = char_movie_matrix.fillna(0)\n",
    "char_movie_matrix = char_movie_matrix[char_movie_matrix['Total de tiempo en pantalla'] != 0]\n",
    "data = char_movie_matrix.head(20)\n",
    "plt.figure(figsize=(15, 6))\n",
    "data['Personajes'] = list(map(lambda x: '\\n'.join(x.split(' ')),data.index))\n",
    "sns.barplot(x='Personajes', y='Total de tiempo en pantalla', data=data);\n",
    "apariciones_pj = OrderedDict()\n",
    "for pj in char_movie_matrix.index:\n",
    "    columnas_no_cero = char_movie_matrix.loc[pj, (char_movie_matrix.loc[pj] != 0) & (char_movie_matrix.loc[pj].apply(isinstance, args=(float,)))].index.tolist()\n",
    "    apariciones_pj[pj]=columnas_no_cero[0:-1]\n",
    "\n",
    "\n",
    "for i in apariciones_pj.keys():\n",
    "    if re.match(r'.*Sara.*',i):\n",
    "        print (i,apariciones_pj[i])\n",
    "from itertools import islice\n",
    "ordenado_por_longitud = OrderedDict(sorted(apariciones_pj.items(), key=lambda x: len(x[1]), reverse=True))\n",
    "\n",
    "# Mostrar el resultado\n",
    "for clave, valor in islice(ordenado_por_longitud.items(), 4):\n",
    "    print(f'{clave}: {(valor)}')\n",
    "claves = list(ordenado_por_longitud.keys())[:15]\n",
    "\n",
    "longitudes = [len(ordenado_por_longitud[clave]) for clave in claves]\n",
    "claves = list(map(lambda x: '\\n'.join(x.split(' ')),claves))\n",
    "\n",
    "# Crear el gráfico de barras\n",
    "plt.figure(figsize=(15, 6))\n",
    "plt.bar(claves, longitudes)\n",
    "\n",
    "# Añadir etiquetas y título\n",
    "plt.xlabel('Personajes')\n",
    "plt.ylabel('nº de peliculas')\n",
    "plt.title('nº total de peliculas en las que aparecen los personajes');\n",
    "char_movie_matrix[char_movie_matrix['Spider-Man: Homecoming'] != 0]['Spider-Man: Homecoming'].sort_values(ascending=False)\n",
    "def grafico_char_tiempo_pelicula (pelicula):\n",
    "    data = pd.DataFrame(char_movie_matrix[char_movie_matrix[pelicula] != 0][pelicula].sort_values(ascending=False))\n",
    "    plt.figure(figsize=(15, 6))\n",
    "    data['Personajes'] = list(map(lambda x: '\\n'.join(x.split(' ')),data.index))\n",
    "    sns.barplot(x='Personajes', y=pelicula, data=data)\n",
    "\n",
    "grafico_char_tiempo_pelicula ('Spider-Man: No Way Home')\n",
    "\n",
    "def grafico_peliculas_del_char (char):\n",
    "    peliculas = {}\n",
    "    for peli in apariciones_pj[char]:\n",
    "        peliculas[peli] = char_movie_matrix.loc[char][peli]\n",
    "    plt.figure(figsize=(20, 6))\n",
    "    pelis = list(map(lambda x: '\\n'.join(x.split(' ')),list(peliculas.keys())))\n",
    "    sns.barplot(x=pelis, y=list(peliculas.values()))\n",
    "    plt.title(char)\n",
    "    plt.xlabel('Peliculas')\n",
    "    plt.ylabel('Tiempo en pantalla');\n",
    "\n",
    "grafico_peliculas_del_char ('Valkyrie')\n",
    "\n",
    "columna_tiempo_total_peliculas_char = []\n",
    "for char in char_movie_matrix.index:\n",
    "    tiempo_total_peliculas_char = 0\n",
    "    for peli in apariciones_pj[char]:\n",
    "        tiempo_total_peliculas_char += float(movie_lengths[peli])\n",
    "    columna_tiempo_total_peliculas_char.append(tiempo_total_peliculas_char)\n",
    "\n",
    "columna_porcentage_tiempo_pantalla = []\n",
    "suma_tiempos = list(dict(char_movie_matrix['Total de tiempo en pantalla']).values())\n",
    "for i in range(len(columna_tiempo_total_peliculas_char)):\n",
    "    columna_porcentage_tiempo_pantalla.append((suma_tiempos[i]/columna_tiempo_total_peliculas_char[i])*100)\n",
    "columna_porcentage_tiempo_pantalla\n",
    "nueva_fila = pd.DataFrame([movie_lengths])\n",
    "nueva_fila = convert_time_to_mins(nueva_fila)\n",
    "nuevo_df = (char_movie_matrix.iloc[:, :-1].div(nueva_fila.iloc[0]))*100\n",
    "nuevo_df\n",
    "def grafico_pie_t_pantalla (pelicula):    \n",
    "    df = char_movie_matrix[char_movie_matrix[pelicula] != 0]\n",
    "    pie1 = df[pelicula]\n",
    "    pie1_list = list(pie1.values)\n",
    "    pie1_list = [round(each,2) for each in pie1_list]\n",
    "    labels = df.index\n",
    "\n",
    "    # Figure\n",
    "    fig = make_subplots(rows=1, cols=1, specs=[[{'type': 'pie'}]])\n",
    "\n",
    "    fig.add_trace(\n",
    "        go.Pie(\n",
    "            labels=labels,\n",
    "            values=pie1_list,\n",
    "            textinfo='value',\n",
    "            hoverinfo=\"label+value\",\n",
    "            hole=0.3,\n",
    "        ),\n",
    "        row=1, col=1\n",
    "        \n",
    "    )\n",
    "\n",
    "    fig.update_layout(\n",
    "        title=\"Tiempo en pantalla en \" + pelicula + ' (' + movie_lengths[pelicula] +')',\n",
    "        annotations=[\n",
    "            {\n",
    "                \"font\": {\"size\": 20},\n",
    "                \"showarrow\": False,\n",
    "                \"text\": pelicula,\n",
    "                \"x\": 0.5,\n",
    "                \"y\": 1.07,\n",
    "            }\n",
    "        ],\n",
    "        height=700,  # Ajusta la altura del gráfico\n",
    "        width=900,   # Ajusta el ancho del gráfico\n",
    "    )\n",
    "\n",
    "    fig.show()\n",
    "\n",
    "grafico_pie_t_pantalla('Ojo de Halcón')"
   ]
  },
  {
   "cell_type": "code",
   "execution_count": 17,
   "metadata": {},
   "outputs": [],
   "source": [
    "char_movie_matrix = convert_time_to_mins(char_movie_matrix)\n",
    "\n",
    "char_movie_matrix['Total de tiempo en pantalla'] = char_movie_matrix.loc[:,:].sum(axis=1, skipna=True)\n",
    "char_movie_matrix = char_movie_matrix.sort_values(by='Total de tiempo en pantalla', ascending=False)\n",
    "char_movie_matrix = char_movie_matrix.fillna(0)\n",
    "char_movie_matrix = char_movie_matrix[char_movie_matrix['Total de tiempo en pantalla'] != 0]\n",
    "data = char_movie_matrix.head(20)\n",
    "plt.figure(figsize=(15, 6))\n",
    "data['Personajes'] = list(map(lambda x: '\\n'.join(x.split(' ')),data.index))\n",
    "sns.barplot(x='Personajes', y='Total de tiempo en pantalla', data=data);\n",
    "apariciones_pj = OrderedDict()\n",
    "for pj in char_movie_matrix.index:\n",
    "    columnas_no_cero = char_movie_matrix.loc[pj, (char_movie_matrix.loc[pj] != 0) & (char_movie_matrix.loc[pj].apply(isinstance, args=(float,)))].index.tolist()\n",
    "    apariciones_pj[pj]=columnas_no_cero[0:-1]\n",
    "\n",
    "\n",
    "for i in apariciones_pj.keys():\n",
    "    if re.match(r'.*Sara.*',i):\n",
    "        print (i,apariciones_pj[i])\n",
    "from itertools import islice\n",
    "ordenado_por_longitud = OrderedDict(sorted(apariciones_pj.items(), key=lambda x: len(x[1]), reverse=True))\n",
    "\n",
    "# Mostrar el resultado\n",
    "for clave, valor in islice(ordenado_por_longitud.items(), 4):\n",
    "    print(f'{clave}: {(valor)}')\n",
    "claves = list(ordenado_por_longitud.keys())[:15]\n",
    "\n",
    "longitudes = [len(ordenado_por_longitud[clave]) for clave in claves]\n",
    "claves = list(map(lambda x: '\\n'.join(x.split(' ')),claves))\n",
    "\n",
    "# Crear el gráfico de barras\n",
    "plt.figure(figsize=(15, 6))\n",
    "plt.bar(claves, longitudes)\n",
    "\n",
    "# Añadir etiquetas y título\n",
    "plt.xlabel('Personajes')\n",
    "plt.ylabel('nº de peliculas')\n",
    "plt.title('nº total de peliculas en las que aparecen los personajes');\n",
    "char_movie_matrix[char_movie_matrix['Spider-Man: Homecoming'] != 0]['Spider-Man: Homecoming'].sort_values(ascending=False)\n",
    "def grafico_char_tiempo_pelicula (pelicula):\n",
    "    data = pd.DataFrame(char_movie_matrix[char_movie_matrix[pelicula] != 0][pelicula].sort_values(ascending=False))\n",
    "    plt.figure(figsize=(15, 6))\n",
    "    data['Personajes'] = list(map(lambda x: '\\n'.join(x.split(' ')),data.index))\n",
    "    sns.barplot(x='Personajes', y=pelicula, data=data)\n",
    "\n",
    "grafico_char_tiempo_pelicula ('Spider-Man: No Way Home')\n",
    "\n",
    "def grafico_peliculas_del_char (char):\n",
    "    peliculas = {}\n",
    "    for peli in apariciones_pj[char]:\n",
    "        peliculas[peli] = char_movie_matrix.loc[char][peli]\n",
    "    plt.figure(figsize=(20, 6))\n",
    "    pelis = list(map(lambda x: '\\n'.join(x.split(' ')),list(peliculas.keys())))\n",
    "    sns.barplot(x=pelis, y=list(peliculas.values()))\n",
    "    plt.title(char)\n",
    "    plt.xlabel('Peliculas')\n",
    "    plt.ylabel('Tiempo en pantalla');\n",
    "\n",
    "grafico_peliculas_del_char ('Valkyrie')\n",
    "\n",
    "columna_tiempo_total_peliculas_char = []\n",
    "for char in char_movie_matrix.index:\n",
    "    tiempo_total_peliculas_char = 0\n",
    "    for peli in apariciones_pj[char]:\n",
    "        tiempo_total_peliculas_char += float(movie_lengths[peli])\n",
    "    columna_tiempo_total_peliculas_char.append(tiempo_total_peliculas_char)\n",
    "\n",
    "columna_porcentage_tiempo_pantalla = []\n",
    "suma_tiempos = list(dict(char_movie_matrix['Total de tiempo en pantalla']).values())\n",
    "for i in range(len(columna_tiempo_total_peliculas_char)):\n",
    "    columna_porcentage_tiempo_pantalla.append((suma_tiempos[i]/columna_tiempo_total_peliculas_char[i])*100)\n",
    "columna_porcentage_tiempo_pantalla\n",
    "nueva_fila = pd.DataFrame([movie_lengths])\n",
    "nueva_fila = convert_time_to_mins(nueva_fila)\n",
    "nuevo_df = (char_movie_matrix.iloc[:, :-1].div(nueva_fila.iloc[0]))*100\n",
    "nuevo_df\n",
    "def grafico_pie_t_pantalla (pelicula):    \n",
    "    df = char_movie_matrix[char_movie_matrix[pelicula] != 0]\n",
    "    pie1 = df[pelicula]\n",
    "    pie1_list = list(pie1.values)\n",
    "    pie1_list = [round(each,2) for each in pie1_list]\n",
    "    labels = df.index\n",
    "\n",
    "    # Figure\n",
    "    fig = make_subplots(rows=1, cols=1, specs=[[{'type': 'pie'}]])\n",
    "\n",
    "    fig.add_trace(\n",
    "        go.Pie(\n",
    "            labels=labels,\n",
    "            values=pie1_list,\n",
    "            textinfo='value',\n",
    "            hoverinfo=\"label+value\",\n",
    "            hole=0.3,\n",
    "        ),\n",
    "        row=1, col=1\n",
    "        \n",
    "    )\n",
    "\n",
    "    fig.update_layout(\n",
    "        title=\"Tiempo en pantalla en \" + pelicula + ' (' + movie_lengths[pelicula] +')',\n",
    "        annotations=[\n",
    "            {\n",
    "                \"font\": {\"size\": 20},\n",
    "                \"showarrow\": False,\n",
    "                \"text\": pelicula,\n",
    "                \"x\": 0.5,\n",
    "                \"y\": 1.07,\n",
    "            }\n",
    "        ],\n",
    "        height=700,  # Ajusta la altura del gráfico\n",
    "        width=900,   # Ajusta el ancho del gráfico\n",
    "    )\n",
    "\n",
    "    fig.show()\n",
    "\n",
    "grafico_pie_t_pantalla('Ojo de Halcón')"
   ]
  },
  {
   "cell_type": "code",
   "execution_count": 18,
   "metadata": {},
   "outputs": [
    {
     "name": "stderr",
     "output_type": "stream",
     "text": [
      "C:\\Users\\lache\\AppData\\Local\\Temp\\ipykernel_17740\\2284275073.py:1: SettingWithCopyWarning:\n",
      "\n",
      "\n",
      "A value is trying to be set on a copy of a slice from a DataFrame.\n",
      "Try using .loc[row_indexer,col_indexer] = value instead\n",
      "\n",
      "See the caveats in the documentation: https://pandas.pydata.org/pandas-docs/stable/user_guide/indexing.html#returning-a-view-versus-a-copy\n",
      "\n"
     ]
    }
   ],
   "source": [
    "char_movie_matrix['Total de tiempo en pantalla'] = char_movie_matrix.loc[:,:].sum(axis=1, skipna=True)\n",
    "char_movie_matrix = char_movie_matrix.sort_values(by='Total de tiempo en pantalla', ascending=False)\n",
    "char_movie_matrix = char_movie_matrix.fillna(0)\n",
    "char_movie_matrix = char_movie_matrix[char_movie_matrix['Total de tiempo en pantalla'] != 0]\n",
    "data = char_movie_matrix.head(20)\n",
    "plt.figure(figsize=(15, 6))\n",
    "data['Personajes'] = list(map(lambda x: '\\n'.join(x.split(' ')),data.index))\n",
    "sns.barplot(x='Personajes', y='Total de tiempo en pantalla', data=data);\n",
    "apariciones_pj = OrderedDict()\n",
    "for pj in char_movie_matrix.index:\n",
    "    columnas_no_cero = char_movie_matrix.loc[pj, (char_movie_matrix.loc[pj] != 0) & (char_movie_matrix.loc[pj].apply(isinstance, args=(float,)))].index.tolist()\n",
    "    apariciones_pj[pj]=columnas_no_cero[0:-1]\n",
    "\n",
    "\n",
    "for i in apariciones_pj.keys():\n",
    "    if re.match(r'.*Sara.*',i):\n",
    "        print (i,apariciones_pj[i])\n",
    "from itertools import islice\n",
    "ordenado_por_longitud = OrderedDict(sorted(apariciones_pj.items(), key=lambda x: len(x[1]), reverse=True))\n",
    "\n",
    "# Mostrar el resultado\n",
    "for clave, valor in islice(ordenado_por_longitud.items(), 4):\n",
    "    print(f'{clave}: {(valor)}')\n",
    "claves = list(ordenado_por_longitud.keys())[:15]\n",
    "\n",
    "longitudes = [len(ordenado_por_longitud[clave]) for clave in claves]\n",
    "claves = list(map(lambda x: '\\n'.join(x.split(' ')),claves))\n",
    "\n",
    "# Crear el gráfico de barras\n",
    "plt.figure(figsize=(15, 6))\n",
    "plt.bar(claves, longitudes)\n",
    "\n",
    "# Añadir etiquetas y título\n",
    "plt.xlabel('Personajes')\n",
    "plt.ylabel('nº de peliculas')\n",
    "plt.title('nº total de peliculas en las que aparecen los personajes');\n",
    "char_movie_matrix[char_movie_matrix['Spider-Man: Homecoming'] != 0]['Spider-Man: Homecoming'].sort_values(ascending=False)\n",
    "def grafico_char_tiempo_pelicula (pelicula):\n",
    "    data = pd.DataFrame(char_movie_matrix[char_movie_matrix[pelicula] != 0][pelicula].sort_values(ascending=False))\n",
    "    plt.figure(figsize=(15, 6))\n",
    "    data['Personajes'] = list(map(lambda x: '\\n'.join(x.split(' ')),data.index))\n",
    "    sns.barplot(x='Personajes', y=pelicula, data=data)\n",
    "\n",
    "grafico_char_tiempo_pelicula ('Spider-Man: No Way Home')\n",
    "\n",
    "def grafico_peliculas_del_char (char):\n",
    "    peliculas = {}\n",
    "    for peli in apariciones_pj[char]:\n",
    "        peliculas[peli] = char_movie_matrix.loc[char][peli]\n",
    "    plt.figure(figsize=(20, 6))\n",
    "    pelis = list(map(lambda x: '\\n'.join(x.split(' ')),list(peliculas.keys())))\n",
    "    sns.barplot(x=pelis, y=list(peliculas.values()))\n",
    "    plt.title(char)\n",
    "    plt.xlabel('Peliculas')\n",
    "    plt.ylabel('Tiempo en pantalla');\n",
    "\n",
    "grafico_peliculas_del_char ('Valkyrie')\n",
    "\n",
    "columna_tiempo_total_peliculas_char = []\n",
    "for char in char_movie_matrix.index:\n",
    "    tiempo_total_peliculas_char = 0\n",
    "    for peli in apariciones_pj[char]:\n",
    "        tiempo_total_peliculas_char += float(movie_lengths[peli])\n",
    "    columna_tiempo_total_peliculas_char.append(tiempo_total_peliculas_char)\n",
    "\n",
    "columna_porcentage_tiempo_pantalla = []\n",
    "suma_tiempos = list(dict(char_movie_matrix['Total de tiempo en pantalla']).values())\n",
    "for i in range(len(columna_tiempo_total_peliculas_char)):\n",
    "    columna_porcentage_tiempo_pantalla.append((suma_tiempos[i]/columna_tiempo_total_peliculas_char[i])*100)\n",
    "columna_porcentage_tiempo_pantalla\n",
    "nueva_fila = pd.DataFrame([movie_lengths])\n",
    "nueva_fila = convert_time_to_mins(nueva_fila)\n",
    "nuevo_df = (char_movie_matrix.iloc[:, :-1].div(nueva_fila.iloc[0]))*100\n",
    "nuevo_df\n",
    "def grafico_pie_t_pantalla (pelicula):    \n",
    "    df = char_movie_matrix[char_movie_matrix[pelicula] != 0]\n",
    "    pie1 = df[pelicula]\n",
    "    pie1_list = list(pie1.values)\n",
    "    pie1_list = [round(each,2) for each in pie1_list]\n",
    "    labels = df.index\n",
    "\n",
    "    # Figure\n",
    "    fig = make_subplots(rows=1, cols=1, specs=[[{'type': 'pie'}]])\n",
    "\n",
    "    fig.add_trace(\n",
    "        go.Pie(\n",
    "            labels=labels,\n",
    "            values=pie1_list,\n",
    "            textinfo='value',\n",
    "            hoverinfo=\"label+value\",\n",
    "            hole=0.3,\n",
    "        ),\n",
    "        row=1, col=1\n",
    "        \n",
    "    )\n",
    "\n",
    "    fig.update_layout(\n",
    "        title=\"Tiempo en pantalla en \" + pelicula + ' (' + movie_lengths[pelicula] +')',\n",
    "        annotations=[\n",
    "            {\n",
    "                \"font\": {\"size\": 20},\n",
    "                \"showarrow\": False,\n",
    "                \"text\": pelicula,\n",
    "                \"x\": 0.5,\n",
    "                \"y\": 1.07,\n",
    "            }\n",
    "        ],\n",
    "        height=700,  # Ajusta la altura del gráfico\n",
    "        width=900,   # Ajusta el ancho del gráfico\n",
    "    )\n",
    "\n",
    "    fig.show()\n",
    "\n",
    "grafico_pie_t_pantalla('Ojo de Halcón')"
   ]
  },
  {
   "cell_type": "code",
   "execution_count": 19,
   "metadata": {},
   "outputs": [],
   "source": [
    "char_movie_matrix = char_movie_matrix.sort_values(by='Total de tiempo en pantalla', ascending=False)\n",
    "char_movie_matrix = char_movie_matrix.fillna(0)\n",
    "char_movie_matrix = char_movie_matrix[char_movie_matrix['Total de tiempo en pantalla'] != 0]\n",
    "data = char_movie_matrix.head(20)\n",
    "plt.figure(figsize=(15, 6))\n",
    "data['Personajes'] = list(map(lambda x: '\\n'.join(x.split(' ')),data.index))\n",
    "sns.barplot(x='Personajes', y='Total de tiempo en pantalla', data=data);\n",
    "apariciones_pj = OrderedDict()\n",
    "for pj in char_movie_matrix.index:\n",
    "    columnas_no_cero = char_movie_matrix.loc[pj, (char_movie_matrix.loc[pj] != 0) & (char_movie_matrix.loc[pj].apply(isinstance, args=(float,)))].index.tolist()\n",
    "    apariciones_pj[pj]=columnas_no_cero[0:-1]\n",
    "\n",
    "\n",
    "for i in apariciones_pj.keys():\n",
    "    if re.match(r'.*Sara.*',i):\n",
    "        print (i,apariciones_pj[i])\n",
    "from itertools import islice\n",
    "ordenado_por_longitud = OrderedDict(sorted(apariciones_pj.items(), key=lambda x: len(x[1]), reverse=True))\n",
    "\n",
    "# Mostrar el resultado\n",
    "for clave, valor in islice(ordenado_por_longitud.items(), 4):\n",
    "    print(f'{clave}: {(valor)}')\n",
    "claves = list(ordenado_por_longitud.keys())[:15]\n",
    "\n",
    "longitudes = [len(ordenado_por_longitud[clave]) for clave in claves]\n",
    "claves = list(map(lambda x: '\\n'.join(x.split(' ')),claves))\n",
    "\n",
    "# Crear el gráfico de barras\n",
    "plt.figure(figsize=(15, 6))\n",
    "plt.bar(claves, longitudes)\n",
    "\n",
    "# Añadir etiquetas y título\n",
    "plt.xlabel('Personajes')\n",
    "plt.ylabel('nº de peliculas')\n",
    "plt.title('nº total de peliculas en las que aparecen los personajes');\n",
    "char_movie_matrix[char_movie_matrix['Spider-Man: Homecoming'] != 0]['Spider-Man: Homecoming'].sort_values(ascending=False)\n",
    "def grafico_char_tiempo_pelicula (pelicula):\n",
    "    data = pd.DataFrame(char_movie_matrix[char_movie_matrix[pelicula] != 0][pelicula].sort_values(ascending=False))\n",
    "    plt.figure(figsize=(15, 6))\n",
    "    data['Personajes'] = list(map(lambda x: '\\n'.join(x.split(' ')),data.index))\n",
    "    sns.barplot(x='Personajes', y=pelicula, data=data)\n",
    "\n",
    "grafico_char_tiempo_pelicula ('Spider-Man: No Way Home')\n",
    "\n",
    "def grafico_peliculas_del_char (char):\n",
    "    peliculas = {}\n",
    "    for peli in apariciones_pj[char]:\n",
    "        peliculas[peli] = char_movie_matrix.loc[char][peli]\n",
    "    plt.figure(figsize=(20, 6))\n",
    "    pelis = list(map(lambda x: '\\n'.join(x.split(' ')),list(peliculas.keys())))\n",
    "    sns.barplot(x=pelis, y=list(peliculas.values()))\n",
    "    plt.title(char)\n",
    "    plt.xlabel('Peliculas')\n",
    "    plt.ylabel('Tiempo en pantalla');\n",
    "\n",
    "grafico_peliculas_del_char ('Valkyrie')\n",
    "\n",
    "columna_tiempo_total_peliculas_char = []\n",
    "for char in char_movie_matrix.index:\n",
    "    tiempo_total_peliculas_char = 0\n",
    "    for peli in apariciones_pj[char]:\n",
    "        tiempo_total_peliculas_char += float(movie_lengths[peli])\n",
    "    columna_tiempo_total_peliculas_char.append(tiempo_total_peliculas_char)\n",
    "\n",
    "columna_porcentage_tiempo_pantalla = []\n",
    "suma_tiempos = list(dict(char_movie_matrix['Total de tiempo en pantalla']).values())\n",
    "for i in range(len(columna_tiempo_total_peliculas_char)):\n",
    "    columna_porcentage_tiempo_pantalla.append((suma_tiempos[i]/columna_tiempo_total_peliculas_char[i])*100)\n",
    "columna_porcentage_tiempo_pantalla\n",
    "nueva_fila = pd.DataFrame([movie_lengths])\n",
    "nueva_fila = convert_time_to_mins(nueva_fila)\n",
    "nuevo_df = (char_movie_matrix.iloc[:, :-1].div(nueva_fila.iloc[0]))*100\n",
    "nuevo_df\n",
    "def grafico_pie_t_pantalla (pelicula):    \n",
    "    df = char_movie_matrix[char_movie_matrix[pelicula] != 0]\n",
    "    pie1 = df[pelicula]\n",
    "    pie1_list = list(pie1.values)\n",
    "    pie1_list = [round(each,2) for each in pie1_list]\n",
    "    labels = df.index\n",
    "\n",
    "    # Figure\n",
    "    fig = make_subplots(rows=1, cols=1, specs=[[{'type': 'pie'}]])\n",
    "\n",
    "    fig.add_trace(\n",
    "        go.Pie(\n",
    "            labels=labels,\n",
    "            values=pie1_list,\n",
    "            textinfo='value',\n",
    "            hoverinfo=\"label+value\",\n",
    "            hole=0.3,\n",
    "        ),\n",
    "        row=1, col=1\n",
    "        \n",
    "    )\n",
    "\n",
    "    fig.update_layout(\n",
    "        title=\"Tiempo en pantalla en \" + pelicula + ' (' + movie_lengths[pelicula] +')',\n",
    "        annotations=[\n",
    "            {\n",
    "                \"font\": {\"size\": 20},\n",
    "                \"showarrow\": False,\n",
    "                \"text\": pelicula,\n",
    "                \"x\": 0.5,\n",
    "                \"y\": 1.07,\n",
    "            }\n",
    "        ],\n",
    "        height=700,  # Ajusta la altura del gráfico\n",
    "        width=900,   # Ajusta el ancho del gráfico\n",
    "    )\n",
    "\n",
    "    fig.show()\n",
    "\n",
    "grafico_pie_t_pantalla('Ojo de Halcón')"
   ]
  },
  {
   "cell_type": "code",
   "execution_count": 20,
   "metadata": {},
   "outputs": [],
   "source": [
    "char_movie_matrix = char_movie_matrix.fillna(0)\n",
    "char_movie_matrix = char_movie_matrix[char_movie_matrix['Total de tiempo en pantalla'] != 0]\n",
    "data = char_movie_matrix.head(20)\n",
    "plt.figure(figsize=(15, 6))\n",
    "data['Personajes'] = list(map(lambda x: '\\n'.join(x.split(' ')),data.index))\n",
    "sns.barplot(x='Personajes', y='Total de tiempo en pantalla', data=data);\n",
    "apariciones_pj = OrderedDict()\n",
    "for pj in char_movie_matrix.index:\n",
    "    columnas_no_cero = char_movie_matrix.loc[pj, (char_movie_matrix.loc[pj] != 0) & (char_movie_matrix.loc[pj].apply(isinstance, args=(float,)))].index.tolist()\n",
    "    apariciones_pj[pj]=columnas_no_cero[0:-1]\n",
    "\n",
    "\n",
    "for i in apariciones_pj.keys():\n",
    "    if re.match(r'.*Sara.*',i):\n",
    "        print (i,apariciones_pj[i])\n",
    "from itertools import islice\n",
    "ordenado_por_longitud = OrderedDict(sorted(apariciones_pj.items(), key=lambda x: len(x[1]), reverse=True))\n",
    "\n",
    "# Mostrar el resultado\n",
    "for clave, valor in islice(ordenado_por_longitud.items(), 4):\n",
    "    print(f'{clave}: {(valor)}')\n",
    "claves = list(ordenado_por_longitud.keys())[:15]\n",
    "\n",
    "longitudes = [len(ordenado_por_longitud[clave]) for clave in claves]\n",
    "claves = list(map(lambda x: '\\n'.join(x.split(' ')),claves))\n",
    "\n",
    "# Crear el gráfico de barras\n",
    "plt.figure(figsize=(15, 6))\n",
    "plt.bar(claves, longitudes)\n",
    "\n",
    "# Añadir etiquetas y título\n",
    "plt.xlabel('Personajes')\n",
    "plt.ylabel('nº de peliculas')\n",
    "plt.title('nº total de peliculas en las que aparecen los personajes');\n",
    "char_movie_matrix[char_movie_matrix['Spider-Man: Homecoming'] != 0]['Spider-Man: Homecoming'].sort_values(ascending=False)\n",
    "def grafico_char_tiempo_pelicula (pelicula):\n",
    "    data = pd.DataFrame(char_movie_matrix[char_movie_matrix[pelicula] != 0][pelicula].sort_values(ascending=False))\n",
    "    plt.figure(figsize=(15, 6))\n",
    "    data['Personajes'] = list(map(lambda x: '\\n'.join(x.split(' ')),data.index))\n",
    "    sns.barplot(x='Personajes', y=pelicula, data=data)\n",
    "\n",
    "grafico_char_tiempo_pelicula ('Spider-Man: No Way Home')\n",
    "\n",
    "def grafico_peliculas_del_char (char):\n",
    "    peliculas = {}\n",
    "    for peli in apariciones_pj[char]:\n",
    "        peliculas[peli] = char_movie_matrix.loc[char][peli]\n",
    "    plt.figure(figsize=(20, 6))\n",
    "    pelis = list(map(lambda x: '\\n'.join(x.split(' ')),list(peliculas.keys())))\n",
    "    sns.barplot(x=pelis, y=list(peliculas.values()))\n",
    "    plt.title(char)\n",
    "    plt.xlabel('Peliculas')\n",
    "    plt.ylabel('Tiempo en pantalla');\n",
    "\n",
    "grafico_peliculas_del_char ('Valkyrie')\n",
    "\n",
    "columna_tiempo_total_peliculas_char = []\n",
    "for char in char_movie_matrix.index:\n",
    "    tiempo_total_peliculas_char = 0\n",
    "    for peli in apariciones_pj[char]:\n",
    "        tiempo_total_peliculas_char += float(movie_lengths[peli])\n",
    "    columna_tiempo_total_peliculas_char.append(tiempo_total_peliculas_char)\n",
    "\n",
    "columna_porcentage_tiempo_pantalla = []\n",
    "suma_tiempos = list(dict(char_movie_matrix['Total de tiempo en pantalla']).values())\n",
    "for i in range(len(columna_tiempo_total_peliculas_char)):\n",
    "    columna_porcentage_tiempo_pantalla.append((suma_tiempos[i]/columna_tiempo_total_peliculas_char[i])*100)\n",
    "columna_porcentage_tiempo_pantalla\n",
    "nueva_fila = pd.DataFrame([movie_lengths])\n",
    "nueva_fila = convert_time_to_mins(nueva_fila)\n",
    "nuevo_df = (char_movie_matrix.iloc[:, :-1].div(nueva_fila.iloc[0]))*100\n",
    "nuevo_df\n",
    "def grafico_pie_t_pantalla (pelicula):    \n",
    "    df = char_movie_matrix[char_movie_matrix[pelicula] != 0]\n",
    "    pie1 = df[pelicula]\n",
    "    pie1_list = list(pie1.values)\n",
    "    pie1_list = [round(each,2) for each in pie1_list]\n",
    "    labels = df.index\n",
    "\n",
    "    # Figure\n",
    "    fig = make_subplots(rows=1, cols=1, specs=[[{'type': 'pie'}]])\n",
    "\n",
    "    fig.add_trace(\n",
    "        go.Pie(\n",
    "            labels=labels,\n",
    "            values=pie1_list,\n",
    "            textinfo='value',\n",
    "            hoverinfo=\"label+value\",\n",
    "            hole=0.3,\n",
    "        ),\n",
    "        row=1, col=1\n",
    "        \n",
    "    )\n",
    "\n",
    "    fig.update_layout(\n",
    "        title=\"Tiempo en pantalla en \" + pelicula + ' (' + movie_lengths[pelicula] +')',\n",
    "        annotations=[\n",
    "            {\n",
    "                \"font\": {\"size\": 20},\n",
    "                \"showarrow\": False,\n",
    "                \"text\": pelicula,\n",
    "                \"x\": 0.5,\n",
    "                \"y\": 1.07,\n",
    "            }\n",
    "        ],\n",
    "        height=700,  # Ajusta la altura del gráfico\n",
    "        width=900,   # Ajusta el ancho del gráfico\n",
    "    )\n",
    "\n",
    "    fig.show()\n",
    "\n",
    "grafico_pie_t_pantalla('Ojo de Halcón')"
   ]
  },
  {
   "cell_type": "code",
   "execution_count": 21,
   "metadata": {},
   "outputs": [
    {
     "name": "stderr",
     "output_type": "stream",
     "text": [
      "C:\\Users\\lache\\AppData\\Local\\Temp\\ipykernel_17740\\3773322732.py:3: SettingWithCopyWarning:\n",
      "\n",
      "\n",
      "A value is trying to be set on a copy of a slice from a DataFrame.\n",
      "Try using .loc[row_indexer,col_indexer] = value instead\n",
      "\n",
      "See the caveats in the documentation: https://pandas.pydata.org/pandas-docs/stable/user_guide/indexing.html#returning-a-view-versus-a-copy\n",
      "\n"
     ]
    },
    {
     "data": {
      "image/png": "[encoded data removed]",
      "text/plain": [
       "<Figure size 1500x600 with 1 Axes>"
      ]
     },
     "metadata": {},
     "output_type": "display_data"
    }
   ],
   "source": [
    "data = char_movie_matrix.head(20)\n",
    "plt.figure(figsize=(15, 6))\n",
    "data['Personajes'] = list(map(lambda x: '\\n'.join(x.split(' ')),data.index))\n",
    "sns.barplot(x='Personajes', y='Total de tiempo en pantalla', data=data);\n",
    "apariciones_pj = OrderedDict()\n",
    "for pj in char_movie_matrix.index:\n",
    "    columnas_no_cero = char_movie_matrix.loc[pj, (char_movie_matrix.loc[pj] != 0) & (char_movie_matrix.loc[pj].apply(isinstance, args=(float,)))].index.tolist()\n",
    "    apariciones_pj[pj]=columnas_no_cero[0:-1]\n",
    "\n",
    "\n",
    "for i in apariciones_pj.keys():\n",
    "    if re.match(r'.*Sara.*',i):\n",
    "        print (i,apariciones_pj[i])\n",
    "from itertools import islice\n",
    "ordenado_por_longitud = OrderedDict(sorted(apariciones_pj.items(), key=lambda x: len(x[1]), reverse=True))\n",
    "\n",
    "# Mostrar el resultado\n",
    "for clave, valor in islice(ordenado_por_longitud.items(), 4):\n",
    "    print(f'{clave}: {(valor)}')\n",
    "claves = list(ordenado_por_longitud.keys())[:15]\n",
    "\n",
    "longitudes = [len(ordenado_por_longitud[clave]) for clave in claves]\n",
    "claves = list(map(lambda x: '\\n'.join(x.split(' ')),claves))\n",
    "\n",
    "# Crear el gráfico de barras\n",
    "plt.figure(figsize=(15, 6))\n",
    "plt.bar(claves, longitudes)\n",
    "\n",
    "# Añadir etiquetas y título\n",
    "plt.xlabel('Personajes')\n",
    "plt.ylabel('nº de peliculas')\n",
    "plt.title('nº total de peliculas en las que aparecen los personajes');\n",
    "char_movie_matrix[char_movie_matrix['Spider-Man: Homecoming'] != 0]['Spider-Man: Homecoming'].sort_values(ascending=False)\n",
    "def grafico_char_tiempo_pelicula (pelicula):\n",
    "    data = pd.DataFrame(char_movie_matrix[char_movie_matrix[pelicula] != 0][pelicula].sort_values(ascending=False))\n",
    "    plt.figure(figsize=(15, 6))\n",
    "    data['Personajes'] = list(map(lambda x: '\\n'.join(x.split(' ')),data.index))\n",
    "    sns.barplot(x='Personajes', y=pelicula, data=data)\n",
    "\n",
    "grafico_char_tiempo_pelicula ('Spider-Man: No Way Home')\n",
    "\n",
    "def grafico_peliculas_del_char (char):\n",
    "    peliculas = {}\n",
    "    for peli in apariciones_pj[char]:\n",
    "        peliculas[peli] = char_movie_matrix.loc[char][peli]\n",
    "    plt.figure(figsize=(20, 6))\n",
    "    pelis = list(map(lambda x: '\\n'.join(x.split(' ')),list(peliculas.keys())))\n",
    "    sns.barplot(x=pelis, y=list(peliculas.values()))\n",
    "    plt.title(char)\n",
    "    plt.xlabel('Peliculas')\n",
    "    plt.ylabel('Tiempo en pantalla');\n",
    "\n",
    "grafico_peliculas_del_char ('Valkyrie')\n",
    "\n",
    "columna_tiempo_total_peliculas_char = []\n",
    "for char in char_movie_matrix.index:\n",
    "    tiempo_total_peliculas_char = 0\n",
    "    for peli in apariciones_pj[char]:\n",
    "        tiempo_total_peliculas_char += float(movie_lengths[peli])\n",
    "    columna_tiempo_total_peliculas_char.append(tiempo_total_peliculas_char)\n",
    "\n",
    "columna_porcentage_tiempo_pantalla = []\n",
    "suma_tiempos = list(dict(char_movie_matrix['Total de tiempo en pantalla']).values())\n",
    "for i in range(len(columna_tiempo_total_peliculas_char)):\n",
    "    columna_porcentage_tiempo_pantalla.append((suma_tiempos[i]/columna_tiempo_total_peliculas_char[i])*100)\n",
    "columna_porcentage_tiempo_pantalla\n",
    "nueva_fila = pd.DataFrame([movie_lengths])\n",
    "nueva_fila = convert_time_to_mins(nueva_fila)\n",
    "nuevo_df = (char_movie_matrix.iloc[:, :-1].div(nueva_fila.iloc[0]))*100\n",
    "nuevo_df\n",
    "def grafico_pie_t_pantalla (pelicula):    \n",
    "    df = char_movie_matrix[char_movie_matrix[pelicula] != 0]\n",
    "    pie1 = df[pelicula]\n",
    "    pie1_list = list(pie1.values)\n",
    "    pie1_list = [round(each,2) for each in pie1_list]\n",
    "    labels = df.index\n",
    "\n",
    "    # Figure\n",
    "    fig = make_subplots(rows=1, cols=1, specs=[[{'type': 'pie'}]])\n",
    "\n",
    "    fig.add_trace(\n",
    "        go.Pie(\n",
    "            labels=labels,\n",
    "            values=pie1_list,\n",
    "            textinfo='value',\n",
    "            hoverinfo=\"label+value\",\n",
    "            hole=0.3,\n",
    "        ),\n",
    "        row=1, col=1\n",
    "        \n",
    "    )\n",
    "\n",
    "    fig.update_layout(\n",
    "        title=\"Tiempo en pantalla en \" + pelicula + ' (' + movie_lengths[pelicula] +')',\n",
    "        annotations=[\n",
    "            {\n",
    "                \"font\": {\"size\": 20},\n",
    "                \"showarrow\": False,\n",
    "                \"text\": pelicula,\n",
    "                \"x\": 0.5,\n",
    "                \"y\": 1.07,\n",
    "            }\n",
    "        ],\n",
    "        height=700,  # Ajusta la altura del gráfico\n",
    "        width=900,   # Ajusta el ancho del gráfico\n",
    "    )\n",
    "\n",
    "    fig.show()\n",
    "\n",
    "grafico_pie_t_pantalla('Ojo de Halcón')"
   ]
  },
  {
   "cell_type": "code",
   "execution_count": 22,
   "metadata": {},
   "outputs": [],
   "source": [
    "apariciones_pj = OrderedDict()\n",
    "for pj in char_movie_matrix.index:\n",
    "    columnas_no_cero = char_movie_matrix.loc[pj, (char_movie_matrix.loc[pj] != 0) & (char_movie_matrix.loc[pj].apply(isinstance, args=(float,)))].index.tolist()\n",
    "    apariciones_pj[pj]=columnas_no_cero[0:-1]\n",
    "\n",
    "\n",
    "for i in apariciones_pj.keys():\n",
    "    if re.match(r'.*Sara.*',i):\n",
    "        print (i,apariciones_pj[i])\n",
    "from itertools import islice\n",
    "ordenado_por_longitud = OrderedDict(sorted(apariciones_pj.items(), key=lambda x: len(x[1]), reverse=True))\n",
    "\n",
    "# Mostrar el resultado\n",
    "for clave, valor in islice(ordenado_por_longitud.items(), 4):\n",
    "    print(f'{clave}: {(valor)}')\n",
    "claves = list(ordenado_por_longitud.keys())[:15]\n",
    "\n",
    "longitudes = [len(ordenado_por_longitud[clave]) for clave in claves]\n",
    "claves = list(map(lambda x: '\\n'.join(x.split(' ')),claves))\n",
    "\n",
    "# Crear el gráfico de barras\n",
    "plt.figure(figsize=(15, 6))\n",
    "plt.bar(claves, longitudes)\n",
    "\n",
    "# Añadir etiquetas y título\n",
    "plt.xlabel('Personajes')\n",
    "plt.ylabel('nº de peliculas')\n",
    "plt.title('nº total de peliculas en las que aparecen los personajes');\n",
    "char_movie_matrix[char_movie_matrix['Spider-Man: Homecoming'] != 0]['Spider-Man: Homecoming'].sort_values(ascending=False)\n",
    "def grafico_char_tiempo_pelicula (pelicula):\n",
    "    data = pd.DataFrame(char_movie_matrix[char_movie_matrix[pelicula] != 0][pelicula].sort_values(ascending=False))\n",
    "    plt.figure(figsize=(15, 6))\n",
    "    data['Personajes'] = list(map(lambda x: '\\n'.join(x.split(' ')),data.index))\n",
    "    sns.barplot(x='Personajes', y=pelicula, data=data)\n",
    "\n",
    "grafico_char_tiempo_pelicula ('Spider-Man: No Way Home')\n",
    "\n",
    "def grafico_peliculas_del_char (char):\n",
    "    peliculas = {}\n",
    "    for peli in apariciones_pj[char]:\n",
    "        peliculas[peli] = char_movie_matrix.loc[char][peli]\n",
    "    plt.figure(figsize=(20, 6))\n",
    "    pelis = list(map(lambda x: '\\n'.join(x.split(' ')),list(peliculas.keys())))\n",
    "    sns.barplot(x=pelis, y=list(peliculas.values()))\n",
    "    plt.title(char)\n",
    "    plt.xlabel('Peliculas')\n",
    "    plt.ylabel('Tiempo en pantalla');\n",
    "\n",
    "grafico_peliculas_del_char ('Valkyrie')\n",
    "\n",
    "columna_tiempo_total_peliculas_char = []\n",
    "for char in char_movie_matrix.index:\n",
    "    tiempo_total_peliculas_char = 0\n",
    "    for peli in apariciones_pj[char]:\n",
    "        tiempo_total_peliculas_char += float(movie_lengths[peli])\n",
    "    columna_tiempo_total_peliculas_char.append(tiempo_total_peliculas_char)\n",
    "\n",
    "columna_porcentage_tiempo_pantalla = []\n",
    "suma_tiempos = list(dict(char_movie_matrix['Total de tiempo en pantalla']).values())\n",
    "for i in range(len(columna_tiempo_total_peliculas_char)):\n",
    "    columna_porcentage_tiempo_pantalla.append((suma_tiempos[i]/columna_tiempo_total_peliculas_char[i])*100)\n",
    "columna_porcentage_tiempo_pantalla\n",
    "nueva_fila = pd.DataFrame([movie_lengths])\n",
    "nueva_fila = convert_time_to_mins(nueva_fila)\n",
    "nuevo_df = (char_movie_matrix.iloc[:, :-1].div(nueva_fila.iloc[0]))*100\n",
    "nuevo_df\n",
    "def grafico_pie_t_pantalla (pelicula):    \n",
    "    df = char_movie_matrix[char_movie_matrix[pelicula] != 0]\n",
    "    pie1 = df[pelicula]\n",
    "    pie1_list = list(pie1.values)\n",
    "    pie1_list = [round(each,2) for each in pie1_list]\n",
    "    labels = df.index\n",
    "\n",
    "    # Figure\n",
    "    fig = make_subplots(rows=1, cols=1, specs=[[{'type': 'pie'}]])\n",
    "\n",
    "    fig.add_trace(\n",
    "        go.Pie(\n",
    "            labels=labels,\n",
    "            values=pie1_list,\n",
    "            textinfo='value',\n",
    "            hoverinfo=\"label+value\",\n",
    "            hole=0.3,\n",
    "        ),\n",
    "        row=1, col=1\n",
    "        \n",
    "    )\n",
    "\n",
    "    fig.update_layout(\n",
    "        title=\"Tiempo en pantalla en \" + pelicula + ' (' + movie_lengths[pelicula] +')',\n",
    "        annotations=[\n",
    "            {\n",
    "                \"font\": {\"size\": 20},\n",
    "                \"showarrow\": False,\n",
    "                \"text\": pelicula,\n",
    "                \"x\": 0.5,\n",
    "                \"y\": 1.07,\n",
    "            }\n",
    "        ],\n",
    "        height=700,  # Ajusta la altura del gráfico\n",
    "        width=900,   # Ajusta el ancho del gráfico\n",
    "    )\n",
    "\n",
    "    fig.show()\n",
    "\n",
    "grafico_pie_t_pantalla('Ojo de Halcón')"
   ]
  },
  {
   "cell_type": "code",
   "execution_count": 23,
   "metadata": {},
   "outputs": [
    {
     "name": "stdout",
     "output_type": "stream",
     "text": [
      "Sarah Wilson ['Falcon y el Soldado de Invierno']\n",
      "Sarah Proctor / \"Dottie\" ['Bruja Escarlata y Visión']\n",
      "Sara ['Doctor Strange en el multiverso de la locura']\n"
     ]
    }
   ],
   "source": [
    "for i in apariciones_pj.keys():\n",
    "    if re.match(r'.*Sara.*',i):\n",
    "        print (i,apariciones_pj[i])\n",
    "from itertools import islice\n",
    "ordenado_por_longitud = OrderedDict(sorted(apariciones_pj.items(), key=lambda x: len(x[1]), reverse=True))\n",
    "\n",
    "# Mostrar el resultado\n",
    "for clave, valor in islice(ordenado_por_longitud.items(), 4):\n",
    "    print(f'{clave}: {(valor)}')\n",
    "claves = list(ordenado_por_longitud.keys())[:15]\n",
    "\n",
    "longitudes = [len(ordenado_por_longitud[clave]) for clave in claves]\n",
    "claves = list(map(lambda x: '\\n'.join(x.split(' ')),claves))\n",
    "\n",
    "# Crear el gráfico de barras\n",
    "plt.figure(figsize=(15, 6))\n",
    "plt.bar(claves, longitudes)\n",
    "\n",
    "# Añadir etiquetas y título\n",
    "plt.xlabel('Personajes')\n",
    "plt.ylabel('nº de peliculas')\n",
    "plt.title('nº total de peliculas en las que aparecen los personajes');\n",
    "char_movie_matrix[char_movie_matrix['Spider-Man: Homecoming'] != 0]['Spider-Man: Homecoming'].sort_values(ascending=False)\n",
    "def grafico_char_tiempo_pelicula (pelicula):\n",
    "    data = pd.DataFrame(char_movie_matrix[char_movie_matrix[pelicula] != 0][pelicula].sort_values(ascending=False))\n",
    "    plt.figure(figsize=(15, 6))\n",
    "    data['Personajes'] = list(map(lambda x: '\\n'.join(x.split(' ')),data.index))\n",
    "    sns.barplot(x='Personajes', y=pelicula, data=data)\n",
    "\n",
    "grafico_char_tiempo_pelicula ('Spider-Man: No Way Home')\n",
    "\n",
    "def grafico_peliculas_del_char (char):\n",
    "    peliculas = {}\n",
    "    for peli in apariciones_pj[char]:\n",
    "        peliculas[peli] = char_movie_matrix.loc[char][peli]\n",
    "    plt.figure(figsize=(20, 6))\n",
    "    pelis = list(map(lambda x: '\\n'.join(x.split(' ')),list(peliculas.keys())))\n",
    "    sns.barplot(x=pelis, y=list(peliculas.values()))\n",
    "    plt.title(char)\n",
    "    plt.xlabel('Peliculas')\n",
    "    plt.ylabel('Tiempo en pantalla');\n",
    "\n",
    "grafico_peliculas_del_char ('Valkyrie')\n",
    "\n",
    "columna_tiempo_total_peliculas_char = []\n",
    "for char in char_movie_matrix.index:\n",
    "    tiempo_total_peliculas_char = 0\n",
    "    for peli in apariciones_pj[char]:\n",
    "        tiempo_total_peliculas_char += float(movie_lengths[peli])\n",
    "    columna_tiempo_total_peliculas_char.append(tiempo_total_peliculas_char)\n",
    "\n",
    "columna_porcentage_tiempo_pantalla = []\n",
    "suma_tiempos = list(dict(char_movie_matrix['Total de tiempo en pantalla']).values())\n",
    "for i in range(len(columna_tiempo_total_peliculas_char)):\n",
    "    columna_porcentage_tiempo_pantalla.append((suma_tiempos[i]/columna_tiempo_total_peliculas_char[i])*100)\n",
    "columna_porcentage_tiempo_pantalla\n",
    "nueva_fila = pd.DataFrame([movie_lengths])\n",
    "nueva_fila = convert_time_to_mins(nueva_fila)\n",
    "nuevo_df = (char_movie_matrix.iloc[:, :-1].div(nueva_fila.iloc[0]))*100\n",
    "nuevo_df\n",
    "def grafico_pie_t_pantalla (pelicula):    \n",
    "    df = char_movie_matrix[char_movie_matrix[pelicula] != 0]\n",
    "    pie1 = df[pelicula]\n",
    "    pie1_list = list(pie1.values)\n",
    "    pie1_list = [round(each,2) for each in pie1_list]\n",
    "    labels = df.index\n",
    "\n",
    "    # Figure\n",
    "    fig = make_subplots(rows=1, cols=1, specs=[[{'type': 'pie'}]])\n",
    "\n",
    "    fig.add_trace(\n",
    "        go.Pie(\n",
    "            labels=labels,\n",
    "            values=pie1_list,\n",
    "            textinfo='value',\n",
    "            hoverinfo=\"label+value\",\n",
    "            hole=0.3,\n",
    "        ),\n",
    "        row=1, col=1\n",
    "        \n",
    "    )\n",
    "\n",
    "    fig.update_layout(\n",
    "        title=\"Tiempo en pantalla en \" + pelicula + ' (' + movie_lengths[pelicula] +')',\n",
    "        annotations=[\n",
    "            {\n",
    "                \"font\": {\"size\": 20},\n",
    "                \"showarrow\": False,\n",
    "                \"text\": pelicula,\n",
    "                \"x\": 0.5,\n",
    "                \"y\": 1.07,\n",
    "            }\n",
    "        ],\n",
    "        height=700,  # Ajusta la altura del gráfico\n",
    "        width=900,   # Ajusta el ancho del gráfico\n",
    "    )\n",
    "\n",
    "    fig.show()\n",
    "\n",
    "grafico_pie_t_pantalla('Ojo de Halcón')"
   ]
  },
  {
   "cell_type": "code",
   "execution_count": 24,
   "metadata": {},
   "outputs": [
    {
     "name": "stdout",
     "output_type": "stream",
     "text": [
      "Tony Stark / Iron Man: ['Iron Man', 'El increíble Hulk', 'Iron Man 2', 'Los Vengadores', 'Iron Man 3', 'Vengadores: La era de Ultrón', 'Capitán América: Civil War', 'Spider-Man: Homecoming', 'Vengadores: Infinity War', 'Vengadores: Endgame', 'Spider-Man: Lejos de casa', 'Loki']\n",
      "Steve Rogers: ['Capitán América: El primer vengador', 'Los Vengadores', 'Marvel One-Shot: Agente Carter', 'Capitán América: El Soldado de Invierno', 'Vengadores: La era de Ultrón', 'Ant-Man', 'Capitán América: Civil War', 'Spider-Man: Homecoming', 'Vengadores: Infinity War', 'Capitana Marvel', 'Vengadores: Endgame', 'Loki']\n",
      "Black Widow: ['Iron Man 2', 'Los Vengadores', 'Capitán América: El Soldado de Invierno', 'Vengadores: La era de Ultrón', 'Capitán América: Civil War', 'Thor: Ragnarok', 'Vengadores: Infinity War', 'Capitana Marvel', 'Vengadores: Endgame', 'Loki', 'Viuda Negra']\n",
      "Nick Fury: ['Iron Man', 'Iron Man 2', 'Thor', 'Capitán América: El primer vengador', 'Los Vengadores', 'Capitán América: El Soldado de Invierno', 'Vengadores: La era de Ultrón', 'Vengadores: Infinity War', 'Capitana Marvel', 'Vengadores: Endgame', 'Spider-Man: Lejos de casa']\n"
     ]
    }
   ],
   "source": [
    "from itertools import islice\n",
    "ordenado_por_longitud = OrderedDict(sorted(apariciones_pj.items(), key=lambda x: len(x[1]), reverse=True))\n",
    "\n",
    "# Mostrar el resultado\n",
    "for clave, valor in islice(ordenado_por_longitud.items(), 4):\n",
    "    print(f'{clave}: {(valor)}')\n",
    "claves = list(ordenado_por_longitud.keys())[:15]\n",
    "\n",
    "longitudes = [len(ordenado_por_longitud[clave]) for clave in claves]\n",
    "claves = list(map(lambda x: '\\n'.join(x.split(' ')),claves))\n",
    "\n",
    "# Crear el gráfico de barras\n",
    "plt.figure(figsize=(15, 6))\n",
    "plt.bar(claves, longitudes)\n",
    "\n",
    "# Añadir etiquetas y título\n",
    "plt.xlabel('Personajes')\n",
    "plt.ylabel('nº de peliculas')\n",
    "plt.title('nº total de peliculas en las que aparecen los personajes');\n",
    "char_movie_matrix[char_movie_matrix['Spider-Man: Homecoming'] != 0]['Spider-Man: Homecoming'].sort_values(ascending=False)\n",
    "def grafico_char_tiempo_pelicula (pelicula):\n",
    "    data = pd.DataFrame(char_movie_matrix[char_movie_matrix[pelicula] != 0][pelicula].sort_values(ascending=False))\n",
    "    plt.figure(figsize=(15, 6))\n",
    "    data['Personajes'] = list(map(lambda x: '\\n'.join(x.split(' ')),data.index))\n",
    "    sns.barplot(x='Personajes', y=pelicula, data=data)\n",
    "\n",
    "grafico_char_tiempo_pelicula ('Spider-Man: No Way Home')\n",
    "\n",
    "def grafico_peliculas_del_char (char):\n",
    "    peliculas = {}\n",
    "    for peli in apariciones_pj[char]:\n",
    "        peliculas[peli] = char_movie_matrix.loc[char][peli]\n",
    "    plt.figure(figsize=(20, 6))\n",
    "    pelis = list(map(lambda x: '\\n'.join(x.split(' ')),list(peliculas.keys())))\n",
    "    sns.barplot(x=pelis, y=list(peliculas.values()))\n",
    "    plt.title(char)\n",
    "    plt.xlabel('Peliculas')\n",
    "    plt.ylabel('Tiempo en pantalla');\n",
    "\n",
    "grafico_peliculas_del_char ('Valkyrie')\n",
    "\n",
    "columna_tiempo_total_peliculas_char = []\n",
    "for char in char_movie_matrix.index:\n",
    "    tiempo_total_peliculas_char = 0\n",
    "    for peli in apariciones_pj[char]:\n",
    "        tiempo_total_peliculas_char += float(movie_lengths[peli])\n",
    "    columna_tiempo_total_peliculas_char.append(tiempo_total_peliculas_char)\n",
    "\n",
    "columna_porcentage_tiempo_pantalla = []\n",
    "suma_tiempos = list(dict(char_movie_matrix['Total de tiempo en pantalla']).values())\n",
    "for i in range(len(columna_tiempo_total_peliculas_char)):\n",
    "    columna_porcentage_tiempo_pantalla.append((suma_tiempos[i]/columna_tiempo_total_peliculas_char[i])*100)\n",
    "columna_porcentage_tiempo_pantalla\n",
    "nueva_fila = pd.DataFrame([movie_lengths])\n",
    "nueva_fila = convert_time_to_mins(nueva_fila)\n",
    "nuevo_df = (char_movie_matrix.iloc[:, :-1].div(nueva_fila.iloc[0]))*100\n",
    "nuevo_df\n",
    "def grafico_pie_t_pantalla (pelicula):    \n",
    "    df = char_movie_matrix[char_movie_matrix[pelicula] != 0]\n",
    "    pie1 = df[pelicula]\n",
    "    pie1_list = list(pie1.values)\n",
    "    pie1_list = [round(each,2) for each in pie1_list]\n",
    "    labels = df.index\n",
    "\n",
    "    # Figure\n",
    "    fig = make_subplots(rows=1, cols=1, specs=[[{'type': 'pie'}]])\n",
    "\n",
    "    fig.add_trace(\n",
    "        go.Pie(\n",
    "            labels=labels,\n",
    "            values=pie1_list,\n",
    "            textinfo='value',\n",
    "            hoverinfo=\"label+value\",\n",
    "            hole=0.3,\n",
    "        ),\n",
    "        row=1, col=1\n",
    "        \n",
    "    )\n",
    "\n",
    "    fig.update_layout(\n",
    "        title=\"Tiempo en pantalla en \" + pelicula + ' (' + movie_lengths[pelicula] +')',\n",
    "        annotations=[\n",
    "            {\n",
    "                \"font\": {\"size\": 20},\n",
    "                \"showarrow\": False,\n",
    "                \"text\": pelicula,\n",
    "                \"x\": 0.5,\n",
    "                \"y\": 1.07,\n",
    "            }\n",
    "        ],\n",
    "        height=700,  # Ajusta la altura del gráfico\n",
    "        width=900,   # Ajusta el ancho del gráfico\n",
    "    )\n",
    "\n",
    "    fig.show()\n",
    "\n",
    "grafico_pie_t_pantalla('Ojo de Halcón')"
   ]
  },
  {
   "cell_type": "code",
   "execution_count": 25,
   "metadata": {},
   "outputs": [
    {
     "data": {
      "image/png": "[encoded data removed]",
      "text/plain": [
       "<Figure size 1500x600 with 1 Axes>"
      ]
     },
     "metadata": {},
     "output_type": "display_data"
    }
   ],
   "source": [
    "claves = list(ordenado_por_longitud.keys())[:15]\n",
    "\n",
    "longitudes = [len(ordenado_por_longitud[clave]) for clave in claves]\n",
    "claves = list(map(lambda x: '\\n'.join(x.split(' ')),claves))\n",
    "\n",
    "# Crear el gráfico de barras\n",
    "plt.figure(figsize=(15, 6))\n",
    "plt.bar(claves, longitudes)\n",
    "\n",
    "# Añadir etiquetas y título\n",
    "plt.xlabel('Personajes')\n",
    "plt.ylabel('nº de peliculas')\n",
    "plt.title('nº total de peliculas en las que aparecen los personajes');\n",
    "char_movie_matrix[char_movie_matrix['Spider-Man: Homecoming'] != 0]['Spider-Man: Homecoming'].sort_values(ascending=False)\n",
    "def grafico_char_tiempo_pelicula (pelicula):\n",
    "    data = pd.DataFrame(char_movie_matrix[char_movie_matrix[pelicula] != 0][pelicula].sort_values(ascending=False))\n",
    "    plt.figure(figsize=(15, 6))\n",
    "    data['Personajes'] = list(map(lambda x: '\\n'.join(x.split(' ')),data.index))\n",
    "    sns.barplot(x='Personajes', y=pelicula, data=data)\n",
    "\n",
    "grafico_char_tiempo_pelicula ('Spider-Man: No Way Home')\n",
    "\n",
    "def grafico_peliculas_del_char (char):\n",
    "    peliculas = {}\n",
    "    for peli in apariciones_pj[char]:\n",
    "        peliculas[peli] = char_movie_matrix.loc[char][peli]\n",
    "    plt.figure(figsize=(20, 6))\n",
    "    pelis = list(map(lambda x: '\\n'.join(x.split(' ')),list(peliculas.keys())))\n",
    "    sns.barplot(x=pelis, y=list(peliculas.values()))\n",
    "    plt.title(char)\n",
    "    plt.xlabel('Peliculas')\n",
    "    plt.ylabel('Tiempo en pantalla');\n",
    "\n",
    "grafico_peliculas_del_char ('Valkyrie')\n",
    "\n",
    "columna_tiempo_total_peliculas_char = []\n",
    "for char in char_movie_matrix.index:\n",
    "    tiempo_total_peliculas_char = 0\n",
    "    for peli in apariciones_pj[char]:\n",
    "        tiempo_total_peliculas_char += float(movie_lengths[peli])\n",
    "    columna_tiempo_total_peliculas_char.append(tiempo_total_peliculas_char)\n",
    "\n",
    "columna_porcentage_tiempo_pantalla = []\n",
    "suma_tiempos = list(dict(char_movie_matrix['Total de tiempo en pantalla']).values())\n",
    "for i in range(len(columna_tiempo_total_peliculas_char)):\n",
    "    columna_porcentage_tiempo_pantalla.append((suma_tiempos[i]/columna_tiempo_total_peliculas_char[i])*100)\n",
    "columna_porcentage_tiempo_pantalla\n",
    "nueva_fila = pd.DataFrame([movie_lengths])\n",
    "nueva_fila = convert_time_to_mins(nueva_fila)\n",
    "nuevo_df = (char_movie_matrix.iloc[:, :-1].div(nueva_fila.iloc[0]))*100\n",
    "nuevo_df\n",
    "def grafico_pie_t_pantalla (pelicula):    \n",
    "    df = char_movie_matrix[char_movie_matrix[pelicula] != 0]\n",
    "    pie1 = df[pelicula]\n",
    "    pie1_list = list(pie1.values)\n",
    "    pie1_list = [round(each,2) for each in pie1_list]\n",
    "    labels = df.index\n",
    "\n",
    "    # Figure\n",
    "    fig = make_subplots(rows=1, cols=1, specs=[[{'type': 'pie'}]])\n",
    "\n",
    "    fig.add_trace(\n",
    "        go.Pie(\n",
    "            labels=labels,\n",
    "            values=pie1_list,\n",
    "            textinfo='value',\n",
    "            hoverinfo=\"label+value\",\n",
    "            hole=0.3,\n",
    "        ),\n",
    "        row=1, col=1\n",
    "        \n",
    "    )\n",
    "\n",
    "    fig.update_layout(\n",
    "        title=\"Tiempo en pantalla en \" + pelicula + ' (' + movie_lengths[pelicula] +')',\n",
    "        annotations=[\n",
    "            {\n",
    "                \"font\": {\"size\": 20},\n",
    "                \"showarrow\": False,\n",
    "                \"text\": pelicula,\n",
    "                \"x\": 0.5,\n",
    "                \"y\": 1.07,\n",
    "            }\n",
    "        ],\n",
    "        height=700,  # Ajusta la altura del gráfico\n",
    "        width=900,   # Ajusta el ancho del gráfico\n",
    "    )\n",
    "\n",
    "    fig.show()\n",
    "\n",
    "grafico_pie_t_pantalla('Ojo de Halcón')"
   ]
  },
  {
   "cell_type": "code",
   "execution_count": 26,
   "metadata": {},
   "outputs": [
    {
     "data": {
      "text/plain": [
       "Peter Parker / Spider-Man       76.25\n",
       "Vulture                         19.00\n",
       "Ned Leeds                       13.75\n",
       "Liz Toomes                       9.75\n",
       "Tony Stark / Iron Man            8.00\n",
       "Happy                            6.00\n",
       "Herman Schultz / The Shocker     4.50\n",
       "Aunt May                         4.00\n",
       "Phineas Mason / Tinkerer         3.75\n",
       "MJ                               2.75\n",
       "Aaron Davis                      2.50\n",
       "Flash Thompson                   2.25\n",
       "Roger Harrington                 2.00\n",
       "Mac Gargan                       1.25\n",
       "Betty Brant                      1.25\n",
       "Jason Ionello                    1.00\n",
       "Steve Rogers                     1.00\n",
       "Ann Marie Hoag                   1.00\n",
       "Pepper Potts                     0.75\n",
       "Name: Spider-Man: Homecoming, dtype: float64"
      ]
     },
     "execution_count": 26,
     "metadata": {},
     "output_type": "execute_result"
    }
   ],
   "source": [
    "char_movie_matrix[char_movie_matrix['Spider-Man: Homecoming'] != 0]['Spider-Man: Homecoming'].sort_values(ascending=False)\n",
    "def grafico_char_tiempo_pelicula (pelicula):\n",
    "    data = pd.DataFrame(char_movie_matrix[char_movie_matrix[pelicula] != 0][pelicula].sort_values(ascending=False))\n",
    "    plt.figure(figsize=(15, 6))\n",
    "    data['Personajes'] = list(map(lambda x: '\\n'.join(x.split(' ')),data.index))\n",
    "    sns.barplot(x='Personajes', y=pelicula, data=data)\n",
    "\n",
    "grafico_char_tiempo_pelicula ('Spider-Man: No Way Home')\n",
    "\n",
    "def grafico_peliculas_del_char (char):\n",
    "    peliculas = {}\n",
    "    for peli in apariciones_pj[char]:\n",
    "        peliculas[peli] = char_movie_matrix.loc[char][peli]\n",
    "    plt.figure(figsize=(20, 6))\n",
    "    pelis = list(map(lambda x: '\\n'.join(x.split(' ')),list(peliculas.keys())))\n",
    "    sns.barplot(x=pelis, y=list(peliculas.values()))\n",
    "    plt.title(char)\n",
    "    plt.xlabel('Peliculas')\n",
    "    plt.ylabel('Tiempo en pantalla');\n",
    "\n",
    "grafico_peliculas_del_char ('Valkyrie')\n",
    "\n",
    "columna_tiempo_total_peliculas_char = []\n",
    "for char in char_movie_matrix.index:\n",
    "    tiempo_total_peliculas_char = 0\n",
    "    for peli in apariciones_pj[char]:\n",
    "        tiempo_total_peliculas_char += float(movie_lengths[peli])\n",
    "    columna_tiempo_total_peliculas_char.append(tiempo_total_peliculas_char)\n",
    "\n",
    "columna_porcentage_tiempo_pantalla = []\n",
    "suma_tiempos = list(dict(char_movie_matrix['Total de tiempo en pantalla']).values())\n",
    "for i in range(len(columna_tiempo_total_peliculas_char)):\n",
    "    columna_porcentage_tiempo_pantalla.append((suma_tiempos[i]/columna_tiempo_total_peliculas_char[i])*100)\n",
    "columna_porcentage_tiempo_pantalla\n",
    "nueva_fila = pd.DataFrame([movie_lengths])\n",
    "nueva_fila = convert_time_to_mins(nueva_fila)\n",
    "nuevo_df = (char_movie_matrix.iloc[:, :-1].div(nueva_fila.iloc[0]))*100\n",
    "nuevo_df\n",
    "def grafico_pie_t_pantalla (pelicula):    \n",
    "    df = char_movie_matrix[char_movie_matrix[pelicula] != 0]\n",
    "    pie1 = df[pelicula]\n",
    "    pie1_list = list(pie1.values)\n",
    "    pie1_list = [round(each,2) for each in pie1_list]\n",
    "    labels = df.index\n",
    "\n",
    "    # Figure\n",
    "    fig = make_subplots(rows=1, cols=1, specs=[[{'type': 'pie'}]])\n",
    "\n",
    "    fig.add_trace(\n",
    "        go.Pie(\n",
    "            labels=labels,\n",
    "            values=pie1_list,\n",
    "            textinfo='value',\n",
    "            hoverinfo=\"label+value\",\n",
    "            hole=0.3,\n",
    "        ),\n",
    "        row=1, col=1\n",
    "        \n",
    "    )\n",
    "\n",
    "    fig.update_layout(\n",
    "        title=\"Tiempo en pantalla en \" + pelicula + ' (' + movie_lengths[pelicula] +')',\n",
    "        annotations=[\n",
    "            {\n",
    "                \"font\": {\"size\": 20},\n",
    "                \"showarrow\": False,\n",
    "                \"text\": pelicula,\n",
    "                \"x\": 0.5,\n",
    "                \"y\": 1.07,\n",
    "            }\n",
    "        ],\n",
    "        height=700,  # Ajusta la altura del gráfico\n",
    "        width=900,   # Ajusta el ancho del gráfico\n",
    "    )\n",
    "\n",
    "    fig.show()\n",
    "\n",
    "grafico_pie_t_pantalla('Ojo de Halcón')"
   ]
  },
  {
   "cell_type": "code",
   "execution_count": 27,
   "metadata": {},
   "outputs": [
    {
     "data": {
      "image/png": "[encoded data removed]",
      "text/plain": [
       "<Figure size 1500x600 with 1 Axes>"
      ]
     },
     "metadata": {},
     "output_type": "display_data"
    }
   ],
   "source": [
    "def grafico_char_tiempo_pelicula (pelicula):\n",
    "    data = pd.DataFrame(char_movie_matrix[char_movie_matrix[pelicula] != 0][pelicula].sort_values(ascending=False))\n",
    "    plt.figure(figsize=(15, 6))\n",
    "    data['Personajes'] = list(map(lambda x: '\\n'.join(x.split(' ')),data.index))\n",
    "    sns.barplot(x='Personajes', y=pelicula, data=data)\n",
    "\n",
    "grafico_char_tiempo_pelicula ('Spider-Man: No Way Home')\n",
    "\n",
    "def grafico_peliculas_del_char (char):\n",
    "    peliculas = {}\n",
    "    for peli in apariciones_pj[char]:\n",
    "        peliculas[peli] = char_movie_matrix.loc[char][peli]\n",
    "    plt.figure(figsize=(20, 6))\n",
    "    pelis = list(map(lambda x: '\\n'.join(x.split(' ')),list(peliculas.keys())))\n",
    "    sns.barplot(x=pelis, y=list(peliculas.values()))\n",
    "    plt.title(char)\n",
    "    plt.xlabel('Peliculas')\n",
    "    plt.ylabel('Tiempo en pantalla');\n",
    "\n",
    "grafico_peliculas_del_char ('Valkyrie')\n",
    "\n",
    "columna_tiempo_total_peliculas_char = []\n",
    "for char in char_movie_matrix.index:\n",
    "    tiempo_total_peliculas_char = 0\n",
    "    for peli in apariciones_pj[char]:\n",
    "        tiempo_total_peliculas_char += float(movie_lengths[peli])\n",
    "    columna_tiempo_total_peliculas_char.append(tiempo_total_peliculas_char)\n",
    "\n",
    "columna_porcentage_tiempo_pantalla = []\n",
    "suma_tiempos = list(dict(char_movie_matrix['Total de tiempo en pantalla']).values())\n",
    "for i in range(len(columna_tiempo_total_peliculas_char)):\n",
    "    columna_porcentage_tiempo_pantalla.append((suma_tiempos[i]/columna_tiempo_total_peliculas_char[i])*100)\n",
    "columna_porcentage_tiempo_pantalla\n",
    "nueva_fila = pd.DataFrame([movie_lengths])\n",
    "nueva_fila = convert_time_to_mins(nueva_fila)\n",
    "nuevo_df = (char_movie_matrix.iloc[:, :-1].div(nueva_fila.iloc[0]))*100\n",
    "nuevo_df\n",
    "def grafico_pie_t_pantalla (pelicula):    \n",
    "    df = char_movie_matrix[char_movie_matrix[pelicula] != 0]\n",
    "    pie1 = df[pelicula]\n",
    "    pie1_list = list(pie1.values)\n",
    "    pie1_list = [round(each,2) for each in pie1_list]\n",
    "    labels = df.index\n",
    "\n",
    "    # Figure\n",
    "    fig = make_subplots(rows=1, cols=1, specs=[[{'type': 'pie'}]])\n",
    "\n",
    "    fig.add_trace(\n",
    "        go.Pie(\n",
    "            labels=labels,\n",
    "            values=pie1_list,\n",
    "            textinfo='value',\n",
    "            hoverinfo=\"label+value\",\n",
    "            hole=0.3,\n",
    "        ),\n",
    "        row=1, col=1\n",
    "        \n",
    "    )\n",
    "\n",
    "    fig.update_layout(\n",
    "        title=\"Tiempo en pantalla en \" + pelicula + ' (' + movie_lengths[pelicula] +')',\n",
    "        annotations=[\n",
    "            {\n",
    "                \"font\": {\"size\": 20},\n",
    "                \"showarrow\": False,\n",
    "                \"text\": pelicula,\n",
    "                \"x\": 0.5,\n",
    "                \"y\": 1.07,\n",
    "            }\n",
    "        ],\n",
    "        height=700,  # Ajusta la altura del gráfico\n",
    "        width=900,   # Ajusta el ancho del gráfico\n",
    "    )\n",
    "\n",
    "    fig.show()\n",
    "\n",
    "grafico_pie_t_pantalla('Ojo de Halcón')"
   ]
  },
  {
   "cell_type": "code",
   "execution_count": 28,
   "metadata": {},
   "outputs": [
    {
     "data": {
      "image/png": "[encoded data removed]",
      "text/plain": [
       "<Figure size 2000x600 with 1 Axes>"
      ]
     },
     "metadata": {},
     "output_type": "display_data"
    }
   ],
   "source": [
    "def grafico_peliculas_del_char (char):\n",
    "    peliculas = {}\n",
    "    for peli in apariciones_pj[char]:\n",
    "        peliculas[peli] = char_movie_matrix.loc[char][peli]\n",
    "    plt.figure(figsize=(20, 6))\n",
    "    pelis = list(map(lambda x: '\\n'.join(x.split(' ')),list(peliculas.keys())))\n",
    "    sns.barplot(x=pelis, y=list(peliculas.values()))\n",
    "    plt.title(char)\n",
    "    plt.xlabel('Peliculas')\n",
    "    plt.ylabel('Tiempo en pantalla');\n",
    "\n",
    "grafico_peliculas_del_char ('Valkyrie')\n",
    "\n",
    "columna_tiempo_total_peliculas_char = []\n",
    "for char in char_movie_matrix.index:\n",
    "    tiempo_total_peliculas_char = 0\n",
    "    for peli in apariciones_pj[char]:\n",
    "        tiempo_total_peliculas_char += float(movie_lengths[peli])\n",
    "    columna_tiempo_total_peliculas_char.append(tiempo_total_peliculas_char)\n",
    "\n",
    "columna_porcentage_tiempo_pantalla = []\n",
    "suma_tiempos = list(dict(char_movie_matrix['Total de tiempo en pantalla']).values())\n",
    "for i in range(len(columna_tiempo_total_peliculas_char)):\n",
    "    columna_porcentage_tiempo_pantalla.append((suma_tiempos[i]/columna_tiempo_total_peliculas_char[i])*100)\n",
    "columna_porcentage_tiempo_pantalla\n",
    "nueva_fila = pd.DataFrame([movie_lengths])\n",
    "nueva_fila = convert_time_to_mins(nueva_fila)\n",
    "nuevo_df = (char_movie_matrix.iloc[:, :-1].div(nueva_fila.iloc[0]))*100\n",
    "nuevo_df\n",
    "def grafico_pie_t_pantalla (pelicula):    \n",
    "    df = char_movie_matrix[char_movie_matrix[pelicula] != 0]\n",
    "    pie1 = df[pelicula]\n",
    "    pie1_list = list(pie1.values)\n",
    "    pie1_list = [round(each,2) for each in pie1_list]\n",
    "    labels = df.index\n",
    "\n",
    "    # Figure\n",
    "    fig = make_subplots(rows=1, cols=1, specs=[[{'type': 'pie'}]])\n",
    "\n",
    "    fig.add_trace(\n",
    "        go.Pie(\n",
    "            labels=labels,\n",
    "            values=pie1_list,\n",
    "            textinfo='value',\n",
    "            hoverinfo=\"label+value\",\n",
    "            hole=0.3,\n",
    "        ),\n",
    "        row=1, col=1\n",
    "        \n",
    "    )\n",
    "\n",
    "    fig.update_layout(\n",
    "        title=\"Tiempo en pantalla en \" + pelicula + ' (' + movie_lengths[pelicula] +')',\n",
    "        annotations=[\n",
    "            {\n",
    "                \"font\": {\"size\": 20},\n",
    "                \"showarrow\": False,\n",
    "                \"text\": pelicula,\n",
    "                \"x\": 0.5,\n",
    "                \"y\": 1.07,\n",
    "            }\n",
    "        ],\n",
    "        height=700,  # Ajusta la altura del gráfico\n",
    "        width=900,   # Ajusta el ancho del gráfico\n",
    "    )\n",
    "\n",
    "    fig.show()\n",
    "\n",
    "grafico_pie_t_pantalla('Ojo de Halcón')"
   ]
  },
  {
   "cell_type": "code",
   "execution_count": 29,
   "metadata": {},
   "outputs": [],
   "source": [
    "columna_tiempo_total_peliculas_char = []\n",
    "for char in char_movie_matrix.index:\n",
    "    tiempo_total_peliculas_char = 0\n",
    "    for peli in apariciones_pj[char]:\n",
    "        tiempo_total_peliculas_char += float(movie_lengths[peli])\n",
    "    columna_tiempo_total_peliculas_char.append(tiempo_total_peliculas_char)\n",
    "\n",
    "columna_porcentage_tiempo_pantalla = []\n",
    "suma_tiempos = list(dict(char_movie_matrix['Total de tiempo en pantalla']).values())\n",
    "for i in range(len(columna_tiempo_total_peliculas_char)):\n",
    "    columna_porcentage_tiempo_pantalla.append((suma_tiempos[i]/columna_tiempo_total_peliculas_char[i])*100)\n",
    "columna_porcentage_tiempo_pantalla\n",
    "nueva_fila = pd.DataFrame([movie_lengths])\n",
    "nueva_fila = convert_time_to_mins(nueva_fila)\n",
    "nuevo_df = (char_movie_matrix.iloc[:, :-1].div(nueva_fila.iloc[0]))*100\n",
    "nuevo_df\n",
    "def grafico_pie_t_pantalla (pelicula):    \n",
    "    df = char_movie_matrix[char_movie_matrix[pelicula] != 0]\n",
    "    pie1 = df[pelicula]\n",
    "    pie1_list = list(pie1.values)\n",
    "    pie1_list = [round(each,2) for each in pie1_list]\n",
    "    labels = df.index\n",
    "\n",
    "    # Figure\n",
    "    fig = make_subplots(rows=1, cols=1, specs=[[{'type': 'pie'}]])\n",
    "\n",
    "    fig.add_trace(\n",
    "        go.Pie(\n",
    "            labels=labels,\n",
    "            values=pie1_list,\n",
    "            textinfo='value',\n",
    "            hoverinfo=\"label+value\",\n",
    "            hole=0.3,\n",
    "        ),\n",
    "        row=1, col=1\n",
    "        \n",
    "    )\n",
    "\n",
    "    fig.update_layout(\n",
    "        title=\"Tiempo en pantalla en \" + pelicula + ' (' + movie_lengths[pelicula] +')',\n",
    "        annotations=[\n",
    "            {\n",
    "                \"font\": {\"size\": 20},\n",
    "                \"showarrow\": False,\n",
    "                \"text\": pelicula,\n",
    "                \"x\": 0.5,\n",
    "                \"y\": 1.07,\n",
    "            }\n",
    "        ],\n",
    "        height=700,  # Ajusta la altura del gráfico\n",
    "        width=900,   # Ajusta el ancho del gráfico\n",
    "    )\n",
    "\n",
    "    fig.show()\n",
    "\n",
    "grafico_pie_t_pantalla('Ojo de Halcón')"
   ]
  },
  {
   "cell_type": "code",
   "execution_count": 30,
   "metadata": {},
   "outputs": [
    {
     "data": {
      "text/plain": [
       "[17.075202284626368,\n",
       " 14.63687150837989,\n",
       " 27.762119503945886,\n",
       " 12.268170426065163,\n",
       " 14.812853107344633,\n",
       " 15.447154471544716,\n",
       " 8.83901705115346,\n",
       " 61.14982578397212,\n",
       " 19.287396937573618,\n",
       " 8.88317191283293,\n",
       " 16.384345794392523,\n",
       " 47.66435986159169,\n",
       " 11.52860802732707,\n",
       " 48.61623616236162,\n",
       " 9.510869565217392,\n",
       " 19.849023090586147,\n",
       " 32.52212389380531,\n",
       " 14.65863453815261,\n",
       " 13.15120711562897,\n",
       " 13.58603066439523,\n",
       " 14.353612167300382,\n",
       " 12.5,\n",
       " 10.113154172560112,\n",
       " 7.074036511156187,\n",
       " 4.560697518443997,\n",
       " 10.84,\n",
       " 47.72727272727273,\n",
       " 4.257565095003519,\n",
       " 12.684989429175475,\n",
       " 9.726962457337883,\n",
       " 7.49665327978581,\n",
       " 7.295850066934404,\n",
       " 8.559999999999999,\n",
       " 18.554006968641115,\n",
       " 12.5,\n",
       " 12.073170731707316,\n",
       " 11.778846153846153,\n",
       " 6.385135135135135,\n",
       " 29.647435897435898,\n",
       " 3.4065102195306585,\n",
       " 8.985200845665963,\n",
       " 13.588850174216027,\n",
       " 5.053547523427041,\n",
       " 13.745387453874539,\n",
       " 12.333333333333334,\n",
       " 10.285714285714285,\n",
       " 3.1140350877192984,\n",
       " 5.5910543130990416,\n",
       " 22.115384615384613,\n",
       " 5.319999999999999,\n",
       " 8.042394014962593,\n",
       " 23.674242424242426,\n",
       " 3.6904761904761907,\n",
       " 10.423728813559322,\n",
       " 7.167832167832168,\n",
       " 3.063851699279094,\n",
       " 9.602076124567475,\n",
       " 24.107142857142858,\n",
       " 20.454545454545457,\n",
       " 9.0,\n",
       " 10.995850622406639,\n",
       " 9.686346863468636,\n",
       " 20.634920634920633,\n",
       " 18.097014925373134,\n",
       " 8.220338983050848,\n",
       " 4.74559686888454,\n",
       " 2.5715800636267234,\n",
       " 8.02675585284281,\n",
       " 3.145917001338688,\n",
       " 13.975155279503104,\n",
       " 6.637168141592921,\n",
       " 8.928571428571429,\n",
       " 9.232365145228217,\n",
       " 3.7969283276450514,\n",
       " 16.666666666666664,\n",
       " 17.46031746031746,\n",
       " 3.407290015847861,\n",
       " 16.472868217054263,\n",
       " 6.1946902654867255,\n",
       " 15.485074626865671,\n",
       " 16.733870967741936,\n",
       " 6.916666666666667,\n",
       " 7.010135135135136,\n",
       " 7.472324723247232,\n",
       " 5.847953216374268,\n",
       " 4.22008547008547,\n",
       " 4.149159663865546,\n",
       " 3.3276450511945397,\n",
       " 12.339743589743591,\n",
       " 37.019230769230774,\n",
       " 16.3135593220339,\n",
       " 4.044117647058823,\n",
       " 5.428571428571429,\n",
       " 14.285714285714285,\n",
       " 4.298642533936651,\n",
       " 4.0198237885462555,\n",
       " 2.47289972899729,\n",
       " 3.0874785591766725,\n",
       " 6.647940074906367,\n",
       " 6.549815498154982,\n",
       " 34.13461538461539,\n",
       " 11.217948717948719,\n",
       " 6.055363321799308,\n",
       " 7.599118942731277,\n",
       " 12.5,\n",
       " 13.306451612903224,\n",
       " 1.8486916951080772,\n",
       " 5.8118081180811805,\n",
       " 6.595744680851063,\n",
       " 2.44,\n",
       " 9.775641025641026,\n",
       " 13.392857142857142,\n",
       " 9.316770186335404,\n",
       " 1.9281045751633987,\n",
       " 4.277286135693215,\n",
       " 2.474402730375427,\n",
       " 12.393162393162394,\n",
       " 5.07380073800738,\n",
       " 4.2586750788643535,\n",
       " 3.146853146853147,\n",
       " 5.321285140562249,\n",
       " 3.785714285714286,\n",
       " 11.08695652173913,\n",
       " 10.805084745762713,\n",
       " 3.761061946902655,\n",
       " 9.615384615384617,\n",
       " 3.0048076923076925,\n",
       " 1.765536723163842,\n",
       " 9.230769230769232,\n",
       " 1.9138755980861244,\n",
       " 2.745995423340961,\n",
       " 3.916666666666667,\n",
       " 9.552845528455284,\n",
       " 4.243542435424354,\n",
       " 5.066079295154185,\n",
       " 3.9792387543252596,\n",
       " 7.211538461538461,\n",
       " 2.6378896882494005,\n",
       " 3.8062283737024223,\n",
       " 4.296875,\n",
       " 4.059040590405904,\n",
       " 3.6666666666666665,\n",
       " 3.9667896678966788,\n",
       " 2.6219512195121952,\n",
       " 3.7456445993031355,\n",
       " 4.038461538461538,\n",
       " 6.730769230769231,\n",
       " 7.142857142857142,\n",
       " 7.649253731343284,\n",
       " 6.41025641025641,\n",
       " 2.403846153846154,\n",
       " 3.6363636363636362,\n",
       " 2.801120448179272,\n",
       " 7.330827067669173,\n",
       " 0.876798561151079,\n",
       " 22.61904761904762,\n",
       " 7.08955223880597,\n",
       " 1.0662177328843996,\n",
       " 1.621160409556314,\n",
       " 2.5910364145658265,\n",
       " 3.790983606557377,\n",
       " 6.25,\n",
       " 7.459677419354839,\n",
       " 1.9935344827586208,\n",
       " 5.929487179487179,\n",
       " 3.3210332103321036,\n",
       " 7.8125,\n",
       " 1.6762452107279693,\n",
       " 6.730769230769231,\n",
       " 2.1341463414634148,\n",
       " 2.9166666666666665,\n",
       " 5.6089743589743595,\n",
       " 6.854838709677419,\n",
       " 7.203389830508475,\n",
       " 2.380952380952381,\n",
       " 2.2857142857142856,\n",
       " 15.384615384615385,\n",
       " 2.666666666666667,\n",
       " 2.286135693215339,\n",
       " 5.871212121212121,\n",
       " 1.172465960665658,\n",
       " 5.769230769230769,\n",
       " 6.696428571428571,\n",
       " 2.5,\n",
       " 2.1386430678466075,\n",
       " 5.410447761194029,\n",
       " 4.898648648648648,\n",
       " 1.3461538461538463,\n",
       " 2.422145328719723,\n",
       " 4.487179487179487,\n",
       " 5.932203389830509,\n",
       " 2.0648967551622417,\n",
       " 2.4907749077490773,\n",
       " 5.037313432835821,\n",
       " 5.1923076923076925,\n",
       " 1.1304347826086958,\n",
       " 2.3131672597864767,\n",
       " 2.090032154340836,\n",
       " 2.3985239852398523,\n",
       " 4.924242424242424,\n",
       " 1.4908256880733946,\n",
       " 4.734848484848484,\n",
       " 5.580357142857143,\n",
       " 2.3062730627306274,\n",
       " 5.357142857142857,\n",
       " 1.023890784982935,\n",
       " 3.8461538461538463,\n",
       " 1.7699115044247788,\n",
       " 4.545454545454546,\n",
       " 2.553191489361702,\n",
       " 4.761904761904762,\n",
       " 4.615384615384616,\n",
       " 1.9896193771626298,\n",
       " 2.003484320557491,\n",
       " 4.457364341085271,\n",
       " 1.6666666666666667,\n",
       " 4.661016949152542,\n",
       " 1.5714285714285716,\n",
       " 1.8333333333333333,\n",
       " 2.2540983606557377,\n",
       " 4.661016949152542,\n",
       " 4.230769230769231,\n",
       " 2.1,\n",
       " 1.5,\n",
       " 3.977272727272727,\n",
       " 1.4285714285714286,\n",
       " 2.127659574468085,\n",
       " 1.7301038062283738,\n",
       " 1.7421602787456445,\n",
       " 1.6550522648083623,\n",
       " 1.3571428571428572,\n",
       " 11.30952380952381,\n",
       " 1.7148014440433215,\n",
       " 0.9134615384615385,\n",
       " 1.7527675276752765,\n",
       " 3.861788617886179,\n",
       " 3.3834586466165413,\n",
       " 1.3636363636363635,\n",
       " 1.6605166051660518,\n",
       " 1.3274336283185841,\n",
       " 1.5,\n",
       " 1.1780104712041886,\n",
       " 1.5570934256055362,\n",
       " 3.6016949152542375,\n",
       " 1.4705882352941175,\n",
       " 3.2196969696969697,\n",
       " 1.480836236933798,\n",
       " 3.125,\n",
       " 3.171641791044776,\n",
       " 0.8385744234800839,\n",
       " 1.1799410029498525,\n",
       " 0.6825938566552902,\n",
       " 1.702127659574468,\n",
       " 1.384083044982699,\n",
       " 1.2121212121212122,\n",
       " 2.819548872180451,\n",
       " 3.260869565217391,\n",
       " 2.798507462686567,\n",
       " 2.840909090909091,\n",
       " 1.1363636363636365,\n",
       " 1.3837638376383763,\n",
       " 7.211538461538461,\n",
       " 0.6399317406143344,\n",
       " 1.2975778546712802,\n",
       " 2.364864864864865,\n",
       " 2.1739130434782608,\n",
       " 2.6515151515151514,\n",
       " 3.0434782608695654,\n",
       " 6.730769230769231,\n",
       " 1.2195121951219512,\n",
       " 1.2110726643598615,\n",
       " 2.7131782945736433,\n",
       " 2.5735294117647056,\n",
       " 1.2915129151291513,\n",
       " 2.8455284552845526,\n",
       " 2.195945945945946,\n",
       " 2.5193798449612403,\n",
       " 2.304964539007092,\n",
       " 0.9285714285714286,\n",
       " 21.666666666666668,\n",
       " 1.7955801104972375,\n",
       " 1.231060606060606,\n",
       " 1.132404181184669,\n",
       " 2.754237288135593,\n",
       " 0.5546075085324232,\n",
       " 0.4616477272727273,\n",
       " 1.3485477178423237,\n",
       " 2.018633540372671,\n",
       " 2.3255813953488373,\n",
       " 1.0,\n",
       " 1.107011070110701,\n",
       " 2.479338842975207,\n",
       " 1.1673151750972763,\n",
       " 2.5423728813559325,\n",
       " 1.8633540372670807,\n",
       " 1.0380622837370241,\n",
       " 2.307692307692308,\n",
       " 2.307692307692308,\n",
       " 1.9230769230769231,\n",
       " 1.0576923076923077,\n",
       " 0.9927797833935018,\n",
       " 5.288461538461538,\n",
       " 1.014760147601476,\n",
       " 0.9581881533101044,\n",
       " 1.8456375838926176,\n",
       " 2.1825396825396823,\n",
       " 2.391304347826087,\n",
       " 0.8112094395280236,\n",
       " 2.131782945736434,\n",
       " 1.0784313725490196,\n",
       " 2.455357142857143,\n",
       " 0.469283276450512,\n",
       " 1.893939393939394,\n",
       " 0.42662116040955633,\n",
       " 0.8650519031141869,\n",
       " 0.7142857142857143,\n",
       " 1.8796992481203008,\n",
       " 2.0325203252032518,\n",
       " 1.0729613733905579,\n",
       " 2.066115702479339,\n",
       " 1.5527950310559007,\n",
       " 1.8145161290322582,\n",
       " 1.3975155279503106,\n",
       " 0.5244755244755245,\n",
       " 0.7839721254355401,\n",
       " 1.8292682926829267,\n",
       " 1.7857142857142856,\n",
       " 1.530612244897959,\n",
       " 0.75,\n",
       " 1.7045454545454544,\n",
       " 1.9230769230769231,\n",
       " 0.6428571428571428,\n",
       " 0.8302583025830259,\n",
       " 0.6637168141592921,\n",
       " 2.0089285714285716,\n",
       " 1.7391304347826086,\n",
       " 1.4388489208633095,\n",
       " 1.282051282051282,\n",
       " 0.7380073800738007,\n",
       " 1.6260162601626018,\n",
       " 1.5384615384615385,\n",
       " 1.2422360248447204,\n",
       " 1.5384615384615385,\n",
       " 1.4705882352941175,\n",
       " 0.7220216606498195,\n",
       " 1.411290322580645,\n",
       " 0.6457564575645757,\n",
       " 0.6679389312977099,\n",
       " 0.631768953068592,\n",
       " 1.1217948717948718,\n",
       " 1.3461538461538463,\n",
       " 0.5162241887905604,\n",
       " 0.6055363321799307,\n",
       " 1.2237762237762237,\n",
       " 1.4830508474576272,\n",
       " 1.3257575757575757,\n",
       " 1.4830508474576272,\n",
       " 1.3888888888888888,\n",
       " 1.0869565217391304,\n",
       " 0.6097560975609756,\n",
       " 1.1904761904761905,\n",
       " 1.1194029850746268,\n",
       " 1.1627906976744187,\n",
       " 0.38961038961038963,\n",
       " 1.1029411764705883,\n",
       " 1.0135135135135136,\n",
       " 0.9316770186335404,\n",
       " 1.2096774193548387,\n",
       " 0.4285714285714286,\n",
       " 0.5415162454873645,\n",
       " 2.976190476190476,\n",
       " 1.0080645161290323,\n",
       " 0.6906077348066298,\n",
       " 0.4480286738351254,\n",
       " 0.9328358208955223,\n",
       " 0.3687315634218289,\n",
       " 0.9398496240601504,\n",
       " 0.4355400696864111,\n",
       " 0.6993006993006993,\n",
       " 0.7352941176470588,\n",
       " 0.7462686567164178,\n",
       " 0.8547008547008548,\n",
       " 0.7518796992481203,\n",
       " 0.7692307692307693,\n",
       " 0.847457627118644,\n",
       " 0.7936507936507936,\n",
       " 0.2857142857142857,\n",
       " 0.7462686567164178,\n",
       " 0.7352941176470588,\n",
       " 0.36900369003690037,\n",
       " 0.6211180124223602,\n",
       " 0.17064846416382254,\n",
       " 0.641025641025641,\n",
       " 0.5597014925373134,\n",
       " 0.4807692307692308,\n",
       " 0.6198347107438017,\n",
       " 0.423728813559322,\n",
       " 0.3787878787878788,\n",
       " 0.3968253968253968,\n",
       " 0.423728813559322,\n",
       " 0.9615384615384616,\n",
       " 0.1984126984126984,\n",
       " 0.13812154696132595,\n",
       " 0.1838235294117647,\n",
       " 0.211864406779661]"
      ]
     },
     "execution_count": 30,
     "metadata": {},
     "output_type": "execute_result"
    }
   ],
   "source": [
    "\n",
    "columna_porcentage_tiempo_pantalla = []\n",
    "suma_tiempos = list(dict(char_movie_matrix['Total de tiempo en pantalla']).values())\n",
    "for i in range(len(columna_tiempo_total_peliculas_char)):\n",
    "    columna_porcentage_tiempo_pantalla.append((suma_tiempos[i]/columna_tiempo_total_peliculas_char[i])*100)\n",
    "columna_porcentage_tiempo_pantalla\n",
    "nueva_fila = pd.DataFrame([movie_lengths])\n",
    "nueva_fila = convert_time_to_mins(nueva_fila)\n",
    "nuevo_df = (char_movie_matrix.iloc[:, :-1].div(nueva_fila.iloc[0]))*100\n",
    "nuevo_df\n",
    "def grafico_pie_t_pantalla (pelicula):    \n",
    "    df = char_movie_matrix[char_movie_matrix[pelicula] != 0]\n",
    "    pie1 = df[pelicula]\n",
    "    pie1_list = list(pie1.values)\n",
    "    pie1_list = [round(each,2) for each in pie1_list]\n",
    "    labels = df.index\n",
    "\n",
    "    # Figure\n",
    "    fig = make_subplots(rows=1, cols=1, specs=[[{'type': 'pie'}]])\n",
    "\n",
    "    fig.add_trace(\n",
    "        go.Pie(\n",
    "            labels=labels,\n",
    "            values=pie1_list,\n",
    "            textinfo='value',\n",
    "            hoverinfo=\"label+value\",\n",
    "            hole=0.3,\n",
    "        ),\n",
    "        row=1, col=1\n",
    "        \n",
    "    )\n",
    "\n",
    "    fig.update_layout(\n",
    "        title=\"Tiempo en pantalla en \" + pelicula + ' (' + movie_lengths[pelicula] +')',\n",
    "        annotations=[\n",
    "            {\n",
    "                \"font\": {\"size\": 20},\n",
    "                \"showarrow\": False,\n",
    "                \"text\": pelicula,\n",
    "                \"x\": 0.5,\n",
    "                \"y\": 1.07,\n",
    "            }\n",
    "        ],\n",
    "        height=700,  # Ajusta la altura del gráfico\n",
    "        width=900,   # Ajusta el ancho del gráfico\n",
    "    )\n",
    "\n",
    "    fig.show()\n",
    "\n",
    "grafico_pie_t_pantalla('Ojo de Halcón')"
   ]
  },
  {
   "cell_type": "code",
   "execution_count": 31,
   "metadata": {},
   "outputs": [],
   "source": [
    "nueva_fila = pd.DataFrame([movie_lengths])\n",
    "nueva_fila = convert_time_to_mins(nueva_fila)\n",
    "nuevo_df = (char_movie_matrix.iloc[:, :-1].div(nueva_fila.iloc[0]))*100\n",
    "nuevo_df\n",
    "def grafico_pie_t_pantalla (pelicula):    \n",
    "    df = char_movie_matrix[char_movie_matrix[pelicula] != 0]\n",
    "    pie1 = df[pelicula]\n",
    "    pie1_list = list(pie1.values)\n",
    "    pie1_list = [round(each,2) for each in pie1_list]\n",
    "    labels = df.index\n",
    "\n",
    "    # Figure\n",
    "    fig = make_subplots(rows=1, cols=1, specs=[[{'type': 'pie'}]])\n",
    "\n",
    "    fig.add_trace(\n",
    "        go.Pie(\n",
    "            labels=labels,\n",
    "            values=pie1_list,\n",
    "            textinfo='value',\n",
    "            hoverinfo=\"label+value\",\n",
    "            hole=0.3,\n",
    "        ),\n",
    "        row=1, col=1\n",
    "        \n",
    "    )\n",
    "\n",
    "    fig.update_layout(\n",
    "        title=\"Tiempo en pantalla en \" + pelicula + ' (' + movie_lengths[pelicula] +')',\n",
    "        annotations=[\n",
    "            {\n",
    "                \"font\": {\"size\": 20},\n",
    "                \"showarrow\": False,\n",
    "                \"text\": pelicula,\n",
    "                \"x\": 0.5,\n",
    "                \"y\": 1.07,\n",
    "            }\n",
    "        ],\n",
    "        height=700,  # Ajusta la altura del gráfico\n",
    "        width=900,   # Ajusta el ancho del gráfico\n",
    "    )\n",
    "\n",
    "    fig.show()\n",
    "\n",
    "grafico_pie_t_pantalla('Ojo de Halcón')"
   ]
  },
  {
   "cell_type": "code",
   "execution_count": 32,
   "metadata": {},
   "outputs": [
    {
     "data": {
      "text/html": [
       "<div>\n",
       "<style scoped>\n",
       "    .dataframe tbody tr th:only-of-type {\n",
       "        vertical-align: middle;\n",
       "    }\n",
       "\n",
       "    .dataframe tbody tr th {\n",
       "        vertical-align: top;\n",
       "    }\n",
       "\n",
       "    .dataframe thead th {\n",
       "        text-align: right;\n",
       "    }\n",
       "</style>\n",
       "<table border=\"1\" class=\"dataframe\">\n",
       "  <thead>\n",
       "    <tr style=\"text-align: right;\">\n",
       "      <th></th>\n",
       "      <th>Iron Man</th>\n",
       "      <th>El increíble Hulk</th>\n",
       "      <th>Iron Man 2</th>\n",
       "      <th>Thor</th>\n",
       "      <th>Capitán América: El primer vengador</th>\n",
       "      <th>Los Vengadores</th>\n",
       "      <th>Iron Man 3</th>\n",
       "      <th>Marvel One-Shot: Agente Carter</th>\n",
       "      <th>Thor: El mundo oscuro</th>\n",
       "      <th>Capitán América: El Soldado de Invierno</th>\n",
       "      <th>...</th>\n",
       "      <th>Ojo de Halcón</th>\n",
       "      <th>Spider-Man: No Way Home</th>\n",
       "      <th>Caballero Luna</th>\n",
       "      <th>Doctor Strange en el multiverso de la locura</th>\n",
       "      <th>Ms. Marvel</th>\n",
       "      <th>Thor: Love and Thunder</th>\n",
       "      <th>She-Hulk: Abogada Hulka</th>\n",
       "      <th>La maldición del hombre lobo</th>\n",
       "      <th>Black Panther: Wakanda Forever</th>\n",
       "      <th>Guardianes de la Galaxia: Especial felices fiestas</th>\n",
       "    </tr>\n",
       "  </thead>\n",
       "  <tbody>\n",
       "    <tr>\n",
       "      <th>Tony Stark / Iron Man</th>\n",
       "      <td>61.309524</td>\n",
       "      <td>0.446429</td>\n",
       "      <td>49.395161</td>\n",
       "      <td>0.0</td>\n",
       "      <td>0.0</td>\n",
       "      <td>22.202797</td>\n",
       "      <td>47.884615</td>\n",
       "      <td>0.0</td>\n",
       "      <td>0.0</td>\n",
       "      <td>0.0</td>\n",
       "      <td>...</td>\n",
       "      <td>0.0</td>\n",
       "      <td>0.0</td>\n",
       "      <td>0.0</td>\n",
       "      <td>0.0</td>\n",
       "      <td>0.0</td>\n",
       "      <td>0.0</td>\n",
       "      <td>0.0</td>\n",
       "      <td>0.0</td>\n",
       "      <td>0.0</td>\n",
       "      <td>0.0</td>\n",
       "    </tr>\n",
       "    <tr>\n",
       "      <th>Thor</th>\n",
       "      <td>0.0</td>\n",
       "      <td>0.0</td>\n",
       "      <td>0.0</td>\n",
       "      <td>37.608696</td>\n",
       "      <td>0.0</td>\n",
       "      <td>12.587413</td>\n",
       "      <td>0.0</td>\n",
       "      <td>0.0</td>\n",
       "      <td>31.25</td>\n",
       "      <td>0.0</td>\n",
       "      <td>...</td>\n",
       "      <td>0.0</td>\n",
       "      <td>0.0</td>\n",
       "      <td>0.0</td>\n",
       "      <td>0.0</td>\n",
       "      <td>0.0</td>\n",
       "      <td>46.610169</td>\n",
       "      <td>0.0</td>\n",
       "      <td>0.0</td>\n",
       "      <td>0.0</td>\n",
       "      <td>0.0</td>\n",
       "    </tr>\n",
       "    <tr>\n",
       "      <th>Peter Parker / Spider-Man</th>\n",
       "      <td>0.0</td>\n",
       "      <td>0.0</td>\n",
       "      <td>0.0</td>\n",
       "      <td>0.0</td>\n",
       "      <td>0.0</td>\n",
       "      <td>0.0</td>\n",
       "      <td>0.0</td>\n",
       "      <td>0.0</td>\n",
       "      <td>0.0</td>\n",
       "      <td>0.0</td>\n",
       "      <td>...</td>\n",
       "      <td>0.0</td>\n",
       "      <td>56.587838</td>\n",
       "      <td>0.0</td>\n",
       "      <td>0.0</td>\n",
       "      <td>0.0</td>\n",
       "      <td>0.0</td>\n",
       "      <td>0.0</td>\n",
       "      <td>0.0</td>\n",
       "      <td>0.0</td>\n",
       "      <td>0.0</td>\n",
       "    </tr>\n",
       "    <tr>\n",
       "      <th>Steve Rogers</th>\n",
       "      <td>0.0</td>\n",
       "      <td>0.0</td>\n",
       "      <td>0.0</td>\n",
       "      <td>0.0</td>\n",
       "      <td>45.564516</td>\n",
       "      <td>19.755245</td>\n",
       "      <td>0.0</td>\n",
       "      <td>1.666667</td>\n",
       "      <td>0.0</td>\n",
       "      <td>43.382353</td>\n",
       "      <td>...</td>\n",
       "      <td>0.0</td>\n",
       "      <td>0.0</td>\n",
       "      <td>0.0</td>\n",
       "      <td>0.0</td>\n",
       "      <td>0.0</td>\n",
       "      <td>0.0</td>\n",
       "      <td>0.0</td>\n",
       "      <td>0.0</td>\n",
       "      <td>0.0</td>\n",
       "      <td>0.0</td>\n",
       "    </tr>\n",
       "    <tr>\n",
       "      <th>Loki</th>\n",
       "      <td>0.0</td>\n",
       "      <td>0.0</td>\n",
       "      <td>0.0</td>\n",
       "      <td>18.478261</td>\n",
       "      <td>0.0</td>\n",
       "      <td>15.034965</td>\n",
       "      <td>0.0</td>\n",
       "      <td>0.0</td>\n",
       "      <td>15.625</td>\n",
       "      <td>0.0</td>\n",
       "      <td>...</td>\n",
       "      <td>0.0</td>\n",
       "      <td>0.0</td>\n",
       "      <td>0.0</td>\n",
       "      <td>0.0</td>\n",
       "      <td>0.0</td>\n",
       "      <td>0.0</td>\n",
       "      <td>0.0</td>\n",
       "      <td>0.0</td>\n",
       "      <td>0.0</td>\n",
       "      <td>0.0</td>\n",
       "    </tr>\n",
       "    <tr>\n",
       "      <th>...</th>\n",
       "      <td>...</td>\n",
       "      <td>...</td>\n",
       "      <td>...</td>\n",
       "      <td>...</td>\n",
       "      <td>...</td>\n",
       "      <td>...</td>\n",
       "      <td>...</td>\n",
       "      <td>...</td>\n",
       "      <td>...</td>\n",
       "      <td>...</td>\n",
       "      <td>...</td>\n",
       "      <td>...</td>\n",
       "      <td>...</td>\n",
       "      <td>...</td>\n",
       "      <td>...</td>\n",
       "      <td>...</td>\n",
       "      <td>...</td>\n",
       "      <td>...</td>\n",
       "      <td>...</td>\n",
       "      <td>...</td>\n",
       "      <td>...</td>\n",
       "    </tr>\n",
       "    <tr>\n",
       "      <th>Ulysses Bloodstone</th>\n",
       "      <td>0.0</td>\n",
       "      <td>0.0</td>\n",
       "      <td>0.0</td>\n",
       "      <td>0.0</td>\n",
       "      <td>0.0</td>\n",
       "      <td>0.0</td>\n",
       "      <td>0.0</td>\n",
       "      <td>0.0</td>\n",
       "      <td>0.0</td>\n",
       "      <td>0.0</td>\n",
       "      <td>...</td>\n",
       "      <td>0.0</td>\n",
       "      <td>0.0</td>\n",
       "      <td>0.0</td>\n",
       "      <td>0.0</td>\n",
       "      <td>0.0</td>\n",
       "      <td>0.0</td>\n",
       "      <td>0.0</td>\n",
       "      <td>0.961538</td>\n",
       "      <td>0.0</td>\n",
       "      <td>0.0</td>\n",
       "    </tr>\n",
       "    <tr>\n",
       "      <th>Daniel Drumm</th>\n",
       "      <td>0.0</td>\n",
       "      <td>0.0</td>\n",
       "      <td>0.0</td>\n",
       "      <td>0.0</td>\n",
       "      <td>0.0</td>\n",
       "      <td>0.0</td>\n",
       "      <td>0.0</td>\n",
       "      <td>0.0</td>\n",
       "      <td>0.0</td>\n",
       "      <td>0.0</td>\n",
       "      <td>...</td>\n",
       "      <td>0.0</td>\n",
       "      <td>0.0</td>\n",
       "      <td>0.0</td>\n",
       "      <td>0.198413</td>\n",
       "      <td>0.0</td>\n",
       "      <td>0.0</td>\n",
       "      <td>0.0</td>\n",
       "      <td>0.0</td>\n",
       "      <td>0.0</td>\n",
       "      <td>0.0</td>\n",
       "    </tr>\n",
       "    <tr>\n",
       "      <th>Edwin Jarvis</th>\n",
       "      <td>0.0</td>\n",
       "      <td>0.0</td>\n",
       "      <td>0.0</td>\n",
       "      <td>0.0</td>\n",
       "      <td>0.0</td>\n",
       "      <td>0.0</td>\n",
       "      <td>0.0</td>\n",
       "      <td>0.0</td>\n",
       "      <td>0.0</td>\n",
       "      <td>0.0</td>\n",
       "      <td>...</td>\n",
       "      <td>0.0</td>\n",
       "      <td>0.0</td>\n",
       "      <td>0.0</td>\n",
       "      <td>0.0</td>\n",
       "      <td>0.0</td>\n",
       "      <td>0.0</td>\n",
       "      <td>0.0</td>\n",
       "      <td>0.0</td>\n",
       "      <td>0.0</td>\n",
       "      <td>0.0</td>\n",
       "    </tr>\n",
       "    <tr>\n",
       "      <th>Aleta Ogord</th>\n",
       "      <td>0.0</td>\n",
       "      <td>0.0</td>\n",
       "      <td>0.0</td>\n",
       "      <td>0.0</td>\n",
       "      <td>0.0</td>\n",
       "      <td>0.0</td>\n",
       "      <td>0.0</td>\n",
       "      <td>0.0</td>\n",
       "      <td>0.0</td>\n",
       "      <td>0.0</td>\n",
       "      <td>...</td>\n",
       "      <td>0.0</td>\n",
       "      <td>0.0</td>\n",
       "      <td>0.0</td>\n",
       "      <td>0.0</td>\n",
       "      <td>0.0</td>\n",
       "      <td>0.0</td>\n",
       "      <td>0.0</td>\n",
       "      <td>0.0</td>\n",
       "      <td>0.0</td>\n",
       "      <td>0.0</td>\n",
       "    </tr>\n",
       "    <tr>\n",
       "      <th>Darryl</th>\n",
       "      <td>0.0</td>\n",
       "      <td>0.0</td>\n",
       "      <td>0.0</td>\n",
       "      <td>0.0</td>\n",
       "      <td>0.0</td>\n",
       "      <td>0.0</td>\n",
       "      <td>0.0</td>\n",
       "      <td>0.0</td>\n",
       "      <td>0.0</td>\n",
       "      <td>0.0</td>\n",
       "      <td>...</td>\n",
       "      <td>0.0</td>\n",
       "      <td>0.0</td>\n",
       "      <td>0.0</td>\n",
       "      <td>0.0</td>\n",
       "      <td>0.0</td>\n",
       "      <td>0.211864</td>\n",
       "      <td>0.0</td>\n",
       "      <td>0.0</td>\n",
       "      <td>0.0</td>\n",
       "      <td>0.0</td>\n",
       "    </tr>\n",
       "  </tbody>\n",
       "</table>\n",
       "<p>405 rows × 40 columns</p>\n",
       "</div>"
      ],
      "text/plain": [
       "                            Iron Man El increíble Hulk Iron Man 2       Thor  \\\n",
       "Tony Stark / Iron Man      61.309524          0.446429  49.395161        0.0   \n",
       "Thor                             0.0               0.0        0.0  37.608696   \n",
       "Peter Parker / Spider-Man        0.0               0.0        0.0        0.0   \n",
       "Steve Rogers                     0.0               0.0        0.0        0.0   \n",
       "Loki                             0.0               0.0        0.0  18.478261   \n",
       "...                              ...               ...        ...        ...   \n",
       "Ulysses Bloodstone               0.0               0.0        0.0        0.0   \n",
       "Daniel Drumm                     0.0               0.0        0.0        0.0   \n",
       "Edwin Jarvis                     0.0               0.0        0.0        0.0   \n",
       "Aleta Ogord                      0.0               0.0        0.0        0.0   \n",
       "Darryl                           0.0               0.0        0.0        0.0   \n",
       "\n",
       "                          Capitán América: El primer vengador Los Vengadores  \\\n",
       "Tony Stark / Iron Man                                     0.0      22.202797   \n",
       "Thor                                                      0.0      12.587413   \n",
       "Peter Parker / Spider-Man                                 0.0            0.0   \n",
       "Steve Rogers                                        45.564516      19.755245   \n",
       "Loki                                                      0.0      15.034965   \n",
       "...                                                       ...            ...   \n",
       "Ulysses Bloodstone                                        0.0            0.0   \n",
       "Daniel Drumm                                              0.0            0.0   \n",
       "Edwin Jarvis                                              0.0            0.0   \n",
       "Aleta Ogord                                               0.0            0.0   \n",
       "Darryl                                                    0.0            0.0   \n",
       "\n",
       "                          Iron Man 3 Marvel One-Shot: Agente Carter  \\\n",
       "Tony Stark / Iron Man      47.884615                            0.0   \n",
       "Thor                             0.0                            0.0   \n",
       "Peter Parker / Spider-Man        0.0                            0.0   \n",
       "Steve Rogers                     0.0                       1.666667   \n",
       "Loki                             0.0                            0.0   \n",
       "...                              ...                            ...   \n",
       "Ulysses Bloodstone               0.0                            0.0   \n",
       "Daniel Drumm                     0.0                            0.0   \n",
       "Edwin Jarvis                     0.0                            0.0   \n",
       "Aleta Ogord                      0.0                            0.0   \n",
       "Darryl                           0.0                            0.0   \n",
       "\n",
       "                          Thor: El mundo oscuro  \\\n",
       "Tony Stark / Iron Man                       0.0   \n",
       "Thor                                      31.25   \n",
       "Peter Parker / Spider-Man                   0.0   \n",
       "Steve Rogers                                0.0   \n",
       "Loki                                     15.625   \n",
       "...                                         ...   \n",
       "Ulysses Bloodstone                          0.0   \n",
       "Daniel Drumm                                0.0   \n",
       "Edwin Jarvis                                0.0   \n",
       "Aleta Ogord                                 0.0   \n",
       "Darryl                                      0.0   \n",
       "\n",
       "                          Capitán América: El Soldado de Invierno  ...  \\\n",
       "Tony Stark / Iron Man                                         0.0  ...   \n",
       "Thor                                                          0.0  ...   \n",
       "Peter Parker / Spider-Man                                     0.0  ...   \n",
       "Steve Rogers                                            43.382353  ...   \n",
       "Loki                                                          0.0  ...   \n",
       "...                                                           ...  ...   \n",
       "Ulysses Bloodstone                                            0.0  ...   \n",
       "Daniel Drumm                                                  0.0  ...   \n",
       "Edwin Jarvis                                                  0.0  ...   \n",
       "Aleta Ogord                                                   0.0  ...   \n",
       "Darryl                                                        0.0  ...   \n",
       "\n",
       "                          Ojo de Halcón Spider-Man: No Way Home  \\\n",
       "Tony Stark / Iron Man               0.0                     0.0   \n",
       "Thor                                0.0                     0.0   \n",
       "Peter Parker / Spider-Man           0.0               56.587838   \n",
       "Steve Rogers                        0.0                     0.0   \n",
       "Loki                                0.0                     0.0   \n",
       "...                                 ...                     ...   \n",
       "Ulysses Bloodstone                  0.0                     0.0   \n",
       "Daniel Drumm                        0.0                     0.0   \n",
       "Edwin Jarvis                        0.0                     0.0   \n",
       "Aleta Ogord                         0.0                     0.0   \n",
       "Darryl                              0.0                     0.0   \n",
       "\n",
       "                          Caballero Luna  \\\n",
       "Tony Stark / Iron Man                0.0   \n",
       "Thor                                 0.0   \n",
       "Peter Parker / Spider-Man            0.0   \n",
       "Steve Rogers                         0.0   \n",
       "Loki                                 0.0   \n",
       "...                                  ...   \n",
       "Ulysses Bloodstone                   0.0   \n",
       "Daniel Drumm                         0.0   \n",
       "Edwin Jarvis                         0.0   \n",
       "Aleta Ogord                          0.0   \n",
       "Darryl                               0.0   \n",
       "\n",
       "                          Doctor Strange en el multiverso de la locura  \\\n",
       "Tony Stark / Iron Man                                              0.0   \n",
       "Thor                                                               0.0   \n",
       "Peter Parker / Spider-Man                                          0.0   \n",
       "Steve Rogers                                                       0.0   \n",
       "Loki                                                               0.0   \n",
       "...                                                                ...   \n",
       "Ulysses Bloodstone                                                 0.0   \n",
       "Daniel Drumm                                                  0.198413   \n",
       "Edwin Jarvis                                                       0.0   \n",
       "Aleta Ogord                                                        0.0   \n",
       "Darryl                                                             0.0   \n",
       "\n",
       "                          Ms. Marvel Thor: Love and Thunder  \\\n",
       "Tony Stark / Iron Man            0.0                    0.0   \n",
       "Thor                             0.0              46.610169   \n",
       "Peter Parker / Spider-Man        0.0                    0.0   \n",
       "Steve Rogers                     0.0                    0.0   \n",
       "Loki                             0.0                    0.0   \n",
       "...                              ...                    ...   \n",
       "Ulysses Bloodstone               0.0                    0.0   \n",
       "Daniel Drumm                     0.0                    0.0   \n",
       "Edwin Jarvis                     0.0                    0.0   \n",
       "Aleta Ogord                      0.0                    0.0   \n",
       "Darryl                           0.0               0.211864   \n",
       "\n",
       "                          She-Hulk: Abogada Hulka  \\\n",
       "Tony Stark / Iron Man                         0.0   \n",
       "Thor                                          0.0   \n",
       "Peter Parker / Spider-Man                     0.0   \n",
       "Steve Rogers                                  0.0   \n",
       "Loki                                          0.0   \n",
       "...                                           ...   \n",
       "Ulysses Bloodstone                            0.0   \n",
       "Daniel Drumm                                  0.0   \n",
       "Edwin Jarvis                                  0.0   \n",
       "Aleta Ogord                                   0.0   \n",
       "Darryl                                        0.0   \n",
       "\n",
       "                          La maldición del hombre lobo  \\\n",
       "Tony Stark / Iron Man                              0.0   \n",
       "Thor                                               0.0   \n",
       "Peter Parker / Spider-Man                          0.0   \n",
       "Steve Rogers                                       0.0   \n",
       "Loki                                               0.0   \n",
       "...                                                ...   \n",
       "Ulysses Bloodstone                            0.961538   \n",
       "Daniel Drumm                                       0.0   \n",
       "Edwin Jarvis                                       0.0   \n",
       "Aleta Ogord                                        0.0   \n",
       "Darryl                                             0.0   \n",
       "\n",
       "                          Black Panther: Wakanda Forever  \\\n",
       "Tony Stark / Iron Man                                0.0   \n",
       "Thor                                                 0.0   \n",
       "Peter Parker / Spider-Man                            0.0   \n",
       "Steve Rogers                                         0.0   \n",
       "Loki                                                 0.0   \n",
       "...                                                  ...   \n",
       "Ulysses Bloodstone                                   0.0   \n",
       "Daniel Drumm                                         0.0   \n",
       "Edwin Jarvis                                         0.0   \n",
       "Aleta Ogord                                          0.0   \n",
       "Darryl                                               0.0   \n",
       "\n",
       "                          Guardianes de la Galaxia: Especial felices fiestas  \n",
       "Tony Stark / Iron Man                                                    0.0  \n",
       "Thor                                                                     0.0  \n",
       "Peter Parker / Spider-Man                                                0.0  \n",
       "Steve Rogers                                                             0.0  \n",
       "Loki                                                                     0.0  \n",
       "...                                                                      ...  \n",
       "Ulysses Bloodstone                                                       0.0  \n",
       "Daniel Drumm                                                             0.0  \n",
       "Edwin Jarvis                                                             0.0  \n",
       "Aleta Ogord                                                              0.0  \n",
       "Darryl                                                                   0.0  \n",
       "\n",
       "[405 rows x 40 columns]"
      ]
     },
     "execution_count": 32,
     "metadata": {},
     "output_type": "execute_result"
    }
   ],
   "source": [
    "nuevo_df\n",
    "def grafico_pie_t_pantalla (pelicula):    \n",
    "    df = char_movie_matrix[char_movie_matrix[pelicula] != 0]\n",
    "    pie1 = df[pelicula]\n",
    "    pie1_list = list(pie1.values)\n",
    "    pie1_list = [round(each,2) for each in pie1_list]\n",
    "    labels = df.index\n",
    "\n",
    "    # Figure\n",
    "    fig = make_subplots(rows=1, cols=1, specs=[[{'type': 'pie'}]])\n",
    "\n",
    "    fig.add_trace(\n",
    "        go.Pie(\n",
    "            labels=labels,\n",
    "            values=pie1_list,\n",
    "            textinfo='value',\n",
    "            hoverinfo=\"label+value\",\n",
    "            hole=0.3,\n",
    "        ),\n",
    "        row=1, col=1\n",
    "        \n",
    "    )\n",
    "\n",
    "    fig.update_layout(\n",
    "        title=\"Tiempo en pantalla en \" + pelicula + ' (' + movie_lengths[pelicula] +')',\n",
    "        annotations=[\n",
    "            {\n",
    "                \"font\": {\"size\": 20},\n",
    "                \"showarrow\": False,\n",
    "                \"text\": pelicula,\n",
    "                \"x\": 0.5,\n",
    "                \"y\": 1.07,\n",
    "            }\n",
    "        ],\n",
    "        height=700,  # Ajusta la altura del gráfico\n",
    "        width=900,   # Ajusta el ancho del gráfico\n",
    "    )\n",
    "\n",
    "    fig.show()\n",
    "\n",
    "grafico_pie_t_pantalla('Ojo de Halcón')"
   ]
  },
  {
   "cell_type": "code",
   "execution_count": 39,
   "metadata": {},
   "outputs": [
    {
     "data": {
      "application/vnd.plotly.v1+json": {
       "config": {
        "plotlyServerURL": "https://plot.ly"
       },
       "data": [
        {
         "domain": {
          "x": [
           0,
           1
          ],
          "y": [
           0,
           1
          ]
         },
         "hole": 0.3,
         "hoverinfo": "label+value",
         "labels": [
          "Hawkeye",
          "Kate Bishop / Hawkeye",
          "Yelena Belova",
          "Eleanor Bishop",
          "Maya Lopez / Echo",
          "Kazi Kazimierczak",
          "Jack Duquesne",
          "Ivan",
          "Laura Barton",
          "Wilson Fisk / Kingpin",
          "Lila Barton",
          "Tomas",
          "Lucky the Pizza Dog",
          "Cooper Barton",
          "Armand Duquesne",
          "Missy",
          "William Lopez",
          "Wendy",
          "Orville",
          "Derek Bishop"
         ],
         "textinfo": "value",
         "type": "pie",
         "values": [
          95.5,
          110.25,
          19,
          22.5,
          21,
          14.5,
          12.75,
          7.75,
          3.25,
          7.25,
          5.5,
          7,
          6,
          4,
          4.5,
          4,
          2.75,
          2.25,
          1.75,
          1.25
         ]
        }
       ],
       "layout": {
        "annotations": [
         {
          "font": {
           "size": 20
          },
          "showarrow": false,
          "text": "Ojo de Halcón",
          "x": 0.5,
          "y": 1.07
         }
        ],
        "height": 700,
        "template": {
         "data": {
          "bar": [
           {
            "error_x": {
             "color": "#2a3f5f"
            },
            "error_y": {
             "color": "#2a3f5f"
            },
            "marker": {
             "line": {
              "color": "#E5ECF6",
              "width": 0.5
             },
             "pattern": {
              "fillmode": "overlay",
              "size": 10,
              "solidity": 0.2
             }
            },
            "type": "bar"
           }
          ],
          "barpolar": [
           {
            "marker": {
             "line": {
              "color": "#E5ECF6",
              "width": 0.5
             },
             "pattern": {
              "fillmode": "overlay",
              "size": 10,
              "solidity": 0.2
             }
            },
            "type": "barpolar"
           }
          ],
          "carpet": [
           {
            "aaxis": {
             "endlinecolor": "#2a3f5f",
             "gridcolor": "white",
             "linecolor": "white",
             "minorgridcolor": "white",
             "startlinecolor": "#2a3f5f"
            },
            "baxis": {
             "endlinecolor": "#2a3f5f",
             "gridcolor": "white",
             "linecolor": "white",
             "minorgridcolor": "white",
             "startlinecolor": "#2a3f5f"
            },
            "type": "carpet"
           }
          ],
          "choropleth": [
           {
            "colorbar": {
             "outlinewidth": 0,
             "ticks": ""
            },
            "type": "choropleth"
           }
          ],
          "contour": [
           {
            "colorbar": {
             "outlinewidth": 0,
             "ticks": ""
            },
            "colorscale": [
             [
              0,
              "#0d0887"
             ],
             [
              0.1111111111111111,
              "#46039f"
             ],
             [
              0.2222222222222222,
              "#7201a8"
             ],
             [
              0.3333333333333333,
              "#9c179e"
             ],
             [
              0.4444444444444444,
              "#bd3786"
             ],
             [
              0.5555555555555556,
              "#d8576b"
             ],
             [
              0.6666666666666666,
              "#ed7953"
             ],
             [
              0.7777777777777778,
              "#fb9f3a"
             ],
             [
              0.8888888888888888,
              "#fdca26"
             ],
             [
              1,
              "#f0f921"
             ]
            ],
            "type": "contour"
           }
          ],
          "contourcarpet": [
           {
            "colorbar": {
             "outlinewidth": 0,
             "ticks": ""
            },
            "type": "contourcarpet"
           }
          ],
          "heatmap": [
           {
            "colorbar": {
             "outlinewidth": 0,
             "ticks": ""
            },
            "colorscale": [
             [
              0,
              "#0d0887"
             ],
             [
              0.1111111111111111,
              "#46039f"
             ],
             [
              0.2222222222222222,
              "#7201a8"
             ],
             [
              0.3333333333333333,
              "#9c179e"
             ],
             [
              0.4444444444444444,
              "#bd3786"
             ],
             [
              0.5555555555555556,
              "#d8576b"
             ],
             [
              0.6666666666666666,
              "#ed7953"
             ],
             [
              0.7777777777777778,
              "#fb9f3a"
             ],
             [
              0.8888888888888888,
              "#fdca26"
             ],
             [
              1,
              "#f0f921"
             ]
            ],
            "type": "heatmap"
           }
          ],
          "heatmapgl": [
           {
            "colorbar": {
             "outlinewidth": 0,
             "ticks": ""
            },
            "colorscale": [
             [
              0,
              "#0d0887"
             ],
             [
              0.1111111111111111,
              "#46039f"
             ],
             [
              0.2222222222222222,
              "#7201a8"
             ],
             [
              0.3333333333333333,
              "#9c179e"
             ],
             [
              0.4444444444444444,
              "#bd3786"
             ],
             [
              0.5555555555555556,
              "#d8576b"
             ],
             [
              0.6666666666666666,
              "#ed7953"
             ],
             [
              0.7777777777777778,
              "#fb9f3a"
             ],
             [
              0.8888888888888888,
              "#fdca26"
             ],
             [
              1,
              "#f0f921"
             ]
            ],
            "type": "heatmapgl"
           }
          ],
          "histogram": [
           {
            "marker": {
             "pattern": {
              "fillmode": "overlay",
              "size": 10,
              "solidity": 0.2
             }
            },
            "type": "histogram"
           }
          ],
          "histogram2d": [
           {
            "colorbar": {
             "outlinewidth": 0,
             "ticks": ""
            },
            "colorscale": [
             [
              0,
              "#0d0887"
             ],
             [
              0.1111111111111111,
              "#46039f"
             ],
             [
              0.2222222222222222,
              "#7201a8"
             ],
             [
              0.3333333333333333,
              "#9c179e"
             ],
             [
              0.4444444444444444,
              "#bd3786"
             ],
             [
              0.5555555555555556,
              "#d8576b"
             ],
             [
              0.6666666666666666,
              "#ed7953"
             ],
             [
              0.7777777777777778,
              "#fb9f3a"
             ],
             [
              0.8888888888888888,
              "#fdca26"
             ],
             [
              1,
              "#f0f921"
             ]
            ],
            "type": "histogram2d"
           }
          ],
          "histogram2dcontour": [
           {
            "colorbar": {
             "outlinewidth": 0,
             "ticks": ""
            },
            "colorscale": [
             [
              0,
              "#0d0887"
             ],
             [
              0.1111111111111111,
              "#46039f"
             ],
             [
              0.2222222222222222,
              "#7201a8"
             ],
             [
              0.3333333333333333,
              "#9c179e"
             ],
             [
              0.4444444444444444,
              "#bd3786"
             ],
             [
              0.5555555555555556,
              "#d8576b"
             ],
             [
              0.6666666666666666,
              "#ed7953"
             ],
             [
              0.7777777777777778,
              "#fb9f3a"
             ],
             [
              0.8888888888888888,
              "#fdca26"
             ],
             [
              1,
              "#f0f921"
             ]
            ],
            "type": "histogram2dcontour"
           }
          ],
          "mesh3d": [
           {
            "colorbar": {
             "outlinewidth": 0,
             "ticks": ""
            },
            "type": "mesh3d"
           }
          ],
          "parcoords": [
           {
            "line": {
             "colorbar": {
              "outlinewidth": 0,
              "ticks": ""
             }
            },
            "type": "parcoords"
           }
          ],
          "pie": [
           {
            "automargin": true,
            "type": "pie"
           }
          ],
          "scatter": [
           {
            "fillpattern": {
             "fillmode": "overlay",
             "size": 10,
             "solidity": 0.2
            },
            "type": "scatter"
           }
          ],
          "scatter3d": [
           {
            "line": {
             "colorbar": {
              "outlinewidth": 0,
              "ticks": ""
             }
            },
            "marker": {
             "colorbar": {
              "outlinewidth": 0,
              "ticks": ""
             }
            },
            "type": "scatter3d"
           }
          ],
          "scattercarpet": [
           {
            "marker": {
             "colorbar": {
              "outlinewidth": 0,
              "ticks": ""
             }
            },
            "type": "scattercarpet"
           }
          ],
          "scattergeo": [
           {
            "marker": {
             "colorbar": {
              "outlinewidth": 0,
              "ticks": ""
             }
            },
            "type": "scattergeo"
           }
          ],
          "scattergl": [
           {
            "marker": {
             "colorbar": {
              "outlinewidth": 0,
              "ticks": ""
             }
            },
            "type": "scattergl"
           }
          ],
          "scattermapbox": [
           {
            "marker": {
             "colorbar": {
              "outlinewidth": 0,
              "ticks": ""
             }
            },
            "type": "scattermapbox"
           }
          ],
          "scatterpolar": [
           {
            "marker": {
             "colorbar": {
              "outlinewidth": 0,
              "ticks": ""
             }
            },
            "type": "scatterpolar"
           }
          ],
          "scatterpolargl": [
           {
            "marker": {
             "colorbar": {
              "outlinewidth": 0,
              "ticks": ""
             }
            },
            "type": "scatterpolargl"
           }
          ],
          "scatterternary": [
           {
            "marker": {
             "colorbar": {
              "outlinewidth": 0,
              "ticks": ""
             }
            },
            "type": "scatterternary"
           }
          ],
          "surface": [
           {
            "colorbar": {
             "outlinewidth": 0,
             "ticks": ""
            },
            "colorscale": [
             [
              0,
              "#0d0887"
             ],
             [
              0.1111111111111111,
              "#46039f"
             ],
             [
              0.2222222222222222,
              "#7201a8"
             ],
             [
              0.3333333333333333,
              "#9c179e"
             ],
             [
              0.4444444444444444,
              "#bd3786"
             ],
             [
              0.5555555555555556,
              "#d8576b"
             ],
             [
              0.6666666666666666,
              "#ed7953"
             ],
             [
              0.7777777777777778,
              "#fb9f3a"
             ],
             [
              0.8888888888888888,
              "#fdca26"
             ],
             [
              1,
              "#f0f921"
             ]
            ],
            "type": "surface"
           }
          ],
          "table": [
           {
            "cells": {
             "fill": {
              "color": "#EBF0F8"
             },
             "line": {
              "color": "white"
             }
            },
            "header": {
             "fill": {
              "color": "#C8D4E3"
             },
             "line": {
              "color": "white"
             }
            },
            "type": "table"
           }
          ]
         },
         "layout": {
          "annotationdefaults": {
           "arrowcolor": "#2a3f5f",
           "arrowhead": 0,
           "arrowwidth": 1
          },
          "autotypenumbers": "strict",
          "coloraxis": {
           "colorbar": {
            "outlinewidth": 0,
            "ticks": ""
           }
          },
          "colorscale": {
           "diverging": [
            [
             0,
             "#8e0152"
            ],
            [
             0.1,
             "#c51b7d"
            ],
            [
             0.2,
             "#de77ae"
            ],
            [
             0.3,
             "#f1b6da"
            ],
            [
             0.4,
             "#fde0ef"
            ],
            [
             0.5,
             "#f7f7f7"
            ],
            [
             0.6,
             "#e6f5d0"
            ],
            [
             0.7,
             "#b8e186"
            ],
            [
             0.8,
             "#7fbc41"
            ],
            [
             0.9,
             "#4d9221"
            ],
            [
             1,
             "#276419"
            ]
           ],
           "sequential": [
            [
             0,
             "#0d0887"
            ],
            [
             0.1111111111111111,
             "#46039f"
            ],
            [
             0.2222222222222222,
             "#7201a8"
            ],
            [
             0.3333333333333333,
             "#9c179e"
            ],
            [
             0.4444444444444444,
             "#bd3786"
            ],
            [
             0.5555555555555556,
             "#d8576b"
            ],
            [
             0.6666666666666666,
             "#ed7953"
            ],
            [
             0.7777777777777778,
             "#fb9f3a"
            ],
            [
             0.8888888888888888,
             "#fdca26"
            ],
            [
             1,
             "#f0f921"
            ]
           ],
           "sequentialminus": [
            [
             0,
             "#0d0887"
            ],
            [
             0.1111111111111111,
             "#46039f"
            ],
            [
             0.2222222222222222,
             "#7201a8"
            ],
            [
             0.3333333333333333,
             "#9c179e"
            ],
            [
             0.4444444444444444,
             "#bd3786"
            ],
            [
             0.5555555555555556,
             "#d8576b"
            ],
            [
             0.6666666666666666,
             "#ed7953"
            ],
            [
             0.7777777777777778,
             "#fb9f3a"
            ],
            [
             0.8888888888888888,
             "#fdca26"
            ],
            [
             1,
             "#f0f921"
            ]
           ]
          },
          "colorway": [
           "#636efa",
           "#EF553B",
           "#00cc96",
           "#ab63fa",
           "#FFA15A",
           "#19d3f3",
           "#FF6692",
           "#B6E880",
           "#FF97FF",
           "#FECB52"
          ],
          "font": {
           "color": "#2a3f5f"
          },
          "geo": {
           "bgcolor": "white",
           "lakecolor": "white",
           "landcolor": "#E5ECF6",
           "showlakes": true,
           "showland": true,
           "subunitcolor": "white"
          },
          "hoverlabel": {
           "align": "left"
          },
          "hovermode": "closest",
          "mapbox": {
           "style": "light"
          },
          "paper_bgcolor": "white",
          "plot_bgcolor": "#E5ECF6",
          "polar": {
           "angularaxis": {
            "gridcolor": "white",
            "linecolor": "white",
            "ticks": ""
           },
           "bgcolor": "#E5ECF6",
           "radialaxis": {
            "gridcolor": "white",
            "linecolor": "white",
            "ticks": ""
           }
          },
          "scene": {
           "xaxis": {
            "backgroundcolor": "#E5ECF6",
            "gridcolor": "white",
            "gridwidth": 2,
            "linecolor": "white",
            "showbackground": true,
            "ticks": "",
            "zerolinecolor": "white"
           },
           "yaxis": {
            "backgroundcolor": "#E5ECF6",
            "gridcolor": "white",
            "gridwidth": 2,
            "linecolor": "white",
            "showbackground": true,
            "ticks": "",
            "zerolinecolor": "white"
           },
           "zaxis": {
            "backgroundcolor": "#E5ECF6",
            "gridcolor": "white",
            "gridwidth": 2,
            "linecolor": "white",
            "showbackground": true,
            "ticks": "",
            "zerolinecolor": "white"
           }
          },
          "shapedefaults": {
           "line": {
            "color": "#2a3f5f"
           }
          },
          "ternary": {
           "aaxis": {
            "gridcolor": "white",
            "linecolor": "white",
            "ticks": ""
           },
           "baxis": {
            "gridcolor": "white",
            "linecolor": "white",
            "ticks": ""
           },
           "bgcolor": "#E5ECF6",
           "caxis": {
            "gridcolor": "white",
            "linecolor": "white",
            "ticks": ""
           }
          },
          "title": {
           "x": 0.05
          },
          "xaxis": {
           "automargin": true,
           "gridcolor": "white",
           "linecolor": "white",
           "ticks": "",
           "title": {
            "standoff": 15
           },
           "zerolinecolor": "white",
           "zerolinewidth": 2
          },
          "yaxis": {
           "automargin": true,
           "gridcolor": "white",
           "linecolor": "white",
           "ticks": "",
           "title": {
            "standoff": 15
           },
           "zerolinecolor": "white",
           "zerolinewidth": 2
          }
         }
        },
        "title": {
         "text": "Tiempo en pantalla en Ojo de Halcón (339)"
        },
        "width": 900
       }
      }
     },
     "metadata": {},
     "output_type": "display_data"
    }
   ],
   "source": [
    "def grafico_pie_t_pantalla (pelicula):    \n",
    "    df = char_movie_matrix[char_movie_matrix[pelicula] != 0]\n",
    "    pie1 = df[pelicula]\n",
    "    pie1_list = list(pie1.values)\n",
    "    pie1_list = [round(each,2) for each in pie1_list]\n",
    "    labels = df.index\n",
    "\n",
    "    # Figure\n",
    "    fig = make_subplots(rows=1, cols=1, specs=[[{'type': 'pie'}]])\n",
    "\n",
    "    fig.add_trace(\n",
    "        go.Pie(\n",
    "            labels=labels,\n",
    "            values=pie1_list,\n",
    "            textinfo='value',\n",
    "            hoverinfo=\"label+value\",\n",
    "            hole=0.3,\n",
    "        ),\n",
    "        row=1, col=1\n",
    "        \n",
    "    )\n",
    "\n",
    "    fig.update_layout(\n",
    "        title=\"Tiempo en pantalla en \" + pelicula + ' (' + movie_lengths[pelicula] +')',\n",
    "        annotations=[\n",
    "            {\n",
    "                \"font\": {\"size\": 20},\n",
    "                \"showarrow\": False,\n",
    "                \"text\": pelicula,\n",
    "                \"x\": 0.5,\n",
    "                \"y\": 1.07,\n",
    "            }\n",
    "        ],\n",
    "        height=700,  # Ajusta la altura del gráfico\n",
    "        width=900,   # Ajusta el ancho del gráfico\n",
    "    )\n",
    "\n",
    "    fig.show()\n",
    "\n",
    "grafico_pie_t_pantalla('Ojo de Halcón')"
   ]
  },
  {
   "cell_type": "code",
   "execution_count": 41,
   "metadata": {},
   "outputs": [
    {
     "data": {
      "text/plain": [
       "['Iron Man',\n",
       " 'El increíble Hulk',\n",
       " 'Iron Man 2',\n",
       " 'Thor',\n",
       " 'Capitán América: El primer vengador',\n",
       " 'Los Vengadores',\n",
       " 'Iron Man 3',\n",
       " 'Marvel One-Shot: Agente Carter',\n",
       " 'Thor: El mundo oscuro',\n",
       " 'Capitán América: El Soldado de Invierno',\n",
       " 'Guardianes de la Galaxia',\n",
       " 'Vengadores: La era de Ultrón',\n",
       " 'Ant-Man',\n",
       " 'Capitán América: Civil War',\n",
       " 'Doctor Strange. Doctor Extraño',\n",
       " 'Guardianes de la Galaxia Vol. 2',\n",
       " 'Spider-Man: Homecoming',\n",
       " 'Thor: Ragnarok',\n",
       " 'Black Panther',\n",
       " 'Vengadores: Infinity War',\n",
       " 'Ant-Man y la Avispa',\n",
       " 'Capitana Marvel',\n",
       " 'Vengadores: Endgame',\n",
       " 'Spider-Man: Lejos de casa',\n",
       " 'Bruja Escarlata y Visión',\n",
       " 'Falcon y el Soldado de Invierno',\n",
       " 'Loki',\n",
       " 'Viuda Negra',\n",
       " 'Shang-Chi y la leyenda de los diez anillos',\n",
       " 'Eternals',\n",
       " 'Ojo de Halcón',\n",
       " 'Spider-Man: No Way Home',\n",
       " 'Caballero Luna',\n",
       " 'Doctor Strange en el multiverso de la locura',\n",
       " 'Ms. Marvel',\n",
       " 'Thor: Love and Thunder',\n",
       " 'She-Hulk: Abogada Hulka',\n",
       " 'La maldición del hombre lobo',\n",
       " 'Black Panther: Wakanda Forever',\n",
       " 'Guardianes de la Galaxia: Especial felices fiestas',\n",
       " 'Total de tiempo en pantalla']"
      ]
     },
     "execution_count": 41,
     "metadata": {},
     "output_type": "execute_result"
    }
   ],
   "source": [
    "list(char_movie_matrix.columns)"
   ]
  },
  {
   "cell_type": "code",
   "execution_count": 53,
   "metadata": {},
   "outputs": [
    {
     "name": "stderr",
     "output_type": "stream",
     "text": [
      "C:\\Users\\lache\\AppData\\Local\\Temp\\ipykernel_17740\\1571590603.py:6: SettingWithCopyWarning:\n",
      "\n",
      "\n",
      "A value is trying to be set on a copy of a slice from a DataFrame.\n",
      "Try using .loc[row_indexer,col_indexer] = value instead\n",
      "\n",
      "See the caveats in the documentation: https://pandas.pydata.org/pandas-docs/stable/user_guide/indexing.html#returning-a-view-versus-a-copy\n",
      "\n"
     ]
    },
    {
     "data": {
      "application/vnd.plotly.v1+json": {
       "config": {
        "plotlyServerURL": "https://plot.ly"
       },
       "data": [
        {
         "customdata": [
          "Tony Stark / Iron Man",
          "Pepper Potts",
          "Nick Fury",
          "James Rhodes / War Machine",
          "Happy",
          "Obadiah Stane",
          "Phil Coulson",
          "Professor Ho Yinsen",
          "Raza",
          "Christine Everhart",
          "William Ginter Riva",
          "Abu Bakaar"
         ],
         "domain": {
          "x": [
           0,
           1
          ],
          "y": [
           0,
           1
          ]
         },
         "hole": 0.3,
         "hoverinfo": "label+value+percent",
         "labels": [
          "Tony Stark / Iron Man",
          "Pepper Potts",
          "Nick Fury",
          "James Rhodes / War Machine",
          "Happy",
          "Obadiah Stane",
          "Phil Coulson",
          "Professor Ho Yinsen",
          "Raza",
          "Christine Everhart",
          "William Ginter Riva",
          "Abu Bakaar"
         ],
         "text": [
          "Tony Stark / Iron Man",
          "Pepper Potts",
          "",
          "",
          "",
          "Obadiah Stane",
          "",
          "",
          "",
          "",
          "",
          ""
         ],
         "textinfo": "text+value",
         "type": "pie",
         "values": [
          61.30952380952381,
          18.452380952380953,
          0.1984126984126984,
          6.547619047619048,
          0.992063492063492,
          17.46031746031746,
          2.976190476190476,
          8.531746031746032,
          4.761904761904762,
          2.976190476190476,
          0.5952380952380952,
          1.3888888888888888
         ]
        }
       ],
       "layout": {
        "annotations": [
         {
          "font": {
           "size": 20
          },
          "showarrow": false,
          "text": "Iron Man",
          "x": 0.5,
          "y": 0.5
         }
        ],
        "height": 700,
        "template": {
         "data": {
          "bar": [
           {
            "error_x": {
             "color": "#2a3f5f"
            },
            "error_y": {
             "color": "#2a3f5f"
            },
            "marker": {
             "line": {
              "color": "#E5ECF6",
              "width": 0.5
             },
             "pattern": {
              "fillmode": "overlay",
              "size": 10,
              "solidity": 0.2
             }
            },
            "type": "bar"
           }
          ],
          "barpolar": [
           {
            "marker": {
             "line": {
              "color": "#E5ECF6",
              "width": 0.5
             },
             "pattern": {
              "fillmode": "overlay",
              "size": 10,
              "solidity": 0.2
             }
            },
            "type": "barpolar"
           }
          ],
          "carpet": [
           {
            "aaxis": {
             "endlinecolor": "#2a3f5f",
             "gridcolor": "white",
             "linecolor": "white",
             "minorgridcolor": "white",
             "startlinecolor": "#2a3f5f"
            },
            "baxis": {
             "endlinecolor": "#2a3f5f",
             "gridcolor": "white",
             "linecolor": "white",
             "minorgridcolor": "white",
             "startlinecolor": "#2a3f5f"
            },
            "type": "carpet"
           }
          ],
          "choropleth": [
           {
            "colorbar": {
             "outlinewidth": 0,
             "ticks": ""
            },
            "type": "choropleth"
           }
          ],
          "contour": [
           {
            "colorbar": {
             "outlinewidth": 0,
             "ticks": ""
            },
            "colorscale": [
             [
              0,
              "#0d0887"
             ],
             [
              0.1111111111111111,
              "#46039f"
             ],
             [
              0.2222222222222222,
              "#7201a8"
             ],
             [
              0.3333333333333333,
              "#9c179e"
             ],
             [
              0.4444444444444444,
              "#bd3786"
             ],
             [
              0.5555555555555556,
              "#d8576b"
             ],
             [
              0.6666666666666666,
              "#ed7953"
             ],
             [
              0.7777777777777778,
              "#fb9f3a"
             ],
             [
              0.8888888888888888,
              "#fdca26"
             ],
             [
              1,
              "#f0f921"
             ]
            ],
            "type": "contour"
           }
          ],
          "contourcarpet": [
           {
            "colorbar": {
             "outlinewidth": 0,
             "ticks": ""
            },
            "type": "contourcarpet"
           }
          ],
          "heatmap": [
           {
            "colorbar": {
             "outlinewidth": 0,
             "ticks": ""
            },
            "colorscale": [
             [
              0,
              "#0d0887"
             ],
             [
              0.1111111111111111,
              "#46039f"
             ],
             [
              0.2222222222222222,
              "#7201a8"
             ],
             [
              0.3333333333333333,
              "#9c179e"
             ],
             [
              0.4444444444444444,
              "#bd3786"
             ],
             [
              0.5555555555555556,
              "#d8576b"
             ],
             [
              0.6666666666666666,
              "#ed7953"
             ],
             [
              0.7777777777777778,
              "#fb9f3a"
             ],
             [
              0.8888888888888888,
              "#fdca26"
             ],
             [
              1,
              "#f0f921"
             ]
            ],
            "type": "heatmap"
           }
          ],
          "heatmapgl": [
           {
            "colorbar": {
             "outlinewidth": 0,
             "ticks": ""
            },
            "colorscale": [
             [
              0,
              "#0d0887"
             ],
             [
              0.1111111111111111,
              "#46039f"
             ],
             [
              0.2222222222222222,
              "#7201a8"
             ],
             [
              0.3333333333333333,
              "#9c179e"
             ],
             [
              0.4444444444444444,
              "#bd3786"
             ],
             [
              0.5555555555555556,
              "#d8576b"
             ],
             [
              0.6666666666666666,
              "#ed7953"
             ],
             [
              0.7777777777777778,
              "#fb9f3a"
             ],
             [
              0.8888888888888888,
              "#fdca26"
             ],
             [
              1,
              "#f0f921"
             ]
            ],
            "type": "heatmapgl"
           }
          ],
          "histogram": [
           {
            "marker": {
             "pattern": {
              "fillmode": "overlay",
              "size": 10,
              "solidity": 0.2
             }
            },
            "type": "histogram"
           }
          ],
          "histogram2d": [
           {
            "colorbar": {
             "outlinewidth": 0,
             "ticks": ""
            },
            "colorscale": [
             [
              0,
              "#0d0887"
             ],
             [
              0.1111111111111111,
              "#46039f"
             ],
             [
              0.2222222222222222,
              "#7201a8"
             ],
             [
              0.3333333333333333,
              "#9c179e"
             ],
             [
              0.4444444444444444,
              "#bd3786"
             ],
             [
              0.5555555555555556,
              "#d8576b"
             ],
             [
              0.6666666666666666,
              "#ed7953"
             ],
             [
              0.7777777777777778,
              "#fb9f3a"
             ],
             [
              0.8888888888888888,
              "#fdca26"
             ],
             [
              1,
              "#f0f921"
             ]
            ],
            "type": "histogram2d"
           }
          ],
          "histogram2dcontour": [
           {
            "colorbar": {
             "outlinewidth": 0,
             "ticks": ""
            },
            "colorscale": [
             [
              0,
              "#0d0887"
             ],
             [
              0.1111111111111111,
              "#46039f"
             ],
             [
              0.2222222222222222,
              "#7201a8"
             ],
             [
              0.3333333333333333,
              "#9c179e"
             ],
             [
              0.4444444444444444,
              "#bd3786"
             ],
             [
              0.5555555555555556,
              "#d8576b"
             ],
             [
              0.6666666666666666,
              "#ed7953"
             ],
             [
              0.7777777777777778,
              "#fb9f3a"
             ],
             [
              0.8888888888888888,
              "#fdca26"
             ],
             [
              1,
              "#f0f921"
             ]
            ],
            "type": "histogram2dcontour"
           }
          ],
          "mesh3d": [
           {
            "colorbar": {
             "outlinewidth": 0,
             "ticks": ""
            },
            "type": "mesh3d"
           }
          ],
          "parcoords": [
           {
            "line": {
             "colorbar": {
              "outlinewidth": 0,
              "ticks": ""
             }
            },
            "type": "parcoords"
           }
          ],
          "pie": [
           {
            "automargin": true,
            "type": "pie"
           }
          ],
          "scatter": [
           {
            "fillpattern": {
             "fillmode": "overlay",
             "size": 10,
             "solidity": 0.2
            },
            "type": "scatter"
           }
          ],
          "scatter3d": [
           {
            "line": {
             "colorbar": {
              "outlinewidth": 0,
              "ticks": ""
             }
            },
            "marker": {
             "colorbar": {
              "outlinewidth": 0,
              "ticks": ""
             }
            },
            "type": "scatter3d"
           }
          ],
          "scattercarpet": [
           {
            "marker": {
             "colorbar": {
              "outlinewidth": 0,
              "ticks": ""
             }
            },
            "type": "scattercarpet"
           }
          ],
          "scattergeo": [
           {
            "marker": {
             "colorbar": {
              "outlinewidth": 0,
              "ticks": ""
             }
            },
            "type": "scattergeo"
           }
          ],
          "scattergl": [
           {
            "marker": {
             "colorbar": {
              "outlinewidth": 0,
              "ticks": ""
             }
            },
            "type": "scattergl"
           }
          ],
          "scattermapbox": [
           {
            "marker": {
             "colorbar": {
              "outlinewidth": 0,
              "ticks": ""
             }
            },
            "type": "scattermapbox"
           }
          ],
          "scatterpolar": [
           {
            "marker": {
             "colorbar": {
              "outlinewidth": 0,
              "ticks": ""
             }
            },
            "type": "scatterpolar"
           }
          ],
          "scatterpolargl": [
           {
            "marker": {
             "colorbar": {
              "outlinewidth": 0,
              "ticks": ""
             }
            },
            "type": "scatterpolargl"
           }
          ],
          "scatterternary": [
           {
            "marker": {
             "colorbar": {
              "outlinewidth": 0,
              "ticks": ""
             }
            },
            "type": "scatterternary"
           }
          ],
          "surface": [
           {
            "colorbar": {
             "outlinewidth": 0,
             "ticks": ""
            },
            "colorscale": [
             [
              0,
              "#0d0887"
             ],
             [
              0.1111111111111111,
              "#46039f"
             ],
             [
              0.2222222222222222,
              "#7201a8"
             ],
             [
              0.3333333333333333,
              "#9c179e"
             ],
             [
              0.4444444444444444,
              "#bd3786"
             ],
             [
              0.5555555555555556,
              "#d8576b"
             ],
             [
              0.6666666666666666,
              "#ed7953"
             ],
             [
              0.7777777777777778,
              "#fb9f3a"
             ],
             [
              0.8888888888888888,
              "#fdca26"
             ],
             [
              1,
              "#f0f921"
             ]
            ],
            "type": "surface"
           }
          ],
          "table": [
           {
            "cells": {
             "fill": {
              "color": "#EBF0F8"
             },
             "line": {
              "color": "white"
             }
            },
            "header": {
             "fill": {
              "color": "#C8D4E3"
             },
             "line": {
              "color": "white"
             }
            },
            "type": "table"
           }
          ]
         },
         "layout": {
          "annotationdefaults": {
           "arrowcolor": "#2a3f5f",
           "arrowhead": 0,
           "arrowwidth": 1
          },
          "autotypenumbers": "strict",
          "coloraxis": {
           "colorbar": {
            "outlinewidth": 0,
            "ticks": ""
           }
          },
          "colorscale": {
           "diverging": [
            [
             0,
             "#8e0152"
            ],
            [
             0.1,
             "#c51b7d"
            ],
            [
             0.2,
             "#de77ae"
            ],
            [
             0.3,
             "#f1b6da"
            ],
            [
             0.4,
             "#fde0ef"
            ],
            [
             0.5,
             "#f7f7f7"
            ],
            [
             0.6,
             "#e6f5d0"
            ],
            [
             0.7,
             "#b8e186"
            ],
            [
             0.8,
             "#7fbc41"
            ],
            [
             0.9,
             "#4d9221"
            ],
            [
             1,
             "#276419"
            ]
           ],
           "sequential": [
            [
             0,
             "#0d0887"
            ],
            [
             0.1111111111111111,
             "#46039f"
            ],
            [
             0.2222222222222222,
             "#7201a8"
            ],
            [
             0.3333333333333333,
             "#9c179e"
            ],
            [
             0.4444444444444444,
             "#bd3786"
            ],
            [
             0.5555555555555556,
             "#d8576b"
            ],
            [
             0.6666666666666666,
             "#ed7953"
            ],
            [
             0.7777777777777778,
             "#fb9f3a"
            ],
            [
             0.8888888888888888,
             "#fdca26"
            ],
            [
             1,
             "#f0f921"
            ]
           ],
           "sequentialminus": [
            [
             0,
             "#0d0887"
            ],
            [
             0.1111111111111111,
             "#46039f"
            ],
            [
             0.2222222222222222,
             "#7201a8"
            ],
            [
             0.3333333333333333,
             "#9c179e"
            ],
            [
             0.4444444444444444,
             "#bd3786"
            ],
            [
             0.5555555555555556,
             "#d8576b"
            ],
            [
             0.6666666666666666,
             "#ed7953"
            ],
            [
             0.7777777777777778,
             "#fb9f3a"
            ],
            [
             0.8888888888888888,
             "#fdca26"
            ],
            [
             1,
             "#f0f921"
            ]
           ]
          },
          "colorway": [
           "#636efa",
           "#EF553B",
           "#00cc96",
           "#ab63fa",
           "#FFA15A",
           "#19d3f3",
           "#FF6692",
           "#B6E880",
           "#FF97FF",
           "#FECB52"
          ],
          "font": {
           "color": "#2a3f5f"
          },
          "geo": {
           "bgcolor": "white",
           "lakecolor": "white",
           "landcolor": "#E5ECF6",
           "showlakes": true,
           "showland": true,
           "subunitcolor": "white"
          },
          "hoverlabel": {
           "align": "left"
          },
          "hovermode": "closest",
          "mapbox": {
           "style": "light"
          },
          "paper_bgcolor": "white",
          "plot_bgcolor": "#E5ECF6",
          "polar": {
           "angularaxis": {
            "gridcolor": "white",
            "linecolor": "white",
            "ticks": ""
           },
           "bgcolor": "#E5ECF6",
           "radialaxis": {
            "gridcolor": "white",
            "linecolor": "white",
            "ticks": ""
           }
          },
          "scene": {
           "xaxis": {
            "backgroundcolor": "#E5ECF6",
            "gridcolor": "white",
            "gridwidth": 2,
            "linecolor": "white",
            "showbackground": true,
            "ticks": "",
            "zerolinecolor": "white"
           },
           "yaxis": {
            "backgroundcolor": "#E5ECF6",
            "gridcolor": "white",
            "gridwidth": 2,
            "linecolor": "white",
            "showbackground": true,
            "ticks": "",
            "zerolinecolor": "white"
           },
           "zaxis": {
            "backgroundcolor": "#E5ECF6",
            "gridcolor": "white",
            "gridwidth": 2,
            "linecolor": "white",
            "showbackground": true,
            "ticks": "",
            "zerolinecolor": "white"
           }
          },
          "shapedefaults": {
           "line": {
            "color": "#2a3f5f"
           }
          },
          "ternary": {
           "aaxis": {
            "gridcolor": "white",
            "linecolor": "white",
            "ticks": ""
           },
           "baxis": {
            "gridcolor": "white",
            "linecolor": "white",
            "ticks": ""
           },
           "bgcolor": "#E5ECF6",
           "caxis": {
            "gridcolor": "white",
            "linecolor": "white",
            "ticks": ""
           }
          },
          "title": {
           "x": 0.05
          },
          "xaxis": {
           "automargin": true,
           "gridcolor": "white",
           "linecolor": "white",
           "ticks": "",
           "title": {
            "standoff": 15
           },
           "zerolinecolor": "white",
           "zerolinewidth": 2
          },
          "yaxis": {
           "automargin": true,
           "gridcolor": "white",
           "linecolor": "white",
           "ticks": "",
           "title": {
            "standoff": 15
           },
           "zerolinecolor": "white",
           "zerolinewidth": 2
          }
         }
        },
        "title": {
         "text": "Tiempo en pantalla en Iron Man"
        },
        "width": 900
       }
      }
     },
     "metadata": {},
     "output_type": "display_data"
    }
   ],
   "source": [
    "import plotly.graph_objs as go\n",
    "from plotly.subplots import make_subplots\n",
    "\n",
    "# Data preparation\n",
    "df = nuevo_df[nuevo_df['Iron Man'] != 0]\n",
    "df['Iron Man'] = pd.to_numeric(df['Iron Man'], errors='coerce')\n",
    "pie1 = df['Iron Man']\n",
    "labels = df.index\n",
    "\n",
    "# Identificar las 3 mayores porciones\n",
    "top3_indices = df['Iron Man'].nlargest(3).index\n",
    "\n",
    "# Crear la lista de etiquetas personalizadas\n",
    "custom_labels = [name if name in top3_indices else '' for name in labels]\n",
    "\n",
    "\n",
    "# Figure\n",
    "fig = make_subplots(rows=1, cols=1, specs=[[{'type': 'pie'}]])\n",
    "\n",
    "fig.add_trace(\n",
    "    go.Pie(\n",
    "        labels=labels,\n",
    "        values=pie1,\n",
    "        textinfo='text+value',  # Muestra solo etiquetas y porcentajes\n",
    "        hoverinfo='label+value+percent',\n",
    "        customdata=labels,  # Utiliza customdata para almacenar los nombres\n",
    "        hole=0.3,\n",
    "        text=custom_labels,  # Utiliza la lista personalizada para el texto\n",
    "    ),\n",
    "    row=1, col=1\n",
    ")\n",
    "\n",
    "fig.update_layout(\n",
    "    title=\"Tiempo en pantalla en Iron Man\",\n",
    "    annotations=[\n",
    "        {\n",
    "            \"font\": {\"size\": 20},\n",
    "            \"showarrow\": False,\n",
    "            \"text\": \"Iron Man\",\n",
    "            \"x\": 0.5,\n",
    "            \"y\": 0.5,\n",
    "        }\n",
    "    ],\n",
    "    height=700,  # Ajusta la altura del gráfico\n",
    "    width=900,   # Ajusta el ancho del gráfico\n",
    ")\n",
    "\n",
    "fig.show()\n"
   ]
  },
  {
   "cell_type": "code",
   "execution_count": 55,
   "metadata": {},
   "outputs": [
    {
     "data": {
      "image/png": "[encoded data removed]",
      "text/plain": [
       "<Figure size 2000x600 with 1 Axes>"
      ]
     },
     "execution_count": 55,
     "metadata": {},
     "output_type": "execute_result"
    },
    {
     "data": {
      "image/png": "[encoded data removed]",
      "text/plain": [
       "<Figure size 2000x600 with 1 Axes>"
      ]
     },
     "metadata": {},
     "output_type": "display_data"
    }
   ],
   "source": [
    "def grafico_peliculas_del_char (char):\n",
    "    peliculas = {}\n",
    "    for peli in apariciones_pj[char]:\n",
    "        peliculas[peli] = char_movie_matrix.loc[char][peli]\n",
    "    plt.figure(figsize=(20, 6))\n",
    "    pelis = list(map(lambda x: '\\n'.join(x.split(' ')),list(peliculas.keys())))\n",
    "    sns.barplot(x=pelis, y=list(peliculas.values()))\n",
    "    plt.title(char)\n",
    "    plt.xlabel('Peliculas')\n",
    "    plt.ylabel('Tiempo en pantalla');\n",
    "    return plt.gcf()\n",
    "\n",
    "grafico_peliculas_del_char ('Valkyrie')"
   ]
  },
  {
   "cell_type": "code",
   "execution_count": 83,
   "metadata": {},
   "outputs": [
    {
     "data": {
      "application/vnd.plotly.v1+json": {
       "config": {
        "plotlyServerURL": "https://plot.ly"
       },
       "data": [
        {
         "alignmentgroup": "True",
         "hovertemplate": "Pelicula: %{x}<br>Tiempo en pantalla: %{y} mins",
         "legendgroup": "",
         "marker": {
          "color": "rgb(179, 39, 14)",
          "pattern": {
           "shape": ""
          }
         },
         "name": "",
         "offsetgroup": "",
         "orientation": "v",
         "showlegend": false,
         "textposition": "auto",
         "type": "bar",
         "x": [
          "Thor",
          "Los\nVengadores",
          "Thor:\nEl\nmundo\noscuro",
          "Thor:\nRagnarok",
          "Vengadores:\nInfinity\nWar",
          "Vengadores:\nEndgame",
          "Loki"
         ],
         "xaxis": "x",
         "y": [
          21.25,
          21.5,
          17.5,
          13.5,
          3.75,
          1,
          131.25
         ],
         "yaxis": "y"
        }
       ],
       "layout": {
        "barmode": "relative",
        "height": 400,
        "legend": {
         "tracegroupgap": 0
        },
        "template": {
         "data": {
          "bar": [
           {
            "error_x": {
             "color": "#2a3f5f"
            },
            "error_y": {
             "color": "#2a3f5f"
            },
            "marker": {
             "line": {
              "color": "#E5ECF6",
              "width": 0.5
             },
             "pattern": {
              "fillmode": "overlay",
              "size": 10,
              "solidity": 0.2
             }
            },
            "type": "bar"
           }
          ],
          "barpolar": [
           {
            "marker": {
             "line": {
              "color": "#E5ECF6",
              "width": 0.5
             },
             "pattern": {
              "fillmode": "overlay",
              "size": 10,
              "solidity": 0.2
             }
            },
            "type": "barpolar"
           }
          ],
          "carpet": [
           {
            "aaxis": {
             "endlinecolor": "#2a3f5f",
             "gridcolor": "white",
             "linecolor": "white",
             "minorgridcolor": "white",
             "startlinecolor": "#2a3f5f"
            },
            "baxis": {
             "endlinecolor": "#2a3f5f",
             "gridcolor": "white",
             "linecolor": "white",
             "minorgridcolor": "white",
             "startlinecolor": "#2a3f5f"
            },
            "type": "carpet"
           }
          ],
          "choropleth": [
           {
            "colorbar": {
             "outlinewidth": 0,
             "ticks": ""
            },
            "type": "choropleth"
           }
          ],
          "contour": [
           {
            "colorbar": {
             "outlinewidth": 0,
             "ticks": ""
            },
            "colorscale": [
             [
              0,
              "#0d0887"
             ],
             [
              0.1111111111111111,
              "#46039f"
             ],
             [
              0.2222222222222222,
              "#7201a8"
             ],
             [
              0.3333333333333333,
              "#9c179e"
             ],
             [
              0.4444444444444444,
              "#bd3786"
             ],
             [
              0.5555555555555556,
              "#d8576b"
             ],
             [
              0.6666666666666666,
              "#ed7953"
             ],
             [
              0.7777777777777778,
              "#fb9f3a"
             ],
             [
              0.8888888888888888,
              "#fdca26"
             ],
             [
              1,
              "#f0f921"
             ]
            ],
            "type": "contour"
           }
          ],
          "contourcarpet": [
           {
            "colorbar": {
             "outlinewidth": 0,
             "ticks": ""
            },
            "type": "contourcarpet"
           }
          ],
          "heatmap": [
           {
            "colorbar": {
             "outlinewidth": 0,
             "ticks": ""
            },
            "colorscale": [
             [
              0,
              "#0d0887"
             ],
             [
              0.1111111111111111,
              "#46039f"
             ],
             [
              0.2222222222222222,
              "#7201a8"
             ],
             [
              0.3333333333333333,
              "#9c179e"
             ],
             [
              0.4444444444444444,
              "#bd3786"
             ],
             [
              0.5555555555555556,
              "#d8576b"
             ],
             [
              0.6666666666666666,
              "#ed7953"
             ],
             [
              0.7777777777777778,
              "#fb9f3a"
             ],
             [
              0.8888888888888888,
              "#fdca26"
             ],
             [
              1,
              "#f0f921"
             ]
            ],
            "type": "heatmap"
           }
          ],
          "heatmapgl": [
           {
            "colorbar": {
             "outlinewidth": 0,
             "ticks": ""
            },
            "colorscale": [
             [
              0,
              "#0d0887"
             ],
             [
              0.1111111111111111,
              "#46039f"
             ],
             [
              0.2222222222222222,
              "#7201a8"
             ],
             [
              0.3333333333333333,
              "#9c179e"
             ],
             [
              0.4444444444444444,
              "#bd3786"
             ],
             [
              0.5555555555555556,
              "#d8576b"
             ],
             [
              0.6666666666666666,
              "#ed7953"
             ],
             [
              0.7777777777777778,
              "#fb9f3a"
             ],
             [
              0.8888888888888888,
              "#fdca26"
             ],
             [
              1,
              "#f0f921"
             ]
            ],
            "type": "heatmapgl"
           }
          ],
          "histogram": [
           {
            "marker": {
             "pattern": {
              "fillmode": "overlay",
              "size": 10,
              "solidity": 0.2
             }
            },
            "type": "histogram"
           }
          ],
          "histogram2d": [
           {
            "colorbar": {
             "outlinewidth": 0,
             "ticks": ""
            },
            "colorscale": [
             [
              0,
              "#0d0887"
             ],
             [
              0.1111111111111111,
              "#46039f"
             ],
             [
              0.2222222222222222,
              "#7201a8"
             ],
             [
              0.3333333333333333,
              "#9c179e"
             ],
             [
              0.4444444444444444,
              "#bd3786"
             ],
             [
              0.5555555555555556,
              "#d8576b"
             ],
             [
              0.6666666666666666,
              "#ed7953"
             ],
             [
              0.7777777777777778,
              "#fb9f3a"
             ],
             [
              0.8888888888888888,
              "#fdca26"
             ],
             [
              1,
              "#f0f921"
             ]
            ],
            "type": "histogram2d"
           }
          ],
          "histogram2dcontour": [
           {
            "colorbar": {
             "outlinewidth": 0,
             "ticks": ""
            },
            "colorscale": [
             [
              0,
              "#0d0887"
             ],
             [
              0.1111111111111111,
              "#46039f"
             ],
             [
              0.2222222222222222,
              "#7201a8"
             ],
             [
              0.3333333333333333,
              "#9c179e"
             ],
             [
              0.4444444444444444,
              "#bd3786"
             ],
             [
              0.5555555555555556,
              "#d8576b"
             ],
             [
              0.6666666666666666,
              "#ed7953"
             ],
             [
              0.7777777777777778,
              "#fb9f3a"
             ],
             [
              0.8888888888888888,
              "#fdca26"
             ],
             [
              1,
              "#f0f921"
             ]
            ],
            "type": "histogram2dcontour"
           }
          ],
          "mesh3d": [
           {
            "colorbar": {
             "outlinewidth": 0,
             "ticks": ""
            },
            "type": "mesh3d"
           }
          ],
          "parcoords": [
           {
            "line": {
             "colorbar": {
              "outlinewidth": 0,
              "ticks": ""
             }
            },
            "type": "parcoords"
           }
          ],
          "pie": [
           {
            "automargin": true,
            "type": "pie"
           }
          ],
          "scatter": [
           {
            "fillpattern": {
             "fillmode": "overlay",
             "size": 10,
             "solidity": 0.2
            },
            "type": "scatter"
           }
          ],
          "scatter3d": [
           {
            "line": {
             "colorbar": {
              "outlinewidth": 0,
              "ticks": ""
             }
            },
            "marker": {
             "colorbar": {
              "outlinewidth": 0,
              "ticks": ""
             }
            },
            "type": "scatter3d"
           }
          ],
          "scattercarpet": [
           {
            "marker": {
             "colorbar": {
              "outlinewidth": 0,
              "ticks": ""
             }
            },
            "type": "scattercarpet"
           }
          ],
          "scattergeo": [
           {
            "marker": {
             "colorbar": {
              "outlinewidth": 0,
              "ticks": ""
             }
            },
            "type": "scattergeo"
           }
          ],
          "scattergl": [
           {
            "marker": {
             "colorbar": {
              "outlinewidth": 0,
              "ticks": ""
             }
            },
            "type": "scattergl"
           }
          ],
          "scattermapbox": [
           {
            "marker": {
             "colorbar": {
              "outlinewidth": 0,
              "ticks": ""
             }
            },
            "type": "scattermapbox"
           }
          ],
          "scatterpolar": [
           {
            "marker": {
             "colorbar": {
              "outlinewidth": 0,
              "ticks": ""
             }
            },
            "type": "scatterpolar"
           }
          ],
          "scatterpolargl": [
           {
            "marker": {
             "colorbar": {
              "outlinewidth": 0,
              "ticks": ""
             }
            },
            "type": "scatterpolargl"
           }
          ],
          "scatterternary": [
           {
            "marker": {
             "colorbar": {
              "outlinewidth": 0,
              "ticks": ""
             }
            },
            "type": "scatterternary"
           }
          ],
          "surface": [
           {
            "colorbar": {
             "outlinewidth": 0,
             "ticks": ""
            },
            "colorscale": [
             [
              0,
              "#0d0887"
             ],
             [
              0.1111111111111111,
              "#46039f"
             ],
             [
              0.2222222222222222,
              "#7201a8"
             ],
             [
              0.3333333333333333,
              "#9c179e"
             ],
             [
              0.4444444444444444,
              "#bd3786"
             ],
             [
              0.5555555555555556,
              "#d8576b"
             ],
             [
              0.6666666666666666,
              "#ed7953"
             ],
             [
              0.7777777777777778,
              "#fb9f3a"
             ],
             [
              0.8888888888888888,
              "#fdca26"
             ],
             [
              1,
              "#f0f921"
             ]
            ],
            "type": "surface"
           }
          ],
          "table": [
           {
            "cells": {
             "fill": {
              "color": "#EBF0F8"
             },
             "line": {
              "color": "white"
             }
            },
            "header": {
             "fill": {
              "color": "#C8D4E3"
             },
             "line": {
              "color": "white"
             }
            },
            "type": "table"
           }
          ]
         },
         "layout": {
          "annotationdefaults": {
           "arrowcolor": "#2a3f5f",
           "arrowhead": 0,
           "arrowwidth": 1
          },
          "autotypenumbers": "strict",
          "coloraxis": {
           "colorbar": {
            "outlinewidth": 0,
            "ticks": ""
           }
          },
          "colorscale": {
           "diverging": [
            [
             0,
             "#8e0152"
            ],
            [
             0.1,
             "#c51b7d"
            ],
            [
             0.2,
             "#de77ae"
            ],
            [
             0.3,
             "#f1b6da"
            ],
            [
             0.4,
             "#fde0ef"
            ],
            [
             0.5,
             "#f7f7f7"
            ],
            [
             0.6,
             "#e6f5d0"
            ],
            [
             0.7,
             "#b8e186"
            ],
            [
             0.8,
             "#7fbc41"
            ],
            [
             0.9,
             "#4d9221"
            ],
            [
             1,
             "#276419"
            ]
           ],
           "sequential": [
            [
             0,
             "#0d0887"
            ],
            [
             0.1111111111111111,
             "#46039f"
            ],
            [
             0.2222222222222222,
             "#7201a8"
            ],
            [
             0.3333333333333333,
             "#9c179e"
            ],
            [
             0.4444444444444444,
             "#bd3786"
            ],
            [
             0.5555555555555556,
             "#d8576b"
            ],
            [
             0.6666666666666666,
             "#ed7953"
            ],
            [
             0.7777777777777778,
             "#fb9f3a"
            ],
            [
             0.8888888888888888,
             "#fdca26"
            ],
            [
             1,
             "#f0f921"
            ]
           ],
           "sequentialminus": [
            [
             0,
             "#0d0887"
            ],
            [
             0.1111111111111111,
             "#46039f"
            ],
            [
             0.2222222222222222,
             "#7201a8"
            ],
            [
             0.3333333333333333,
             "#9c179e"
            ],
            [
             0.4444444444444444,
             "#bd3786"
            ],
            [
             0.5555555555555556,
             "#d8576b"
            ],
            [
             0.6666666666666666,
             "#ed7953"
            ],
            [
             0.7777777777777778,
             "#fb9f3a"
            ],
            [
             0.8888888888888888,
             "#fdca26"
            ],
            [
             1,
             "#f0f921"
            ]
           ]
          },
          "colorway": [
           "#636efa",
           "#EF553B",
           "#00cc96",
           "#ab63fa",
           "#FFA15A",
           "#19d3f3",
           "#FF6692",
           "#B6E880",
           "#FF97FF",
           "#FECB52"
          ],
          "font": {
           "color": "#2a3f5f"
          },
          "geo": {
           "bgcolor": "white",
           "lakecolor": "white",
           "landcolor": "#E5ECF6",
           "showlakes": true,
           "showland": true,
           "subunitcolor": "white"
          },
          "hoverlabel": {
           "align": "left"
          },
          "hovermode": "closest",
          "mapbox": {
           "style": "light"
          },
          "paper_bgcolor": "white",
          "plot_bgcolor": "#E5ECF6",
          "polar": {
           "angularaxis": {
            "gridcolor": "white",
            "linecolor": "white",
            "ticks": ""
           },
           "bgcolor": "#E5ECF6",
           "radialaxis": {
            "gridcolor": "white",
            "linecolor": "white",
            "ticks": ""
           }
          },
          "scene": {
           "xaxis": {
            "backgroundcolor": "#E5ECF6",
            "gridcolor": "white",
            "gridwidth": 2,
            "linecolor": "white",
            "showbackground": true,
            "ticks": "",
            "zerolinecolor": "white"
           },
           "yaxis": {
            "backgroundcolor": "#E5ECF6",
            "gridcolor": "white",
            "gridwidth": 2,
            "linecolor": "white",
            "showbackground": true,
            "ticks": "",
            "zerolinecolor": "white"
           },
           "zaxis": {
            "backgroundcolor": "#E5ECF6",
            "gridcolor": "white",
            "gridwidth": 2,
            "linecolor": "white",
            "showbackground": true,
            "ticks": "",
            "zerolinecolor": "white"
           }
          },
          "shapedefaults": {
           "line": {
            "color": "#2a3f5f"
           }
          },
          "ternary": {
           "aaxis": {
            "gridcolor": "white",
            "linecolor": "white",
            "ticks": ""
           },
           "baxis": {
            "gridcolor": "white",
            "linecolor": "white",
            "ticks": ""
           },
           "bgcolor": "#E5ECF6",
           "caxis": {
            "gridcolor": "white",
            "linecolor": "white",
            "ticks": ""
           }
          },
          "title": {
           "x": 0.05
          },
          "xaxis": {
           "automargin": true,
           "gridcolor": "white",
           "linecolor": "white",
           "ticks": "",
           "title": {
            "standoff": 15
           },
           "zerolinecolor": "white",
           "zerolinewidth": 2
          },
          "yaxis": {
           "automargin": true,
           "gridcolor": "white",
           "linecolor": "white",
           "ticks": "",
           "title": {
            "standoff": 15
           },
           "zerolinecolor": "white",
           "zerolinewidth": 2
          }
         }
        },
        "title": {
         "text": "Loki"
        },
        "width": 800,
        "xaxis": {
         "anchor": "y",
         "domain": [
          0,
          1
         ],
         "title": {
          "text": "Pelicula"
         }
        },
        "yaxis": {
         "anchor": "x",
         "domain": [
          0,
          1
         ],
         "title": {
          "text": "Tiempo en pantalla"
         }
        }
       }
      }
     },
     "metadata": {},
     "output_type": "display_data"
    },
    {
     "data": {
      "application/vnd.plotly.v1+json": {
       "config": {
        "plotlyServerURL": "https://plot.ly"
       },
       "data": [
        {
         "alignmentgroup": "True",
         "hovertemplate": "Pelicula: %{x}<br>Tiempo en pantalla: %{y} mins",
         "legendgroup": "",
         "marker": {
          "color": "rgb(179, 39, 14)",
          "pattern": {
           "shape": ""
          }
         },
         "name": "",
         "offsetgroup": "",
         "orientation": "v",
         "showlegend": false,
         "textposition": "auto",
         "type": "bar",
         "x": [
          "Thor",
          "Los\nVengadores",
          "Thor:\nEl\nmundo\noscuro",
          "Thor:\nRagnarok",
          "Vengadores:\nInfinity\nWar",
          "Vengadores:\nEndgame",
          "Loki"
         ],
         "xaxis": "x",
         "y": [
          21.25,
          21.5,
          17.5,
          13.5,
          3.75,
          1,
          131.25
         ],
         "yaxis": "y"
        }
       ],
       "layout": {
        "barmode": "relative",
        "height": 400,
        "legend": {
         "tracegroupgap": 0
        },
        "template": {
         "data": {
          "bar": [
           {
            "error_x": {
             "color": "#2a3f5f"
            },
            "error_y": {
             "color": "#2a3f5f"
            },
            "marker": {
             "line": {
              "color": "#E5ECF6",
              "width": 0.5
             },
             "pattern": {
              "fillmode": "overlay",
              "size": 10,
              "solidity": 0.2
             }
            },
            "type": "bar"
           }
          ],
          "barpolar": [
           {
            "marker": {
             "line": {
              "color": "#E5ECF6",
              "width": 0.5
             },
             "pattern": {
              "fillmode": "overlay",
              "size": 10,
              "solidity": 0.2
             }
            },
            "type": "barpolar"
           }
          ],
          "carpet": [
           {
            "aaxis": {
             "endlinecolor": "#2a3f5f",
             "gridcolor": "white",
             "linecolor": "white",
             "minorgridcolor": "white",
             "startlinecolor": "#2a3f5f"
            },
            "baxis": {
             "endlinecolor": "#2a3f5f",
             "gridcolor": "white",
             "linecolor": "white",
             "minorgridcolor": "white",
             "startlinecolor": "#2a3f5f"
            },
            "type": "carpet"
           }
          ],
          "choropleth": [
           {
            "colorbar": {
             "outlinewidth": 0,
             "ticks": ""
            },
            "type": "choropleth"
           }
          ],
          "contour": [
           {
            "colorbar": {
             "outlinewidth": 0,
             "ticks": ""
            },
            "colorscale": [
             [
              0,
              "#0d0887"
             ],
             [
              0.1111111111111111,
              "#46039f"
             ],
             [
              0.2222222222222222,
              "#7201a8"
             ],
             [
              0.3333333333333333,
              "#9c179e"
             ],
             [
              0.4444444444444444,
              "#bd3786"
             ],
             [
              0.5555555555555556,
              "#d8576b"
             ],
             [
              0.6666666666666666,
              "#ed7953"
             ],
             [
              0.7777777777777778,
              "#fb9f3a"
             ],
             [
              0.8888888888888888,
              "#fdca26"
             ],
             [
              1,
              "#f0f921"
             ]
            ],
            "type": "contour"
           }
          ],
          "contourcarpet": [
           {
            "colorbar": {
             "outlinewidth": 0,
             "ticks": ""
            },
            "type": "contourcarpet"
           }
          ],
          "heatmap": [
           {
            "colorbar": {
             "outlinewidth": 0,
             "ticks": ""
            },
            "colorscale": [
             [
              0,
              "#0d0887"
             ],
             [
              0.1111111111111111,
              "#46039f"
             ],
             [
              0.2222222222222222,
              "#7201a8"
             ],
             [
              0.3333333333333333,
              "#9c179e"
             ],
             [
              0.4444444444444444,
              "#bd3786"
             ],
             [
              0.5555555555555556,
              "#d8576b"
             ],
             [
              0.6666666666666666,
              "#ed7953"
             ],
             [
              0.7777777777777778,
              "#fb9f3a"
             ],
             [
              0.8888888888888888,
              "#fdca26"
             ],
             [
              1,
              "#f0f921"
             ]
            ],
            "type": "heatmap"
           }
          ],
          "heatmapgl": [
           {
            "colorbar": {
             "outlinewidth": 0,
             "ticks": ""
            },
            "colorscale": [
             [
              0,
              "#0d0887"
             ],
             [
              0.1111111111111111,
              "#46039f"
             ],
             [
              0.2222222222222222,
              "#7201a8"
             ],
             [
              0.3333333333333333,
              "#9c179e"
             ],
             [
              0.4444444444444444,
              "#bd3786"
             ],
             [
              0.5555555555555556,
              "#d8576b"
             ],
             [
              0.6666666666666666,
              "#ed7953"
             ],
             [
              0.7777777777777778,
              "#fb9f3a"
             ],
             [
              0.8888888888888888,
              "#fdca26"
             ],
             [
              1,
              "#f0f921"
             ]
            ],
            "type": "heatmapgl"
           }
          ],
          "histogram": [
           {
            "marker": {
             "pattern": {
              "fillmode": "overlay",
              "size": 10,
              "solidity": 0.2
             }
            },
            "type": "histogram"
           }
          ],
          "histogram2d": [
           {
            "colorbar": {
             "outlinewidth": 0,
             "ticks": ""
            },
            "colorscale": [
             [
              0,
              "#0d0887"
             ],
             [
              0.1111111111111111,
              "#46039f"
             ],
             [
              0.2222222222222222,
              "#7201a8"
             ],
             [
              0.3333333333333333,
              "#9c179e"
             ],
             [
              0.4444444444444444,
              "#bd3786"
             ],
             [
              0.5555555555555556,
              "#d8576b"
             ],
             [
              0.6666666666666666,
              "#ed7953"
             ],
             [
              0.7777777777777778,
              "#fb9f3a"
             ],
             [
              0.8888888888888888,
              "#fdca26"
             ],
             [
              1,
              "#f0f921"
             ]
            ],
            "type": "histogram2d"
           }
          ],
          "histogram2dcontour": [
           {
            "colorbar": {
             "outlinewidth": 0,
             "ticks": ""
            },
            "colorscale": [
             [
              0,
              "#0d0887"
             ],
             [
              0.1111111111111111,
              "#46039f"
             ],
             [
              0.2222222222222222,
              "#7201a8"
             ],
             [
              0.3333333333333333,
              "#9c179e"
             ],
             [
              0.4444444444444444,
              "#bd3786"
             ],
             [
              0.5555555555555556,
              "#d8576b"
             ],
             [
              0.6666666666666666,
              "#ed7953"
             ],
             [
              0.7777777777777778,
              "#fb9f3a"
             ],
             [
              0.8888888888888888,
              "#fdca26"
             ],
             [
              1,
              "#f0f921"
             ]
            ],
            "type": "histogram2dcontour"
           }
          ],
          "mesh3d": [
           {
            "colorbar": {
             "outlinewidth": 0,
             "ticks": ""
            },
            "type": "mesh3d"
           }
          ],
          "parcoords": [
           {
            "line": {
             "colorbar": {
              "outlinewidth": 0,
              "ticks": ""
             }
            },
            "type": "parcoords"
           }
          ],
          "pie": [
           {
            "automargin": true,
            "type": "pie"
           }
          ],
          "scatter": [
           {
            "fillpattern": {
             "fillmode": "overlay",
             "size": 10,
             "solidity": 0.2
            },
            "type": "scatter"
           }
          ],
          "scatter3d": [
           {
            "line": {
             "colorbar": {
              "outlinewidth": 0,
              "ticks": ""
             }
            },
            "marker": {
             "colorbar": {
              "outlinewidth": 0,
              "ticks": ""
             }
            },
            "type": "scatter3d"
           }
          ],
          "scattercarpet": [
           {
            "marker": {
             "colorbar": {
              "outlinewidth": 0,
              "ticks": ""
             }
            },
            "type": "scattercarpet"
           }
          ],
          "scattergeo": [
           {
            "marker": {
             "colorbar": {
              "outlinewidth": 0,
              "ticks": ""
             }
            },
            "type": "scattergeo"
           }
          ],
          "scattergl": [
           {
            "marker": {
             "colorbar": {
              "outlinewidth": 0,
              "ticks": ""
             }
            },
            "type": "scattergl"
           }
          ],
          "scattermapbox": [
           {
            "marker": {
             "colorbar": {
              "outlinewidth": 0,
              "ticks": ""
             }
            },
            "type": "scattermapbox"
           }
          ],
          "scatterpolar": [
           {
            "marker": {
             "colorbar": {
              "outlinewidth": 0,
              "ticks": ""
             }
            },
            "type": "scatterpolar"
           }
          ],
          "scatterpolargl": [
           {
            "marker": {
             "colorbar": {
              "outlinewidth": 0,
              "ticks": ""
             }
            },
            "type": "scatterpolargl"
           }
          ],
          "scatterternary": [
           {
            "marker": {
             "colorbar": {
              "outlinewidth": 0,
              "ticks": ""
             }
            },
            "type": "scatterternary"
           }
          ],
          "surface": [
           {
            "colorbar": {
             "outlinewidth": 0,
             "ticks": ""
            },
            "colorscale": [
             [
              0,
              "#0d0887"
             ],
             [
              0.1111111111111111,
              "#46039f"
             ],
             [
              0.2222222222222222,
              "#7201a8"
             ],
             [
              0.3333333333333333,
              "#9c179e"
             ],
             [
              0.4444444444444444,
              "#bd3786"
             ],
             [
              0.5555555555555556,
              "#d8576b"
             ],
             [
              0.6666666666666666,
              "#ed7953"
             ],
             [
              0.7777777777777778,
              "#fb9f3a"
             ],
             [
              0.8888888888888888,
              "#fdca26"
             ],
             [
              1,
              "#f0f921"
             ]
            ],
            "type": "surface"
           }
          ],
          "table": [
           {
            "cells": {
             "fill": {
              "color": "#EBF0F8"
             },
             "line": {
              "color": "white"
             }
            },
            "header": {
             "fill": {
              "color": "#C8D4E3"
             },
             "line": {
              "color": "white"
             }
            },
            "type": "table"
           }
          ]
         },
         "layout": {
          "annotationdefaults": {
           "arrowcolor": "#2a3f5f",
           "arrowhead": 0,
           "arrowwidth": 1
          },
          "autotypenumbers": "strict",
          "coloraxis": {
           "colorbar": {
            "outlinewidth": 0,
            "ticks": ""
           }
          },
          "colorscale": {
           "diverging": [
            [
             0,
             "#8e0152"
            ],
            [
             0.1,
             "#c51b7d"
            ],
            [
             0.2,
             "#de77ae"
            ],
            [
             0.3,
             "#f1b6da"
            ],
            [
             0.4,
             "#fde0ef"
            ],
            [
             0.5,
             "#f7f7f7"
            ],
            [
             0.6,
             "#e6f5d0"
            ],
            [
             0.7,
             "#b8e186"
            ],
            [
             0.8,
             "#7fbc41"
            ],
            [
             0.9,
             "#4d9221"
            ],
            [
             1,
             "#276419"
            ]
           ],
           "sequential": [
            [
             0,
             "#0d0887"
            ],
            [
             0.1111111111111111,
             "#46039f"
            ],
            [
             0.2222222222222222,
             "#7201a8"
            ],
            [
             0.3333333333333333,
             "#9c179e"
            ],
            [
             0.4444444444444444,
             "#bd3786"
            ],
            [
             0.5555555555555556,
             "#d8576b"
            ],
            [
             0.6666666666666666,
             "#ed7953"
            ],
            [
             0.7777777777777778,
             "#fb9f3a"
            ],
            [
             0.8888888888888888,
             "#fdca26"
            ],
            [
             1,
             "#f0f921"
            ]
           ],
           "sequentialminus": [
            [
             0,
             "#0d0887"
            ],
            [
             0.1111111111111111,
             "#46039f"
            ],
            [
             0.2222222222222222,
             "#7201a8"
            ],
            [
             0.3333333333333333,
             "#9c179e"
            ],
            [
             0.4444444444444444,
             "#bd3786"
            ],
            [
             0.5555555555555556,
             "#d8576b"
            ],
            [
             0.6666666666666666,
             "#ed7953"
            ],
            [
             0.7777777777777778,
             "#fb9f3a"
            ],
            [
             0.8888888888888888,
             "#fdca26"
            ],
            [
             1,
             "#f0f921"
            ]
           ]
          },
          "colorway": [
           "#636efa",
           "#EF553B",
           "#00cc96",
           "#ab63fa",
           "#FFA15A",
           "#19d3f3",
           "#FF6692",
           "#B6E880",
           "#FF97FF",
           "#FECB52"
          ],
          "font": {
           "color": "#2a3f5f"
          },
          "geo": {
           "bgcolor": "white",
           "lakecolor": "white",
           "landcolor": "#E5ECF6",
           "showlakes": true,
           "showland": true,
           "subunitcolor": "white"
          },
          "hoverlabel": {
           "align": "left"
          },
          "hovermode": "closest",
          "mapbox": {
           "style": "light"
          },
          "paper_bgcolor": "white",
          "plot_bgcolor": "#E5ECF6",
          "polar": {
           "angularaxis": {
            "gridcolor": "white",
            "linecolor": "white",
            "ticks": ""
           },
           "bgcolor": "#E5ECF6",
           "radialaxis": {
            "gridcolor": "white",
            "linecolor": "white",
            "ticks": ""
           }
          },
          "scene": {
           "xaxis": {
            "backgroundcolor": "#E5ECF6",
            "gridcolor": "white",
            "gridwidth": 2,
            "linecolor": "white",
            "showbackground": true,
            "ticks": "",
            "zerolinecolor": "white"
           },
           "yaxis": {
            "backgroundcolor": "#E5ECF6",
            "gridcolor": "white",
            "gridwidth": 2,
            "linecolor": "white",
            "showbackground": true,
            "ticks": "",
            "zerolinecolor": "white"
           },
           "zaxis": {
            "backgroundcolor": "#E5ECF6",
            "gridcolor": "white",
            "gridwidth": 2,
            "linecolor": "white",
            "showbackground": true,
            "ticks": "",
            "zerolinecolor": "white"
           }
          },
          "shapedefaults": {
           "line": {
            "color": "#2a3f5f"
           }
          },
          "ternary": {
           "aaxis": {
            "gridcolor": "white",
            "linecolor": "white",
            "ticks": ""
           },
           "baxis": {
            "gridcolor": "white",
            "linecolor": "white",
            "ticks": ""
           },
           "bgcolor": "#E5ECF6",
           "caxis": {
            "gridcolor": "white",
            "linecolor": "white",
            "ticks": ""
           }
          },
          "title": {
           "x": 0.05
          },
          "xaxis": {
           "automargin": true,
           "gridcolor": "white",
           "linecolor": "white",
           "ticks": "",
           "title": {
            "standoff": 15
           },
           "zerolinecolor": "white",
           "zerolinewidth": 2
          },
          "yaxis": {
           "automargin": true,
           "gridcolor": "white",
           "linecolor": "white",
           "ticks": "",
           "title": {
            "standoff": 15
           },
           "zerolinecolor": "white",
           "zerolinewidth": 2
          }
         }
        },
        "title": {
         "text": "Loki"
        },
        "width": 800,
        "xaxis": {
         "anchor": "y",
         "domain": [
          0,
          1
         ],
         "title": {
          "text": "Pelicula"
         }
        },
        "yaxis": {
         "anchor": "x",
         "domain": [
          0,
          1
         ],
         "title": {
          "text": "Tiempo en pantalla"
         }
        }
       }
      }
     },
     "metadata": {},
     "output_type": "display_data"
    }
   ],
   "source": [
    "import plotly.express as px\n",
    "\n",
    "def generar_grafico_plotly_peliculas_del_char(char):\n",
    "    # Datos de ejemplo (sustituir con tus datos reales)\n",
    "    peliculas = {}\n",
    "    for peli in apariciones_pj[char]:\n",
    "        peliculas[peli] = char_movie_matrix.loc[char][peli]\n",
    "    # Crear un DataFrame con los datos\n",
    "    df = pd.DataFrame(list(peliculas.items()), columns=['Pelicula', 'Tiempo en pantalla'])\n",
    "\n",
    "    # Convertir nombres de películas para el eje x\n",
    "    df['Pelicula'] = df['Pelicula'].apply(lambda x: '\\n'.join(x.split(' ')))\n",
    "\n",
    "    # Crear el gráfico de barras con Plotly Express\n",
    "    fig = px.bar(df,\n",
    "                 x='Pelicula',\n",
    "                 y='Tiempo en pantalla',\n",
    "                 title=char,\n",
    "                 color_discrete_sequence=['rgb(179, 39, 14)'],\n",
    "                 labels={'Peliculas': 'Pelicula', 'Tiempo en pantalla': 'Tiempo en pantalla'},\n",
    "\t\t\t\t hover_data={'Pelicula': True, 'Tiempo en pantalla': True}  # Incluye datos adicionales para mostrar en el hover\n",
    "    )\n",
    "    fig.update_traces(\n",
    "        hovertemplate='Pelicula: %{x}<br>Tiempo en pantalla: %{y} mins'\n",
    "    )\n",
    "    # Ajustar diseño del gráfico\n",
    "    fig.update_layout(height=400, width=800)\n",
    "    fig.show()\n",
    "    # Devolver el objeto de figura (Figure) en lugar de mostrarlo\n",
    "    return fig\n",
    "generar_grafico_plotly_peliculas_del_char('Loki')"
   ]
  },
  {
   "cell_type": "code",
   "execution_count": 85,
   "metadata": {},
   "outputs": [
    {
     "name": "stdout",
     "output_type": "stream",
     "text": [
      "Tony Stark / Iron Man: ['Iron Man', 'El increíble Hulk', 'Iron Man 2', 'Los Vengadores', 'Iron Man 3', 'Vengadores: La era de Ultrón', 'Capitán América: Civil War', 'Spider-Man: Homecoming', 'Vengadores: Infinity War', 'Vengadores: Endgame', 'Spider-Man: Lejos de casa', 'Loki']\n",
      "Steve Rogers: ['Capitán América: El primer vengador', 'Los Vengadores', 'Marvel One-Shot: Agente Carter', 'Capitán América: El Soldado de Invierno', 'Vengadores: La era de Ultrón', 'Ant-Man', 'Capitán América: Civil War', 'Spider-Man: Homecoming', 'Vengadores: Infinity War', 'Capitana Marvel', 'Vengadores: Endgame', 'Loki']\n",
      "Black Widow: ['Iron Man 2', 'Los Vengadores', 'Capitán América: El Soldado de Invierno', 'Vengadores: La era de Ultrón', 'Capitán América: Civil War', 'Thor: Ragnarok', 'Vengadores: Infinity War', 'Capitana Marvel', 'Vengadores: Endgame', 'Loki', 'Viuda Negra']\n",
      "Nick Fury: ['Iron Man', 'Iron Man 2', 'Thor', 'Capitán América: El primer vengador', 'Los Vengadores', 'Capitán América: El Soldado de Invierno', 'Vengadores: La era de Ultrón', 'Vengadores: Infinity War', 'Capitana Marvel', 'Vengadores: Endgame', 'Spider-Man: Lejos de casa']\n"
     ]
    },
    {
     "data": {
      "image/png": "[encoded data removed]",
      "text/plain": [
       "<Figure size 1500x600 with 1 Axes>"
      ]
     },
     "metadata": {},
     "output_type": "display_data"
    }
   ],
   "source": [
    "ordenado_por_longitud = OrderedDict(sorted(apariciones_pj.items(), key=lambda x: len(x[1]), reverse=True))\n",
    "\n",
    "# Mostrar el resultado\n",
    "for clave, valor in islice(ordenado_por_longitud.items(), 4):\n",
    "    print(f'{clave}: {(valor)}')\n",
    "claves = list(ordenado_por_longitud.keys())[:15]\n",
    "\n",
    "longitudes = [len(ordenado_por_longitud[clave]) for clave in claves]\n",
    "claves = list(map(lambda x: '\\n'.join(x.split(' ')),claves))\n",
    "\n",
    "# Crear el gráfico de barras\n",
    "plt.figure(figsize=(15, 6))\n",
    "plt.bar(claves, longitudes)\n",
    "\n",
    "# Añadir etiquetas y título\n",
    "plt.xlabel('Personajes')\n",
    "plt.ylabel('nº de peliculas')\n",
    "plt.title('nº total de peliculas en las que aparecen los personajes');"
   ]
  },
  {
   "cell_type": "code",
   "execution_count": 91,
   "metadata": {},
   "outputs": [
    {
     "data": {
      "application/vnd.plotly.v1+json": {
       "config": {
        "plotlyServerURL": "https://plot.ly"
       },
       "data": [
        {
         "alignmentgroup": "True",
         "hovertemplate": "Personaje: %{x}<br>nº de apariciones: %{y}",
         "legendgroup": "",
         "marker": {
          "color": "rgb(179, 39, 14)",
          "pattern": {
           "shape": ""
          }
         },
         "name": "",
         "offsetgroup": "",
         "orientation": "v",
         "showlegend": false,
         "textposition": "auto",
         "type": "bar",
         "x": [
          "Tony\nStark\n/\nIron\nMan",
          "Steve\nRogers",
          "Black\nWidow",
          "Nick\nFury",
          "Thor",
          "James\nRhodes\n/\nWar\nMachine",
          "Bucky",
          "Loki",
          "Scarlett\nWitch",
          "Hawkeye",
          "Falcon",
          "Pepper\nPotts",
          "Wong",
          "Peggy\nCarter",
          "Happy"
         ],
         "xaxis": "x",
         "y": [
          12,
          12,
          11,
          11,
          10,
          9,
          8,
          7,
          7,
          7,
          7,
          7,
          7,
          7,
          7
         ],
         "yaxis": "y"
        }
       ],
       "layout": {
        "barmode": "relative",
        "height": 500,
        "legend": {
         "tracegroupgap": 0
        },
        "template": {
         "data": {
          "bar": [
           {
            "error_x": {
             "color": "#2a3f5f"
            },
            "error_y": {
             "color": "#2a3f5f"
            },
            "marker": {
             "line": {
              "color": "#E5ECF6",
              "width": 0.5
             },
             "pattern": {
              "fillmode": "overlay",
              "size": 10,
              "solidity": 0.2
             }
            },
            "type": "bar"
           }
          ],
          "barpolar": [
           {
            "marker": {
             "line": {
              "color": "#E5ECF6",
              "width": 0.5
             },
             "pattern": {
              "fillmode": "overlay",
              "size": 10,
              "solidity": 0.2
             }
            },
            "type": "barpolar"
           }
          ],
          "carpet": [
           {
            "aaxis": {
             "endlinecolor": "#2a3f5f",
             "gridcolor": "white",
             "linecolor": "white",
             "minorgridcolor": "white",
             "startlinecolor": "#2a3f5f"
            },
            "baxis": {
             "endlinecolor": "#2a3f5f",
             "gridcolor": "white",
             "linecolor": "white",
             "minorgridcolor": "white",
             "startlinecolor": "#2a3f5f"
            },
            "type": "carpet"
           }
          ],
          "choropleth": [
           {
            "colorbar": {
             "outlinewidth": 0,
             "ticks": ""
            },
            "type": "choropleth"
           }
          ],
          "contour": [
           {
            "colorbar": {
             "outlinewidth": 0,
             "ticks": ""
            },
            "colorscale": [
             [
              0,
              "#0d0887"
             ],
             [
              0.1111111111111111,
              "#46039f"
             ],
             [
              0.2222222222222222,
              "#7201a8"
             ],
             [
              0.3333333333333333,
              "#9c179e"
             ],
             [
              0.4444444444444444,
              "#bd3786"
             ],
             [
              0.5555555555555556,
              "#d8576b"
             ],
             [
              0.6666666666666666,
              "#ed7953"
             ],
             [
              0.7777777777777778,
              "#fb9f3a"
             ],
             [
              0.8888888888888888,
              "#fdca26"
             ],
             [
              1,
              "#f0f921"
             ]
            ],
            "type": "contour"
           }
          ],
          "contourcarpet": [
           {
            "colorbar": {
             "outlinewidth": 0,
             "ticks": ""
            },
            "type": "contourcarpet"
           }
          ],
          "heatmap": [
           {
            "colorbar": {
             "outlinewidth": 0,
             "ticks": ""
            },
            "colorscale": [
             [
              0,
              "#0d0887"
             ],
             [
              0.1111111111111111,
              "#46039f"
             ],
             [
              0.2222222222222222,
              "#7201a8"
             ],
             [
              0.3333333333333333,
              "#9c179e"
             ],
             [
              0.4444444444444444,
              "#bd3786"
             ],
             [
              0.5555555555555556,
              "#d8576b"
             ],
             [
              0.6666666666666666,
              "#ed7953"
             ],
             [
              0.7777777777777778,
              "#fb9f3a"
             ],
             [
              0.8888888888888888,
              "#fdca26"
             ],
             [
              1,
              "#f0f921"
             ]
            ],
            "type": "heatmap"
           }
          ],
          "heatmapgl": [
           {
            "colorbar": {
             "outlinewidth": 0,
             "ticks": ""
            },
            "colorscale": [
             [
              0,
              "#0d0887"
             ],
             [
              0.1111111111111111,
              "#46039f"
             ],
             [
              0.2222222222222222,
              "#7201a8"
             ],
             [
              0.3333333333333333,
              "#9c179e"
             ],
             [
              0.4444444444444444,
              "#bd3786"
             ],
             [
              0.5555555555555556,
              "#d8576b"
             ],
             [
              0.6666666666666666,
              "#ed7953"
             ],
             [
              0.7777777777777778,
              "#fb9f3a"
             ],
             [
              0.8888888888888888,
              "#fdca26"
             ],
             [
              1,
              "#f0f921"
             ]
            ],
            "type": "heatmapgl"
           }
          ],
          "histogram": [
           {
            "marker": {
             "pattern": {
              "fillmode": "overlay",
              "size": 10,
              "solidity": 0.2
             }
            },
            "type": "histogram"
           }
          ],
          "histogram2d": [
           {
            "colorbar": {
             "outlinewidth": 0,
             "ticks": ""
            },
            "colorscale": [
             [
              0,
              "#0d0887"
             ],
             [
              0.1111111111111111,
              "#46039f"
             ],
             [
              0.2222222222222222,
              "#7201a8"
             ],
             [
              0.3333333333333333,
              "#9c179e"
             ],
             [
              0.4444444444444444,
              "#bd3786"
             ],
             [
              0.5555555555555556,
              "#d8576b"
             ],
             [
              0.6666666666666666,
              "#ed7953"
             ],
             [
              0.7777777777777778,
              "#fb9f3a"
             ],
             [
              0.8888888888888888,
              "#fdca26"
             ],
             [
              1,
              "#f0f921"
             ]
            ],
            "type": "histogram2d"
           }
          ],
          "histogram2dcontour": [
           {
            "colorbar": {
             "outlinewidth": 0,
             "ticks": ""
            },
            "colorscale": [
             [
              0,
              "#0d0887"
             ],
             [
              0.1111111111111111,
              "#46039f"
             ],
             [
              0.2222222222222222,
              "#7201a8"
             ],
             [
              0.3333333333333333,
              "#9c179e"
             ],
             [
              0.4444444444444444,
              "#bd3786"
             ],
             [
              0.5555555555555556,
              "#d8576b"
             ],
             [
              0.6666666666666666,
              "#ed7953"
             ],
             [
              0.7777777777777778,
              "#fb9f3a"
             ],
             [
              0.8888888888888888,
              "#fdca26"
             ],
             [
              1,
              "#f0f921"
             ]
            ],
            "type": "histogram2dcontour"
           }
          ],
          "mesh3d": [
           {
            "colorbar": {
             "outlinewidth": 0,
             "ticks": ""
            },
            "type": "mesh3d"
           }
          ],
          "parcoords": [
           {
            "line": {
             "colorbar": {
              "outlinewidth": 0,
              "ticks": ""
             }
            },
            "type": "parcoords"
           }
          ],
          "pie": [
           {
            "automargin": true,
            "type": "pie"
           }
          ],
          "scatter": [
           {
            "fillpattern": {
             "fillmode": "overlay",
             "size": 10,
             "solidity": 0.2
            },
            "type": "scatter"
           }
          ],
          "scatter3d": [
           {
            "line": {
             "colorbar": {
              "outlinewidth": 0,
              "ticks": ""
             }
            },
            "marker": {
             "colorbar": {
              "outlinewidth": 0,
              "ticks": ""
             }
            },
            "type": "scatter3d"
           }
          ],
          "scattercarpet": [
           {
            "marker": {
             "colorbar": {
              "outlinewidth": 0,
              "ticks": ""
             }
            },
            "type": "scattercarpet"
           }
          ],
          "scattergeo": [
           {
            "marker": {
             "colorbar": {
              "outlinewidth": 0,
              "ticks": ""
             }
            },
            "type": "scattergeo"
           }
          ],
          "scattergl": [
           {
            "marker": {
             "colorbar": {
              "outlinewidth": 0,
              "ticks": ""
             }
            },
            "type": "scattergl"
           }
          ],
          "scattermapbox": [
           {
            "marker": {
             "colorbar": {
              "outlinewidth": 0,
              "ticks": ""
             }
            },
            "type": "scattermapbox"
           }
          ],
          "scatterpolar": [
           {
            "marker": {
             "colorbar": {
              "outlinewidth": 0,
              "ticks": ""
             }
            },
            "type": "scatterpolar"
           }
          ],
          "scatterpolargl": [
           {
            "marker": {
             "colorbar": {
              "outlinewidth": 0,
              "ticks": ""
             }
            },
            "type": "scatterpolargl"
           }
          ],
          "scatterternary": [
           {
            "marker": {
             "colorbar": {
              "outlinewidth": 0,
              "ticks": ""
             }
            },
            "type": "scatterternary"
           }
          ],
          "surface": [
           {
            "colorbar": {
             "outlinewidth": 0,
             "ticks": ""
            },
            "colorscale": [
             [
              0,
              "#0d0887"
             ],
             [
              0.1111111111111111,
              "#46039f"
             ],
             [
              0.2222222222222222,
              "#7201a8"
             ],
             [
              0.3333333333333333,
              "#9c179e"
             ],
             [
              0.4444444444444444,
              "#bd3786"
             ],
             [
              0.5555555555555556,
              "#d8576b"
             ],
             [
              0.6666666666666666,
              "#ed7953"
             ],
             [
              0.7777777777777778,
              "#fb9f3a"
             ],
             [
              0.8888888888888888,
              "#fdca26"
             ],
             [
              1,
              "#f0f921"
             ]
            ],
            "type": "surface"
           }
          ],
          "table": [
           {
            "cells": {
             "fill": {
              "color": "#EBF0F8"
             },
             "line": {
              "color": "white"
             }
            },
            "header": {
             "fill": {
              "color": "#C8D4E3"
             },
             "line": {
              "color": "white"
             }
            },
            "type": "table"
           }
          ]
         },
         "layout": {
          "annotationdefaults": {
           "arrowcolor": "#2a3f5f",
           "arrowhead": 0,
           "arrowwidth": 1
          },
          "autotypenumbers": "strict",
          "coloraxis": {
           "colorbar": {
            "outlinewidth": 0,
            "ticks": ""
           }
          },
          "colorscale": {
           "diverging": [
            [
             0,
             "#8e0152"
            ],
            [
             0.1,
             "#c51b7d"
            ],
            [
             0.2,
             "#de77ae"
            ],
            [
             0.3,
             "#f1b6da"
            ],
            [
             0.4,
             "#fde0ef"
            ],
            [
             0.5,
             "#f7f7f7"
            ],
            [
             0.6,
             "#e6f5d0"
            ],
            [
             0.7,
             "#b8e186"
            ],
            [
             0.8,
             "#7fbc41"
            ],
            [
             0.9,
             "#4d9221"
            ],
            [
             1,
             "#276419"
            ]
           ],
           "sequential": [
            [
             0,
             "#0d0887"
            ],
            [
             0.1111111111111111,
             "#46039f"
            ],
            [
             0.2222222222222222,
             "#7201a8"
            ],
            [
             0.3333333333333333,
             "#9c179e"
            ],
            [
             0.4444444444444444,
             "#bd3786"
            ],
            [
             0.5555555555555556,
             "#d8576b"
            ],
            [
             0.6666666666666666,
             "#ed7953"
            ],
            [
             0.7777777777777778,
             "#fb9f3a"
            ],
            [
             0.8888888888888888,
             "#fdca26"
            ],
            [
             1,
             "#f0f921"
            ]
           ],
           "sequentialminus": [
            [
             0,
             "#0d0887"
            ],
            [
             0.1111111111111111,
             "#46039f"
            ],
            [
             0.2222222222222222,
             "#7201a8"
            ],
            [
             0.3333333333333333,
             "#9c179e"
            ],
            [
             0.4444444444444444,
             "#bd3786"
            ],
            [
             0.5555555555555556,
             "#d8576b"
            ],
            [
             0.6666666666666666,
             "#ed7953"
            ],
            [
             0.7777777777777778,
             "#fb9f3a"
            ],
            [
             0.8888888888888888,
             "#fdca26"
            ],
            [
             1,
             "#f0f921"
            ]
           ]
          },
          "colorway": [
           "#636efa",
           "#EF553B",
           "#00cc96",
           "#ab63fa",
           "#FFA15A",
           "#19d3f3",
           "#FF6692",
           "#B6E880",
           "#FF97FF",
           "#FECB52"
          ],
          "font": {
           "color": "#2a3f5f"
          },
          "geo": {
           "bgcolor": "white",
           "lakecolor": "white",
           "landcolor": "#E5ECF6",
           "showlakes": true,
           "showland": true,
           "subunitcolor": "white"
          },
          "hoverlabel": {
           "align": "left"
          },
          "hovermode": "closest",
          "mapbox": {
           "style": "light"
          },
          "paper_bgcolor": "white",
          "plot_bgcolor": "#E5ECF6",
          "polar": {
           "angularaxis": {
            "gridcolor": "white",
            "linecolor": "white",
            "ticks": ""
           },
           "bgcolor": "#E5ECF6",
           "radialaxis": {
            "gridcolor": "white",
            "linecolor": "white",
            "ticks": ""
           }
          },
          "scene": {
           "xaxis": {
            "backgroundcolor": "#E5ECF6",
            "gridcolor": "white",
            "gridwidth": 2,
            "linecolor": "white",
            "showbackground": true,
            "ticks": "",
            "zerolinecolor": "white"
           },
           "yaxis": {
            "backgroundcolor": "#E5ECF6",
            "gridcolor": "white",
            "gridwidth": 2,
            "linecolor": "white",
            "showbackground": true,
            "ticks": "",
            "zerolinecolor": "white"
           },
           "zaxis": {
            "backgroundcolor": "#E5ECF6",
            "gridcolor": "white",
            "gridwidth": 2,
            "linecolor": "white",
            "showbackground": true,
            "ticks": "",
            "zerolinecolor": "white"
           }
          },
          "shapedefaults": {
           "line": {
            "color": "#2a3f5f"
           }
          },
          "ternary": {
           "aaxis": {
            "gridcolor": "white",
            "linecolor": "white",
            "ticks": ""
           },
           "baxis": {
            "gridcolor": "white",
            "linecolor": "white",
            "ticks": ""
           },
           "bgcolor": "#E5ECF6",
           "caxis": {
            "gridcolor": "white",
            "linecolor": "white",
            "ticks": ""
           }
          },
          "title": {
           "x": 0.05
          },
          "xaxis": {
           "automargin": true,
           "gridcolor": "white",
           "linecolor": "white",
           "ticks": "",
           "title": {
            "standoff": 15
           },
           "zerolinecolor": "white",
           "zerolinewidth": 2
          },
          "yaxis": {
           "automargin": true,
           "gridcolor": "white",
           "linecolor": "white",
           "ticks": "",
           "title": {
            "standoff": 15
           },
           "zerolinecolor": "white",
           "zerolinewidth": 2
          }
         }
        },
        "title": {
         "text": "nº total de apariciones de los personajes"
        },
        "width": 900,
        "xaxis": {
         "anchor": "y",
         "domain": [
          0,
          1
         ],
         "title": {
          "text": "Claves"
         }
        },
        "yaxis": {
         "anchor": "x",
         "domain": [
          0,
          1
         ],
         "title": {
          "text": "Longitudes"
         }
        }
       }
      }
     },
     "metadata": {},
     "output_type": "display_data"
    }
   ],
   "source": [
    "def generar_grafico_barras(claves, longitudes, color_barras='blue'):\n",
    "    # Crear un DataFrame con los datos\n",
    "    df = pd.DataFrame({'Claves': claves, 'Longitudes': longitudes})\n",
    "\n",
    "    # Crear el gráfico de barras con Plotly Express\n",
    "    fig = px.bar(\n",
    "        df,\n",
    "        x='Claves',\n",
    "        y='Longitudes',\n",
    "        title='nº total de apariciones de los personajes',\n",
    "        labels={'Claves': 'Claves', 'Longitudes': 'Longitudes'},\n",
    "        color_discrete_sequence=['rgb(179, 39, 14)'],  # Especifica el color de las barras\n",
    "        hover_data={'Claves': True, 'Longitudes': True},  # Incluye datos adicionales para mostrar en el hover\n",
    "    )\n",
    "\n",
    "    # Personalizar el formato del hovertemplate\n",
    "    fig.update_traces(\n",
    "        hovertemplate='Personaje: %{x}<br>nº de apariciones: %{y}'\n",
    "    )\n",
    "\n",
    "    # Ajustar diseño del gráfico\n",
    "    fig.update_layout(height=500, width=900)\n",
    "\n",
    "    # Devolver el objeto de figura (Figure) en lugar de mostrarlo\n",
    "    return fig\n",
    "\n",
    "generar_grafico_barras(claves, longitudes)"
   ]
  },
  {
   "cell_type": "code",
   "execution_count": 95,
   "metadata": {},
   "outputs": [
    {
     "data": {
      "application/vnd.plotly.v1+json": {
       "config": {
        "plotlyServerURL": "https://plot.ly"
       },
       "data": [
        {
         "alignmentgroup": "True",
         "hovertemplate": "Personaje: %{x}<br>Tiempo total en pantalla: %{y}",
         "legendgroup": "",
         "marker": {
          "color": "rgb(179, 39, 14)",
          "pattern": {
           "shape": ""
          }
         },
         "name": "",
         "offsetgroup": "",
         "orientation": "v",
         "showlegend": false,
         "textposition": "auto",
         "type": "bar",
         "x": [
          "Tony Stark / Iron Man",
          "Thor",
          "Peter Parker / Spider-Man",
          "Steve Rogers",
          "Loki",
          "Scarlett Witch",
          "Black Widow",
          "Moon Knight",
          "Doctor Strange",
          "Hawkeye"
         ],
         "xaxis": "x",
         "y": [
          358.75,
          262,
          246.25,
          244.75,
          209.75,
          190,
          176.25,
          175.5,
          163.75,
          146.75
         ],
         "yaxis": "y"
        }
       ],
       "layout": {
        "barmode": "relative",
        "height": 500,
        "legend": {
         "tracegroupgap": 0
        },
        "margin": {
         "t": 60
        },
        "template": {
         "data": {
          "bar": [
           {
            "error_x": {
             "color": "#2a3f5f"
            },
            "error_y": {
             "color": "#2a3f5f"
            },
            "marker": {
             "line": {
              "color": "#E5ECF6",
              "width": 0.5
             },
             "pattern": {
              "fillmode": "overlay",
              "size": 10,
              "solidity": 0.2
             }
            },
            "type": "bar"
           }
          ],
          "barpolar": [
           {
            "marker": {
             "line": {
              "color": "#E5ECF6",
              "width": 0.5
             },
             "pattern": {
              "fillmode": "overlay",
              "size": 10,
              "solidity": 0.2
             }
            },
            "type": "barpolar"
           }
          ],
          "carpet": [
           {
            "aaxis": {
             "endlinecolor": "#2a3f5f",
             "gridcolor": "white",
             "linecolor": "white",
             "minorgridcolor": "white",
             "startlinecolor": "#2a3f5f"
            },
            "baxis": {
             "endlinecolor": "#2a3f5f",
             "gridcolor": "white",
             "linecolor": "white",
             "minorgridcolor": "white",
             "startlinecolor": "#2a3f5f"
            },
            "type": "carpet"
           }
          ],
          "choropleth": [
           {
            "colorbar": {
             "outlinewidth": 0,
             "ticks": ""
            },
            "type": "choropleth"
           }
          ],
          "contour": [
           {
            "colorbar": {
             "outlinewidth": 0,
             "ticks": ""
            },
            "colorscale": [
             [
              0,
              "#0d0887"
             ],
             [
              0.1111111111111111,
              "#46039f"
             ],
             [
              0.2222222222222222,
              "#7201a8"
             ],
             [
              0.3333333333333333,
              "#9c179e"
             ],
             [
              0.4444444444444444,
              "#bd3786"
             ],
             [
              0.5555555555555556,
              "#d8576b"
             ],
             [
              0.6666666666666666,
              "#ed7953"
             ],
             [
              0.7777777777777778,
              "#fb9f3a"
             ],
             [
              0.8888888888888888,
              "#fdca26"
             ],
             [
              1,
              "#f0f921"
             ]
            ],
            "type": "contour"
           }
          ],
          "contourcarpet": [
           {
            "colorbar": {
             "outlinewidth": 0,
             "ticks": ""
            },
            "type": "contourcarpet"
           }
          ],
          "heatmap": [
           {
            "colorbar": {
             "outlinewidth": 0,
             "ticks": ""
            },
            "colorscale": [
             [
              0,
              "#0d0887"
             ],
             [
              0.1111111111111111,
              "#46039f"
             ],
             [
              0.2222222222222222,
              "#7201a8"
             ],
             [
              0.3333333333333333,
              "#9c179e"
             ],
             [
              0.4444444444444444,
              "#bd3786"
             ],
             [
              0.5555555555555556,
              "#d8576b"
             ],
             [
              0.6666666666666666,
              "#ed7953"
             ],
             [
              0.7777777777777778,
              "#fb9f3a"
             ],
             [
              0.8888888888888888,
              "#fdca26"
             ],
             [
              1,
              "#f0f921"
             ]
            ],
            "type": "heatmap"
           }
          ],
          "heatmapgl": [
           {
            "colorbar": {
             "outlinewidth": 0,
             "ticks": ""
            },
            "colorscale": [
             [
              0,
              "#0d0887"
             ],
             [
              0.1111111111111111,
              "#46039f"
             ],
             [
              0.2222222222222222,
              "#7201a8"
             ],
             [
              0.3333333333333333,
              "#9c179e"
             ],
             [
              0.4444444444444444,
              "#bd3786"
             ],
             [
              0.5555555555555556,
              "#d8576b"
             ],
             [
              0.6666666666666666,
              "#ed7953"
             ],
             [
              0.7777777777777778,
              "#fb9f3a"
             ],
             [
              0.8888888888888888,
              "#fdca26"
             ],
             [
              1,
              "#f0f921"
             ]
            ],
            "type": "heatmapgl"
           }
          ],
          "histogram": [
           {
            "marker": {
             "pattern": {
              "fillmode": "overlay",
              "size": 10,
              "solidity": 0.2
             }
            },
            "type": "histogram"
           }
          ],
          "histogram2d": [
           {
            "colorbar": {
             "outlinewidth": 0,
             "ticks": ""
            },
            "colorscale": [
             [
              0,
              "#0d0887"
             ],
             [
              0.1111111111111111,
              "#46039f"
             ],
             [
              0.2222222222222222,
              "#7201a8"
             ],
             [
              0.3333333333333333,
              "#9c179e"
             ],
             [
              0.4444444444444444,
              "#bd3786"
             ],
             [
              0.5555555555555556,
              "#d8576b"
             ],
             [
              0.6666666666666666,
              "#ed7953"
             ],
             [
              0.7777777777777778,
              "#fb9f3a"
             ],
             [
              0.8888888888888888,
              "#fdca26"
             ],
             [
              1,
              "#f0f921"
             ]
            ],
            "type": "histogram2d"
           }
          ],
          "histogram2dcontour": [
           {
            "colorbar": {
             "outlinewidth": 0,
             "ticks": ""
            },
            "colorscale": [
             [
              0,
              "#0d0887"
             ],
             [
              0.1111111111111111,
              "#46039f"
             ],
             [
              0.2222222222222222,
              "#7201a8"
             ],
             [
              0.3333333333333333,
              "#9c179e"
             ],
             [
              0.4444444444444444,
              "#bd3786"
             ],
             [
              0.5555555555555556,
              "#d8576b"
             ],
             [
              0.6666666666666666,
              "#ed7953"
             ],
             [
              0.7777777777777778,
              "#fb9f3a"
             ],
             [
              0.8888888888888888,
              "#fdca26"
             ],
             [
              1,
              "#f0f921"
             ]
            ],
            "type": "histogram2dcontour"
           }
          ],
          "mesh3d": [
           {
            "colorbar": {
             "outlinewidth": 0,
             "ticks": ""
            },
            "type": "mesh3d"
           }
          ],
          "parcoords": [
           {
            "line": {
             "colorbar": {
              "outlinewidth": 0,
              "ticks": ""
             }
            },
            "type": "parcoords"
           }
          ],
          "pie": [
           {
            "automargin": true,
            "type": "pie"
           }
          ],
          "scatter": [
           {
            "fillpattern": {
             "fillmode": "overlay",
             "size": 10,
             "solidity": 0.2
            },
            "type": "scatter"
           }
          ],
          "scatter3d": [
           {
            "line": {
             "colorbar": {
              "outlinewidth": 0,
              "ticks": ""
             }
            },
            "marker": {
             "colorbar": {
              "outlinewidth": 0,
              "ticks": ""
             }
            },
            "type": "scatter3d"
           }
          ],
          "scattercarpet": [
           {
            "marker": {
             "colorbar": {
              "outlinewidth": 0,
              "ticks": ""
             }
            },
            "type": "scattercarpet"
           }
          ],
          "scattergeo": [
           {
            "marker": {
             "colorbar": {
              "outlinewidth": 0,
              "ticks": ""
             }
            },
            "type": "scattergeo"
           }
          ],
          "scattergl": [
           {
            "marker": {
             "colorbar": {
              "outlinewidth": 0,
              "ticks": ""
             }
            },
            "type": "scattergl"
           }
          ],
          "scattermapbox": [
           {
            "marker": {
             "colorbar": {
              "outlinewidth": 0,
              "ticks": ""
             }
            },
            "type": "scattermapbox"
           }
          ],
          "scatterpolar": [
           {
            "marker": {
             "colorbar": {
              "outlinewidth": 0,
              "ticks": ""
             }
            },
            "type": "scatterpolar"
           }
          ],
          "scatterpolargl": [
           {
            "marker": {
             "colorbar": {
              "outlinewidth": 0,
              "ticks": ""
             }
            },
            "type": "scatterpolargl"
           }
          ],
          "scatterternary": [
           {
            "marker": {
             "colorbar": {
              "outlinewidth": 0,
              "ticks": ""
             }
            },
            "type": "scatterternary"
           }
          ],
          "surface": [
           {
            "colorbar": {
             "outlinewidth": 0,
             "ticks": ""
            },
            "colorscale": [
             [
              0,
              "#0d0887"
             ],
             [
              0.1111111111111111,
              "#46039f"
             ],
             [
              0.2222222222222222,
              "#7201a8"
             ],
             [
              0.3333333333333333,
              "#9c179e"
             ],
             [
              0.4444444444444444,
              "#bd3786"
             ],
             [
              0.5555555555555556,
              "#d8576b"
             ],
             [
              0.6666666666666666,
              "#ed7953"
             ],
             [
              0.7777777777777778,
              "#fb9f3a"
             ],
             [
              0.8888888888888888,
              "#fdca26"
             ],
             [
              1,
              "#f0f921"
             ]
            ],
            "type": "surface"
           }
          ],
          "table": [
           {
            "cells": {
             "fill": {
              "color": "#EBF0F8"
             },
             "line": {
              "color": "white"
             }
            },
            "header": {
             "fill": {
              "color": "#C8D4E3"
             },
             "line": {
              "color": "white"
             }
            },
            "type": "table"
           }
          ]
         },
         "layout": {
          "annotationdefaults": {
           "arrowcolor": "#2a3f5f",
           "arrowhead": 0,
           "arrowwidth": 1
          },
          "autotypenumbers": "strict",
          "coloraxis": {
           "colorbar": {
            "outlinewidth": 0,
            "ticks": ""
           }
          },
          "colorscale": {
           "diverging": [
            [
             0,
             "#8e0152"
            ],
            [
             0.1,
             "#c51b7d"
            ],
            [
             0.2,
             "#de77ae"
            ],
            [
             0.3,
             "#f1b6da"
            ],
            [
             0.4,
             "#fde0ef"
            ],
            [
             0.5,
             "#f7f7f7"
            ],
            [
             0.6,
             "#e6f5d0"
            ],
            [
             0.7,
             "#b8e186"
            ],
            [
             0.8,
             "#7fbc41"
            ],
            [
             0.9,
             "#4d9221"
            ],
            [
             1,
             "#276419"
            ]
           ],
           "sequential": [
            [
             0,
             "#0d0887"
            ],
            [
             0.1111111111111111,
             "#46039f"
            ],
            [
             0.2222222222222222,
             "#7201a8"
            ],
            [
             0.3333333333333333,
             "#9c179e"
            ],
            [
             0.4444444444444444,
             "#bd3786"
            ],
            [
             0.5555555555555556,
             "#d8576b"
            ],
            [
             0.6666666666666666,
             "#ed7953"
            ],
            [
             0.7777777777777778,
             "#fb9f3a"
            ],
            [
             0.8888888888888888,
             "#fdca26"
            ],
            [
             1,
             "#f0f921"
            ]
           ],
           "sequentialminus": [
            [
             0,
             "#0d0887"
            ],
            [
             0.1111111111111111,
             "#46039f"
            ],
            [
             0.2222222222222222,
             "#7201a8"
            ],
            [
             0.3333333333333333,
             "#9c179e"
            ],
            [
             0.4444444444444444,
             "#bd3786"
            ],
            [
             0.5555555555555556,
             "#d8576b"
            ],
            [
             0.6666666666666666,
             "#ed7953"
            ],
            [
             0.7777777777777778,
             "#fb9f3a"
            ],
            [
             0.8888888888888888,
             "#fdca26"
            ],
            [
             1,
             "#f0f921"
            ]
           ]
          },
          "colorway": [
           "#636efa",
           "#EF553B",
           "#00cc96",
           "#ab63fa",
           "#FFA15A",
           "#19d3f3",
           "#FF6692",
           "#B6E880",
           "#FF97FF",
           "#FECB52"
          ],
          "font": {
           "color": "#2a3f5f"
          },
          "geo": {
           "bgcolor": "white",
           "lakecolor": "white",
           "landcolor": "#E5ECF6",
           "showlakes": true,
           "showland": true,
           "subunitcolor": "white"
          },
          "hoverlabel": {
           "align": "left"
          },
          "hovermode": "closest",
          "mapbox": {
           "style": "light"
          },
          "paper_bgcolor": "white",
          "plot_bgcolor": "#E5ECF6",
          "polar": {
           "angularaxis": {
            "gridcolor": "white",
            "linecolor": "white",
            "ticks": ""
           },
           "bgcolor": "#E5ECF6",
           "radialaxis": {
            "gridcolor": "white",
            "linecolor": "white",
            "ticks": ""
           }
          },
          "scene": {
           "xaxis": {
            "backgroundcolor": "#E5ECF6",
            "gridcolor": "white",
            "gridwidth": 2,
            "linecolor": "white",
            "showbackground": true,
            "ticks": "",
            "zerolinecolor": "white"
           },
           "yaxis": {
            "backgroundcolor": "#E5ECF6",
            "gridcolor": "white",
            "gridwidth": 2,
            "linecolor": "white",
            "showbackground": true,
            "ticks": "",
            "zerolinecolor": "white"
           },
           "zaxis": {
            "backgroundcolor": "#E5ECF6",
            "gridcolor": "white",
            "gridwidth": 2,
            "linecolor": "white",
            "showbackground": true,
            "ticks": "",
            "zerolinecolor": "white"
           }
          },
          "shapedefaults": {
           "line": {
            "color": "#2a3f5f"
           }
          },
          "ternary": {
           "aaxis": {
            "gridcolor": "white",
            "linecolor": "white",
            "ticks": ""
           },
           "baxis": {
            "gridcolor": "white",
            "linecolor": "white",
            "ticks": ""
           },
           "bgcolor": "#E5ECF6",
           "caxis": {
            "gridcolor": "white",
            "linecolor": "white",
            "ticks": ""
           }
          },
          "title": {
           "x": 0.05
          },
          "xaxis": {
           "automargin": true,
           "gridcolor": "white",
           "linecolor": "white",
           "ticks": "",
           "title": {
            "standoff": 15
           },
           "zerolinecolor": "white",
           "zerolinewidth": 2
          },
          "yaxis": {
           "automargin": true,
           "gridcolor": "white",
           "linecolor": "white",
           "ticks": "",
           "title": {
            "standoff": 15
           },
           "zerolinecolor": "white",
           "zerolinewidth": 2
          }
         }
        },
        "width": 900,
        "xaxis": {
         "anchor": "y",
         "domain": [
          0,
          1
         ],
         "title": {
          "text": "Personaje"
         }
        },
        "yaxis": {
         "anchor": "x",
         "domain": [
          0,
          1
         ],
         "title": {
          "text": "Tiempo total en pantalla"
         }
        }
       }
      }
     },
     "metadata": {},
     "output_type": "display_data"
    }
   ],
   "source": [
    "# Función que genera un gráfico de barras en Plotly y lo devuelve\n",
    "def generar_grafico_barras_df(cantidad):\n",
    "    # Obtener las etiquetas de las filas (índice) y valores de la última columna\n",
    "    data = char_movie_matrix.head(cantidad)\n",
    "    nombres_filas = data.index\n",
    "    valores_ultima_columna = data.iloc[:, -1]\n",
    "\n",
    "    # Crear un DataFrame con los datos\n",
    "    df = pd.DataFrame({'Personaje': nombres_filas, 'Tiempo total en pantalla': valores_ultima_columna})\n",
    "\n",
    "    # Crear el gráfico de barras con Plotly Express\n",
    "    fig = px.bar(\n",
    "        df,\n",
    "        x='Personaje',\n",
    "        y='Tiempo total en pantalla',\n",
    "        labels={'Personaje': 'Personaje', 'Tiempo total en pantalla': 'Tiempo total en pantalla'},\n",
    "        color_discrete_sequence=['rgb(179, 39, 14)'],  # Especifica el color de las barras\n",
    "        hover_data={'Personaje': True, 'Tiempo total en pantalla': True},  # Incluye datos adicionales para mostrar en el hover\n",
    "    )\n",
    "\n",
    "    # Personalizar el formato del hovertemplate\n",
    "    fig.update_traces(\n",
    "        hovertemplate='Personaje: %{x}<br>Tiempo total en pantalla: %{y}'\n",
    "    )\n",
    "\n",
    "    # Ajustar diseño del gráfico\n",
    "    fig.update_layout(height=500, width=900)\n",
    "\n",
    "    # Devolver el objeto de figura (Figure) en lugar de mostrarlo\n",
    "    return fig\n",
    "generar_grafico_barras_df(10)"
   ]
  },
  {
   "cell_type": "code",
   "execution_count": 152,
   "metadata": {},
   "outputs": [
    {
     "name": "stderr",
     "output_type": "stream",
     "text": [
      "C:\\Users\\lache\\AppData\\Local\\Temp\\ipykernel_17740\\228785087.py:2: FutureWarning:\n",
      "\n",
      "The frame.append method is deprecated and will be removed from pandas in a future version. Use pandas.concat instead.\n",
      "\n"
     ]
    },
    {
     "data": {
      "text/html": [
       "<div>\n",
       "<style scoped>\n",
       "    .dataframe tbody tr th:only-of-type {\n",
       "        vertical-align: middle;\n",
       "    }\n",
       "\n",
       "    .dataframe tbody tr th {\n",
       "        vertical-align: top;\n",
       "    }\n",
       "\n",
       "    .dataframe thead th {\n",
       "        text-align: right;\n",
       "    }\n",
       "</style>\n",
       "<table border=\"1\" class=\"dataframe\">\n",
       "  <thead>\n",
       "    <tr style=\"text-align: right;\">\n",
       "      <th></th>\n",
       "      <th>Iron Man</th>\n",
       "      <th>El increíble Hulk</th>\n",
       "      <th>Iron Man 2</th>\n",
       "      <th>Thor</th>\n",
       "      <th>Capitán América: El primer vengador</th>\n",
       "      <th>Los Vengadores</th>\n",
       "      <th>Iron Man 3</th>\n",
       "      <th>Marvel One-Shot: Agente Carter</th>\n",
       "      <th>Thor: El mundo oscuro</th>\n",
       "      <th>Capitán América: El Soldado de Invierno</th>\n",
       "      <th>...</th>\n",
       "      <th>Spider-Man: No Way Home</th>\n",
       "      <th>Caballero Luna</th>\n",
       "      <th>Doctor Strange en el multiverso de la locura</th>\n",
       "      <th>Ms. Marvel</th>\n",
       "      <th>Thor: Love and Thunder</th>\n",
       "      <th>She-Hulk: Abogada Hulka</th>\n",
       "      <th>La maldición del hombre lobo</th>\n",
       "      <th>Black Panther: Wakanda Forever</th>\n",
       "      <th>Guardianes de la Galaxia: Especial felices fiestas</th>\n",
       "      <th>Total de tiempo en pantalla</th>\n",
       "    </tr>\n",
       "  </thead>\n",
       "  <tbody>\n",
       "    <tr>\n",
       "      <th>Tony Stark / Iron Man</th>\n",
       "      <td>77.25</td>\n",
       "      <td>0.5</td>\n",
       "      <td>61.25</td>\n",
       "      <td>0.0</td>\n",
       "      <td>0.0</td>\n",
       "      <td>31.75</td>\n",
       "      <td>62.25</td>\n",
       "      <td>0.0</td>\n",
       "      <td>0.0</td>\n",
       "      <td>0.0</td>\n",
       "      <td>...</td>\n",
       "      <td>0.0</td>\n",
       "      <td>0.0</td>\n",
       "      <td>0.0</td>\n",
       "      <td>0.0</td>\n",
       "      <td>0.0</td>\n",
       "      <td>0.0</td>\n",
       "      <td>0.0</td>\n",
       "      <td>0.0</td>\n",
       "      <td>0.0</td>\n",
       "      <td>358.75</td>\n",
       "    </tr>\n",
       "    <tr>\n",
       "      <th>Thor</th>\n",
       "      <td>0.0</td>\n",
       "      <td>0.0</td>\n",
       "      <td>0.0</td>\n",
       "      <td>43.25</td>\n",
       "      <td>0.0</td>\n",
       "      <td>18.0</td>\n",
       "      <td>0.0</td>\n",
       "      <td>0.0</td>\n",
       "      <td>35.0</td>\n",
       "      <td>0.0</td>\n",
       "      <td>...</td>\n",
       "      <td>0.0</td>\n",
       "      <td>0.0</td>\n",
       "      <td>0.0</td>\n",
       "      <td>0.0</td>\n",
       "      <td>55.0</td>\n",
       "      <td>0.0</td>\n",
       "      <td>0.0</td>\n",
       "      <td>0.0</td>\n",
       "      <td>0.0</td>\n",
       "      <td>262.0</td>\n",
       "    </tr>\n",
       "    <tr>\n",
       "      <th>Peter Parker / Spider-Man</th>\n",
       "      <td>0.0</td>\n",
       "      <td>0.0</td>\n",
       "      <td>0.0</td>\n",
       "      <td>0.0</td>\n",
       "      <td>0.0</td>\n",
       "      <td>0.0</td>\n",
       "      <td>0.0</td>\n",
       "      <td>0.0</td>\n",
       "      <td>0.0</td>\n",
       "      <td>0.0</td>\n",
       "      <td>...</td>\n",
       "      <td>83.75</td>\n",
       "      <td>0.0</td>\n",
       "      <td>0.0</td>\n",
       "      <td>0.0</td>\n",
       "      <td>0.0</td>\n",
       "      <td>0.0</td>\n",
       "      <td>0.0</td>\n",
       "      <td>0.0</td>\n",
       "      <td>0.0</td>\n",
       "      <td>246.25</td>\n",
       "    </tr>\n",
       "    <tr>\n",
       "      <th>Steve Rogers</th>\n",
       "      <td>0.0</td>\n",
       "      <td>0.0</td>\n",
       "      <td>0.0</td>\n",
       "      <td>0.0</td>\n",
       "      <td>56.5</td>\n",
       "      <td>28.25</td>\n",
       "      <td>0.0</td>\n",
       "      <td>0.25</td>\n",
       "      <td>0.0</td>\n",
       "      <td>59.0</td>\n",
       "      <td>...</td>\n",
       "      <td>0.0</td>\n",
       "      <td>0.0</td>\n",
       "      <td>0.0</td>\n",
       "      <td>0.0</td>\n",
       "      <td>0.0</td>\n",
       "      <td>0.0</td>\n",
       "      <td>0.0</td>\n",
       "      <td>0.0</td>\n",
       "      <td>0.0</td>\n",
       "      <td>244.75</td>\n",
       "    </tr>\n",
       "    <tr>\n",
       "      <th>Loki</th>\n",
       "      <td>0.0</td>\n",
       "      <td>0.0</td>\n",
       "      <td>0.0</td>\n",
       "      <td>21.25</td>\n",
       "      <td>0.0</td>\n",
       "      <td>21.5</td>\n",
       "      <td>0.0</td>\n",
       "      <td>0.0</td>\n",
       "      <td>17.5</td>\n",
       "      <td>0.0</td>\n",
       "      <td>...</td>\n",
       "      <td>0.0</td>\n",
       "      <td>0.0</td>\n",
       "      <td>0.0</td>\n",
       "      <td>0.0</td>\n",
       "      <td>0.0</td>\n",
       "      <td>0.0</td>\n",
       "      <td>0.0</td>\n",
       "      <td>0.0</td>\n",
       "      <td>0.0</td>\n",
       "      <td>209.75</td>\n",
       "    </tr>\n",
       "    <tr>\n",
       "      <th>...</th>\n",
       "      <td>...</td>\n",
       "      <td>...</td>\n",
       "      <td>...</td>\n",
       "      <td>...</td>\n",
       "      <td>...</td>\n",
       "      <td>...</td>\n",
       "      <td>...</td>\n",
       "      <td>...</td>\n",
       "      <td>...</td>\n",
       "      <td>...</td>\n",
       "      <td>...</td>\n",
       "      <td>...</td>\n",
       "      <td>...</td>\n",
       "      <td>...</td>\n",
       "      <td>...</td>\n",
       "      <td>...</td>\n",
       "      <td>...</td>\n",
       "      <td>...</td>\n",
       "      <td>...</td>\n",
       "      <td>...</td>\n",
       "      <td>...</td>\n",
       "    </tr>\n",
       "    <tr>\n",
       "      <th>Edwin Jarvis</th>\n",
       "      <td>0.0</td>\n",
       "      <td>0.0</td>\n",
       "      <td>0.0</td>\n",
       "      <td>0.0</td>\n",
       "      <td>0.0</td>\n",
       "      <td>0.0</td>\n",
       "      <td>0.0</td>\n",
       "      <td>0.0</td>\n",
       "      <td>0.0</td>\n",
       "      <td>0.0</td>\n",
       "      <td>...</td>\n",
       "      <td>0.0</td>\n",
       "      <td>0.0</td>\n",
       "      <td>0.0</td>\n",
       "      <td>0.0</td>\n",
       "      <td>0.0</td>\n",
       "      <td>0.0</td>\n",
       "      <td>0.0</td>\n",
       "      <td>0.0</td>\n",
       "      <td>0.0</td>\n",
       "      <td>0.25</td>\n",
       "    </tr>\n",
       "    <tr>\n",
       "      <th>Aleta Ogord</th>\n",
       "      <td>0.0</td>\n",
       "      <td>0.0</td>\n",
       "      <td>0.0</td>\n",
       "      <td>0.0</td>\n",
       "      <td>0.0</td>\n",
       "      <td>0.0</td>\n",
       "      <td>0.0</td>\n",
       "      <td>0.0</td>\n",
       "      <td>0.0</td>\n",
       "      <td>0.0</td>\n",
       "      <td>...</td>\n",
       "      <td>0.0</td>\n",
       "      <td>0.0</td>\n",
       "      <td>0.0</td>\n",
       "      <td>0.0</td>\n",
       "      <td>0.0</td>\n",
       "      <td>0.0</td>\n",
       "      <td>0.0</td>\n",
       "      <td>0.0</td>\n",
       "      <td>0.0</td>\n",
       "      <td>0.25</td>\n",
       "    </tr>\n",
       "    <tr>\n",
       "      <th>Darryl</th>\n",
       "      <td>0.0</td>\n",
       "      <td>0.0</td>\n",
       "      <td>0.0</td>\n",
       "      <td>0.0</td>\n",
       "      <td>0.0</td>\n",
       "      <td>0.0</td>\n",
       "      <td>0.0</td>\n",
       "      <td>0.0</td>\n",
       "      <td>0.0</td>\n",
       "      <td>0.0</td>\n",
       "      <td>...</td>\n",
       "      <td>0.0</td>\n",
       "      <td>0.0</td>\n",
       "      <td>0.0</td>\n",
       "      <td>0.0</td>\n",
       "      <td>0.25</td>\n",
       "      <td>0.0</td>\n",
       "      <td>0.0</td>\n",
       "      <td>0.0</td>\n",
       "      <td>0.0</td>\n",
       "      <td>0.25</td>\n",
       "    </tr>\n",
       "    <tr>\n",
       "      <th>Serie</th>\n",
       "      <td>False</td>\n",
       "      <td>False</td>\n",
       "      <td>False</td>\n",
       "      <td>False</td>\n",
       "      <td>False</td>\n",
       "      <td>False</td>\n",
       "      <td>False</td>\n",
       "      <td>False</td>\n",
       "      <td>False</td>\n",
       "      <td>False</td>\n",
       "      <td>...</td>\n",
       "      <td>False</td>\n",
       "      <td>True</td>\n",
       "      <td>False</td>\n",
       "      <td>True</td>\n",
       "      <td>False</td>\n",
       "      <td>True</td>\n",
       "      <td>False</td>\n",
       "      <td>False</td>\n",
       "      <td>False</td>\n",
       "      <td>False</td>\n",
       "    </tr>\n",
       "    <tr>\n",
       "      <th>Fase</th>\n",
       "      <td>0</td>\n",
       "      <td>0</td>\n",
       "      <td>0</td>\n",
       "      <td>0</td>\n",
       "      <td>0</td>\n",
       "      <td>0</td>\n",
       "      <td>0</td>\n",
       "      <td>0</td>\n",
       "      <td>0</td>\n",
       "      <td>0</td>\n",
       "      <td>...</td>\n",
       "      <td>0</td>\n",
       "      <td>0</td>\n",
       "      <td>0</td>\n",
       "      <td>0</td>\n",
       "      <td>0</td>\n",
       "      <td>0</td>\n",
       "      <td>0</td>\n",
       "      <td>0</td>\n",
       "      <td>0</td>\n",
       "      <td>0</td>\n",
       "    </tr>\n",
       "  </tbody>\n",
       "</table>\n",
       "<p>407 rows × 41 columns</p>\n",
       "</div>"
      ],
      "text/plain": [
       "                          Iron Man El increíble Hulk Iron Man 2   Thor  \\\n",
       "Tony Stark / Iron Man        77.25               0.5      61.25    0.0   \n",
       "Thor                           0.0               0.0        0.0  43.25   \n",
       "Peter Parker / Spider-Man      0.0               0.0        0.0    0.0   \n",
       "Steve Rogers                   0.0               0.0        0.0    0.0   \n",
       "Loki                           0.0               0.0        0.0  21.25   \n",
       "...                            ...               ...        ...    ...   \n",
       "Edwin Jarvis                   0.0               0.0        0.0    0.0   \n",
       "Aleta Ogord                    0.0               0.0        0.0    0.0   \n",
       "Darryl                         0.0               0.0        0.0    0.0   \n",
       "Serie                        False             False      False  False   \n",
       "Fase                             0                 0          0      0   \n",
       "\n",
       "                          Capitán América: El primer vengador Los Vengadores  \\\n",
       "Tony Stark / Iron Man                                     0.0          31.75   \n",
       "Thor                                                      0.0           18.0   \n",
       "Peter Parker / Spider-Man                                 0.0            0.0   \n",
       "Steve Rogers                                             56.5          28.25   \n",
       "Loki                                                      0.0           21.5   \n",
       "...                                                       ...            ...   \n",
       "Edwin Jarvis                                              0.0            0.0   \n",
       "Aleta Ogord                                               0.0            0.0   \n",
       "Darryl                                                    0.0            0.0   \n",
       "Serie                                                   False          False   \n",
       "Fase                                                        0              0   \n",
       "\n",
       "                          Iron Man 3 Marvel One-Shot: Agente Carter  \\\n",
       "Tony Stark / Iron Man          62.25                            0.0   \n",
       "Thor                             0.0                            0.0   \n",
       "Peter Parker / Spider-Man        0.0                            0.0   \n",
       "Steve Rogers                     0.0                           0.25   \n",
       "Loki                             0.0                            0.0   \n",
       "...                              ...                            ...   \n",
       "Edwin Jarvis                     0.0                            0.0   \n",
       "Aleta Ogord                      0.0                            0.0   \n",
       "Darryl                           0.0                            0.0   \n",
       "Serie                          False                          False   \n",
       "Fase                               0                              0   \n",
       "\n",
       "                          Thor: El mundo oscuro  \\\n",
       "Tony Stark / Iron Man                       0.0   \n",
       "Thor                                       35.0   \n",
       "Peter Parker / Spider-Man                   0.0   \n",
       "Steve Rogers                                0.0   \n",
       "Loki                                       17.5   \n",
       "...                                         ...   \n",
       "Edwin Jarvis                                0.0   \n",
       "Aleta Ogord                                 0.0   \n",
       "Darryl                                      0.0   \n",
       "Serie                                     False   \n",
       "Fase                                          0   \n",
       "\n",
       "                          Capitán América: El Soldado de Invierno  ...  \\\n",
       "Tony Stark / Iron Man                                         0.0  ...   \n",
       "Thor                                                          0.0  ...   \n",
       "Peter Parker / Spider-Man                                     0.0  ...   \n",
       "Steve Rogers                                                 59.0  ...   \n",
       "Loki                                                          0.0  ...   \n",
       "...                                                           ...  ...   \n",
       "Edwin Jarvis                                                  0.0  ...   \n",
       "Aleta Ogord                                                   0.0  ...   \n",
       "Darryl                                                        0.0  ...   \n",
       "Serie                                                       False  ...   \n",
       "Fase                                                            0  ...   \n",
       "\n",
       "                          Spider-Man: No Way Home Caballero Luna  \\\n",
       "Tony Stark / Iron Man                         0.0            0.0   \n",
       "Thor                                          0.0            0.0   \n",
       "Peter Parker / Spider-Man                   83.75            0.0   \n",
       "Steve Rogers                                  0.0            0.0   \n",
       "Loki                                          0.0            0.0   \n",
       "...                                           ...            ...   \n",
       "Edwin Jarvis                                  0.0            0.0   \n",
       "Aleta Ogord                                   0.0            0.0   \n",
       "Darryl                                        0.0            0.0   \n",
       "Serie                                       False           True   \n",
       "Fase                                            0              0   \n",
       "\n",
       "                          Doctor Strange en el multiverso de la locura  \\\n",
       "Tony Stark / Iron Man                                              0.0   \n",
       "Thor                                                               0.0   \n",
       "Peter Parker / Spider-Man                                          0.0   \n",
       "Steve Rogers                                                       0.0   \n",
       "Loki                                                               0.0   \n",
       "...                                                                ...   \n",
       "Edwin Jarvis                                                       0.0   \n",
       "Aleta Ogord                                                        0.0   \n",
       "Darryl                                                             0.0   \n",
       "Serie                                                            False   \n",
       "Fase                                                                 0   \n",
       "\n",
       "                          Ms. Marvel Thor: Love and Thunder  \\\n",
       "Tony Stark / Iron Man            0.0                    0.0   \n",
       "Thor                             0.0                   55.0   \n",
       "Peter Parker / Spider-Man        0.0                    0.0   \n",
       "Steve Rogers                     0.0                    0.0   \n",
       "Loki                             0.0                    0.0   \n",
       "...                              ...                    ...   \n",
       "Edwin Jarvis                     0.0                    0.0   \n",
       "Aleta Ogord                      0.0                    0.0   \n",
       "Darryl                           0.0                   0.25   \n",
       "Serie                           True                  False   \n",
       "Fase                               0                      0   \n",
       "\n",
       "                          She-Hulk: Abogada Hulka  \\\n",
       "Tony Stark / Iron Man                         0.0   \n",
       "Thor                                          0.0   \n",
       "Peter Parker / Spider-Man                     0.0   \n",
       "Steve Rogers                                  0.0   \n",
       "Loki                                          0.0   \n",
       "...                                           ...   \n",
       "Edwin Jarvis                                  0.0   \n",
       "Aleta Ogord                                   0.0   \n",
       "Darryl                                        0.0   \n",
       "Serie                                        True   \n",
       "Fase                                            0   \n",
       "\n",
       "                          La maldición del hombre lobo  \\\n",
       "Tony Stark / Iron Man                              0.0   \n",
       "Thor                                               0.0   \n",
       "Peter Parker / Spider-Man                          0.0   \n",
       "Steve Rogers                                       0.0   \n",
       "Loki                                               0.0   \n",
       "...                                                ...   \n",
       "Edwin Jarvis                                       0.0   \n",
       "Aleta Ogord                                        0.0   \n",
       "Darryl                                             0.0   \n",
       "Serie                                            False   \n",
       "Fase                                                 0   \n",
       "\n",
       "                          Black Panther: Wakanda Forever  \\\n",
       "Tony Stark / Iron Man                                0.0   \n",
       "Thor                                                 0.0   \n",
       "Peter Parker / Spider-Man                            0.0   \n",
       "Steve Rogers                                         0.0   \n",
       "Loki                                                 0.0   \n",
       "...                                                  ...   \n",
       "Edwin Jarvis                                         0.0   \n",
       "Aleta Ogord                                          0.0   \n",
       "Darryl                                               0.0   \n",
       "Serie                                              False   \n",
       "Fase                                                   0   \n",
       "\n",
       "                          Guardianes de la Galaxia: Especial felices fiestas  \\\n",
       "Tony Stark / Iron Man                                                    0.0   \n",
       "Thor                                                                     0.0   \n",
       "Peter Parker / Spider-Man                                                0.0   \n",
       "Steve Rogers                                                             0.0   \n",
       "Loki                                                                     0.0   \n",
       "...                                                                      ...   \n",
       "Edwin Jarvis                                                             0.0   \n",
       "Aleta Ogord                                                              0.0   \n",
       "Darryl                                                                   0.0   \n",
       "Serie                                                                  False   \n",
       "Fase                                                                       0   \n",
       "\n",
       "                          Total de tiempo en pantalla  \n",
       "Tony Stark / Iron Man                          358.75  \n",
       "Thor                                            262.0  \n",
       "Peter Parker / Spider-Man                      246.25  \n",
       "Steve Rogers                                   244.75  \n",
       "Loki                                           209.75  \n",
       "...                                               ...  \n",
       "Edwin Jarvis                                     0.25  \n",
       "Aleta Ogord                                      0.25  \n",
       "Darryl                                           0.25  \n",
       "Serie                                           False  \n",
       "Fase                                                0  \n",
       "\n",
       "[407 rows x 41 columns]"
      ]
     },
     "execution_count": 152,
     "metadata": {},
     "output_type": "execute_result"
    }
   ],
   "source": [
    "nueva_fila = pd.Series([0] * len(char_movie_matrix.columns), index=char_movie_matrix.columns, name='Fase')\n",
    "char_movie_matrix = char_movie_matrix.append(nueva_fila, ignore_index=False)\n",
    "\n",
    "char_movie_matrix"
   ]
  },
  {
   "cell_type": "code",
   "execution_count": 167,
   "metadata": {},
   "outputs": [
    {
     "data": {
      "text/html": [
       "<div>\n",
       "<style scoped>\n",
       "    .dataframe tbody tr th:only-of-type {\n",
       "        vertical-align: middle;\n",
       "    }\n",
       "\n",
       "    .dataframe tbody tr th {\n",
       "        vertical-align: top;\n",
       "    }\n",
       "\n",
       "    .dataframe thead th {\n",
       "        text-align: right;\n",
       "    }\n",
       "</style>\n",
       "<table border=\"1\" class=\"dataframe\">\n",
       "  <thead>\n",
       "    <tr style=\"text-align: right;\">\n",
       "      <th></th>\n",
       "      <th>Iron Man</th>\n",
       "      <th>El increíble Hulk</th>\n",
       "      <th>Iron Man 2</th>\n",
       "      <th>Thor</th>\n",
       "      <th>Capitán América: El primer vengador</th>\n",
       "      <th>Los Vengadores</th>\n",
       "      <th>Iron Man 3</th>\n",
       "      <th>Marvel One-Shot: Agente Carter</th>\n",
       "      <th>Thor: El mundo oscuro</th>\n",
       "      <th>Capitán América: El Soldado de Invierno</th>\n",
       "      <th>...</th>\n",
       "      <th>Spider-Man: No Way Home</th>\n",
       "      <th>Caballero Luna</th>\n",
       "      <th>Doctor Strange en el multiverso de la locura</th>\n",
       "      <th>Ms. Marvel</th>\n",
       "      <th>Thor: Love and Thunder</th>\n",
       "      <th>She-Hulk: Abogada Hulka</th>\n",
       "      <th>La maldición del hombre lobo</th>\n",
       "      <th>Black Panther: Wakanda Forever</th>\n",
       "      <th>Guardianes de la Galaxia: Especial felices fiestas</th>\n",
       "      <th>Total de tiempo en pantalla</th>\n",
       "    </tr>\n",
       "  </thead>\n",
       "  <tbody>\n",
       "    <tr>\n",
       "      <th>Tony Stark / Iron Man</th>\n",
       "      <td>77.25</td>\n",
       "      <td>0.5</td>\n",
       "      <td>61.25</td>\n",
       "      <td>0.0</td>\n",
       "      <td>0.0</td>\n",
       "      <td>31.75</td>\n",
       "      <td>62.25</td>\n",
       "      <td>0.0</td>\n",
       "      <td>0.0</td>\n",
       "      <td>0.0</td>\n",
       "      <td>...</td>\n",
       "      <td>0.0</td>\n",
       "      <td>0.0</td>\n",
       "      <td>0.0</td>\n",
       "      <td>0.0</td>\n",
       "      <td>0.0</td>\n",
       "      <td>0.0</td>\n",
       "      <td>0.0</td>\n",
       "      <td>0.0</td>\n",
       "      <td>0.0</td>\n",
       "      <td>358.75</td>\n",
       "    </tr>\n",
       "    <tr>\n",
       "      <th>Thor</th>\n",
       "      <td>0.0</td>\n",
       "      <td>0.0</td>\n",
       "      <td>0.0</td>\n",
       "      <td>43.25</td>\n",
       "      <td>0.0</td>\n",
       "      <td>18.0</td>\n",
       "      <td>0.0</td>\n",
       "      <td>0.0</td>\n",
       "      <td>35.0</td>\n",
       "      <td>0.0</td>\n",
       "      <td>...</td>\n",
       "      <td>0.0</td>\n",
       "      <td>0.0</td>\n",
       "      <td>0.0</td>\n",
       "      <td>0.0</td>\n",
       "      <td>55.0</td>\n",
       "      <td>0.0</td>\n",
       "      <td>0.0</td>\n",
       "      <td>0.0</td>\n",
       "      <td>0.0</td>\n",
       "      <td>262.0</td>\n",
       "    </tr>\n",
       "    <tr>\n",
       "      <th>Peter Parker / Spider-Man</th>\n",
       "      <td>0.0</td>\n",
       "      <td>0.0</td>\n",
       "      <td>0.0</td>\n",
       "      <td>0.0</td>\n",
       "      <td>0.0</td>\n",
       "      <td>0.0</td>\n",
       "      <td>0.0</td>\n",
       "      <td>0.0</td>\n",
       "      <td>0.0</td>\n",
       "      <td>0.0</td>\n",
       "      <td>...</td>\n",
       "      <td>83.75</td>\n",
       "      <td>0.0</td>\n",
       "      <td>0.0</td>\n",
       "      <td>0.0</td>\n",
       "      <td>0.0</td>\n",
       "      <td>0.0</td>\n",
       "      <td>0.0</td>\n",
       "      <td>0.0</td>\n",
       "      <td>0.0</td>\n",
       "      <td>246.25</td>\n",
       "    </tr>\n",
       "    <tr>\n",
       "      <th>Steve Rogers</th>\n",
       "      <td>0.0</td>\n",
       "      <td>0.0</td>\n",
       "      <td>0.0</td>\n",
       "      <td>0.0</td>\n",
       "      <td>56.5</td>\n",
       "      <td>28.25</td>\n",
       "      <td>0.0</td>\n",
       "      <td>0.25</td>\n",
       "      <td>0.0</td>\n",
       "      <td>59.0</td>\n",
       "      <td>...</td>\n",
       "      <td>0.0</td>\n",
       "      <td>0.0</td>\n",
       "      <td>0.0</td>\n",
       "      <td>0.0</td>\n",
       "      <td>0.0</td>\n",
       "      <td>0.0</td>\n",
       "      <td>0.0</td>\n",
       "      <td>0.0</td>\n",
       "      <td>0.0</td>\n",
       "      <td>244.75</td>\n",
       "    </tr>\n",
       "    <tr>\n",
       "      <th>Loki</th>\n",
       "      <td>0.0</td>\n",
       "      <td>0.0</td>\n",
       "      <td>0.0</td>\n",
       "      <td>21.25</td>\n",
       "      <td>0.0</td>\n",
       "      <td>21.5</td>\n",
       "      <td>0.0</td>\n",
       "      <td>0.0</td>\n",
       "      <td>17.5</td>\n",
       "      <td>0.0</td>\n",
       "      <td>...</td>\n",
       "      <td>0.0</td>\n",
       "      <td>0.0</td>\n",
       "      <td>0.0</td>\n",
       "      <td>0.0</td>\n",
       "      <td>0.0</td>\n",
       "      <td>0.0</td>\n",
       "      <td>0.0</td>\n",
       "      <td>0.0</td>\n",
       "      <td>0.0</td>\n",
       "      <td>209.75</td>\n",
       "    </tr>\n",
       "    <tr>\n",
       "      <th>...</th>\n",
       "      <td>...</td>\n",
       "      <td>...</td>\n",
       "      <td>...</td>\n",
       "      <td>...</td>\n",
       "      <td>...</td>\n",
       "      <td>...</td>\n",
       "      <td>...</td>\n",
       "      <td>...</td>\n",
       "      <td>...</td>\n",
       "      <td>...</td>\n",
       "      <td>...</td>\n",
       "      <td>...</td>\n",
       "      <td>...</td>\n",
       "      <td>...</td>\n",
       "      <td>...</td>\n",
       "      <td>...</td>\n",
       "      <td>...</td>\n",
       "      <td>...</td>\n",
       "      <td>...</td>\n",
       "      <td>...</td>\n",
       "      <td>...</td>\n",
       "    </tr>\n",
       "    <tr>\n",
       "      <th>Edwin Jarvis</th>\n",
       "      <td>0.0</td>\n",
       "      <td>0.0</td>\n",
       "      <td>0.0</td>\n",
       "      <td>0.0</td>\n",
       "      <td>0.0</td>\n",
       "      <td>0.0</td>\n",
       "      <td>0.0</td>\n",
       "      <td>0.0</td>\n",
       "      <td>0.0</td>\n",
       "      <td>0.0</td>\n",
       "      <td>...</td>\n",
       "      <td>0.0</td>\n",
       "      <td>0.0</td>\n",
       "      <td>0.0</td>\n",
       "      <td>0.0</td>\n",
       "      <td>0.0</td>\n",
       "      <td>0.0</td>\n",
       "      <td>0.0</td>\n",
       "      <td>0.0</td>\n",
       "      <td>0.0</td>\n",
       "      <td>0.25</td>\n",
       "    </tr>\n",
       "    <tr>\n",
       "      <th>Aleta Ogord</th>\n",
       "      <td>0.0</td>\n",
       "      <td>0.0</td>\n",
       "      <td>0.0</td>\n",
       "      <td>0.0</td>\n",
       "      <td>0.0</td>\n",
       "      <td>0.0</td>\n",
       "      <td>0.0</td>\n",
       "      <td>0.0</td>\n",
       "      <td>0.0</td>\n",
       "      <td>0.0</td>\n",
       "      <td>...</td>\n",
       "      <td>0.0</td>\n",
       "      <td>0.0</td>\n",
       "      <td>0.0</td>\n",
       "      <td>0.0</td>\n",
       "      <td>0.0</td>\n",
       "      <td>0.0</td>\n",
       "      <td>0.0</td>\n",
       "      <td>0.0</td>\n",
       "      <td>0.0</td>\n",
       "      <td>0.25</td>\n",
       "    </tr>\n",
       "    <tr>\n",
       "      <th>Darryl</th>\n",
       "      <td>0.0</td>\n",
       "      <td>0.0</td>\n",
       "      <td>0.0</td>\n",
       "      <td>0.0</td>\n",
       "      <td>0.0</td>\n",
       "      <td>0.0</td>\n",
       "      <td>0.0</td>\n",
       "      <td>0.0</td>\n",
       "      <td>0.0</td>\n",
       "      <td>0.0</td>\n",
       "      <td>...</td>\n",
       "      <td>0.0</td>\n",
       "      <td>0.0</td>\n",
       "      <td>0.0</td>\n",
       "      <td>0.0</td>\n",
       "      <td>0.25</td>\n",
       "      <td>0.0</td>\n",
       "      <td>0.0</td>\n",
       "      <td>0.0</td>\n",
       "      <td>0.0</td>\n",
       "      <td>0.25</td>\n",
       "    </tr>\n",
       "    <tr>\n",
       "      <th>Serie</th>\n",
       "      <td>False</td>\n",
       "      <td>False</td>\n",
       "      <td>False</td>\n",
       "      <td>False</td>\n",
       "      <td>False</td>\n",
       "      <td>False</td>\n",
       "      <td>False</td>\n",
       "      <td>False</td>\n",
       "      <td>False</td>\n",
       "      <td>False</td>\n",
       "      <td>...</td>\n",
       "      <td>False</td>\n",
       "      <td>True</td>\n",
       "      <td>False</td>\n",
       "      <td>True</td>\n",
       "      <td>False</td>\n",
       "      <td>True</td>\n",
       "      <td>False</td>\n",
       "      <td>False</td>\n",
       "      <td>False</td>\n",
       "      <td>False</td>\n",
       "    </tr>\n",
       "    <tr>\n",
       "      <th>Fase</th>\n",
       "      <td>1</td>\n",
       "      <td>1</td>\n",
       "      <td>1</td>\n",
       "      <td>1</td>\n",
       "      <td>1</td>\n",
       "      <td>2</td>\n",
       "      <td>2</td>\n",
       "      <td>2</td>\n",
       "      <td>2</td>\n",
       "      <td>2</td>\n",
       "      <td>...</td>\n",
       "      <td>4</td>\n",
       "      <td>4</td>\n",
       "      <td>4</td>\n",
       "      <td>4</td>\n",
       "      <td>4</td>\n",
       "      <td>4</td>\n",
       "      <td>4</td>\n",
       "      <td>4</td>\n",
       "      <td>4</td>\n",
       "      <td>4</td>\n",
       "    </tr>\n",
       "  </tbody>\n",
       "</table>\n",
       "<p>407 rows × 41 columns</p>\n",
       "</div>"
      ],
      "text/plain": [
       "                          Iron Man El increíble Hulk Iron Man 2   Thor  \\\n",
       "Tony Stark / Iron Man        77.25               0.5      61.25    0.0   \n",
       "Thor                           0.0               0.0        0.0  43.25   \n",
       "Peter Parker / Spider-Man      0.0               0.0        0.0    0.0   \n",
       "Steve Rogers                   0.0               0.0        0.0    0.0   \n",
       "Loki                           0.0               0.0        0.0  21.25   \n",
       "...                            ...               ...        ...    ...   \n",
       "Edwin Jarvis                   0.0               0.0        0.0    0.0   \n",
       "Aleta Ogord                    0.0               0.0        0.0    0.0   \n",
       "Darryl                         0.0               0.0        0.0    0.0   \n",
       "Serie                        False             False      False  False   \n",
       "Fase                             1                 1          1      1   \n",
       "\n",
       "                          Capitán América: El primer vengador Los Vengadores  \\\n",
       "Tony Stark / Iron Man                                     0.0          31.75   \n",
       "Thor                                                      0.0           18.0   \n",
       "Peter Parker / Spider-Man                                 0.0            0.0   \n",
       "Steve Rogers                                             56.5          28.25   \n",
       "Loki                                                      0.0           21.5   \n",
       "...                                                       ...            ...   \n",
       "Edwin Jarvis                                              0.0            0.0   \n",
       "Aleta Ogord                                               0.0            0.0   \n",
       "Darryl                                                    0.0            0.0   \n",
       "Serie                                                   False          False   \n",
       "Fase                                                        1              2   \n",
       "\n",
       "                          Iron Man 3 Marvel One-Shot: Agente Carter  \\\n",
       "Tony Stark / Iron Man          62.25                            0.0   \n",
       "Thor                             0.0                            0.0   \n",
       "Peter Parker / Spider-Man        0.0                            0.0   \n",
       "Steve Rogers                     0.0                           0.25   \n",
       "Loki                             0.0                            0.0   \n",
       "...                              ...                            ...   \n",
       "Edwin Jarvis                     0.0                            0.0   \n",
       "Aleta Ogord                      0.0                            0.0   \n",
       "Darryl                           0.0                            0.0   \n",
       "Serie                          False                          False   \n",
       "Fase                               2                              2   \n",
       "\n",
       "                          Thor: El mundo oscuro  \\\n",
       "Tony Stark / Iron Man                       0.0   \n",
       "Thor                                       35.0   \n",
       "Peter Parker / Spider-Man                   0.0   \n",
       "Steve Rogers                                0.0   \n",
       "Loki                                       17.5   \n",
       "...                                         ...   \n",
       "Edwin Jarvis                                0.0   \n",
       "Aleta Ogord                                 0.0   \n",
       "Darryl                                      0.0   \n",
       "Serie                                     False   \n",
       "Fase                                          2   \n",
       "\n",
       "                          Capitán América: El Soldado de Invierno  ...  \\\n",
       "Tony Stark / Iron Man                                         0.0  ...   \n",
       "Thor                                                          0.0  ...   \n",
       "Peter Parker / Spider-Man                                     0.0  ...   \n",
       "Steve Rogers                                                 59.0  ...   \n",
       "Loki                                                          0.0  ...   \n",
       "...                                                           ...  ...   \n",
       "Edwin Jarvis                                                  0.0  ...   \n",
       "Aleta Ogord                                                   0.0  ...   \n",
       "Darryl                                                        0.0  ...   \n",
       "Serie                                                       False  ...   \n",
       "Fase                                                            2  ...   \n",
       "\n",
       "                          Spider-Man: No Way Home Caballero Luna  \\\n",
       "Tony Stark / Iron Man                         0.0            0.0   \n",
       "Thor                                          0.0            0.0   \n",
       "Peter Parker / Spider-Man                   83.75            0.0   \n",
       "Steve Rogers                                  0.0            0.0   \n",
       "Loki                                          0.0            0.0   \n",
       "...                                           ...            ...   \n",
       "Edwin Jarvis                                  0.0            0.0   \n",
       "Aleta Ogord                                   0.0            0.0   \n",
       "Darryl                                        0.0            0.0   \n",
       "Serie                                       False           True   \n",
       "Fase                                            4              4   \n",
       "\n",
       "                          Doctor Strange en el multiverso de la locura  \\\n",
       "Tony Stark / Iron Man                                              0.0   \n",
       "Thor                                                               0.0   \n",
       "Peter Parker / Spider-Man                                          0.0   \n",
       "Steve Rogers                                                       0.0   \n",
       "Loki                                                               0.0   \n",
       "...                                                                ...   \n",
       "Edwin Jarvis                                                       0.0   \n",
       "Aleta Ogord                                                        0.0   \n",
       "Darryl                                                             0.0   \n",
       "Serie                                                            False   \n",
       "Fase                                                                 4   \n",
       "\n",
       "                          Ms. Marvel Thor: Love and Thunder  \\\n",
       "Tony Stark / Iron Man            0.0                    0.0   \n",
       "Thor                             0.0                   55.0   \n",
       "Peter Parker / Spider-Man        0.0                    0.0   \n",
       "Steve Rogers                     0.0                    0.0   \n",
       "Loki                             0.0                    0.0   \n",
       "...                              ...                    ...   \n",
       "Edwin Jarvis                     0.0                    0.0   \n",
       "Aleta Ogord                      0.0                    0.0   \n",
       "Darryl                           0.0                   0.25   \n",
       "Serie                           True                  False   \n",
       "Fase                               4                      4   \n",
       "\n",
       "                          She-Hulk: Abogada Hulka  \\\n",
       "Tony Stark / Iron Man                         0.0   \n",
       "Thor                                          0.0   \n",
       "Peter Parker / Spider-Man                     0.0   \n",
       "Steve Rogers                                  0.0   \n",
       "Loki                                          0.0   \n",
       "...                                           ...   \n",
       "Edwin Jarvis                                  0.0   \n",
       "Aleta Ogord                                   0.0   \n",
       "Darryl                                        0.0   \n",
       "Serie                                        True   \n",
       "Fase                                            4   \n",
       "\n",
       "                          La maldición del hombre lobo  \\\n",
       "Tony Stark / Iron Man                              0.0   \n",
       "Thor                                               0.0   \n",
       "Peter Parker / Spider-Man                          0.0   \n",
       "Steve Rogers                                       0.0   \n",
       "Loki                                               0.0   \n",
       "...                                                ...   \n",
       "Edwin Jarvis                                       0.0   \n",
       "Aleta Ogord                                        0.0   \n",
       "Darryl                                             0.0   \n",
       "Serie                                            False   \n",
       "Fase                                                 4   \n",
       "\n",
       "                          Black Panther: Wakanda Forever  \\\n",
       "Tony Stark / Iron Man                                0.0   \n",
       "Thor                                                 0.0   \n",
       "Peter Parker / Spider-Man                            0.0   \n",
       "Steve Rogers                                         0.0   \n",
       "Loki                                                 0.0   \n",
       "...                                                  ...   \n",
       "Edwin Jarvis                                         0.0   \n",
       "Aleta Ogord                                          0.0   \n",
       "Darryl                                               0.0   \n",
       "Serie                                              False   \n",
       "Fase                                                   4   \n",
       "\n",
       "                          Guardianes de la Galaxia: Especial felices fiestas  \\\n",
       "Tony Stark / Iron Man                                                    0.0   \n",
       "Thor                                                                     0.0   \n",
       "Peter Parker / Spider-Man                                                0.0   \n",
       "Steve Rogers                                                             0.0   \n",
       "Loki                                                                     0.0   \n",
       "...                                                                      ...   \n",
       "Edwin Jarvis                                                             0.0   \n",
       "Aleta Ogord                                                              0.0   \n",
       "Darryl                                                                   0.0   \n",
       "Serie                                                                  False   \n",
       "Fase                                                                       4   \n",
       "\n",
       "                          Total de tiempo en pantalla  \n",
       "Tony Stark / Iron Man                          358.75  \n",
       "Thor                                            262.0  \n",
       "Peter Parker / Spider-Man                      246.25  \n",
       "Steve Rogers                                   244.75  \n",
       "Loki                                           209.75  \n",
       "...                                               ...  \n",
       "Edwin Jarvis                                     0.25  \n",
       "Aleta Ogord                                      0.25  \n",
       "Darryl                                           0.25  \n",
       "Serie                                           False  \n",
       "Fase                                                4  \n",
       "\n",
       "[407 rows x 41 columns]"
      ]
     },
     "execution_count": 167,
     "metadata": {},
     "output_type": "execute_result"
    }
   ],
   "source": [
    "for i in char_movie_matrix.columns:\n",
    "    if i in char_movie_matrix.loc[:,'Iron Man':'Los Vengadores'].columns:\n",
    "        char_movie_matrix.loc['Fase', i] = 1\n",
    "    if i in char_movie_matrix.loc[:,'Los Vengadores':'Ant-Man'].columns:\n",
    "        char_movie_matrix.loc['Fase', i] = 2\n",
    "    if i in char_movie_matrix.loc[:,'Capitán América: Civil War':'Spider-Man: Lejos de casa'].columns:\n",
    "        char_movie_matrix.loc['Fase', i] = 3\n",
    "    if i in char_movie_matrix.loc[:,'Bruja Escarlata y Visión' : 'Guardianes de la Galaxia: Especial felices fiestas'].columns:\n",
    "        char_movie_matrix.loc['Fase', i] = 4\n",
    "\n",
    "\n",
    "char_movie_matrix\n",
    "\n"
   ]
  },
  {
   "cell_type": "code",
   "execution_count": 161,
   "metadata": {},
   "outputs": [
    {
     "data": {
      "text/plain": [
       "Index(['Iron Man', 'El increíble Hulk', 'Iron Man 2', 'Thor'], dtype='object')"
      ]
     },
     "execution_count": 161,
     "metadata": {},
     "output_type": "execute_result"
    }
   ],
   "source": [
    "char_movie_matrix.loc[:,'Iron Man':'Thor'].columns"
   ]
  },
  {
   "cell_type": "code",
   "execution_count": 146,
   "metadata": {},
   "outputs": [
    {
     "data": {
      "text/html": [
       "<div>\n",
       "<style scoped>\n",
       "    .dataframe tbody tr th:only-of-type {\n",
       "        vertical-align: middle;\n",
       "    }\n",
       "\n",
       "    .dataframe tbody tr th {\n",
       "        vertical-align: top;\n",
       "    }\n",
       "\n",
       "    .dataframe thead th {\n",
       "        text-align: right;\n",
       "    }\n",
       "</style>\n",
       "<table border=\"1\" class=\"dataframe\">\n",
       "  <thead>\n",
       "    <tr style=\"text-align: right;\">\n",
       "      <th></th>\n",
       "      <th>Iron Man</th>\n",
       "      <th>El increíble Hulk</th>\n",
       "      <th>Iron Man 2</th>\n",
       "      <th>Thor</th>\n",
       "      <th>Capitán América: El primer vengador</th>\n",
       "      <th>Los Vengadores</th>\n",
       "      <th>Iron Man 3</th>\n",
       "      <th>Marvel One-Shot: Agente Carter</th>\n",
       "      <th>Thor: El mundo oscuro</th>\n",
       "      <th>Capitán América: El Soldado de Invierno</th>\n",
       "      <th>...</th>\n",
       "      <th>Viuda Negra</th>\n",
       "      <th>Shang-Chi y la leyenda de los diez anillos</th>\n",
       "      <th>Eternals</th>\n",
       "      <th>Spider-Man: No Way Home</th>\n",
       "      <th>Doctor Strange en el multiverso de la locura</th>\n",
       "      <th>Thor: Love and Thunder</th>\n",
       "      <th>La maldición del hombre lobo</th>\n",
       "      <th>Black Panther: Wakanda Forever</th>\n",
       "      <th>Guardianes de la Galaxia: Especial felices fiestas</th>\n",
       "      <th>Total de tiempo en pantalla</th>\n",
       "    </tr>\n",
       "  </thead>\n",
       "  <tbody>\n",
       "    <tr>\n",
       "      <th>Tony Stark / Iron Man</th>\n",
       "      <td>77.25</td>\n",
       "      <td>0.5</td>\n",
       "      <td>61.25</td>\n",
       "      <td>0.0</td>\n",
       "      <td>0.0</td>\n",
       "      <td>31.75</td>\n",
       "      <td>62.25</td>\n",
       "      <td>0.0</td>\n",
       "      <td>0.0</td>\n",
       "      <td>0.0</td>\n",
       "      <td>...</td>\n",
       "      <td>0.0</td>\n",
       "      <td>0.0</td>\n",
       "      <td>0.0</td>\n",
       "      <td>0.0</td>\n",
       "      <td>0.0</td>\n",
       "      <td>0.0</td>\n",
       "      <td>0.0</td>\n",
       "      <td>0.0</td>\n",
       "      <td>0.0</td>\n",
       "      <td>358.75</td>\n",
       "    </tr>\n",
       "    <tr>\n",
       "      <th>Thor</th>\n",
       "      <td>0.0</td>\n",
       "      <td>0.0</td>\n",
       "      <td>0.0</td>\n",
       "      <td>43.25</td>\n",
       "      <td>0.0</td>\n",
       "      <td>18.0</td>\n",
       "      <td>0.0</td>\n",
       "      <td>0.0</td>\n",
       "      <td>35.0</td>\n",
       "      <td>0.0</td>\n",
       "      <td>...</td>\n",
       "      <td>0.0</td>\n",
       "      <td>0.0</td>\n",
       "      <td>0.0</td>\n",
       "      <td>0.0</td>\n",
       "      <td>0.0</td>\n",
       "      <td>55.0</td>\n",
       "      <td>0.0</td>\n",
       "      <td>0.0</td>\n",
       "      <td>0.0</td>\n",
       "      <td>262.0</td>\n",
       "    </tr>\n",
       "    <tr>\n",
       "      <th>Peter Parker / Spider-Man</th>\n",
       "      <td>0.0</td>\n",
       "      <td>0.0</td>\n",
       "      <td>0.0</td>\n",
       "      <td>0.0</td>\n",
       "      <td>0.0</td>\n",
       "      <td>0.0</td>\n",
       "      <td>0.0</td>\n",
       "      <td>0.0</td>\n",
       "      <td>0.0</td>\n",
       "      <td>0.0</td>\n",
       "      <td>...</td>\n",
       "      <td>0.0</td>\n",
       "      <td>0.0</td>\n",
       "      <td>0.0</td>\n",
       "      <td>83.75</td>\n",
       "      <td>0.0</td>\n",
       "      <td>0.0</td>\n",
       "      <td>0.0</td>\n",
       "      <td>0.0</td>\n",
       "      <td>0.0</td>\n",
       "      <td>246.25</td>\n",
       "    </tr>\n",
       "    <tr>\n",
       "      <th>Steve Rogers</th>\n",
       "      <td>0.0</td>\n",
       "      <td>0.0</td>\n",
       "      <td>0.0</td>\n",
       "      <td>0.0</td>\n",
       "      <td>56.5</td>\n",
       "      <td>28.25</td>\n",
       "      <td>0.0</td>\n",
       "      <td>0.25</td>\n",
       "      <td>0.0</td>\n",
       "      <td>59.0</td>\n",
       "      <td>...</td>\n",
       "      <td>0.0</td>\n",
       "      <td>0.0</td>\n",
       "      <td>0.0</td>\n",
       "      <td>0.0</td>\n",
       "      <td>0.0</td>\n",
       "      <td>0.0</td>\n",
       "      <td>0.0</td>\n",
       "      <td>0.0</td>\n",
       "      <td>0.0</td>\n",
       "      <td>244.75</td>\n",
       "    </tr>\n",
       "    <tr>\n",
       "      <th>Loki</th>\n",
       "      <td>0.0</td>\n",
       "      <td>0.0</td>\n",
       "      <td>0.0</td>\n",
       "      <td>21.25</td>\n",
       "      <td>0.0</td>\n",
       "      <td>21.5</td>\n",
       "      <td>0.0</td>\n",
       "      <td>0.0</td>\n",
       "      <td>17.5</td>\n",
       "      <td>0.0</td>\n",
       "      <td>...</td>\n",
       "      <td>0.0</td>\n",
       "      <td>0.0</td>\n",
       "      <td>0.0</td>\n",
       "      <td>0.0</td>\n",
       "      <td>0.0</td>\n",
       "      <td>0.0</td>\n",
       "      <td>0.0</td>\n",
       "      <td>0.0</td>\n",
       "      <td>0.0</td>\n",
       "      <td>209.75</td>\n",
       "    </tr>\n",
       "    <tr>\n",
       "      <th>...</th>\n",
       "      <td>...</td>\n",
       "      <td>...</td>\n",
       "      <td>...</td>\n",
       "      <td>...</td>\n",
       "      <td>...</td>\n",
       "      <td>...</td>\n",
       "      <td>...</td>\n",
       "      <td>...</td>\n",
       "      <td>...</td>\n",
       "      <td>...</td>\n",
       "      <td>...</td>\n",
       "      <td>...</td>\n",
       "      <td>...</td>\n",
       "      <td>...</td>\n",
       "      <td>...</td>\n",
       "      <td>...</td>\n",
       "      <td>...</td>\n",
       "      <td>...</td>\n",
       "      <td>...</td>\n",
       "      <td>...</td>\n",
       "      <td>...</td>\n",
       "    </tr>\n",
       "    <tr>\n",
       "      <th>Daniel Drumm</th>\n",
       "      <td>0.0</td>\n",
       "      <td>0.0</td>\n",
       "      <td>0.0</td>\n",
       "      <td>0.0</td>\n",
       "      <td>0.0</td>\n",
       "      <td>0.0</td>\n",
       "      <td>0.0</td>\n",
       "      <td>0.0</td>\n",
       "      <td>0.0</td>\n",
       "      <td>0.0</td>\n",
       "      <td>...</td>\n",
       "      <td>0.0</td>\n",
       "      <td>0.0</td>\n",
       "      <td>0.0</td>\n",
       "      <td>0.0</td>\n",
       "      <td>0.25</td>\n",
       "      <td>0.0</td>\n",
       "      <td>0.0</td>\n",
       "      <td>0.0</td>\n",
       "      <td>0.0</td>\n",
       "      <td>0.25</td>\n",
       "    </tr>\n",
       "    <tr>\n",
       "      <th>Edwin Jarvis</th>\n",
       "      <td>0.0</td>\n",
       "      <td>0.0</td>\n",
       "      <td>0.0</td>\n",
       "      <td>0.0</td>\n",
       "      <td>0.0</td>\n",
       "      <td>0.0</td>\n",
       "      <td>0.0</td>\n",
       "      <td>0.0</td>\n",
       "      <td>0.0</td>\n",
       "      <td>0.0</td>\n",
       "      <td>...</td>\n",
       "      <td>0.0</td>\n",
       "      <td>0.0</td>\n",
       "      <td>0.0</td>\n",
       "      <td>0.0</td>\n",
       "      <td>0.0</td>\n",
       "      <td>0.0</td>\n",
       "      <td>0.0</td>\n",
       "      <td>0.0</td>\n",
       "      <td>0.0</td>\n",
       "      <td>0.25</td>\n",
       "    </tr>\n",
       "    <tr>\n",
       "      <th>Aleta Ogord</th>\n",
       "      <td>0.0</td>\n",
       "      <td>0.0</td>\n",
       "      <td>0.0</td>\n",
       "      <td>0.0</td>\n",
       "      <td>0.0</td>\n",
       "      <td>0.0</td>\n",
       "      <td>0.0</td>\n",
       "      <td>0.0</td>\n",
       "      <td>0.0</td>\n",
       "      <td>0.0</td>\n",
       "      <td>...</td>\n",
       "      <td>0.0</td>\n",
       "      <td>0.0</td>\n",
       "      <td>0.0</td>\n",
       "      <td>0.0</td>\n",
       "      <td>0.0</td>\n",
       "      <td>0.0</td>\n",
       "      <td>0.0</td>\n",
       "      <td>0.0</td>\n",
       "      <td>0.0</td>\n",
       "      <td>0.25</td>\n",
       "    </tr>\n",
       "    <tr>\n",
       "      <th>Darryl</th>\n",
       "      <td>0.0</td>\n",
       "      <td>0.0</td>\n",
       "      <td>0.0</td>\n",
       "      <td>0.0</td>\n",
       "      <td>0.0</td>\n",
       "      <td>0.0</td>\n",
       "      <td>0.0</td>\n",
       "      <td>0.0</td>\n",
       "      <td>0.0</td>\n",
       "      <td>0.0</td>\n",
       "      <td>...</td>\n",
       "      <td>0.0</td>\n",
       "      <td>0.0</td>\n",
       "      <td>0.0</td>\n",
       "      <td>0.0</td>\n",
       "      <td>0.0</td>\n",
       "      <td>0.25</td>\n",
       "      <td>0.0</td>\n",
       "      <td>0.0</td>\n",
       "      <td>0.0</td>\n",
       "      <td>0.25</td>\n",
       "    </tr>\n",
       "    <tr>\n",
       "      <th>Serie</th>\n",
       "      <td>False</td>\n",
       "      <td>False</td>\n",
       "      <td>False</td>\n",
       "      <td>False</td>\n",
       "      <td>False</td>\n",
       "      <td>False</td>\n",
       "      <td>False</td>\n",
       "      <td>False</td>\n",
       "      <td>False</td>\n",
       "      <td>False</td>\n",
       "      <td>...</td>\n",
       "      <td>False</td>\n",
       "      <td>False</td>\n",
       "      <td>False</td>\n",
       "      <td>False</td>\n",
       "      <td>False</td>\n",
       "      <td>False</td>\n",
       "      <td>False</td>\n",
       "      <td>False</td>\n",
       "      <td>False</td>\n",
       "      <td>False</td>\n",
       "    </tr>\n",
       "  </tbody>\n",
       "</table>\n",
       "<p>406 rows × 34 columns</p>\n",
       "</div>"
      ],
      "text/plain": [
       "                          Iron Man El increíble Hulk Iron Man 2   Thor  \\\n",
       "Tony Stark / Iron Man        77.25               0.5      61.25    0.0   \n",
       "Thor                           0.0               0.0        0.0  43.25   \n",
       "Peter Parker / Spider-Man      0.0               0.0        0.0    0.0   \n",
       "Steve Rogers                   0.0               0.0        0.0    0.0   \n",
       "Loki                           0.0               0.0        0.0  21.25   \n",
       "...                            ...               ...        ...    ...   \n",
       "Daniel Drumm                   0.0               0.0        0.0    0.0   \n",
       "Edwin Jarvis                   0.0               0.0        0.0    0.0   \n",
       "Aleta Ogord                    0.0               0.0        0.0    0.0   \n",
       "Darryl                         0.0               0.0        0.0    0.0   \n",
       "Serie                        False             False      False  False   \n",
       "\n",
       "                          Capitán América: El primer vengador Los Vengadores  \\\n",
       "Tony Stark / Iron Man                                     0.0          31.75   \n",
       "Thor                                                      0.0           18.0   \n",
       "Peter Parker / Spider-Man                                 0.0            0.0   \n",
       "Steve Rogers                                             56.5          28.25   \n",
       "Loki                                                      0.0           21.5   \n",
       "...                                                       ...            ...   \n",
       "Daniel Drumm                                              0.0            0.0   \n",
       "Edwin Jarvis                                              0.0            0.0   \n",
       "Aleta Ogord                                               0.0            0.0   \n",
       "Darryl                                                    0.0            0.0   \n",
       "Serie                                                   False          False   \n",
       "\n",
       "                          Iron Man 3 Marvel One-Shot: Agente Carter  \\\n",
       "Tony Stark / Iron Man          62.25                            0.0   \n",
       "Thor                             0.0                            0.0   \n",
       "Peter Parker / Spider-Man        0.0                            0.0   \n",
       "Steve Rogers                     0.0                           0.25   \n",
       "Loki                             0.0                            0.0   \n",
       "...                              ...                            ...   \n",
       "Daniel Drumm                     0.0                            0.0   \n",
       "Edwin Jarvis                     0.0                            0.0   \n",
       "Aleta Ogord                      0.0                            0.0   \n",
       "Darryl                           0.0                            0.0   \n",
       "Serie                          False                          False   \n",
       "\n",
       "                          Thor: El mundo oscuro  \\\n",
       "Tony Stark / Iron Man                       0.0   \n",
       "Thor                                       35.0   \n",
       "Peter Parker / Spider-Man                   0.0   \n",
       "Steve Rogers                                0.0   \n",
       "Loki                                       17.5   \n",
       "...                                         ...   \n",
       "Daniel Drumm                                0.0   \n",
       "Edwin Jarvis                                0.0   \n",
       "Aleta Ogord                                 0.0   \n",
       "Darryl                                      0.0   \n",
       "Serie                                     False   \n",
       "\n",
       "                          Capitán América: El Soldado de Invierno  ...  \\\n",
       "Tony Stark / Iron Man                                         0.0  ...   \n",
       "Thor                                                          0.0  ...   \n",
       "Peter Parker / Spider-Man                                     0.0  ...   \n",
       "Steve Rogers                                                 59.0  ...   \n",
       "Loki                                                          0.0  ...   \n",
       "...                                                           ...  ...   \n",
       "Daniel Drumm                                                  0.0  ...   \n",
       "Edwin Jarvis                                                  0.0  ...   \n",
       "Aleta Ogord                                                   0.0  ...   \n",
       "Darryl                                                        0.0  ...   \n",
       "Serie                                                       False  ...   \n",
       "\n",
       "                          Viuda Negra  \\\n",
       "Tony Stark / Iron Man             0.0   \n",
       "Thor                              0.0   \n",
       "Peter Parker / Spider-Man         0.0   \n",
       "Steve Rogers                      0.0   \n",
       "Loki                              0.0   \n",
       "...                               ...   \n",
       "Daniel Drumm                      0.0   \n",
       "Edwin Jarvis                      0.0   \n",
       "Aleta Ogord                       0.0   \n",
       "Darryl                            0.0   \n",
       "Serie                           False   \n",
       "\n",
       "                          Shang-Chi y la leyenda de los diez anillos Eternals  \\\n",
       "Tony Stark / Iron Man                                            0.0      0.0   \n",
       "Thor                                                             0.0      0.0   \n",
       "Peter Parker / Spider-Man                                        0.0      0.0   \n",
       "Steve Rogers                                                     0.0      0.0   \n",
       "Loki                                                             0.0      0.0   \n",
       "...                                                              ...      ...   \n",
       "Daniel Drumm                                                     0.0      0.0   \n",
       "Edwin Jarvis                                                     0.0      0.0   \n",
       "Aleta Ogord                                                      0.0      0.0   \n",
       "Darryl                                                           0.0      0.0   \n",
       "Serie                                                          False    False   \n",
       "\n",
       "                          Spider-Man: No Way Home  \\\n",
       "Tony Stark / Iron Man                         0.0   \n",
       "Thor                                          0.0   \n",
       "Peter Parker / Spider-Man                   83.75   \n",
       "Steve Rogers                                  0.0   \n",
       "Loki                                          0.0   \n",
       "...                                           ...   \n",
       "Daniel Drumm                                  0.0   \n",
       "Edwin Jarvis                                  0.0   \n",
       "Aleta Ogord                                   0.0   \n",
       "Darryl                                        0.0   \n",
       "Serie                                       False   \n",
       "\n",
       "                          Doctor Strange en el multiverso de la locura  \\\n",
       "Tony Stark / Iron Man                                              0.0   \n",
       "Thor                                                               0.0   \n",
       "Peter Parker / Spider-Man                                          0.0   \n",
       "Steve Rogers                                                       0.0   \n",
       "Loki                                                               0.0   \n",
       "...                                                                ...   \n",
       "Daniel Drumm                                                      0.25   \n",
       "Edwin Jarvis                                                       0.0   \n",
       "Aleta Ogord                                                        0.0   \n",
       "Darryl                                                             0.0   \n",
       "Serie                                                            False   \n",
       "\n",
       "                          Thor: Love and Thunder La maldición del hombre lobo  \\\n",
       "Tony Stark / Iron Man                        0.0                          0.0   \n",
       "Thor                                        55.0                          0.0   \n",
       "Peter Parker / Spider-Man                    0.0                          0.0   \n",
       "Steve Rogers                                 0.0                          0.0   \n",
       "Loki                                         0.0                          0.0   \n",
       "...                                          ...                          ...   \n",
       "Daniel Drumm                                 0.0                          0.0   \n",
       "Edwin Jarvis                                 0.0                          0.0   \n",
       "Aleta Ogord                                  0.0                          0.0   \n",
       "Darryl                                      0.25                          0.0   \n",
       "Serie                                      False                        False   \n",
       "\n",
       "                          Black Panther: Wakanda Forever  \\\n",
       "Tony Stark / Iron Man                                0.0   \n",
       "Thor                                                 0.0   \n",
       "Peter Parker / Spider-Man                            0.0   \n",
       "Steve Rogers                                         0.0   \n",
       "Loki                                                 0.0   \n",
       "...                                                  ...   \n",
       "Daniel Drumm                                         0.0   \n",
       "Edwin Jarvis                                         0.0   \n",
       "Aleta Ogord                                          0.0   \n",
       "Darryl                                               0.0   \n",
       "Serie                                              False   \n",
       "\n",
       "                          Guardianes de la Galaxia: Especial felices fiestas  \\\n",
       "Tony Stark / Iron Man                                                    0.0   \n",
       "Thor                                                                     0.0   \n",
       "Peter Parker / Spider-Man                                                0.0   \n",
       "Steve Rogers                                                             0.0   \n",
       "Loki                                                                     0.0   \n",
       "...                                                                      ...   \n",
       "Daniel Drumm                                                             0.0   \n",
       "Edwin Jarvis                                                             0.0   \n",
       "Aleta Ogord                                                              0.0   \n",
       "Darryl                                                                   0.0   \n",
       "Serie                                                                  False   \n",
       "\n",
       "                          Total de tiempo en pantalla  \n",
       "Tony Stark / Iron Man                          358.75  \n",
       "Thor                                            262.0  \n",
       "Peter Parker / Spider-Man                      246.25  \n",
       "Steve Rogers                                   244.75  \n",
       "Loki                                           209.75  \n",
       "...                                               ...  \n",
       "Daniel Drumm                                     0.25  \n",
       "Edwin Jarvis                                     0.25  \n",
       "Aleta Ogord                                      0.25  \n",
       "Darryl                                           0.25  \n",
       "Serie                                           False  \n",
       "\n",
       "[406 rows x 34 columns]"
      ]
     },
     "execution_count": 146,
     "metadata": {},
     "output_type": "execute_result"
    }
   ],
   "source": [
    "columnas_a_excluir = char_movie_matrix.columns[char_movie_matrix.loc['Serie']==False]\n",
    "\n",
    "# Crear un nuevo DataFrame con las columnas seleccionadas\n",
    "char_movie_matrix[columnas_a_excluir]"
   ]
  },
  {
   "cell_type": "code",
   "execution_count": 149,
   "metadata": {},
   "outputs": [],
   "source": [
    "def apariciones_pj(no_serie=False):\n",
    "    if no_serie:\n",
    "        # Filtrar las columnas excluyendo las que tienen False en la fila 'Serie'\n",
    "        columnas_a_excluir = char_movie_matrix.columns[char_movie_matrix.loc['Serie'] == False]\n",
    "        # Crear un nuevo DataFrame sin las columnas seleccionadas\n",
    "        data = char_movie_matrix[columnas_a_excluir]\n",
    "    else:\n",
    "        data = char_movie_matrix\n",
    "\n",
    "    apariciones_pj = OrderedDict()\n",
    "\n",
    "    for pj in data.index:\n",
    "        # Filtrar las columnas que no son cero ni son de tipo string\n",
    "        columnas_no_cero = char_movie_matrix.loc[pj, (char_movie_matrix.loc[pj] != 0) & (char_movie_matrix.loc[pj].apply(isinstance, args=(float,)))].index.tolist()\n",
    "        # Excluir la última columna ('Serie') si existe\n",
    "        apariciones_pj[pj] = columnas_no_cero[:-1]\n",
    "\n",
    "    return apariciones_pj"
   ]
  },
  {
   "cell_type": "code",
   "execution_count": 174,
   "metadata": {},
   "outputs": [],
   "source": [
    "def generar_grafico_barras_num_apariciones(cantidad, fases, no_serie=False):\n",
    "\t\n",
    "    ordenado_por_longitud = OrderedDict(sorted(apariciones_pj(no_serie,fases).items(), key=lambda x: len(x[1]), reverse=True))\n",
    "    claves = list(ordenado_por_longitud.keys())[:cantidad]\n",
    "    longitudes = [len(ordenado_por_longitud[clave]) for clave in claves]\n",
    "\t\n",
    "    claves = list(map(lambda x: '\\n'.join(x.split(' ')),claves))\n",
    "    df = pd.DataFrame({'Claves': claves, 'Longitudes': longitudes})\n",
    "\n",
    "    # Crear el gráfico de barras con Plotly Express\n",
    "    fig = px.bar(\n",
    "        df,\n",
    "        x='Claves',\n",
    "        y='Longitudes',\n",
    "\t\ttitle='Nº total de apariciones de los personajes',\n",
    "        labels={'Claves': 'Claves', 'Longitudes': 'Longitudes'},\n",
    "        color_discrete_sequence=['rgb(179, 39, 14)'],  # Especifica el color de las barras\n",
    "        hover_data={'Claves': True, 'Longitudes': True},  # Incluye datos adicionales para mostrar en el hover\n",
    "    )\n",
    "\n",
    "    # Personalizar el formato del hovertemplate\n",
    "    fig.update_traces(\n",
    "        hovertemplate='Personaje: %{x}<br>Nº de apariciones: %{y}'\n",
    "    )\n",
    "\n",
    "    # Ajustar diseño del gráfico\n",
    "    fig.update_layout(height=500, width=900)\n",
    "\n",
    "    # Devolver el objeto de figura (Figure) en lugar de mostrarlo\n",
    "    return fig"
   ]
  },
  {
   "cell_type": "code",
   "execution_count": 172,
   "metadata": {},
   "outputs": [
    {
     "data": {
      "text/html": [
       "<div>\n",
       "<style scoped>\n",
       "    .dataframe tbody tr th:only-of-type {\n",
       "        vertical-align: middle;\n",
       "    }\n",
       "\n",
       "    .dataframe tbody tr th {\n",
       "        vertical-align: top;\n",
       "    }\n",
       "\n",
       "    .dataframe thead th {\n",
       "        text-align: right;\n",
       "    }\n",
       "</style>\n",
       "<table border=\"1\" class=\"dataframe\">\n",
       "  <thead>\n",
       "    <tr style=\"text-align: right;\">\n",
       "      <th></th>\n",
       "      <th>Iron Man</th>\n",
       "      <th>El increíble Hulk</th>\n",
       "      <th>Iron Man 2</th>\n",
       "      <th>Thor</th>\n",
       "      <th>Capitán América: El primer vengador</th>\n",
       "      <th>Los Vengadores</th>\n",
       "      <th>Iron Man 3</th>\n",
       "      <th>Marvel One-Shot: Agente Carter</th>\n",
       "      <th>Thor: El mundo oscuro</th>\n",
       "      <th>Capitán América: El Soldado de Invierno</th>\n",
       "      <th>...</th>\n",
       "      <th>Spider-Man: No Way Home</th>\n",
       "      <th>Caballero Luna</th>\n",
       "      <th>Doctor Strange en el multiverso de la locura</th>\n",
       "      <th>Ms. Marvel</th>\n",
       "      <th>Thor: Love and Thunder</th>\n",
       "      <th>She-Hulk: Abogada Hulka</th>\n",
       "      <th>La maldición del hombre lobo</th>\n",
       "      <th>Black Panther: Wakanda Forever</th>\n",
       "      <th>Guardianes de la Galaxia: Especial felices fiestas</th>\n",
       "      <th>Total de tiempo en pantalla</th>\n",
       "    </tr>\n",
       "  </thead>\n",
       "  <tbody>\n",
       "    <tr>\n",
       "      <th>Tony Stark / Iron Man</th>\n",
       "      <td>77.25</td>\n",
       "      <td>0.5</td>\n",
       "      <td>61.25</td>\n",
       "      <td>0.0</td>\n",
       "      <td>0.0</td>\n",
       "      <td>31.75</td>\n",
       "      <td>62.25</td>\n",
       "      <td>0.0</td>\n",
       "      <td>0.0</td>\n",
       "      <td>0.0</td>\n",
       "      <td>...</td>\n",
       "      <td>0.0</td>\n",
       "      <td>0.0</td>\n",
       "      <td>0.0</td>\n",
       "      <td>0.0</td>\n",
       "      <td>0.0</td>\n",
       "      <td>0.0</td>\n",
       "      <td>0.0</td>\n",
       "      <td>0.0</td>\n",
       "      <td>0.0</td>\n",
       "      <td>358.75</td>\n",
       "    </tr>\n",
       "    <tr>\n",
       "      <th>Thor</th>\n",
       "      <td>0.0</td>\n",
       "      <td>0.0</td>\n",
       "      <td>0.0</td>\n",
       "      <td>43.25</td>\n",
       "      <td>0.0</td>\n",
       "      <td>18.0</td>\n",
       "      <td>0.0</td>\n",
       "      <td>0.0</td>\n",
       "      <td>35.0</td>\n",
       "      <td>0.0</td>\n",
       "      <td>...</td>\n",
       "      <td>0.0</td>\n",
       "      <td>0.0</td>\n",
       "      <td>0.0</td>\n",
       "      <td>0.0</td>\n",
       "      <td>55.0</td>\n",
       "      <td>0.0</td>\n",
       "      <td>0.0</td>\n",
       "      <td>0.0</td>\n",
       "      <td>0.0</td>\n",
       "      <td>262.0</td>\n",
       "    </tr>\n",
       "    <tr>\n",
       "      <th>Peter Parker / Spider-Man</th>\n",
       "      <td>0.0</td>\n",
       "      <td>0.0</td>\n",
       "      <td>0.0</td>\n",
       "      <td>0.0</td>\n",
       "      <td>0.0</td>\n",
       "      <td>0.0</td>\n",
       "      <td>0.0</td>\n",
       "      <td>0.0</td>\n",
       "      <td>0.0</td>\n",
       "      <td>0.0</td>\n",
       "      <td>...</td>\n",
       "      <td>83.75</td>\n",
       "      <td>0.0</td>\n",
       "      <td>0.0</td>\n",
       "      <td>0.0</td>\n",
       "      <td>0.0</td>\n",
       "      <td>0.0</td>\n",
       "      <td>0.0</td>\n",
       "      <td>0.0</td>\n",
       "      <td>0.0</td>\n",
       "      <td>246.25</td>\n",
       "    </tr>\n",
       "    <tr>\n",
       "      <th>Steve Rogers</th>\n",
       "      <td>0.0</td>\n",
       "      <td>0.0</td>\n",
       "      <td>0.0</td>\n",
       "      <td>0.0</td>\n",
       "      <td>56.5</td>\n",
       "      <td>28.25</td>\n",
       "      <td>0.0</td>\n",
       "      <td>0.25</td>\n",
       "      <td>0.0</td>\n",
       "      <td>59.0</td>\n",
       "      <td>...</td>\n",
       "      <td>0.0</td>\n",
       "      <td>0.0</td>\n",
       "      <td>0.0</td>\n",
       "      <td>0.0</td>\n",
       "      <td>0.0</td>\n",
       "      <td>0.0</td>\n",
       "      <td>0.0</td>\n",
       "      <td>0.0</td>\n",
       "      <td>0.0</td>\n",
       "      <td>244.75</td>\n",
       "    </tr>\n",
       "    <tr>\n",
       "      <th>Loki</th>\n",
       "      <td>0.0</td>\n",
       "      <td>0.0</td>\n",
       "      <td>0.0</td>\n",
       "      <td>21.25</td>\n",
       "      <td>0.0</td>\n",
       "      <td>21.5</td>\n",
       "      <td>0.0</td>\n",
       "      <td>0.0</td>\n",
       "      <td>17.5</td>\n",
       "      <td>0.0</td>\n",
       "      <td>...</td>\n",
       "      <td>0.0</td>\n",
       "      <td>0.0</td>\n",
       "      <td>0.0</td>\n",
       "      <td>0.0</td>\n",
       "      <td>0.0</td>\n",
       "      <td>0.0</td>\n",
       "      <td>0.0</td>\n",
       "      <td>0.0</td>\n",
       "      <td>0.0</td>\n",
       "      <td>209.75</td>\n",
       "    </tr>\n",
       "    <tr>\n",
       "      <th>...</th>\n",
       "      <td>...</td>\n",
       "      <td>...</td>\n",
       "      <td>...</td>\n",
       "      <td>...</td>\n",
       "      <td>...</td>\n",
       "      <td>...</td>\n",
       "      <td>...</td>\n",
       "      <td>...</td>\n",
       "      <td>...</td>\n",
       "      <td>...</td>\n",
       "      <td>...</td>\n",
       "      <td>...</td>\n",
       "      <td>...</td>\n",
       "      <td>...</td>\n",
       "      <td>...</td>\n",
       "      <td>...</td>\n",
       "      <td>...</td>\n",
       "      <td>...</td>\n",
       "      <td>...</td>\n",
       "      <td>...</td>\n",
       "      <td>...</td>\n",
       "    </tr>\n",
       "    <tr>\n",
       "      <th>Edwin Jarvis</th>\n",
       "      <td>0.0</td>\n",
       "      <td>0.0</td>\n",
       "      <td>0.0</td>\n",
       "      <td>0.0</td>\n",
       "      <td>0.0</td>\n",
       "      <td>0.0</td>\n",
       "      <td>0.0</td>\n",
       "      <td>0.0</td>\n",
       "      <td>0.0</td>\n",
       "      <td>0.0</td>\n",
       "      <td>...</td>\n",
       "      <td>0.0</td>\n",
       "      <td>0.0</td>\n",
       "      <td>0.0</td>\n",
       "      <td>0.0</td>\n",
       "      <td>0.0</td>\n",
       "      <td>0.0</td>\n",
       "      <td>0.0</td>\n",
       "      <td>0.0</td>\n",
       "      <td>0.0</td>\n",
       "      <td>0.25</td>\n",
       "    </tr>\n",
       "    <tr>\n",
       "      <th>Aleta Ogord</th>\n",
       "      <td>0.0</td>\n",
       "      <td>0.0</td>\n",
       "      <td>0.0</td>\n",
       "      <td>0.0</td>\n",
       "      <td>0.0</td>\n",
       "      <td>0.0</td>\n",
       "      <td>0.0</td>\n",
       "      <td>0.0</td>\n",
       "      <td>0.0</td>\n",
       "      <td>0.0</td>\n",
       "      <td>...</td>\n",
       "      <td>0.0</td>\n",
       "      <td>0.0</td>\n",
       "      <td>0.0</td>\n",
       "      <td>0.0</td>\n",
       "      <td>0.0</td>\n",
       "      <td>0.0</td>\n",
       "      <td>0.0</td>\n",
       "      <td>0.0</td>\n",
       "      <td>0.0</td>\n",
       "      <td>0.25</td>\n",
       "    </tr>\n",
       "    <tr>\n",
       "      <th>Darryl</th>\n",
       "      <td>0.0</td>\n",
       "      <td>0.0</td>\n",
       "      <td>0.0</td>\n",
       "      <td>0.0</td>\n",
       "      <td>0.0</td>\n",
       "      <td>0.0</td>\n",
       "      <td>0.0</td>\n",
       "      <td>0.0</td>\n",
       "      <td>0.0</td>\n",
       "      <td>0.0</td>\n",
       "      <td>...</td>\n",
       "      <td>0.0</td>\n",
       "      <td>0.0</td>\n",
       "      <td>0.0</td>\n",
       "      <td>0.0</td>\n",
       "      <td>0.25</td>\n",
       "      <td>0.0</td>\n",
       "      <td>0.0</td>\n",
       "      <td>0.0</td>\n",
       "      <td>0.0</td>\n",
       "      <td>0.25</td>\n",
       "    </tr>\n",
       "    <tr>\n",
       "      <th>Serie</th>\n",
       "      <td>False</td>\n",
       "      <td>False</td>\n",
       "      <td>False</td>\n",
       "      <td>False</td>\n",
       "      <td>False</td>\n",
       "      <td>False</td>\n",
       "      <td>False</td>\n",
       "      <td>False</td>\n",
       "      <td>False</td>\n",
       "      <td>False</td>\n",
       "      <td>...</td>\n",
       "      <td>False</td>\n",
       "      <td>True</td>\n",
       "      <td>False</td>\n",
       "      <td>True</td>\n",
       "      <td>False</td>\n",
       "      <td>True</td>\n",
       "      <td>False</td>\n",
       "      <td>False</td>\n",
       "      <td>False</td>\n",
       "      <td>False</td>\n",
       "    </tr>\n",
       "    <tr>\n",
       "      <th>Fase</th>\n",
       "      <td>1</td>\n",
       "      <td>1</td>\n",
       "      <td>1</td>\n",
       "      <td>1</td>\n",
       "      <td>1</td>\n",
       "      <td>2</td>\n",
       "      <td>2</td>\n",
       "      <td>2</td>\n",
       "      <td>2</td>\n",
       "      <td>2</td>\n",
       "      <td>...</td>\n",
       "      <td>4</td>\n",
       "      <td>4</td>\n",
       "      <td>4</td>\n",
       "      <td>4</td>\n",
       "      <td>4</td>\n",
       "      <td>4</td>\n",
       "      <td>4</td>\n",
       "      <td>4</td>\n",
       "      <td>4</td>\n",
       "      <td>4</td>\n",
       "    </tr>\n",
       "  </tbody>\n",
       "</table>\n",
       "<p>407 rows × 41 columns</p>\n",
       "</div>"
      ],
      "text/plain": [
       "                          Iron Man El increíble Hulk Iron Man 2   Thor  \\\n",
       "Tony Stark / Iron Man        77.25               0.5      61.25    0.0   \n",
       "Thor                           0.0               0.0        0.0  43.25   \n",
       "Peter Parker / Spider-Man      0.0               0.0        0.0    0.0   \n",
       "Steve Rogers                   0.0               0.0        0.0    0.0   \n",
       "Loki                           0.0               0.0        0.0  21.25   \n",
       "...                            ...               ...        ...    ...   \n",
       "Edwin Jarvis                   0.0               0.0        0.0    0.0   \n",
       "Aleta Ogord                    0.0               0.0        0.0    0.0   \n",
       "Darryl                         0.0               0.0        0.0    0.0   \n",
       "Serie                        False             False      False  False   \n",
       "Fase                             1                 1          1      1   \n",
       "\n",
       "                          Capitán América: El primer vengador Los Vengadores  \\\n",
       "Tony Stark / Iron Man                                     0.0          31.75   \n",
       "Thor                                                      0.0           18.0   \n",
       "Peter Parker / Spider-Man                                 0.0            0.0   \n",
       "Steve Rogers                                             56.5          28.25   \n",
       "Loki                                                      0.0           21.5   \n",
       "...                                                       ...            ...   \n",
       "Edwin Jarvis                                              0.0            0.0   \n",
       "Aleta Ogord                                               0.0            0.0   \n",
       "Darryl                                                    0.0            0.0   \n",
       "Serie                                                   False          False   \n",
       "Fase                                                        1              2   \n",
       "\n",
       "                          Iron Man 3 Marvel One-Shot: Agente Carter  \\\n",
       "Tony Stark / Iron Man          62.25                            0.0   \n",
       "Thor                             0.0                            0.0   \n",
       "Peter Parker / Spider-Man        0.0                            0.0   \n",
       "Steve Rogers                     0.0                           0.25   \n",
       "Loki                             0.0                            0.0   \n",
       "...                              ...                            ...   \n",
       "Edwin Jarvis                     0.0                            0.0   \n",
       "Aleta Ogord                      0.0                            0.0   \n",
       "Darryl                           0.0                            0.0   \n",
       "Serie                          False                          False   \n",
       "Fase                               2                              2   \n",
       "\n",
       "                          Thor: El mundo oscuro  \\\n",
       "Tony Stark / Iron Man                       0.0   \n",
       "Thor                                       35.0   \n",
       "Peter Parker / Spider-Man                   0.0   \n",
       "Steve Rogers                                0.0   \n",
       "Loki                                       17.5   \n",
       "...                                         ...   \n",
       "Edwin Jarvis                                0.0   \n",
       "Aleta Ogord                                 0.0   \n",
       "Darryl                                      0.0   \n",
       "Serie                                     False   \n",
       "Fase                                          2   \n",
       "\n",
       "                          Capitán América: El Soldado de Invierno  ...  \\\n",
       "Tony Stark / Iron Man                                         0.0  ...   \n",
       "Thor                                                          0.0  ...   \n",
       "Peter Parker / Spider-Man                                     0.0  ...   \n",
       "Steve Rogers                                                 59.0  ...   \n",
       "Loki                                                          0.0  ...   \n",
       "...                                                           ...  ...   \n",
       "Edwin Jarvis                                                  0.0  ...   \n",
       "Aleta Ogord                                                   0.0  ...   \n",
       "Darryl                                                        0.0  ...   \n",
       "Serie                                                       False  ...   \n",
       "Fase                                                            2  ...   \n",
       "\n",
       "                          Spider-Man: No Way Home Caballero Luna  \\\n",
       "Tony Stark / Iron Man                         0.0            0.0   \n",
       "Thor                                          0.0            0.0   \n",
       "Peter Parker / Spider-Man                   83.75            0.0   \n",
       "Steve Rogers                                  0.0            0.0   \n",
       "Loki                                          0.0            0.0   \n",
       "...                                           ...            ...   \n",
       "Edwin Jarvis                                  0.0            0.0   \n",
       "Aleta Ogord                                   0.0            0.0   \n",
       "Darryl                                        0.0            0.0   \n",
       "Serie                                       False           True   \n",
       "Fase                                            4              4   \n",
       "\n",
       "                          Doctor Strange en el multiverso de la locura  \\\n",
       "Tony Stark / Iron Man                                              0.0   \n",
       "Thor                                                               0.0   \n",
       "Peter Parker / Spider-Man                                          0.0   \n",
       "Steve Rogers                                                       0.0   \n",
       "Loki                                                               0.0   \n",
       "...                                                                ...   \n",
       "Edwin Jarvis                                                       0.0   \n",
       "Aleta Ogord                                                        0.0   \n",
       "Darryl                                                             0.0   \n",
       "Serie                                                            False   \n",
       "Fase                                                                 4   \n",
       "\n",
       "                          Ms. Marvel Thor: Love and Thunder  \\\n",
       "Tony Stark / Iron Man            0.0                    0.0   \n",
       "Thor                             0.0                   55.0   \n",
       "Peter Parker / Spider-Man        0.0                    0.0   \n",
       "Steve Rogers                     0.0                    0.0   \n",
       "Loki                             0.0                    0.0   \n",
       "...                              ...                    ...   \n",
       "Edwin Jarvis                     0.0                    0.0   \n",
       "Aleta Ogord                      0.0                    0.0   \n",
       "Darryl                           0.0                   0.25   \n",
       "Serie                           True                  False   \n",
       "Fase                               4                      4   \n",
       "\n",
       "                          She-Hulk: Abogada Hulka  \\\n",
       "Tony Stark / Iron Man                         0.0   \n",
       "Thor                                          0.0   \n",
       "Peter Parker / Spider-Man                     0.0   \n",
       "Steve Rogers                                  0.0   \n",
       "Loki                                          0.0   \n",
       "...                                           ...   \n",
       "Edwin Jarvis                                  0.0   \n",
       "Aleta Ogord                                   0.0   \n",
       "Darryl                                        0.0   \n",
       "Serie                                        True   \n",
       "Fase                                            4   \n",
       "\n",
       "                          La maldición del hombre lobo  \\\n",
       "Tony Stark / Iron Man                              0.0   \n",
       "Thor                                               0.0   \n",
       "Peter Parker / Spider-Man                          0.0   \n",
       "Steve Rogers                                       0.0   \n",
       "Loki                                               0.0   \n",
       "...                                                ...   \n",
       "Edwin Jarvis                                       0.0   \n",
       "Aleta Ogord                                        0.0   \n",
       "Darryl                                             0.0   \n",
       "Serie                                            False   \n",
       "Fase                                                 4   \n",
       "\n",
       "                          Black Panther: Wakanda Forever  \\\n",
       "Tony Stark / Iron Man                                0.0   \n",
       "Thor                                                 0.0   \n",
       "Peter Parker / Spider-Man                            0.0   \n",
       "Steve Rogers                                         0.0   \n",
       "Loki                                                 0.0   \n",
       "...                                                  ...   \n",
       "Edwin Jarvis                                         0.0   \n",
       "Aleta Ogord                                          0.0   \n",
       "Darryl                                               0.0   \n",
       "Serie                                              False   \n",
       "Fase                                                   4   \n",
       "\n",
       "                          Guardianes de la Galaxia: Especial felices fiestas  \\\n",
       "Tony Stark / Iron Man                                                    0.0   \n",
       "Thor                                                                     0.0   \n",
       "Peter Parker / Spider-Man                                                0.0   \n",
       "Steve Rogers                                                             0.0   \n",
       "Loki                                                                     0.0   \n",
       "...                                                                      ...   \n",
       "Edwin Jarvis                                                             0.0   \n",
       "Aleta Ogord                                                              0.0   \n",
       "Darryl                                                                   0.0   \n",
       "Serie                                                                  False   \n",
       "Fase                                                                       4   \n",
       "\n",
       "                          Total de tiempo en pantalla  \n",
       "Tony Stark / Iron Man                          358.75  \n",
       "Thor                                            262.0  \n",
       "Peter Parker / Spider-Man                      246.25  \n",
       "Steve Rogers                                   244.75  \n",
       "Loki                                           209.75  \n",
       "...                                               ...  \n",
       "Edwin Jarvis                                     0.25  \n",
       "Aleta Ogord                                      0.25  \n",
       "Darryl                                           0.25  \n",
       "Serie                                           False  \n",
       "Fase                                                4  \n",
       "\n",
       "[407 rows x 41 columns]"
      ]
     },
     "execution_count": 172,
     "metadata": {},
     "output_type": "execute_result"
    }
   ],
   "source": [
    "# Lista de valores para el rango\n",
    "fases = [0,1,2,3,4]\n",
    "\n",
    "columnas_seleccionadas = char_movie_matrix.columns[char_movie_matrix.loc['Fase'] .isin(fases)]\n",
    "char_movie_matrix[columnas_seleccionadas]"
   ]
  },
  {
   "cell_type": "code",
   "execution_count": 191,
   "metadata": {},
   "outputs": [],
   "source": [
    "def apariciones_pj(no_serie,fases):\n",
    "    columnas_seleccionadas = char_movie_matrix.columns[char_movie_matrix.loc['Fase'] .isin(fases)]\n",
    "    data_f = char_movie_matrix[columnas_seleccionadas]\n",
    "    if no_serie:\n",
    "        # Filtrar las columnas excluyendo las que tienen False en la fila 'Serie'\n",
    "        columnas_a_excluir = data_f.columns[data_f.loc['Serie'] == False]\n",
    "        # Crear un nuevo DataFrame sin las columnas seleccionadas\n",
    "        data = data_f[columnas_a_excluir]\n",
    "    else:\n",
    "        data = data_f\n",
    "\n",
    "    apariciones_pj = OrderedDict()\n",
    "\n",
    "    for pj in data.index:\n",
    "        # Filtrar las columnas que no son cero ni son de tipo string\n",
    "        columnas_no_cero = data.loc[pj, (data.loc[pj] != 0) & (data.loc[pj].apply(isinstance, args=(float,)))].index.tolist()\n",
    "        # Excluir la última columna ('Serie') si existe\n",
    "        apariciones_pj[pj] = columnas_no_cero[:-1]\n",
    "\n",
    "    return apariciones_pj"
   ]
  },
  {
   "cell_type": "code",
   "execution_count": 186,
   "metadata": {},
   "outputs": [],
   "source": [
    "def generar_grafico_peliculas_del_char(char,fases, no_serie=False):\n",
    "    columnas_seleccionadas = char_movie_matrix.columns[char_movie_matrix.loc['Fase'] .isin(fases)]\n",
    "    data_f = char_movie_matrix[columnas_seleccionadas]\n",
    "\t\t\n",
    "    peliculas = {}\n",
    "    for peli in apariciones_pj(no_serie,fases)[char]:\n",
    "        peliculas[peli] = data_f.loc[char][peli]\n",
    "\n",
    "    # Crear un DataFrame con los datos\n",
    "    df = pd.DataFrame(list(peliculas.items()), columns=['Pelicula', 'Tiempo en pantalla'])\n",
    "\n",
    "    # Convertir nombres de películas para el eje x\n",
    "    df['Pelicula'] = df['Pelicula'].apply(lambda x: '\\n'.join(x.split(' ')))\n",
    "\n",
    "    # Crear el gráfico de barras con Plotly Express\n",
    "    fig = px.bar(df,\n",
    "                 x='Pelicula',\n",
    "                 y='Tiempo en pantalla',\n",
    "                 title=char,\n",
    "                 color_discrete_sequence=['rgb(179, 39, 14)'],\n",
    "                 labels={'Pelicula': 'Peliculas', 'Tiempo en pantalla': 'Tiempo en pantalla'},\n",
    "\t\t\t\t hover_data={'Pelicula': True, 'Tiempo en pantalla': True},  # Incluye datos adicionales para mostrar en el hover\n",
    "    )\n",
    "    fig.update_traces(\n",
    "        hovertemplate='Pelicula: %{x}<br>Tiempo en pantalla: %{y} mins'\n",
    "    )\n",
    "    # Ajustar diseño del gráfico\n",
    "    fig.update_layout(height=400, width=800)\n",
    "    # Devolver el objeto de figura (Figure) en lugar de mostrarlo\n",
    "    return fig"
   ]
  },
  {
   "cell_type": "code",
   "execution_count": 194,
   "metadata": {},
   "outputs": [
    {
     "data": {
      "application/vnd.plotly.v1+json": {
       "config": {
        "plotlyServerURL": "https://plot.ly"
       },
       "data": [
        {
         "alignmentgroup": "True",
         "hovertemplate": "Pelicula: %{x}<br>Tiempo en pantalla: %{y} mins",
         "legendgroup": "",
         "marker": {
          "color": "rgb(179, 39, 14)",
          "pattern": {
           "shape": ""
          }
         },
         "name": "",
         "offsetgroup": "",
         "orientation": "v",
         "showlegend": false,
         "textposition": "auto",
         "type": "bar",
         "x": [
          "Bruja\nEscarlata\ny\nVisión",
          "Doctor\nStrange\nen\nel\nmultiverso\nde\nla\nlocura"
         ],
         "xaxis": "x",
         "y": [
          126.75,
          29
         ],
         "yaxis": "y"
        }
       ],
       "layout": {
        "barmode": "relative",
        "height": 400,
        "legend": {
         "tracegroupgap": 0
        },
        "template": {
         "data": {
          "bar": [
           {
            "error_x": {
             "color": "#2a3f5f"
            },
            "error_y": {
             "color": "#2a3f5f"
            },
            "marker": {
             "line": {
              "color": "#E5ECF6",
              "width": 0.5
             },
             "pattern": {
              "fillmode": "overlay",
              "size": 10,
              "solidity": 0.2
             }
            },
            "type": "bar"
           }
          ],
          "barpolar": [
           {
            "marker": {
             "line": {
              "color": "#E5ECF6",
              "width": 0.5
             },
             "pattern": {
              "fillmode": "overlay",
              "size": 10,
              "solidity": 0.2
             }
            },
            "type": "barpolar"
           }
          ],
          "carpet": [
           {
            "aaxis": {
             "endlinecolor": "#2a3f5f",
             "gridcolor": "white",
             "linecolor": "white",
             "minorgridcolor": "white",
             "startlinecolor": "#2a3f5f"
            },
            "baxis": {
             "endlinecolor": "#2a3f5f",
             "gridcolor": "white",
             "linecolor": "white",
             "minorgridcolor": "white",
             "startlinecolor": "#2a3f5f"
            },
            "type": "carpet"
           }
          ],
          "choropleth": [
           {
            "colorbar": {
             "outlinewidth": 0,
             "ticks": ""
            },
            "type": "choropleth"
           }
          ],
          "contour": [
           {
            "colorbar": {
             "outlinewidth": 0,
             "ticks": ""
            },
            "colorscale": [
             [
              0,
              "#0d0887"
             ],
             [
              0.1111111111111111,
              "#46039f"
             ],
             [
              0.2222222222222222,
              "#7201a8"
             ],
             [
              0.3333333333333333,
              "#9c179e"
             ],
             [
              0.4444444444444444,
              "#bd3786"
             ],
             [
              0.5555555555555556,
              "#d8576b"
             ],
             [
              0.6666666666666666,
              "#ed7953"
             ],
             [
              0.7777777777777778,
              "#fb9f3a"
             ],
             [
              0.8888888888888888,
              "#fdca26"
             ],
             [
              1,
              "#f0f921"
             ]
            ],
            "type": "contour"
           }
          ],
          "contourcarpet": [
           {
            "colorbar": {
             "outlinewidth": 0,
             "ticks": ""
            },
            "type": "contourcarpet"
           }
          ],
          "heatmap": [
           {
            "colorbar": {
             "outlinewidth": 0,
             "ticks": ""
            },
            "colorscale": [
             [
              0,
              "#0d0887"
             ],
             [
              0.1111111111111111,
              "#46039f"
             ],
             [
              0.2222222222222222,
              "#7201a8"
             ],
             [
              0.3333333333333333,
              "#9c179e"
             ],
             [
              0.4444444444444444,
              "#bd3786"
             ],
             [
              0.5555555555555556,
              "#d8576b"
             ],
             [
              0.6666666666666666,
              "#ed7953"
             ],
             [
              0.7777777777777778,
              "#fb9f3a"
             ],
             [
              0.8888888888888888,
              "#fdca26"
             ],
             [
              1,
              "#f0f921"
             ]
            ],
            "type": "heatmap"
           }
          ],
          "heatmapgl": [
           {
            "colorbar": {
             "outlinewidth": 0,
             "ticks": ""
            },
            "colorscale": [
             [
              0,
              "#0d0887"
             ],
             [
              0.1111111111111111,
              "#46039f"
             ],
             [
              0.2222222222222222,
              "#7201a8"
             ],
             [
              0.3333333333333333,
              "#9c179e"
             ],
             [
              0.4444444444444444,
              "#bd3786"
             ],
             [
              0.5555555555555556,
              "#d8576b"
             ],
             [
              0.6666666666666666,
              "#ed7953"
             ],
             [
              0.7777777777777778,
              "#fb9f3a"
             ],
             [
              0.8888888888888888,
              "#fdca26"
             ],
             [
              1,
              "#f0f921"
             ]
            ],
            "type": "heatmapgl"
           }
          ],
          "histogram": [
           {
            "marker": {
             "pattern": {
              "fillmode": "overlay",
              "size": 10,
              "solidity": 0.2
             }
            },
            "type": "histogram"
           }
          ],
          "histogram2d": [
           {
            "colorbar": {
             "outlinewidth": 0,
             "ticks": ""
            },
            "colorscale": [
             [
              0,
              "#0d0887"
             ],
             [
              0.1111111111111111,
              "#46039f"
             ],
             [
              0.2222222222222222,
              "#7201a8"
             ],
             [
              0.3333333333333333,
              "#9c179e"
             ],
             [
              0.4444444444444444,
              "#bd3786"
             ],
             [
              0.5555555555555556,
              "#d8576b"
             ],
             [
              0.6666666666666666,
              "#ed7953"
             ],
             [
              0.7777777777777778,
              "#fb9f3a"
             ],
             [
              0.8888888888888888,
              "#fdca26"
             ],
             [
              1,
              "#f0f921"
             ]
            ],
            "type": "histogram2d"
           }
          ],
          "histogram2dcontour": [
           {
            "colorbar": {
             "outlinewidth": 0,
             "ticks": ""
            },
            "colorscale": [
             [
              0,
              "#0d0887"
             ],
             [
              0.1111111111111111,
              "#46039f"
             ],
             [
              0.2222222222222222,
              "#7201a8"
             ],
             [
              0.3333333333333333,
              "#9c179e"
             ],
             [
              0.4444444444444444,
              "#bd3786"
             ],
             [
              0.5555555555555556,
              "#d8576b"
             ],
             [
              0.6666666666666666,
              "#ed7953"
             ],
             [
              0.7777777777777778,
              "#fb9f3a"
             ],
             [
              0.8888888888888888,
              "#fdca26"
             ],
             [
              1,
              "#f0f921"
             ]
            ],
            "type": "histogram2dcontour"
           }
          ],
          "mesh3d": [
           {
            "colorbar": {
             "outlinewidth": 0,
             "ticks": ""
            },
            "type": "mesh3d"
           }
          ],
          "parcoords": [
           {
            "line": {
             "colorbar": {
              "outlinewidth": 0,
              "ticks": ""
             }
            },
            "type": "parcoords"
           }
          ],
          "pie": [
           {
            "automargin": true,
            "type": "pie"
           }
          ],
          "scatter": [
           {
            "fillpattern": {
             "fillmode": "overlay",
             "size": 10,
             "solidity": 0.2
            },
            "type": "scatter"
           }
          ],
          "scatter3d": [
           {
            "line": {
             "colorbar": {
              "outlinewidth": 0,
              "ticks": ""
             }
            },
            "marker": {
             "colorbar": {
              "outlinewidth": 0,
              "ticks": ""
             }
            },
            "type": "scatter3d"
           }
          ],
          "scattercarpet": [
           {
            "marker": {
             "colorbar": {
              "outlinewidth": 0,
              "ticks": ""
             }
            },
            "type": "scattercarpet"
           }
          ],
          "scattergeo": [
           {
            "marker": {
             "colorbar": {
              "outlinewidth": 0,
              "ticks": ""
             }
            },
            "type": "scattergeo"
           }
          ],
          "scattergl": [
           {
            "marker": {
             "colorbar": {
              "outlinewidth": 0,
              "ticks": ""
             }
            },
            "type": "scattergl"
           }
          ],
          "scattermapbox": [
           {
            "marker": {
             "colorbar": {
              "outlinewidth": 0,
              "ticks": ""
             }
            },
            "type": "scattermapbox"
           }
          ],
          "scatterpolar": [
           {
            "marker": {
             "colorbar": {
              "outlinewidth": 0,
              "ticks": ""
             }
            },
            "type": "scatterpolar"
           }
          ],
          "scatterpolargl": [
           {
            "marker": {
             "colorbar": {
              "outlinewidth": 0,
              "ticks": ""
             }
            },
            "type": "scatterpolargl"
           }
          ],
          "scatterternary": [
           {
            "marker": {
             "colorbar": {
              "outlinewidth": 0,
              "ticks": ""
             }
            },
            "type": "scatterternary"
           }
          ],
          "surface": [
           {
            "colorbar": {
             "outlinewidth": 0,
             "ticks": ""
            },
            "colorscale": [
             [
              0,
              "#0d0887"
             ],
             [
              0.1111111111111111,
              "#46039f"
             ],
             [
              0.2222222222222222,
              "#7201a8"
             ],
             [
              0.3333333333333333,
              "#9c179e"
             ],
             [
              0.4444444444444444,
              "#bd3786"
             ],
             [
              0.5555555555555556,
              "#d8576b"
             ],
             [
              0.6666666666666666,
              "#ed7953"
             ],
             [
              0.7777777777777778,
              "#fb9f3a"
             ],
             [
              0.8888888888888888,
              "#fdca26"
             ],
             [
              1,
              "#f0f921"
             ]
            ],
            "type": "surface"
           }
          ],
          "table": [
           {
            "cells": {
             "fill": {
              "color": "#EBF0F8"
             },
             "line": {
              "color": "white"
             }
            },
            "header": {
             "fill": {
              "color": "#C8D4E3"
             },
             "line": {
              "color": "white"
             }
            },
            "type": "table"
           }
          ]
         },
         "layout": {
          "annotationdefaults": {
           "arrowcolor": "#2a3f5f",
           "arrowhead": 0,
           "arrowwidth": 1
          },
          "autotypenumbers": "strict",
          "coloraxis": {
           "colorbar": {
            "outlinewidth": 0,
            "ticks": ""
           }
          },
          "colorscale": {
           "diverging": [
            [
             0,
             "#8e0152"
            ],
            [
             0.1,
             "#c51b7d"
            ],
            [
             0.2,
             "#de77ae"
            ],
            [
             0.3,
             "#f1b6da"
            ],
            [
             0.4,
             "#fde0ef"
            ],
            [
             0.5,
             "#f7f7f7"
            ],
            [
             0.6,
             "#e6f5d0"
            ],
            [
             0.7,
             "#b8e186"
            ],
            [
             0.8,
             "#7fbc41"
            ],
            [
             0.9,
             "#4d9221"
            ],
            [
             1,
             "#276419"
            ]
           ],
           "sequential": [
            [
             0,
             "#0d0887"
            ],
            [
             0.1111111111111111,
             "#46039f"
            ],
            [
             0.2222222222222222,
             "#7201a8"
            ],
            [
             0.3333333333333333,
             "#9c179e"
            ],
            [
             0.4444444444444444,
             "#bd3786"
            ],
            [
             0.5555555555555556,
             "#d8576b"
            ],
            [
             0.6666666666666666,
             "#ed7953"
            ],
            [
             0.7777777777777778,
             "#fb9f3a"
            ],
            [
             0.8888888888888888,
             "#fdca26"
            ],
            [
             1,
             "#f0f921"
            ]
           ],
           "sequentialminus": [
            [
             0,
             "#0d0887"
            ],
            [
             0.1111111111111111,
             "#46039f"
            ],
            [
             0.2222222222222222,
             "#7201a8"
            ],
            [
             0.3333333333333333,
             "#9c179e"
            ],
            [
             0.4444444444444444,
             "#bd3786"
            ],
            [
             0.5555555555555556,
             "#d8576b"
            ],
            [
             0.6666666666666666,
             "#ed7953"
            ],
            [
             0.7777777777777778,
             "#fb9f3a"
            ],
            [
             0.8888888888888888,
             "#fdca26"
            ],
            [
             1,
             "#f0f921"
            ]
           ]
          },
          "colorway": [
           "#636efa",
           "#EF553B",
           "#00cc96",
           "#ab63fa",
           "#FFA15A",
           "#19d3f3",
           "#FF6692",
           "#B6E880",
           "#FF97FF",
           "#FECB52"
          ],
          "font": {
           "color": "#2a3f5f"
          },
          "geo": {
           "bgcolor": "white",
           "lakecolor": "white",
           "landcolor": "#E5ECF6",
           "showlakes": true,
           "showland": true,
           "subunitcolor": "white"
          },
          "hoverlabel": {
           "align": "left"
          },
          "hovermode": "closest",
          "mapbox": {
           "style": "light"
          },
          "paper_bgcolor": "white",
          "plot_bgcolor": "#E5ECF6",
          "polar": {
           "angularaxis": {
            "gridcolor": "white",
            "linecolor": "white",
            "ticks": ""
           },
           "bgcolor": "#E5ECF6",
           "radialaxis": {
            "gridcolor": "white",
            "linecolor": "white",
            "ticks": ""
           }
          },
          "scene": {
           "xaxis": {
            "backgroundcolor": "#E5ECF6",
            "gridcolor": "white",
            "gridwidth": 2,
            "linecolor": "white",
            "showbackground": true,
            "ticks": "",
            "zerolinecolor": "white"
           },
           "yaxis": {
            "backgroundcolor": "#E5ECF6",
            "gridcolor": "white",
            "gridwidth": 2,
            "linecolor": "white",
            "showbackground": true,
            "ticks": "",
            "zerolinecolor": "white"
           },
           "zaxis": {
            "backgroundcolor": "#E5ECF6",
            "gridcolor": "white",
            "gridwidth": 2,
            "linecolor": "white",
            "showbackground": true,
            "ticks": "",
            "zerolinecolor": "white"
           }
          },
          "shapedefaults": {
           "line": {
            "color": "#2a3f5f"
           }
          },
          "ternary": {
           "aaxis": {
            "gridcolor": "white",
            "linecolor": "white",
            "ticks": ""
           },
           "baxis": {
            "gridcolor": "white",
            "linecolor": "white",
            "ticks": ""
           },
           "bgcolor": "#E5ECF6",
           "caxis": {
            "gridcolor": "white",
            "linecolor": "white",
            "ticks": ""
           }
          },
          "title": {
           "x": 0.05
          },
          "xaxis": {
           "automargin": true,
           "gridcolor": "white",
           "linecolor": "white",
           "ticks": "",
           "title": {
            "standoff": 15
           },
           "zerolinecolor": "white",
           "zerolinewidth": 2
          },
          "yaxis": {
           "automargin": true,
           "gridcolor": "white",
           "linecolor": "white",
           "ticks": "",
           "title": {
            "standoff": 15
           },
           "zerolinecolor": "white",
           "zerolinewidth": 2
          }
         }
        },
        "title": {
         "text": "Scarlett Witch"
        },
        "width": 800,
        "xaxis": {
         "anchor": "y",
         "domain": [
          0,
          1
         ],
         "title": {
          "text": "Peliculas"
         }
        },
        "yaxis": {
         "anchor": "x",
         "domain": [
          0,
          1
         ],
         "title": {
          "text": "Tiempo en pantalla"
         }
        }
       }
      }
     },
     "metadata": {},
     "output_type": "display_data"
    }
   ],
   "source": [
    "generar_grafico_peliculas_del_char('Scarlett Witch',[0,4],False)"
   ]
  }
 ],
 "metadata": {
  "kernelspec": {
   "display_name": "Python 3",
   "language": "python",
   "name": "python3"
  },
  "language_info": {
   "codemirror_mode": {
    "name": "ipython",
    "version": 3
   },
   "file_extension": ".py",
   "mimetype": "text/x-python",
   "name": "python",
   "nbconvert_exporter": "python",
   "pygments_lexer": "ipython3",
   "version": "3.11.3"
  }
 },
 "nbformat": 4,
 "nbformat_minor": 2
}
